{
 "cells": [
  {
   "cell_type": "code",
   "execution_count": 1,
   "metadata": {},
   "outputs": [],
   "source": [
    "import pandas as pd\n",
    "from openai import OpenAI\n",
    "client = OpenAI()"
   ]
  },
  {
   "cell_type": "code",
   "execution_count": 8,
   "metadata": {},
   "outputs": [],
   "source": [
    "# Open and read the contents of input1.txt\n",
    "with open('input1.txt', 'r') as file:\n",
    "    input1 = file.read()\n",
    "\n",
    "# Open and read the contents of input2.txt\n",
    "with open('input2.txt', 'r') as file:\n",
    "    input2 = file.read()\n",
    "\n",
    "# Open and read the contents of input3.txt\n",
    "with open('input3.txt', 'r') as file:\n",
    "    input3 = file.read()\n",
    "\n",
    "inputs = [input1, input2, input3]\n",
    "category = [\"Task Achievement\", \"Coherence and Cohesion\", \"Lexical Resource\", \"Grammatical Range and Accuracy\"]\n",
    "task = (\n",
    "    \"Band Score 5: - Does not completely address the task. - May follow the general topic but not the specific issue in the essay question. - There is a position but it is not always clear. - Any opinion given is unclear. - Possibly no conclusion. - Main ideas are not developed. - Some irrelevant detail.\"\n",
    "    \"Band Score 6: - Addresses the task – both the topic and issue are addressed. - Presents a relevant position. - Any opinion given is clear. - There is a conclusion – it may be repetitive or unclear. - Main ideas are relevant. - Ideas are not developed enough.\"\n",
    "    \"Band Score 7: - Addresses all parts of the task. - All issues in the question are answered. - Presents a clear position throughout the essay. - Any opinion given is supported in all paragraphs in the essay. - Main ideas are relevant. - Ideas are developed but there may be a lack of focus with supporting ideas or over generalisation.\"\n",
    "    \"Band Score 8: - Sufficiently addresses all parts of the task. - All issues in the essay question are answers well. - Presents a clear position throughout the essay. - Any opinion given is supported in all paragraphs in the essay. - Main ideas are relevant. - Ideas are developed, extended and well supported.\"\n",
    ")\n",
    "\n",
    "coherence = (\n",
    "    \"Band Score 5: - There is some organisation but may not use paragraphs. - Uses linking devices but with mistakes or inappropriate use. - May be repetitive due to lack of referencing.\",\n",
    "    \"Band Score 6: - Organised information coherently. - Uses paragraphs but not always logically. - Uses linking devices effectively but there may be errors in linking between and within sentence. - Uses referencing but not always clearly.\",\n",
    "    \"Band Score 7: - Logically organises information. - Good paragraphing. - Has one central topic for each paragraph. - Uses a range of linking devices. - May over or under use linking devices. - Good referencing.\",\n",
    "    \"Band Score 8: - Information and ideas are organised logically. - Paragraphing is sufficient and appropriate. - Manages all aspects of linking and cohesion. - No problems with referencing.\"\n",
    ")\n",
    "\n",
    "lexical = (\n",
    "    \"Band Score 5: - Minimal range of vocabulary for the task. - Frequent errors with spelling or word formation. - Problems cause difficulty for the reader.\"\n",
    "    \"Band Score 6: - Adequate range of vocabulary for the task. - Uses some less common words but with errors. - Some errors in spelling and word formation. - Communication is clear.\"\n",
    "    \"Band Score 7: - A sufficient range of vocabulary for some precision. - Uses less common words. - Some awareness of style and collocations. - Occasional errors in spelling or word choice.\"\n",
    "    \"Band Score 8: - A wide range of vocabulary for precise meaning. - Skillfully uses less common words. - Rare errors in spelling or word formation.\"\n",
    ")\n",
    "\n",
    "grammar = (\n",
    "    \"Band Score 5: - Limited range of sentence structures. - Tries to use complex sentences with limited success. - Frequent errors in grammar. - Errors in punctuation. - Problems cause difficulty for the reader.\",\n",
    "    \"Band Score 6: - Uses both simple and complex sentence structures. - Some errors in grammar. - Some errors in punctuation. - Communication is clear.\",\n",
    "    \"Band Score 7: - Uses a variety of complex sentence structures. - Many error free sentences. - Good control over grammar. - Occasional errors in grammar or punctuation.\",\n",
    "    \"Band Score 8: - Uses a wide range of complex structures. - Most sentences are free of errors.\"\n",
    ")\n",
    "\n",
    "criteria = [task, coherence, lexical, grammar]"
   ]
  },
  {
   "cell_type": "code",
   "execution_count": 9,
   "metadata": {},
   "outputs": [
    {
     "name": "stdout",
     "output_type": "stream",
     "text": [
      "The essay addresses the task by discussing the positive and negative impacts of advertising, thus engaging with both aspects of the prompt. The writer clearly presents a position favoring the positive effects of advertising while acknowledging its drawbacks. However, the development of main ideas varies; for instance, while the example of polio awareness is relevant, the link between advertisements and rising obesity is mentioned but not effectively elaborated. Although a conclusion is provided, it could be stronger and clearer. Overall, while the essay engages with the prompt and presents a relevant viewpoint, the development of some ideas lacks depth and focus.\n",
      "The essay addresses the task by discussing both the positive and negative impacts of advertising, thereby touching on all parts of the prompt. However, the coherence and cohesion are occasionally weak. For instance, the transition between ideas could be smoother; phrases like \"However, the critical impacts are also not avoidable\" disrupt the flow. Additionally, some main ideas, such as the statement about advertisements educating people, lack adequate development and supporting details. The conclusion is present but somewhat repetitive, summarizing without a clear resolution. Strengthening the connections between ideas and ensuring each main point is fully developed would enhance the overall coherence and cohesion of the essay.\n",
      "The essay presents a clear position, arguing that advertising has more positive effects than negative impacts. However, lexical resource shows some weaknesses. For example, the phrase \"encircled with various types of advertisements\" is awkwardly phrased; \"surrounded by various advertisements\" would be more natural. While the essay includes relevant vocabulary like \"impulsive shopping\" and \"awareness campaigns,\" it suffers from repetitive connections and lacks precision in expressions like, \"the critical impacts are also not avoidable,\" which could be clearer. Overall, while the essay addresses the prompt adequately, there is insufficient development and support for some ideas, indicating a need for enhanced vocabulary proficiency and variation.\n",
      "The essay demonstrates a reasonable attempt to address the prompt, presenting both positive and negative aspects of advertising. However, grammatical range and accuracy suffer in several areas. For instance, phrases like \"it add major value\" and \"this approach add up to the stress\" indicate subject-verb agreement issues. Additionally, the use of punctuation is inconsistent, with run-on sentences, such as \"However, the critical impacts are also not avoidable.Firstly,\" highlighting a need for better separation of ideas.\n",
      "\n",
      "The ideas are relevant, but the development is often vague or overly general, leading to an unclear position in some paragraphs. Overall, while the essay addresses the task, the grammatical inaccuracies hinder clarity and effectiveness.\n",
      "The essay addresses the prompt well by discussing both sides of the argument regarding where children should learn about recycling. It introduces the topic effectively and clearly presents an opinion in the conclusion. The strengths of the essay include its coherent structure and the provision of examples that substantiate the points made, such as the role of science in understanding waste. However, the essay could improve on clarity and articulation in some areas. For instance, phrases like \"in-depth analysis of how the process works or implemented\" could be streamlined for better understanding. Overall, it demonstrates a reasonable engagement with the prompt and discusses relevant points, albeit with some areas needing refinement.\n",
      "The essay demonstrates a fair level of coherence and cohesion, with some strengths and weaknesses. The introduction clearly outlines the two perspectives, although the phrase \"education on recycling waste can be beneficial\" could benefit from clearer referencing to the earlier points discussed. Paragraphs are used effectively, addressing specific topics—schools and homes—but some transitions between ideas feel abrupt, such as the shift from discussing school education directly to parental influence. Additionally, the essay overuses \"waste\" and similar terms without sufficient variety, risking repetition. Overall, while ideas are organized logically, improving linking devices and enhancing variety in vocabulary would strengthen coherence further.\n",
      "The essay demonstrates a good range of vocabulary related to recycling and environmental issues, which enhances its relevance. Phrases like \"reprocessing the waste\" and \"behavioural attributes\" showcase a competent lexical resource. However, there are instances of awkward phrasing and grammatical errors, such as \"Green energy is been regarded\" and \"institutional in developing children cognitive skills,\" which detract from clarity. Additionally, some vocabulary choices appear repetitive, particularly in referencing \"waste\" without sufficient variety. Overall, while there is some effective use of vocabulary, improving grammatical accuracy and expanding lexical variety would strengthen the essay further.\n",
      "The essay presents a clear understanding of the task, addressing both viewpoints effectively. However, there are several grammatical issues that detract from its overall accuracy. For example, phrases like \"is been regarded\" and \"Educational institute emphasis\" contain errors that disrupt clarity. Linking devices such as \"therefore\" and \"consequently\" are used, but the connection between sentences could be smoother. Additionally, some sentences are overly complex, leading to confusion, such as \"the impact of plastic and non-biodegradable materials on earth’s soil, as these take up nearly million years to decompose.\" Improving accuracy and range would enhance the coherence of the argument. Overall, the essay demonstrates a fair attempt at organization but requires refinement in grammar to strengthen the response.\n",
      "The essay effectively addresses the prompt by discussing both views on the role of robots in society and providing the author’s opinion. It contains a clear argument regarding the negative aspects of robots, such as promoting an inactive lifestyle and causing unemployment, which is well-supported by examples from Japan and India. However, the essay could be improved by providing more balanced arguments for the positive side and incorporating a greater variety of vocabulary, particularly in expressing nuanced ideas. Additionally, there are some grammatical errors and awkward phrasing, such as \"in ,Japan,\" which detracts from clarity. Overall, the essay demonstrates adequate task achievement but has room for enhancement in depth and linguistic precision.\n",
      "The essay displays a clear structure with distinct paragraphs for each viewpoint, which aids coherence. However, some points could benefit from clearer transitions; for example, the shift between the advantages and disadvantages could be smoother for better flow. The use of phrases like \"machines pose a number of demerits\" effectively signals a transition, but it could be more explicitly linked to the previous paragraph for cohesion. Additionally, the phrase \"mechanical bodies\" feels somewhat repetitive; varying word choice could enhance clarity. While the essay communicates its ideas effectively, occasional awkward phrasing (e.g., \"a pro-machine community\") affects overall cohesion. With more varied vocabulary and smoother links, the essay could achieve stronger coherence.\n",
      "The essay demonstrates an adequate range of vocabulary relevant to the topic, with some attempts to use less common terms like \"contrasting views\" and \"sedentary lifestyle.\" However, the use of phrases such as \"profitable to society\" could be expressed more precisely. There are occasional spelling errors, such as the misplaced comma before \"Japan,\" which detracts from clarity. Overall, while the communication is generally clear, the vocabulary could be more varied and precise to better convey nuanced meanings. More sophisticated word choices and collocations would enhance the overall lexical resource of the essay.\n",
      "The essay demonstrates an adequate range of vocabulary, addressing the task effectively. However, there are occasional grammatical errors and awkward phrasings that can hinder understanding, such as “high rate of unemployment is another problem that will be faced,” which could be more clearly stated. The use of “mechanical bodies” and “lifeless counterparts” shows an attempt at precision, although “mechanical objects” might be clearer in context. Additionally, the sentence “in ,Japan many people no longer walk” contains a punctuation error that disrupts flow. Overall, while the meaning is communicated, enhancing grammatical accuracy and correcting specific errors would improve clarity and coherence.\n"
     ]
    }
   ],
   "source": [
    "for i in range(len(inputs)):\n",
    "    for cate in category:\n",
    "        Prompt = (\n",
    "            f\"Provide comments on the '{cate}' aspect of an IELTS Task 2 Writing response.\"\n",
    "            \"Use the following 'Prompt' as the test question and the 'Essay' as the test taker's written response.\"\n",
    "            \"Focus solely on how well the essay addresses the task, mentioning specific strengths or weaknesses,\"\n",
    "            \"and include at least one example from the essay to support your points. Ensure your comments are concise (under 120 words)\"\n",
    "            \"and tailored to the essay's quality, providing distinct feedback for varying levels of performance.\"\n",
    "            \"Only include the comments in the response.\"\n",
    "            f\"Consider the following criteria for '{cate}': {criteria[i]} \"\n",
    "            \"Do not mention any band scores in your comments.\"\n",
    "            f\"{inputs[i]}\"\n",
    "        )\n",
    "\n",
    "        completion = client.chat.completions.create(\n",
    "            model=\"gpt-4o-mini\",\n",
    "            messages=[\n",
    "                {\"role\": \"system\", \"content\": \"You are a helpful assistant.\"},\n",
    "                {\"role\": \"user\", \"content\": Prompt}\n",
    "            ]\n",
    "        )\n",
    "        \n",
    "        content = completion.choices[0].message.content\n",
    "        print(content)\n",
    "        with open(f'output_{i+1}_{cate}.txt', 'w') as file:\n",
    "            file.write(content)"
   ]
  },
  {
   "cell_type": "code",
   "execution_count": null,
   "metadata": {},
   "outputs": [],
   "source": []
  }
 ],
 "metadata": {
  "kernelspec": {
   "display_name": "ece1786",
   "language": "python",
   "name": "python3"
  },
  "language_info": {
   "codemirror_mode": {
    "name": "ipython",
    "version": 3
   },
   "file_extension": ".py",
   "mimetype": "text/x-python",
   "name": "python",
   "nbconvert_exporter": "python",
   "pygments_lexer": "ipython3",
   "version": "3.10.14"
  }
 },
 "nbformat": 4,
 "nbformat_minor": 2
}
