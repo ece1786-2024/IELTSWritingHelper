{
 "cells": [
  {
   "cell_type": "code",
   "execution_count": 1,
   "metadata": {},
   "outputs": [],
   "source": [
    "import pandas as pd\n",
    "from openai import OpenAI\n",
    "client = OpenAI()"
   ]
  },
  {
   "cell_type": "code",
   "execution_count": 5,
   "metadata": {},
   "outputs": [],
   "source": [
    "# Open and read the contents of input1.txt\n",
    "with open('input1.txt', 'r') as file:\n",
    "    input1 = file.read()\n",
    "\n",
    "# Open and read the contents of input2.txt\n",
    "with open('input2.txt', 'r') as file:\n",
    "    input2 = file.read()\n",
    "\n",
    "# Open and read the contents of input3.txt\n",
    "with open('input3.txt', 'r') as file:\n",
    "    input3 = file.read()\n",
    "\n",
    "inputs = [input1, input2, input3]\n",
    "category = [\"Task Achievement\", \"Coherence and Cohesion\", \"Lexical Resource\", \"Grammatical Range and Accuracy\"]"
   ]
  },
  {
   "cell_type": "code",
   "execution_count": 7,
   "metadata": {},
   "outputs": [
    {
     "name": "stdout",
     "output_type": "stream",
     "text": [
      "The essay does address the task by discussing both positive and negative effects of advertising; however, it ultimately leans towards arguing that the positive aspects outweigh the negative ones. Strengths include a clear presentation of points, such as the role of advertising in awareness campaigns like polio, which supports the argument. However, weaknesses arise from a lack of depth; for example, the mention of negative impacts could be expanded with stronger examples or statistics to substantiate claims. The conclusion summarizes the argument well but could more clearly articulate the extent to which the writer agrees or disagrees with the prompt. Overall, the response partially meets the task requirements but could benefit from more balanced discussion and stronger evidence.\n",
      "The essay demonstrates some level of coherence and cohesion, but it has notable weaknesses. The introduction presents the topic well, although there are issues with clarity and grammatical structure, such as \"it has more positive effects than harmful,\" which could be clearer. Transition phrases are often missing, resulting in a lack of smooth flow between points. For example, the shift from discussing the positive aspects of advertising to the negative aspects is abrupt. Additionally, some sentences are overly long or convoluted, hindering readability. To improve coherence, clearer thematic grouping of ideas and the use of linking phrases would strengthen logical connections between arguments. Overall, while the essay's structure is apparent, improvement in clarity and transitions is necessary for higher band scores.\n",
      "The essay demonstrates a fair range of vocabulary and employs some varied phrases, showcasing an ability to convey ideas effectively. However, there are areas for improvement in lexical resource. For example, the phrase “it has more positive effects than harmful” could be more clearly expressed as “it has more positive effects than negative ones.” The usage of “omnipresent” is strong, yet phrases like “the major success goes to awareness campaign help by famous personality” contain awkward constructions that undermine clarity. Additionally, the absence of synonyms for repeated terms (e.g., \"advertisement\") detracts from lexical variety. Overall, the essay could benefit from clearer expressions and more sophisticated word choices to enhance clarity and coherence.\n",
      "The essay demonstrates a reasonable grammatical range but contains several inaccuracies that impact clarity and coherence. For example, phrases like \"people are in influence of it\" and \"this phenomenon is escalating to extremely new level\" could be better expressed as \"people are influenced by it\" and \"this phenomenon is escalating to a whole new level.\" Additionally, inconsistent capitalization, such as \"In India\" and \"TV advertisements,\" detracts from professionalism. The use of varied sentence structures is evident, yet some sentences lack proper punctuation or conjunctions, making them difficult to follow. Overall, while the essay conveys ideas adequately, attention to grammar and accuracy is needed for improved performance.\n",
      "The essay partially addresses the task by discussing both perspectives on teaching recycling, which is a strength. The introduction sets up the discussion appropriately, and examples are provided, such as the importance of education in schools and parental influence at home. However, the focus on \"green energy\" at the beginning may detract from the central topic of recycling. Additionally, the conclusion lacks a strong reiteration of the key points made, weakening overall clarity. To enhance task achievement, the writer should maintain a clear focus on recycling throughout and make explicit connections to the prompt in the conclusion for a more cohesive argument.\n",
      "The essay exhibits some strengths in coherence and cohesion, particularly in its clear structure, with separate paragraphs for each viewpoint and a conclusion. However, it suffers from a few weaknesses. The transitions between ideas could be more fluid; for example, the phrase \"while some argue\" could be more effectively linked to the subsequent discussion. Additionally, sentences are at times convoluted, making it difficult for readers to follow the argument, such as “the fundamentals of achieving the same rely on reprocessing the waste.” Clearer and more concise wording would enhance readability. Overall, while the essay conveys a clear argument, improved clarity and flow would strengthen coherence and cohesion.\n",
      "The essay demonstrates a satisfactory use of lexical resource, although it could benefit from greater variety and precision. For instance, phrases like \"all good behaviours are cultivated here\" lack specificity and strength; a more precise word choice, like \"positive habits\" or \"responsible behaviors,\" would enhance clarity. Additionally, the expression \"students comprehend the reason and significance of reducing waste\" could be simplified to \"students understand the importance of waste reduction.\" While some vocabulary, such as \"reprocessing\" and \"toxic,\" is appropriate, there are instances of awkward phrasing and grammatical errors, such as \"is been regarded\" and \"an in-depth analysis of how the process works or implemented.\" Improving these areas could elevate the overall effectiveness of the essay.\n",
      "The essay demonstrates some strengths in grammatical range and accuracy but also presents notable weaknesses. Successful elements include a variety of sentence structures, such as complex sentences: \"As a result, children are instilled with the habit of re-cycling and segregating waste at an early age.\" However, there are several grammatical errors, such as \"is been regarded\" (should be \"has been regarded\") and \"tutors have authority over their pupils hence they pick up subject matters efficiently\" (which could be clearer with improved punctuation and structure). Additionally, some phrases are awkward or unclear, such as “the fundamentals of achieving the same rely on reprocessing the waste,” which affects coherence. Overall, the essay would benefit from increased grammatical accuracy and refinement in expression.\n",
      "The essay adequately addresses the prompt by discussing both perspectives on the role of robots in society, ultimately presenting a clear opinion. A strength of the response is its balanced evaluation; it highlights both the efficiency of robots in manufacturing and the societal drawbacks, such as sedentary lifestyles and unemployment. However, the argument could be strengthened by providing a more detailed examination of the benefits of robots, as the examples primarily focus on negative effects. For instance, while the mention of Audi's usage of robots is relevant, elaborating on the positive impacts, such as increased production efficiency, would provide a more nuanced discussion. Overall, the essay demonstrates sound task achievement, but further depth on the positive side would enhance it.\n",
      "The essay demonstrates a solid structure with clear paragraphs addressing both views. However, the coherence could be improved by ensuring smoother transitions between ideas. For instance, the introduction succinctly outlines the debate but could more explicitly signal the organization of the essay. The use of examples enhances cohesion, such as the reference to Audi's use of robots. Nonetheless, there is inconsistency in the clarity of points; for example, the example from Japan lacks context and an introductory sentence, making it feel abrupt. Overall, while the essay communicates its main ideas effectively, more cohesive linking and clearer transitions would strengthen the overall coherence.\n",
      "The essay demonstrates a good range of vocabulary and expressions relevant to the topic, contributing to effective communication of ideas. Phrases like \"heavy dependence on robots\" and \"sedentary lifestyle\" show a clear understanding of the subject matter. However, there are instances of awkward phrasing, such as \"machines pose a number of demerits,\" which could be expressed more naturally as \"machines have several drawbacks.\" Additionally, there's a minor inconsistency in the example regarding Japan, where a comma is incorrectly placed before \"Japan.\" Overall, while the use of lexical resource is competent, improving precision and fluency in expression would enhance clarity.\n",
      "The essay demonstrates a fair level of grammatical range and accuracy, with several strengths and weaknesses noted. The use of varied sentence structures is evident, especially in the discussion of both views, which helps enhance cohesion. For example, the phrase “high dependence on these mechanical objects can lead to a sedentary lifestyle” showcases a compound structure. However, there are errors that detract from overall clarity, such as in “in ,Japan” where a misplaced comma disrupts the flow. Additionally, the phrase “this does not portend well for society” is complex but could be more clearly articulated. Overall, while the essay effectively conveys its ideas, attention to detail in grammar would strengthen its accuracy.\n"
     ]
    }
   ],
   "source": [
    "for i in range(len(inputs)):\n",
    "    for cate in category:\n",
    "        Prompt = (\n",
    "            f\"Provide comments on the '{cate}' aspect of an IELTS Task 2 Writing response.\"\n",
    "            \"Use the following 'Prompt' as the test question and the 'Essay' as the test taker's written response.\"\n",
    "            \"Focus solely on how well the essay addresses the task, mentioning specific strengths or weaknesses,\"\n",
    "            \"and include at least one example from the essay to support your points. Ensure your comments are concise (under 120 words)\"\n",
    "            \"and tailored to the essay's quality, providing distinct feedback for varying levels of performance.\"\n",
    "            \"Only include the comments in the response.\"\n",
    "            f\"{inputs[i]}\"\n",
    "        )\n",
    "\n",
    "        completion = client.chat.completions.create(\n",
    "            model=\"gpt-4o-mini\",\n",
    "            messages=[\n",
    "                {\"role\": \"system\", \"content\": \"You are a helpful assistant.\"},\n",
    "                {\"role\": \"user\", \"content\": Prompt}\n",
    "            ]\n",
    "        )\n",
    "        \n",
    "        content = completion.choices[0].message.content\n",
    "        print(content)\n",
    "        with open(f'output_{i+1}_{cate}.txt', 'w') as file:\n",
    "            file.write(content)"
   ]
  },
  {
   "cell_type": "code",
   "execution_count": null,
   "metadata": {},
   "outputs": [],
   "source": []
  }
 ],
 "metadata": {
  "kernelspec": {
   "display_name": "ece1786",
   "language": "python",
   "name": "python3"
  },
  "language_info": {
   "codemirror_mode": {
    "name": "ipython",
    "version": 3
   },
   "file_extension": ".py",
   "mimetype": "text/x-python",
   "name": "python",
   "nbconvert_exporter": "python",
   "pygments_lexer": "ipython3",
   "version": "3.10.14"
  }
 },
 "nbformat": 4,
 "nbformat_minor": 2
}
