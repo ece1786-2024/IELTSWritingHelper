{
 "cells": [
  {
   "cell_type": "code",
   "execution_count": 1,
   "metadata": {},
   "outputs": [],
   "source": [
    "import pandas as pd\n",
    "from openai import OpenAI\n",
    "client = OpenAI()"
   ]
  },
  {
   "cell_type": "code",
   "execution_count": 3,
   "metadata": {},
   "outputs": [],
   "source": [
    "# Open and read the contents of input1.txt\n",
    "with open('input1.txt', 'r') as file:\n",
    "    input1 = file.read()\n",
    "\n",
    "# Open and read the contents of input2.txt\n",
    "with open('input2.txt', 'r') as file:\n",
    "    input2 = file.read()\n",
    "\n",
    "# Open and read the contents of input3.txt\n",
    "with open('input3.txt', 'r') as file:\n",
    "    input3 = file.read()\n"
   ]
  },
  {
   "cell_type": "code",
   "execution_count": 7,
   "metadata": {},
   "outputs": [
    {
     "name": "stdout",
     "output_type": "stream",
     "text": [
      "ChatCompletion(id='chatcmpl-AV1T27o1RFbjhGHZfJEKMDYk3mFjt', choices=[Choice(finish_reason='stop', index=0, logprobs=None, message=ChatCompletionMessage(content='The essay addresses the task by presenting a clear opinion that advertisements have more positive effects than negative ones, which directly responds to the prompt. However, the argument could be better developed through clearer point delineation and stronger support for the positive aspects compared to the negatives. While it acknowledges some harmful effects, the conclusion seems to downplay the significance of these impacts, which should be balanced more effectively. Overall, the response demonstrates an understanding of the topic but lacks depth in discussing the extent of agreement with the statement.', refusal=None, role='assistant', audio=None, function_call=None, tool_calls=None))], created=1731957172, model='gpt-4o-mini-2024-07-18', object='chat.completion', service_tier=None, system_fingerprint='fp_0ba0d124f1', usage=CompletionUsage(completion_tokens=101, prompt_tokens=448, total_tokens=549, completion_tokens_details=CompletionTokensDetails(accepted_prediction_tokens=0, audio_tokens=0, reasoning_tokens=0, rejected_prediction_tokens=0), prompt_tokens_details=PromptTokensDetails(audio_tokens=0, cached_tokens=0)))\n",
      "ChatCompletion(id='chatcmpl-AV1T4qhhiORBpahVAlTeuzPk7xcjJ', choices=[Choice(finish_reason='stop', index=0, logprobs=None, message=ChatCompletionMessage(content='The essay addresses the prompt by discussing both opinions on whether recycling should be taught at school or at home, and it provides a personal opinion. However, it lacks clear, balanced analysis of both sides since one viewpoint is elaborated more extensively. The conclusion presents a reasonable opinion but could better summarize the key points made. Overall, the task is partially achieved, but clearer argumentation and balance in discussing both perspectives would enhance the response.', refusal=None, role='assistant', audio=None, function_call=None, tool_calls=None))], created=1731957174, model='gpt-4o-mini-2024-07-18', object='chat.completion', service_tier=None, system_fingerprint='fp_0ba0d124f1', usage=CompletionUsage(completion_tokens=86, prompt_tokens=516, total_tokens=602, completion_tokens_details=CompletionTokensDetails(accepted_prediction_tokens=0, audio_tokens=0, reasoning_tokens=0, rejected_prediction_tokens=0), prompt_tokens_details=PromptTokensDetails(audio_tokens=0, cached_tokens=0)))\n",
      "ChatCompletion(id='chatcmpl-AV1T6G4R7Fec8UMrsd3s7dls5TwNa', choices=[Choice(finish_reason='stop', index=0, logprobs=None, message=ChatCompletionMessage(content=\"The essay adequately addresses the task by discussing both views on the role of robots in society. It outlines the positive contributions of robots, particularly in manufacturing, while also effectively presenting concerns regarding sedentary lifestyles and unemployment. However, the opinion expressed is not strongly backed by sufficient analysis or a balanced conclusion that synthesizes both perspectives. More specific examples could enhance the argument. Overall, the essay fulfills the task requirements but could benefit from deeper exploration of the opposing viewpoint and clearer articulation of the writer's stance.\", refusal=None, role='assistant', audio=None, function_call=None, tool_calls=None))], created=1731957176, model='gpt-4o-mini-2024-07-18', object='chat.completion', service_tier=None, system_fingerprint='fp_0ba0d124f1', usage=CompletionUsage(completion_tokens=99, prompt_tokens=486, total_tokens=585, completion_tokens_details=CompletionTokensDetails(accepted_prediction_tokens=0, audio_tokens=0, reasoning_tokens=0, rejected_prediction_tokens=0), prompt_tokens_details=PromptTokensDetails(audio_tokens=0, cached_tokens=0)))\n"
     ]
    }
   ],
   "source": [
    "Output = []\n",
    "for input in [input1, input2, input3]:\n",
    "    Prompt = (\n",
    "        \"Provide comments on the 'Task Achievement' aspect of an IELTS Task 2 Writing response.\"\n",
    "        \"Use the following provided 'Prompt' as the test question and the 'Essay' as the test taker's written response.\"\n",
    "        \"Ensure that your comments focus solely on how well the essay addresses the task and are concise,\"\n",
    "        \"limiting them to under 100 words. \"\n",
    "        \"Only include the comments in the response.\"\n",
    "        f\"{input}\"\n",
    "    )\n",
    "    \n",
    "    completion = client.chat.completions.create(\n",
    "        model=\"gpt-4o-mini\",\n",
    "        messages=[\n",
    "            {\"role\": \"system\", \"content\": \"You are a helpful assistant.\"},\n",
    "            {\"role\": \"user\", \"content\": Prompt}\n",
    "        ]\n",
    "    )\n",
    "    print(completion)\n",
    "    content = completion.choices[0].message.content\n",
    "    Output.append(content)"
   ]
  },
  {
   "cell_type": "code",
   "execution_count": 9,
   "metadata": {},
   "outputs": [
    {
     "name": "stdout",
     "output_type": "stream",
     "text": [
      "['The essay addresses the task by presenting a clear opinion that advertisements have more positive effects than negative ones, which directly responds to the prompt. However, the argument could be better developed through clearer point delineation and stronger support for the positive aspects compared to the negatives. While it acknowledges some harmful effects, the conclusion seems to downplay the significance of these impacts, which should be balanced more effectively. Overall, the response demonstrates an understanding of the topic but lacks depth in discussing the extent of agreement with the statement.', 'The essay addresses the prompt by discussing both opinions on whether recycling should be taught at school or at home, and it provides a personal opinion. However, it lacks clear, balanced analysis of both sides since one viewpoint is elaborated more extensively. The conclusion presents a reasonable opinion but could better summarize the key points made. Overall, the task is partially achieved, but clearer argumentation and balance in discussing both perspectives would enhance the response.', \"The essay adequately addresses the task by discussing both views on the role of robots in society. It outlines the positive contributions of robots, particularly in manufacturing, while also effectively presenting concerns regarding sedentary lifestyles and unemployment. However, the opinion expressed is not strongly backed by sufficient analysis or a balanced conclusion that synthesizes both perspectives. More specific examples could enhance the argument. Overall, the essay fulfills the task requirements but could benefit from deeper exploration of the opposing viewpoint and clearer articulation of the writer's stance.\"]\n"
     ]
    }
   ],
   "source": [
    "print(Output)"
   ]
  },
  {
   "cell_type": "code",
   "execution_count": 10,
   "metadata": {},
   "outputs": [],
   "source": [
    "for i in range(1,4):\n",
    "    with open(f'output{i}.txt', 'w') as file:\n",
    "        file.write(Output[i-1])"
   ]
  }
 ],
 "metadata": {
  "kernelspec": {
   "display_name": "ece1786",
   "language": "python",
   "name": "python3"
  },
  "language_info": {
   "codemirror_mode": {
    "name": "ipython",
    "version": 3
   },
   "file_extension": ".py",
   "mimetype": "text/x-python",
   "name": "python",
   "nbconvert_exporter": "python",
   "pygments_lexer": "ipython3",
   "version": "3.10.14"
  }
 },
 "nbformat": 4,
 "nbformat_minor": 2
}
