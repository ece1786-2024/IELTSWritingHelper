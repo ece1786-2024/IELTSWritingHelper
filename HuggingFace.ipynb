{
 "cells": [
  {
   "cell_type": "code",
   "execution_count": 21,
   "metadata": {},
   "outputs": [],
   "source": [
    "import pandas as pd\n",
    "import matplotlib.pyplot as plt\n",
    "from datasets import load_dataset"
   ]
  },
  {
   "cell_type": "code",
   "execution_count": 22,
   "metadata": {},
   "outputs": [
    {
     "data": {
      "text/plain": [
       "DatasetDict({\n",
       "    train: Dataset({\n",
       "        features: ['prompt', 'essay', 'evaluation', 'band'],\n",
       "        num_rows: 9833\n",
       "    })\n",
       "    test: Dataset({\n",
       "        features: ['prompt', 'essay', 'evaluation', 'band'],\n",
       "        num_rows: 491\n",
       "    })\n",
       "})"
      ]
     },
     "execution_count": 22,
     "metadata": {},
     "output_type": "execute_result"
    }
   ],
   "source": [
    "ds = load_dataset(\"chillies/IELTS-writing-task-2-evaluation\")\n",
    "ds"
   ]
  },
  {
   "cell_type": "code",
   "execution_count": 23,
   "metadata": {},
   "outputs": [],
   "source": [
    "train_data = ds['train']\n",
    "train_df = pd.DataFrame(train_data)"
   ]
  },
  {
   "cell_type": "code",
   "execution_count": 24,
   "metadata": {},
   "outputs": [],
   "source": [
    "columns_with_nan = train_df.columns[train_df.isna().any()].tolist()\n",
    "for column in columns_with_nan:\n",
    "    non_nan_count = train_df[column].notna().sum()\n",
    "    total_rows = len(train_df)\n",
    "    print(f\"{column}: Non-NaN Count = {non_nan_count}, Total Rows = {total_rows}\")"
   ]
  },
  {
   "cell_type": "code",
   "execution_count": 25,
   "metadata": {},
   "outputs": [
    {
     "data": {
      "text/html": [
       "<div>\n",
       "<style scoped>\n",
       "    .dataframe tbody tr th:only-of-type {\n",
       "        vertical-align: middle;\n",
       "    }\n",
       "\n",
       "    .dataframe tbody tr th {\n",
       "        vertical-align: top;\n",
       "    }\n",
       "\n",
       "    .dataframe thead th {\n",
       "        text-align: right;\n",
       "    }\n",
       "</style>\n",
       "<table border=\"1\" class=\"dataframe\">\n",
       "  <thead>\n",
       "    <tr style=\"text-align: right;\">\n",
       "      <th></th>\n",
       "      <th>prompt</th>\n",
       "      <th>essay</th>\n",
       "      <th>evaluation</th>\n",
       "      <th>band</th>\n",
       "    </tr>\n",
       "  </thead>\n",
       "  <tbody>\n",
       "    <tr>\n",
       "      <th>0</th>\n",
       "      <td>Interviews form the basic criteria for most la...</td>\n",
       "      <td>It is believed by some experts that the tradit...</td>\n",
       "      <td>**Task Achievement: [7]**\\nThe essay effective...</td>\n",
       "      <td>7.5\\n\\n\\n\\n\\n\\r\\r\\r\\r\\r\\r\\r\\r\\r\\r\\r\\r\\r</td>\n",
       "    </tr>\n",
       "    <tr>\n",
       "      <th>1</th>\n",
       "      <td>Interviews form the basic selecting criteria f...</td>\n",
       "      <td>Nowadays numerous huge firms allocate an inter...</td>\n",
       "      <td>**Task Achievement:** 5.0\\n- The candidate has...</td>\n",
       "      <td>5.0\\n\\n\\n\\n\\n\\r\\r\\r\\r\\r\\r\\r\\r\\r\\r\\r\\r\\r</td>\n",
       "    </tr>\n",
       "    <tr>\n",
       "      <th>2</th>\n",
       "      <td>Interview form the basic selection criteria fo...</td>\n",
       "      <td>The interview section is the most vital part o...</td>\n",
       "      <td>## Task Achievement:\\n- The candidate has effe...</td>\n",
       "      <td>5.5\\n\\n\\n\\n\\n\\r\\r\\r\\r\\r\\r\\r\\r\\r\\r\\r\\r\\r</td>\n",
       "    </tr>\n",
       "    <tr>\n",
       "      <th>3</th>\n",
       "      <td>Interviews form the basic selection criteria f...</td>\n",
       "      <td>It is argued that the best method to recruit e...</td>\n",
       "      <td>## Task Achievement:\\n- The candidate has adeq...</td>\n",
       "      <td>5.5\\n\\n\\n\\n\\n\\r\\r\\r\\r\\r\\r\\r\\r\\r\\r\\r\\r\\r</td>\n",
       "    </tr>\n",
       "    <tr>\n",
       "      <th>4</th>\n",
       "      <td>Interviews from the basic selecting criteria f...</td>\n",
       "      <td>Nowadays many companies conduct interviews bef...</td>\n",
       "      <td>**Task Achievement:**\\n\\nThe essay adequately ...</td>\n",
       "      <td>4\\n\\n\\n\\n\\n\\r\\r\\r\\r\\r\\r\\r\\r\\r\\r\\r\\r\\r</td>\n",
       "    </tr>\n",
       "    <tr>\n",
       "      <th>...</th>\n",
       "      <td>...</td>\n",
       "      <td>...</td>\n",
       "      <td>...</td>\n",
       "      <td>...</td>\n",
       "    </tr>\n",
       "    <tr>\n",
       "      <th>9828</th>\n",
       "      <td>Nations should spend more money on skills and ...</td>\n",
       "      <td>These days, many countries use a huge amount o...</td>\n",
       "      <td>### Task Achievement:\\nThe essay addresses the...</td>\n",
       "      <td>8</td>\n",
       "    </tr>\n",
       "    <tr>\n",
       "      <th>9829</th>\n",
       "      <td>Nations should spend more money on skills and ...</td>\n",
       "      <td>Skills are required in order to achieve succes...</td>\n",
       "      <td>## Task Achievement:\\n- The candidate has not ...</td>\n",
       "      <td>&lt;4</td>\n",
       "    </tr>\n",
       "    <tr>\n",
       "      <th>9830</th>\n",
       "      <td>Nations should spend more money on skills and ...</td>\n",
       "      <td>There is a contradictory view among the people...</td>\n",
       "      <td>## Task Achievement:\\n- The essay adequately a...</td>\n",
       "      <td>7</td>\n",
       "    </tr>\n",
       "    <tr>\n",
       "      <th>9831</th>\n",
       "      <td>Nations should spend more money on skills and ...</td>\n",
       "      <td>Many today feel that countries should prioriti...</td>\n",
       "      <td>## Task Achievement:\\n- The candidate has effe...</td>\n",
       "      <td>7.5</td>\n",
       "    </tr>\n",
       "    <tr>\n",
       "      <th>9832</th>\n",
       "      <td>Nations should spend more money on skills and ...</td>\n",
       "      <td>It is argued by many people that the countries...</td>\n",
       "      <td>### Task Achievement: 6.5\\n- The essay adequat...</td>\n",
       "      <td>7</td>\n",
       "    </tr>\n",
       "  </tbody>\n",
       "</table>\n",
       "<p>9833 rows × 4 columns</p>\n",
       "</div>"
      ],
      "text/plain": [
       "                                                 prompt  \\\n",
       "0     Interviews form the basic criteria for most la...   \n",
       "1     Interviews form the basic selecting criteria f...   \n",
       "2     Interview form the basic selection criteria fo...   \n",
       "3     Interviews form the basic selection criteria f...   \n",
       "4     Interviews from the basic selecting criteria f...   \n",
       "...                                                 ...   \n",
       "9828  Nations should spend more money on skills and ...   \n",
       "9829  Nations should spend more money on skills and ...   \n",
       "9830  Nations should spend more money on skills and ...   \n",
       "9831  Nations should spend more money on skills and ...   \n",
       "9832  Nations should spend more money on skills and ...   \n",
       "\n",
       "                                                  essay  \\\n",
       "0     It is believed by some experts that the tradit...   \n",
       "1     Nowadays numerous huge firms allocate an inter...   \n",
       "2     The interview section is the most vital part o...   \n",
       "3     It is argued that the best method to recruit e...   \n",
       "4     Nowadays many companies conduct interviews bef...   \n",
       "...                                                 ...   \n",
       "9828  These days, many countries use a huge amount o...   \n",
       "9829  Skills are required in order to achieve succes...   \n",
       "9830  There is a contradictory view among the people...   \n",
       "9831  Many today feel that countries should prioriti...   \n",
       "9832  It is argued by many people that the countries...   \n",
       "\n",
       "                                             evaluation  \\\n",
       "0     **Task Achievement: [7]**\\nThe essay effective...   \n",
       "1     **Task Achievement:** 5.0\\n- The candidate has...   \n",
       "2     ## Task Achievement:\\n- The candidate has effe...   \n",
       "3     ## Task Achievement:\\n- The candidate has adeq...   \n",
       "4     **Task Achievement:**\\n\\nThe essay adequately ...   \n",
       "...                                                 ...   \n",
       "9828  ### Task Achievement:\\nThe essay addresses the...   \n",
       "9829  ## Task Achievement:\\n- The candidate has not ...   \n",
       "9830  ## Task Achievement:\\n- The essay adequately a...   \n",
       "9831  ## Task Achievement:\\n- The candidate has effe...   \n",
       "9832  ### Task Achievement: 6.5\\n- The essay adequat...   \n",
       "\n",
       "                                         band  \n",
       "0     7.5\\n\\n\\n\\n\\n\\r\\r\\r\\r\\r\\r\\r\\r\\r\\r\\r\\r\\r  \n",
       "1     5.0\\n\\n\\n\\n\\n\\r\\r\\r\\r\\r\\r\\r\\r\\r\\r\\r\\r\\r  \n",
       "2     5.5\\n\\n\\n\\n\\n\\r\\r\\r\\r\\r\\r\\r\\r\\r\\r\\r\\r\\r  \n",
       "3     5.5\\n\\n\\n\\n\\n\\r\\r\\r\\r\\r\\r\\r\\r\\r\\r\\r\\r\\r  \n",
       "4       4\\n\\n\\n\\n\\n\\r\\r\\r\\r\\r\\r\\r\\r\\r\\r\\r\\r\\r  \n",
       "...                                       ...  \n",
       "9828                                        8  \n",
       "9829                                       <4  \n",
       "9830                                        7  \n",
       "9831                                      7.5  \n",
       "9832                                        7  \n",
       "\n",
       "[9833 rows x 4 columns]"
      ]
     },
     "execution_count": 25,
     "metadata": {},
     "output_type": "execute_result"
    }
   ],
   "source": [
    "train_df"
   ]
  },
  {
   "cell_type": "code",
   "execution_count": 26,
   "metadata": {},
   "outputs": [
    {
     "name": "stdout",
     "output_type": "stream",
     "text": [
      "band\n",
      "4       594\n",
      "4.5     646\n",
      "5      1048\n",
      "5.0       1\n",
      "5.5     955\n",
      "6      1143\n",
      "6.5    1168\n",
      "7      1358\n",
      "7.5    1105\n",
      "8       700\n",
      "8.5     433\n",
      "9       108\n",
      "<4      574\n",
      "Name: count, dtype: int64\n"
     ]
    }
   ],
   "source": [
    "train_df['band'] = train_df['band'].astype(str).replace(r'[\\n\\r]+', '', regex=True)\n",
    "score_counts = train_df['band'].value_counts().sort_index()\n",
    "print(score_counts)"
   ]
  },
  {
   "cell_type": "code",
   "execution_count": 28,
   "metadata": {},
   "outputs": [
    {
     "name": "stdout",
     "output_type": "stream",
     "text": [
      "band\n",
      "4       594\n",
      "4.5     646\n",
      "5      1049\n",
      "5.5     955\n",
      "6      1143\n",
      "6.5    1168\n",
      "7      1358\n",
      "7.5    1105\n",
      "8       700\n",
      "8.5     433\n",
      "9       108\n",
      "<4      574\n",
      "Name: count, dtype: int64\n"
     ]
    }
   ],
   "source": [
    "train_df['band'] = train_df['band'].astype(str).replace(r'\\.0$', '', regex=True)\n",
    "score_counts = train_df['band'].value_counts().sort_index()\n",
    "print(score_counts)"
   ]
  },
  {
   "cell_type": "code",
   "execution_count": 29,
   "metadata": {},
   "outputs": [
    {
     "data": {
      "image/png": "[encoded data removed]",
      "text/plain": [
       "<Figure size 1000x600 with 1 Axes>"
      ]
     },
     "metadata": {},
     "output_type": "display_data"
    }
   ],
   "source": [
    "score_counts = train_df['band'].value_counts().sort_index()\n",
    "plt.figure(figsize=(10, 6))\n",
    "score_counts.plot(kind='bar')\n",
    "plt.title('Count of Each Score in IELTS Writing')\n",
    "plt.xlabel('Overall Score')\n",
    "plt.ylabel('Number of Essays')\n",
    "plt.xticks(rotation=0)\n",
    "plt.show()"
   ]
  },
  {
   "cell_type": "code",
   "execution_count": 31,
   "metadata": {},
   "outputs": [
    {
     "data": {
      "image/png": "[encoded data removed]",
      "text/plain": [
       "<Figure size 1000x600 with 1 Axes>"
      ]
     },
     "metadata": {},
     "output_type": "display_data"
    }
   ],
   "source": [
    "train_df['word_count'] = train_df['essay'].apply(lambda x: len(x.split()))\n",
    "bins = [0, 100, 200, 300, 400, 500, 600, 700, 800, 900, 1000]\n",
    "plt.figure(figsize=(10, 6))\n",
    "plt.hist(train_df['word_count'], bins=bins, edgecolor='black')\n",
    "plt.title('Essay Word Count Distribution')\n",
    "plt.xlabel('Word Count Ranges')\n",
    "plt.ylabel('Number of Essays')\n",
    "plt.xticks(bins)\n",
    "plt.show()"
   ]
  },
  {
   "cell_type": "code",
   "execution_count": null,
   "metadata": {},
   "outputs": [],
   "source": []
  }
 ],
 "metadata": {
  "kernelspec": {
   "display_name": "ece1786",
   "language": "python",
   "name": "python3"
  },
  "language_info": {
   "codemirror_mode": {
    "name": "ipython",
    "version": 3
   },
   "file_extension": ".py",
   "mimetype": "text/x-python",
   "name": "python",
   "nbconvert_exporter": "python",
   "pygments_lexer": "ipython3",
   "version": "3.10.14"
  }
 },
 "nbformat": 4,
 "nbformat_minor": 2
}
