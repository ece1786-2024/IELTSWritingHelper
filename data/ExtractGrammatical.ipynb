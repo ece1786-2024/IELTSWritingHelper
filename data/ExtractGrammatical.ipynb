{
 "cells": [
  {
   "cell_type": "code",
   "execution_count": 21,
   "metadata": {},
   "outputs": [],
   "source": [
    "import pandas as pd\n",
    "from datasets import load_dataset\n",
    "import re\n",
    "huggingface_ds = load_dataset(\"chillies/IELTS-writing-task-2-evaluation\")['train']\n",
    "huggingface_ds = pd.DataFrame(huggingface_ds)"
   ]
  },
  {
   "cell_type": "code",
   "execution_count": 22,
   "metadata": {},
   "outputs": [
    {
     "data": {
      "text/plain": [
       "9833"
      ]
     },
     "execution_count": 22,
     "metadata": {},
     "output_type": "execute_result"
    }
   ],
   "source": [
    "evaluation = huggingface_ds[\"evaluation\"]\n",
    "evaluation.head()\n",
    "Grammatical_df = pd.DataFrame()\n",
    "Grammatical_df['prompt'] = huggingface_ds['prompt']\n",
    "Grammatical_df['essay'] = huggingface_ds['essay']\n",
    "len(Grammatical_df)"
   ]
  },
  {
   "cell_type": "code",
   "execution_count": 23,
   "metadata": {},
   "outputs": [],
   "source": [
    "def extract(text):\n",
    "    start_keyword = \"Grammatical Range and Accuracy\"\n",
    "    end_keyword = \"Overall Band Score\"\n",
    "    start_index = text.find(start_keyword)\n",
    "    end_index = text.find(end_keyword)\n",
    "    if start_index != -1 and end_index != -1:\n",
    "        return text[start_index + len(start_keyword):end_index].strip()\n",
    "    else:\n",
    "        return \"\"\n",
    "\n",
    "def clean_text(text):\n",
    "    cleaned_text = text.replace('*', '').replace('#', '').replace('\\n', '').replace('-', '').replace('*', '').strip()\n",
    "    cleaned_text = cleaned_text.strip(\": -\")\n",
    "    cleaned_text = cleaned_text.replace(\"Suggested Band Score\", \"\").strip()\n",
    "    cleaned_text = cleaned_text.replace(\"(Grammatical Range and Accuracy)\", \"\").strip()\n",
    "    cleaned_text = cleaned_text.strip(\": -\")\n",
    "    return cleaned_text"
   ]
  },
  {
   "cell_type": "code",
   "execution_count": 24,
   "metadata": {},
   "outputs": [
    {
     "data": {
      "text/plain": [
       "'4.0 The candidate demonstrates a good variety of sentence structures, including complex sentences. There are a few minor grammatical errors (e.g., \"interviews is not a reliable mthod\" instead of \"interviews are not a reliable method\"), but these do not significantly impact the overall quality of the essay. The punctuation and sentence formation are generally correct.'"
      ]
     },
     "execution_count": 24,
     "metadata": {},
     "output_type": "execute_result"
    }
   ],
   "source": [
    "Grammatical_df['text'] = huggingface_ds[\"evaluation\"].apply(extract)\n",
    "Grammatical_df['text'] = Grammatical_df['text'].apply(clean_text)\n",
    "Grammatical_df['text'][10]"
   ]
  },
  {
   "cell_type": "code",
   "execution_count": 25,
   "metadata": {},
   "outputs": [
    {
     "data": {
      "text/plain": [
       "'The candidate demonstrates a limited range of sentence structures, with simple and repetitive sentence patterns. There are frequent grammatical errors, including incorrect verb forms, sentence construction, and punctuation.  : 2.0'"
      ]
     },
     "execution_count": 25,
     "metadata": {},
     "output_type": "execute_result"
    }
   ],
   "source": [
    "Grammatical_df['text'][20]"
   ]
  },
  {
   "cell_type": "code",
   "execution_count": 26,
   "metadata": {},
   "outputs": [
    {
     "data": {
      "text/plain": [
       "'[6]The candidate has demonstrated a good range of grammatical structures and has made few grammatical errors. However, there are some instances where the grammar could be improved. For example, the candidate could have used a more complex sentence structure in the first paragraph.'"
      ]
     },
     "execution_count": 26,
     "metadata": {},
     "output_type": "execute_result"
    }
   ],
   "source": [
    "Grammatical_df['text'][30]"
   ]
  },
  {
   "cell_type": "code",
   "execution_count": 27,
   "metadata": {},
   "outputs": [
    {
     "name": "stdout",
     "output_type": "stream",
     "text": [
      "Number of rows with empty '': 14\n"
     ]
    }
   ],
   "source": [
    "empty_string_count = (Grammatical_df['text'] == '').sum()\n",
    "print(f\"Number of rows with empty '': {empty_string_count}\")"
   ]
  },
  {
   "cell_type": "code",
   "execution_count": 28,
   "metadata": {},
   "outputs": [
    {
     "data": {
      "text/plain": [
       "0       7.0\n",
       "1       4.5\n",
       "2       6.0\n",
       "3       5.0\n",
       "4       3.0\n",
       "       ... \n",
       "9828    6.0\n",
       "9829    4.0\n",
       "9830    6.5\n",
       "9831    7.0\n",
       "9832    6.0\n",
       "Name: score, Length: 9833, dtype: float64"
      ]
     },
     "execution_count": 28,
     "metadata": {},
     "output_type": "execute_result"
    }
   ],
   "source": [
    "Grammatical_df[\"score\"] = Grammatical_df['text'].str.extract(r'(\\d+\\.?\\d*)').astype(float)\n",
    "Grammatical_df[\"score\"]"
   ]
  },
  {
   "cell_type": "code",
   "execution_count": 29,
   "metadata": {},
   "outputs": [
    {
     "data": {
      "text/plain": [
       "62"
      ]
     },
     "execution_count": 29,
     "metadata": {},
     "output_type": "execute_result"
    }
   ],
   "source": [
    "nan_count = Grammatical_df['score'].isna().sum()\n",
    "nan_count"
   ]
  },
  {
   "cell_type": "code",
   "execution_count": 30,
   "metadata": {},
   "outputs": [],
   "source": [
    "def clean_text_v2(text):\n",
    "    cleaned_text = text.replace('*', '').replace('#', '').replace('\\n', '').replace('-', '').replace('*', '').strip()\n",
    "    cleaned_text = re.sub(r\"\\d+\\.*\\d*\", \"\", cleaned_text).strip()\n",
    "    cleaned_text = re.sub(r\"\\[\\d+\\.*\\d*\\]\", \"\", cleaned_text).strip()\n",
    "    cleaned_text = cleaned_text.strip(\": -\")\n",
    "    cleaned_text = cleaned_text.replace(\"Suggested Band Score\", \"\").strip()\n",
    "    cleaned_text = cleaned_text.replace(\"(Grammatical Range and Accuracy)\", \"\").strip()\n",
    "    cleaned_text = cleaned_text.replace(\"[]\", \"\").strip()\n",
    "    return cleaned_text"
   ]
  },
  {
   "cell_type": "code",
   "execution_count": 31,
   "metadata": {},
   "outputs": [],
   "source": [
    "Grammatical_df['text'] = Grammatical_df['text'].apply(clean_text_v2)"
   ]
  },
  {
   "cell_type": "code",
   "execution_count": 32,
   "metadata": {},
   "outputs": [
    {
     "data": {
      "text/plain": [
       "'The candidate demonstrates a good variety of sentence structures, including complex sentences. There are a few minor grammatical errors (e.g., \"interviews is not a reliable mthod\" instead of \"interviews are not a reliable method\"), but these do not significantly impact the overall quality of the essay. The punctuation and sentence formation are generally correct.'"
      ]
     },
     "execution_count": 32,
     "metadata": {},
     "output_type": "execute_result"
    }
   ],
   "source": [
    "Grammatical_df['text'][10]"
   ]
  },
  {
   "cell_type": "code",
   "execution_count": 33,
   "metadata": {},
   "outputs": [
    {
     "data": {
      "text/plain": [
       "'The candidate demonstrates a limited range of sentence structures, with simple and repetitive sentence patterns. There are frequent grammatical errors, including incorrect verb forms, sentence construction, and punctuation.'"
      ]
     },
     "execution_count": 33,
     "metadata": {},
     "output_type": "execute_result"
    }
   ],
   "source": [
    "Grammatical_df['text'][20]"
   ]
  },
  {
   "cell_type": "code",
   "execution_count": 34,
   "metadata": {},
   "outputs": [
    {
     "data": {
      "text/plain": [
       "'The candidate has demonstrated a good range of grammatical structures and has made few grammatical errors. However, there are some instances where the grammar could be improved. For example, the candidate could have used a more complex sentence structure in the first paragraph.'"
      ]
     },
     "execution_count": 34,
     "metadata": {},
     "output_type": "execute_result"
    }
   ],
   "source": [
    "Grammatical_df['text'][30]"
   ]
  },
  {
   "cell_type": "code",
   "execution_count": 35,
   "metadata": {},
   "outputs": [
    {
     "data": {
      "text/html": [
       "<div>\n",
       "<style scoped>\n",
       "    .dataframe tbody tr th:only-of-type {\n",
       "        vertical-align: middle;\n",
       "    }\n",
       "\n",
       "    .dataframe tbody tr th {\n",
       "        vertical-align: top;\n",
       "    }\n",
       "\n",
       "    .dataframe thead th {\n",
       "        text-align: right;\n",
       "    }\n",
       "</style>\n",
       "<table border=\"1\" class=\"dataframe\">\n",
       "  <thead>\n",
       "    <tr style=\"text-align: right;\">\n",
       "      <th></th>\n",
       "      <th>prompt</th>\n",
       "      <th>essay</th>\n",
       "      <th>text</th>\n",
       "      <th>score</th>\n",
       "    </tr>\n",
       "  </thead>\n",
       "  <tbody>\n",
       "    <tr>\n",
       "      <th>0</th>\n",
       "      <td>Interviews form the basic criteria for most la...</td>\n",
       "      <td>It is believed by some experts that the tradit...</td>\n",
       "      <td>The essay exhibits a variety of sentence struc...</td>\n",
       "      <td>7.0</td>\n",
       "    </tr>\n",
       "    <tr>\n",
       "      <th>1</th>\n",
       "      <td>Interviews form the basic selecting criteria f...</td>\n",
       "      <td>Nowadays numerous huge firms allocate an inter...</td>\n",
       "      <td>The candidate demonstrates a good range of gra...</td>\n",
       "      <td>4.5</td>\n",
       "    </tr>\n",
       "    <tr>\n",
       "      <th>2</th>\n",
       "      <td>Interview form the basic selection criteria fo...</td>\n",
       "      <td>The interview section is the most vital part o...</td>\n",
       "      <td>The candidate demonstrates a good grasp of gra...</td>\n",
       "      <td>6.0</td>\n",
       "    </tr>\n",
       "    <tr>\n",
       "      <th>3</th>\n",
       "      <td>Interviews form the basic selection criteria f...</td>\n",
       "      <td>It is argued that the best method to recruit e...</td>\n",
       "      <td>The essay exhibits a limited range of sentence...</td>\n",
       "      <td>5.0</td>\n",
       "    </tr>\n",
       "    <tr>\n",
       "      <th>4</th>\n",
       "      <td>Interviews from the basic selecting criteria f...</td>\n",
       "      <td>Nowadays many companies conduct interviews bef...</td>\n",
       "      <td>The essay exhibits a narrow range of sentence ...</td>\n",
       "      <td>3.0</td>\n",
       "    </tr>\n",
       "    <tr>\n",
       "      <th>...</th>\n",
       "      <td>...</td>\n",
       "      <td>...</td>\n",
       "      <td>...</td>\n",
       "      <td>...</td>\n",
       "    </tr>\n",
       "    <tr>\n",
       "      <th>9828</th>\n",
       "      <td>Nations should spend more money on skills and ...</td>\n",
       "      <td>These days, many countries use a huge amount o...</td>\n",
       "      <td>The essay shows a fair range of sentence struc...</td>\n",
       "      <td>6.0</td>\n",
       "    </tr>\n",
       "    <tr>\n",
       "      <th>9829</th>\n",
       "      <td>Nations should spend more money on skills and ...</td>\n",
       "      <td>Skills are required in order to achieve succes...</td>\n",
       "      <td>The essay demonstrates a lack of variety in se...</td>\n",
       "      <td>4.0</td>\n",
       "    </tr>\n",
       "    <tr>\n",
       "      <th>9830</th>\n",
       "      <td>Nations should spend more money on skills and ...</td>\n",
       "      <td>There is a contradictory view among the people...</td>\n",
       "      <td>A variety of sentence structures is used, but ...</td>\n",
       "      <td>6.5</td>\n",
       "    </tr>\n",
       "    <tr>\n",
       "      <th>9831</th>\n",
       "      <td>Nations should spend more money on skills and ...</td>\n",
       "      <td>Many today feel that countries should prioriti...</td>\n",
       "      <td>The essay exhibits a variety of sentence struc...</td>\n",
       "      <td>7.0</td>\n",
       "    </tr>\n",
       "    <tr>\n",
       "      <th>9832</th>\n",
       "      <td>Nations should spend more money on skills and ...</td>\n",
       "      <td>It is argued by many people that the countries...</td>\n",
       "      <td>The essay displays a variety of sentence struc...</td>\n",
       "      <td>6.0</td>\n",
       "    </tr>\n",
       "  </tbody>\n",
       "</table>\n",
       "<p>9833 rows × 4 columns</p>\n",
       "</div>"
      ],
      "text/plain": [
       "                                                 prompt  \\\n",
       "0     Interviews form the basic criteria for most la...   \n",
       "1     Interviews form the basic selecting criteria f...   \n",
       "2     Interview form the basic selection criteria fo...   \n",
       "3     Interviews form the basic selection criteria f...   \n",
       "4     Interviews from the basic selecting criteria f...   \n",
       "...                                                 ...   \n",
       "9828  Nations should spend more money on skills and ...   \n",
       "9829  Nations should spend more money on skills and ...   \n",
       "9830  Nations should spend more money on skills and ...   \n",
       "9831  Nations should spend more money on skills and ...   \n",
       "9832  Nations should spend more money on skills and ...   \n",
       "\n",
       "                                                  essay  \\\n",
       "0     It is believed by some experts that the tradit...   \n",
       "1     Nowadays numerous huge firms allocate an inter...   \n",
       "2     The interview section is the most vital part o...   \n",
       "3     It is argued that the best method to recruit e...   \n",
       "4     Nowadays many companies conduct interviews bef...   \n",
       "...                                                 ...   \n",
       "9828  These days, many countries use a huge amount o...   \n",
       "9829  Skills are required in order to achieve succes...   \n",
       "9830  There is a contradictory view among the people...   \n",
       "9831  Many today feel that countries should prioriti...   \n",
       "9832  It is argued by many people that the countries...   \n",
       "\n",
       "                                                   text  score  \n",
       "0     The essay exhibits a variety of sentence struc...    7.0  \n",
       "1     The candidate demonstrates a good range of gra...    4.5  \n",
       "2     The candidate demonstrates a good grasp of gra...    6.0  \n",
       "3     The essay exhibits a limited range of sentence...    5.0  \n",
       "4     The essay exhibits a narrow range of sentence ...    3.0  \n",
       "...                                                 ...    ...  \n",
       "9828  The essay shows a fair range of sentence struc...    6.0  \n",
       "9829  The essay demonstrates a lack of variety in se...    4.0  \n",
       "9830  A variety of sentence structures is used, but ...    6.5  \n",
       "9831  The essay exhibits a variety of sentence struc...    7.0  \n",
       "9832  The essay displays a variety of sentence struc...    6.0  \n",
       "\n",
       "[9833 rows x 4 columns]"
      ]
     },
     "execution_count": 35,
     "metadata": {},
     "output_type": "execute_result"
    }
   ],
   "source": [
    "Grammatical_df = Grammatical_df[['prompt', 'essay', 'text', 'score']]\n",
    "Grammatical_df"
   ]
  },
  {
   "cell_type": "code",
   "execution_count": 36,
   "metadata": {},
   "outputs": [
    {
     "name": "stdout",
     "output_type": "stream",
     "text": [
      "Number of rows with empty 'text': 15\n"
     ]
    }
   ],
   "source": [
    "empty_string_count = (Grammatical_df['text'] == '').sum()\n",
    "print(f\"Number of rows with empty 'text': {empty_string_count}\")\n",
    "Grammatical_df = Grammatical_df[Grammatical_df['text'] != '']"
   ]
  },
  {
   "cell_type": "code",
   "execution_count": 37,
   "metadata": {},
   "outputs": [
    {
     "data": {
      "text/plain": [
       "48"
      ]
     },
     "execution_count": 37,
     "metadata": {},
     "output_type": "execute_result"
    }
   ],
   "source": [
    "nan_count = Grammatical_df.isna().any(axis=1).sum()\n",
    "nan_count"
   ]
  },
  {
   "cell_type": "code",
   "execution_count": 38,
   "metadata": {},
   "outputs": [
    {
     "data": {
      "text/plain": [
       "0"
      ]
     },
     "execution_count": 38,
     "metadata": {},
     "output_type": "execute_result"
    }
   ],
   "source": [
    "Grammatical_df = Grammatical_df.dropna(subset=['score'])\n",
    "nan_count = Grammatical_df.isna().any(axis=1).sum()\n",
    "nan_count"
   ]
  },
  {
   "cell_type": "code",
   "execution_count": 39,
   "metadata": {},
   "outputs": [
    {
     "data": {
      "text/plain": [
       "9770"
      ]
     },
     "execution_count": 39,
     "metadata": {},
     "output_type": "execute_result"
    }
   ],
   "source": [
    "len(Grammatical_df)"
   ]
  },
  {
   "cell_type": "code",
   "execution_count": 40,
   "metadata": {},
   "outputs": [],
   "source": [
    "csv_path = 'data/Grammatical.csv'\n",
    "Grammatical_df.to_csv(csv_path, index=False)"
   ]
  }
 ],
 "metadata": {
  "kernelspec": {
   "display_name": "ece1786",
   "language": "python",
   "name": "python3"
  },
  "language_info": {
   "codemirror_mode": {
    "name": "ipython",
    "version": 3
   },
   "file_extension": ".py",
   "mimetype": "text/x-python",
   "name": "python",
   "nbconvert_exporter": "python",
   "pygments_lexer": "ipython3",
   "version": "3.10.14"
  }
 },
 "nbformat": 4,
 "nbformat_minor": 2
}
