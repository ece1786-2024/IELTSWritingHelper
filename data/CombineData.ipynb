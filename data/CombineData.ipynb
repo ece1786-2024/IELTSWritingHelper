{
 "cells": [
  {
   "cell_type": "code",
   "execution_count": 52,
   "metadata": {},
   "outputs": [],
   "source": [
    "import pandas as pd\n",
    "import matplotlib.pyplot as plt\n",
    "from datasets import load_dataset"
   ]
  },
  {
   "cell_type": "code",
   "execution_count": 53,
   "metadata": {},
   "outputs": [],
   "source": [
    "kaggle_ds = pd.read_csv('data/ielts_writing_dataset.csv')\n",
    "# kaggle2 = pd.read_csv('data/ielts-writing-essays.csv')\n",
    "huggingface_ds = load_dataset(\"chillies/IELTS-writing-task-2-evaluation\")['train']\n",
    "huggingface_ds = pd.DataFrame(huggingface_ds)"
   ]
  },
  {
   "cell_type": "code",
   "execution_count": 54,
   "metadata": {},
   "outputs": [
    {
     "name": "stdout",
     "output_type": "stream",
     "text": [
      "Total number of entries after filtering: 62\n"
     ]
    }
   ],
   "source": [
    "kaggle_ds = kaggle_ds[kaggle_ds['Task_Type'] == 2]\n",
    "kaggle_ds = kaggle_ds[['Question', 'Essay', 'Examiner_Commen', 'Overall']]\n",
    "kaggle_ds = kaggle_ds.dropna(subset=['Examiner_Commen'])\n",
    "print(\"Total number of entries after filtering:\", kaggle_ds.shape[0])"
   ]
  },
  {
   "cell_type": "code",
   "execution_count": 55,
   "metadata": {},
   "outputs": [
    {
     "name": "stdout",
     "output_type": "stream",
     "text": [
      "Overall\n",
      "5     8\n",
      "6    24\n",
      "7    17\n",
      "8    13\n",
      "Name: count, dtype: int64\n"
     ]
    }
   ],
   "source": [
    "kaggle_ds['Overall'] = kaggle_ds['Overall'].astype(str).replace(r'\\.0$', '', regex=True)\n",
    "score_counts = kaggle_ds['Overall'].value_counts().sort_index()\n",
    "print(score_counts)"
   ]
  },
  {
   "cell_type": "code",
   "execution_count": 56,
   "metadata": {},
   "outputs": [],
   "source": [
    "huggingface_ds['band'] = huggingface_ds['band'].astype(str).replace(r'[\\n\\r]+', '', regex=True)\n",
    "huggingface_ds['band'] = huggingface_ds['band'].astype(str).replace(r'\\.0$', '', regex=True)\n"
   ]
  },
  {
   "cell_type": "code",
   "execution_count": 57,
   "metadata": {},
   "outputs": [
    {
     "name": "stdout",
     "output_type": "stream",
     "text": [
      "band\n",
      "4       594\n",
      "4.5     646\n",
      "5      1049\n",
      "5.5     955\n",
      "6      1143\n",
      "6.5    1168\n",
      "7      1358\n",
      "7.5    1105\n",
      "8       700\n",
      "8.5     433\n",
      "9       108\n",
      "<4      574\n",
      "Name: count, dtype: int64\n"
     ]
    }
   ],
   "source": [
    "score_counts = huggingface_ds['band'].value_counts().sort_index()\n",
    "print(score_counts)"
   ]
  },
  {
   "cell_type": "code",
   "execution_count": 58,
   "metadata": {},
   "outputs": [
    {
     "data": {
      "text/plain": [
       "Index(['prompt', 'essay', 'evaluation', 'band'], dtype='object')"
      ]
     },
     "execution_count": 58,
     "metadata": {},
     "output_type": "execute_result"
    }
   ],
   "source": [
    "huggingface_ds.columns"
   ]
  },
  {
   "cell_type": "code",
   "execution_count": 59,
   "metadata": {},
   "outputs": [
    {
     "data": {
      "text/plain": [
       "Index(['Question', 'Essay', 'Examiner_Commen', 'Overall'], dtype='object')"
      ]
     },
     "execution_count": 59,
     "metadata": {},
     "output_type": "execute_result"
    }
   ],
   "source": [
    "kaggle_ds.columns"
   ]
  },
  {
   "cell_type": "code",
   "execution_count": 60,
   "metadata": {},
   "outputs": [],
   "source": [
    "kaggle_ds.rename(columns={\n",
    "    'Question': 'prompt', \n",
    "    'Essay': 'essay', \n",
    "    'Examiner_Commen': 'evaluation', \n",
    "    'Overall': 'band'\n",
    "}, inplace=True)"
   ]
  },
  {
   "cell_type": "code",
   "execution_count": 61,
   "metadata": {},
   "outputs": [
    {
     "data": {
      "text/plain": [
       "Index(['prompt', 'essay', 'evaluation', 'band'], dtype='object')"
      ]
     },
     "execution_count": 61,
     "metadata": {},
     "output_type": "execute_result"
    }
   ],
   "source": [
    "kaggle_ds.columns"
   ]
  },
  {
   "cell_type": "code",
   "execution_count": 62,
   "metadata": {},
   "outputs": [
    {
     "data": {
      "text/plain": [
       "(9895, 4)"
      ]
     },
     "execution_count": 62,
     "metadata": {},
     "output_type": "execute_result"
    }
   ],
   "source": [
    "combined_ds = pd.concat([huggingface_ds, kaggle_ds], ignore_index=True)\n",
    "combined_ds.shape"
   ]
  },
  {
   "cell_type": "code",
   "execution_count": 67,
   "metadata": {},
   "outputs": [
    {
     "name": "stdout",
     "output_type": "stream",
     "text": [
      "band\n",
      "4       594\n",
      "4.5     646\n",
      "5      1057\n",
      "5.5     955\n",
      "6      1167\n",
      "6.5    1168\n",
      "7      1375\n",
      "7.5    1105\n",
      "8       713\n",
      "8.5     433\n",
      "9       108\n",
      "<4      574\n",
      "Name: count, dtype: int64\n"
     ]
    }
   ],
   "source": [
    "score_counts = combined_ds['band'].value_counts().sort_index()\n",
    "print(score_counts)"
   ]
  },
  {
   "cell_type": "code",
   "execution_count": 66,
   "metadata": {},
   "outputs": [],
   "source": [
    "combined_ds.to_csv('data/combined_dataset.csv', index=False)"
   ]
  },
  {
   "cell_type": "code",
   "execution_count": 65,
   "metadata": {},
   "outputs": [
    {
     "data": {
      "image/png": "[encoded data removed]",
      "text/plain": [
       "<Figure size 1000x600 with 1 Axes>"
      ]
     },
     "metadata": {},
     "output_type": "display_data"
    }
   ],
   "source": [
    "score_counts = combined_ds['band'].value_counts().sort_index()\n",
    "plt.figure(figsize=(10, 6))\n",
    "score_counts.plot(kind='bar')\n",
    "plt.title('Count of Each Score in IELTS Writing')\n",
    "plt.xlabel('Overall Score')\n",
    "plt.ylabel('Number of Essays')\n",
    "plt.xticks(rotation=0)\n",
    "plt.show()"
   ]
  }
 ],
 "metadata": {
  "kernelspec": {
   "display_name": "ece1786",
   "language": "python",
   "name": "python3"
  },
  "language_info": {
   "codemirror_mode": {
    "name": "ipython",
    "version": 3
   },
   "file_extension": ".py",
   "mimetype": "text/x-python",
   "name": "python",
   "nbconvert_exporter": "python",
   "pygments_lexer": "ipython3",
   "version": "3.10.14"
  }
 },
 "nbformat": 4,
 "nbformat_minor": 2
}
