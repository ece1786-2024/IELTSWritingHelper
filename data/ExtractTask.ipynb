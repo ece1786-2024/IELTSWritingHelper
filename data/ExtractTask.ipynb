{
 "cells": [
  {
   "cell_type": "code",
   "execution_count": 51,
   "metadata": {},
   "outputs": [],
   "source": [
    "import pandas as pd\n",
    "from datasets import load_dataset\n",
    "import re\n",
    "huggingface_ds = load_dataset(\"chillies/IELTS-writing-task-2-evaluation\")['train']\n",
    "huggingface_ds = pd.DataFrame(huggingface_ds)"
   ]
  },
  {
   "cell_type": "code",
   "execution_count": 52,
   "metadata": {},
   "outputs": [
    {
     "data": {
      "text/plain": [
       "9833"
      ]
     },
     "execution_count": 52,
     "metadata": {},
     "output_type": "execute_result"
    }
   ],
   "source": [
    "evaluation = huggingface_ds[\"evaluation\"]\n",
    "evaluation.head()\n",
    "task_achievement_df = pd.DataFrame()\n",
    "task_achievement_df['prompt'] = huggingface_ds['prompt']\n",
    "task_achievement_df['essay'] = huggingface_ds['essay']\n",
    "len(task_achievement_df)"
   ]
  },
  {
   "cell_type": "code",
   "execution_count": 53,
   "metadata": {},
   "outputs": [],
   "source": [
    "def extract_task_achievement(text):\n",
    "    start_keyword = \"Task Achievement\"\n",
    "    end_keyword = \"Coherence and Cohesion\"\n",
    "    start_index = text.find(start_keyword)\n",
    "    end_index = text.find(end_keyword)\n",
    "    if start_index != -1 and end_index != -1:\n",
    "        return text[start_index + len(start_keyword):end_index].strip()\n",
    "    else:\n",
    "        return \"\"\n",
    "\n",
    "def clean_text(text):\n",
    "    cleaned_text = text.replace('*', '').replace('#', '').replace('\\n', '').replace('-', '').replace('*', '').strip()\n",
    "    cleaned_text = cleaned_text.strip(\": -\")\n",
    "    cleaned_text = cleaned_text.replace(\"Suggested Band Score\", \"\").strip()\n",
    "    cleaned_text = cleaned_text.replace(\"(Task Achievement)\", \"\").strip()\n",
    "    return cleaned_text"
   ]
  },
  {
   "cell_type": "code",
   "execution_count": 54,
   "metadata": {},
   "outputs": [
    {
     "data": {
      "text/plain": [
       "'4.5 The candidate has effectively addressed the given task by providing a clear and coherent response to the prompt. The essay adequately covers all aspects of the task, providing arguments and evidence to support both sides of the debate. The candidate demonstrates a good understanding of the topic and presents a balanced perspective.'"
      ]
     },
     "execution_count": 54,
     "metadata": {},
     "output_type": "execute_result"
    }
   ],
   "source": [
    "task_achievement_df['text'] = huggingface_ds[\"evaluation\"].apply(extract_task_achievement)\n",
    "task_achievement_df['text'] = task_achievement_df['text'].apply(clean_text)\n",
    "task_achievement_df['text'][10]"
   ]
  },
  {
   "cell_type": "code",
   "execution_count": 55,
   "metadata": {},
   "outputs": [
    {
     "data": {
      "text/plain": [
       "'The candidate has adequately addressed the task by providing a clear stance and supporting arguments. The ideas presented are relevant to the topic and demonstrate a basic understanding of the issue. However, there are some aspects of the task that have not been fully covered, such as exploring alternative methods of employee selection and providing specific examples to support the arguments.  : 3.5'"
      ]
     },
     "execution_count": 55,
     "metadata": {},
     "output_type": "execute_result"
    }
   ],
   "source": [
    "task_achievement_df['text'][20]"
   ]
  },
  {
   "cell_type": "code",
   "execution_count": 56,
   "metadata": {},
   "outputs": [
    {
     "data": {
      "text/plain": [
       "\"[6]The candidate has addressed the task by discussing both the views that interviews are a reliable method of choosing whom to employ and that there are other better methods. They have provided relevant arguments and examples to support their opinion that there are other reliable methods to assess a person for a job. However, the essay could have benefited from a more explicit statement of the candidate's position in the introduction.\""
      ]
     },
     "execution_count": 56,
     "metadata": {},
     "output_type": "execute_result"
    }
   ],
   "source": [
    "task_achievement_df['text'][30]"
   ]
  },
  {
   "cell_type": "code",
   "execution_count": 57,
   "metadata": {},
   "outputs": [
    {
     "name": "stdout",
     "output_type": "stream",
     "text": [
      "Number of rows with empty '': 0\n"
     ]
    }
   ],
   "source": [
    "empty_string_count = (task_achievement_df['text'] == '').sum()\n",
    "print(f\"Number of rows with empty '': {empty_string_count}\")"
   ]
  },
  {
   "cell_type": "code",
   "execution_count": 58,
   "metadata": {},
   "outputs": [
    {
     "data": {
      "text/plain": [
       "0       7.0\n",
       "1       5.0\n",
       "2       6.5\n",
       "3       6.0\n",
       "4       3.5\n",
       "       ... \n",
       "9828    6.5\n",
       "9829    4.0\n",
       "9830    8.0\n",
       "9831    8.0\n",
       "9832    6.5\n",
       "Name: score, Length: 9833, dtype: float64"
      ]
     },
     "execution_count": 58,
     "metadata": {},
     "output_type": "execute_result"
    }
   ],
   "source": [
    "task_achievement_df[\"score\"] = task_achievement_df['text'].str.extract(r'(\\d+\\.?\\d*)').astype(float)\n",
    "task_achievement_df[\"score\"]"
   ]
  },
  {
   "cell_type": "code",
   "execution_count": 59,
   "metadata": {},
   "outputs": [
    {
     "data": {
      "text/plain": [
       "42"
      ]
     },
     "execution_count": 59,
     "metadata": {},
     "output_type": "execute_result"
    }
   ],
   "source": [
    "nan_count = task_achievement_df['score'].isna().sum()\n",
    "nan_count"
   ]
  },
  {
   "cell_type": "code",
   "execution_count": 60,
   "metadata": {},
   "outputs": [],
   "source": [
    "def clean_text_v2(text):\n",
    "    cleaned_text = text.replace('*', '').replace('#', '').replace('\\n', '').replace('-', '').replace('*', '').strip()\n",
    "    cleaned_text = re.sub(r\"\\d+\\.*\\d*\", \"\", cleaned_text).strip()\n",
    "    cleaned_text = re.sub(r\"\\[\\d+\\.*\\d*\\]\", \"\", cleaned_text).strip()\n",
    "    cleaned_text = cleaned_text.strip(\": -\")\n",
    "    cleaned_text = cleaned_text.replace(\"Suggested Band Score\", \"\").strip()\n",
    "    cleaned_text = cleaned_text.replace(\"(Task Achievement)\", \"\").strip()\n",
    "    cleaned_text = cleaned_text.replace(\"[]\", \"\").strip()\n",
    "    return cleaned_text"
   ]
  },
  {
   "cell_type": "code",
   "execution_count": 61,
   "metadata": {},
   "outputs": [],
   "source": [
    "task_achievement_df['text'] = task_achievement_df['text'].apply(clean_text_v2)"
   ]
  },
  {
   "cell_type": "code",
   "execution_count": 62,
   "metadata": {},
   "outputs": [
    {
     "data": {
      "text/plain": [
       "'The candidate has effectively addressed the given task by providing a clear and coherent response to the prompt. The essay adequately covers all aspects of the task, providing arguments and evidence to support both sides of the debate. The candidate demonstrates a good understanding of the topic and presents a balanced perspective.'"
      ]
     },
     "execution_count": 62,
     "metadata": {},
     "output_type": "execute_result"
    }
   ],
   "source": [
    "task_achievement_df['text'][10]"
   ]
  },
  {
   "cell_type": "code",
   "execution_count": 63,
   "metadata": {},
   "outputs": [
    {
     "data": {
      "text/plain": [
       "'The candidate has adequately addressed the task by providing a clear stance and supporting arguments. The ideas presented are relevant to the topic and demonstrate a basic understanding of the issue. However, there are some aspects of the task that have not been fully covered, such as exploring alternative methods of employee selection and providing specific examples to support the arguments.'"
      ]
     },
     "execution_count": 63,
     "metadata": {},
     "output_type": "execute_result"
    }
   ],
   "source": [
    "task_achievement_df['text'][20]"
   ]
  },
  {
   "cell_type": "code",
   "execution_count": 64,
   "metadata": {},
   "outputs": [
    {
     "data": {
      "text/plain": [
       "\"The candidate has addressed the task by discussing both the views that interviews are a reliable method of choosing whom to employ and that there are other better methods. They have provided relevant arguments and examples to support their opinion that there are other reliable methods to assess a person for a job. However, the essay could have benefited from a more explicit statement of the candidate's position in the introduction.\""
      ]
     },
     "execution_count": 64,
     "metadata": {},
     "output_type": "execute_result"
    }
   ],
   "source": [
    "task_achievement_df['text'][30]"
   ]
  },
  {
   "cell_type": "code",
   "execution_count": 65,
   "metadata": {},
   "outputs": [
    {
     "data": {
      "text/html": [
       "<div>\n",
       "<style scoped>\n",
       "    .dataframe tbody tr th:only-of-type {\n",
       "        vertical-align: middle;\n",
       "    }\n",
       "\n",
       "    .dataframe tbody tr th {\n",
       "        vertical-align: top;\n",
       "    }\n",
       "\n",
       "    .dataframe thead th {\n",
       "        text-align: right;\n",
       "    }\n",
       "</style>\n",
       "<table border=\"1\" class=\"dataframe\">\n",
       "  <thead>\n",
       "    <tr style=\"text-align: right;\">\n",
       "      <th></th>\n",
       "      <th>prompt</th>\n",
       "      <th>essay</th>\n",
       "      <th>text</th>\n",
       "      <th>score</th>\n",
       "    </tr>\n",
       "  </thead>\n",
       "  <tbody>\n",
       "    <tr>\n",
       "      <th>0</th>\n",
       "      <td>Interviews form the basic criteria for most la...</td>\n",
       "      <td>It is believed by some experts that the tradit...</td>\n",
       "      <td>The essay effectively addresses the given task...</td>\n",
       "      <td>7.0</td>\n",
       "    </tr>\n",
       "    <tr>\n",
       "      <th>1</th>\n",
       "      <td>Interviews form the basic selecting criteria f...</td>\n",
       "      <td>Nowadays numerous huge firms allocate an inter...</td>\n",
       "      <td>The candidate has effectively addressed the gi...</td>\n",
       "      <td>5.0</td>\n",
       "    </tr>\n",
       "    <tr>\n",
       "      <th>2</th>\n",
       "      <td>Interview form the basic selection criteria fo...</td>\n",
       "      <td>The interview section is the most vital part o...</td>\n",
       "      <td>The candidate has effectively addressed the gi...</td>\n",
       "      <td>6.5</td>\n",
       "    </tr>\n",
       "    <tr>\n",
       "      <th>3</th>\n",
       "      <td>Interviews form the basic selection criteria f...</td>\n",
       "      <td>It is argued that the best method to recruit e...</td>\n",
       "      <td>The candidate has adequately addressed the tas...</td>\n",
       "      <td>6.0</td>\n",
       "    </tr>\n",
       "    <tr>\n",
       "      <th>4</th>\n",
       "      <td>Interviews from the basic selecting criteria f...</td>\n",
       "      <td>Nowadays many companies conduct interviews bef...</td>\n",
       "      <td>The essay adequately addresses the task by dis...</td>\n",
       "      <td>3.5</td>\n",
       "    </tr>\n",
       "    <tr>\n",
       "      <th>...</th>\n",
       "      <td>...</td>\n",
       "      <td>...</td>\n",
       "      <td>...</td>\n",
       "      <td>...</td>\n",
       "    </tr>\n",
       "    <tr>\n",
       "      <th>9828</th>\n",
       "      <td>Nations should spend more money on skills and ...</td>\n",
       "      <td>These days, many countries use a huge amount o...</td>\n",
       "      <td>The essay addresses the task by discussing the...</td>\n",
       "      <td>6.5</td>\n",
       "    </tr>\n",
       "    <tr>\n",
       "      <th>9829</th>\n",
       "      <td>Nations should spend more money on skills and ...</td>\n",
       "      <td>Skills are required in order to achieve succes...</td>\n",
       "      <td>The candidate has not effectively addressed th...</td>\n",
       "      <td>4.0</td>\n",
       "    </tr>\n",
       "    <tr>\n",
       "      <th>9830</th>\n",
       "      <td>Nations should spend more money on skills and ...</td>\n",
       "      <td>There is a contradictory view among the people...</td>\n",
       "      <td>The essay adequately addresses the given task ...</td>\n",
       "      <td>8.0</td>\n",
       "    </tr>\n",
       "    <tr>\n",
       "      <th>9831</th>\n",
       "      <td>Nations should spend more money on skills and ...</td>\n",
       "      <td>Many today feel that countries should prioriti...</td>\n",
       "      <td>The candidate has effectively addressed the ta...</td>\n",
       "      <td>8.0</td>\n",
       "    </tr>\n",
       "    <tr>\n",
       "      <th>9832</th>\n",
       "      <td>Nations should spend more money on skills and ...</td>\n",
       "      <td>It is argued by many people that the countries...</td>\n",
       "      <td>The essay adequately addresses the given task....</td>\n",
       "      <td>6.5</td>\n",
       "    </tr>\n",
       "  </tbody>\n",
       "</table>\n",
       "<p>9833 rows × 4 columns</p>\n",
       "</div>"
      ],
      "text/plain": [
       "                                                 prompt  \\\n",
       "0     Interviews form the basic criteria for most la...   \n",
       "1     Interviews form the basic selecting criteria f...   \n",
       "2     Interview form the basic selection criteria fo...   \n",
       "3     Interviews form the basic selection criteria f...   \n",
       "4     Interviews from the basic selecting criteria f...   \n",
       "...                                                 ...   \n",
       "9828  Nations should spend more money on skills and ...   \n",
       "9829  Nations should spend more money on skills and ...   \n",
       "9830  Nations should spend more money on skills and ...   \n",
       "9831  Nations should spend more money on skills and ...   \n",
       "9832  Nations should spend more money on skills and ...   \n",
       "\n",
       "                                                  essay  \\\n",
       "0     It is believed by some experts that the tradit...   \n",
       "1     Nowadays numerous huge firms allocate an inter...   \n",
       "2     The interview section is the most vital part o...   \n",
       "3     It is argued that the best method to recruit e...   \n",
       "4     Nowadays many companies conduct interviews bef...   \n",
       "...                                                 ...   \n",
       "9828  These days, many countries use a huge amount o...   \n",
       "9829  Skills are required in order to achieve succes...   \n",
       "9830  There is a contradictory view among the people...   \n",
       "9831  Many today feel that countries should prioriti...   \n",
       "9832  It is argued by many people that the countries...   \n",
       "\n",
       "                                                   text  score  \n",
       "0     The essay effectively addresses the given task...    7.0  \n",
       "1     The candidate has effectively addressed the gi...    5.0  \n",
       "2     The candidate has effectively addressed the gi...    6.5  \n",
       "3     The candidate has adequately addressed the tas...    6.0  \n",
       "4     The essay adequately addresses the task by dis...    3.5  \n",
       "...                                                 ...    ...  \n",
       "9828  The essay addresses the task by discussing the...    6.5  \n",
       "9829  The candidate has not effectively addressed th...    4.0  \n",
       "9830  The essay adequately addresses the given task ...    8.0  \n",
       "9831  The candidate has effectively addressed the ta...    8.0  \n",
       "9832  The essay adequately addresses the given task....    6.5  \n",
       "\n",
       "[9833 rows x 4 columns]"
      ]
     },
     "execution_count": 65,
     "metadata": {},
     "output_type": "execute_result"
    }
   ],
   "source": [
    "task_achievement_df = task_achievement_df[['prompt', 'essay', 'text', 'score']]\n",
    "task_achievement_df"
   ]
  },
  {
   "cell_type": "code",
   "execution_count": 66,
   "metadata": {},
   "outputs": [
    {
     "data": {
      "text/plain": [
       "42"
      ]
     },
     "execution_count": 66,
     "metadata": {},
     "output_type": "execute_result"
    }
   ],
   "source": [
    "nan_count = task_achievement_df.isna().any(axis=1).sum()\n",
    "nan_count"
   ]
  },
  {
   "cell_type": "code",
   "execution_count": 67,
   "metadata": {},
   "outputs": [],
   "source": [
    "task_achievement_df = task_achievement_df[task_achievement_df['text'] != '']"
   ]
  },
  {
   "cell_type": "code",
   "execution_count": 68,
   "metadata": {},
   "outputs": [
    {
     "data": {
      "text/plain": [
       "0"
      ]
     },
     "execution_count": 68,
     "metadata": {},
     "output_type": "execute_result"
    }
   ],
   "source": [
    "task_achievement_df = task_achievement_df.dropna(subset=['score'])\n",
    "nan_count = task_achievement_df.isna().any(axis=1).sum()\n",
    "nan_count"
   ]
  },
  {
   "cell_type": "code",
   "execution_count": 69,
   "metadata": {},
   "outputs": [],
   "source": [
    "csv_path = 'data/Task_Achievement.csv'\n",
    "task_achievement_df.to_csv(csv_path, index=False)"
   ]
  },
  {
   "cell_type": "code",
   "execution_count": 70,
   "metadata": {},
   "outputs": [
    {
     "data": {
      "text/plain": [
       "9791"
      ]
     },
     "execution_count": 70,
     "metadata": {},
     "output_type": "execute_result"
    }
   ],
   "source": [
    "len(task_achievement_df)"
   ]
  }
 ],
 "metadata": {
  "kernelspec": {
   "display_name": "ece1786",
   "language": "python",
   "name": "python3"
  },
  "language_info": {
   "codemirror_mode": {
    "name": "ipython",
    "version": 3
   },
   "file_extension": ".py",
   "mimetype": "text/x-python",
   "name": "python",
   "nbconvert_exporter": "python",
   "pygments_lexer": "ipython3",
   "version": "3.10.14"
  }
 },
 "nbformat": 4,
 "nbformat_minor": 2
}
