{
 "cells": [
  {
   "cell_type": "code",
   "execution_count": 25,
   "metadata": {},
   "outputs": [],
   "source": [
    "import pandas as pd\n",
    "from datasets import load_dataset\n",
    "import re\n",
    "huggingface_ds = load_dataset(\"chillies/IELTS-writing-task-2-evaluation\")['train']\n",
    "huggingface_ds = pd.DataFrame(huggingface_ds)"
   ]
  },
  {
   "cell_type": "code",
   "execution_count": 26,
   "metadata": {},
   "outputs": [
    {
     "data": {
      "text/plain": [
       "9833"
      ]
     },
     "execution_count": 26,
     "metadata": {},
     "output_type": "execute_result"
    }
   ],
   "source": [
    "evaluation = huggingface_ds[\"evaluation\"]\n",
    "evaluation.head()\n",
    "Coherence_df = pd.DataFrame()\n",
    "Coherence_df['prompt'] = huggingface_ds['prompt']\n",
    "Coherence_df['essay'] = huggingface_ds['essay']\n",
    "len(Coherence_df)"
   ]
  },
  {
   "cell_type": "code",
   "execution_count": 27,
   "metadata": {},
   "outputs": [],
   "source": [
    "def extract(text):\n",
    "    start_keyword = \"Coherence and Cohesion\"\n",
    "    end_keyword = \"Lexical Resource\"\n",
    "    start_index = text.find(start_keyword)\n",
    "    end_index = text.find(end_keyword)\n",
    "    if start_index != -1 and end_index != -1:\n",
    "        return text[start_index + len(start_keyword):end_index].strip()\n",
    "    else:\n",
    "        return \"\"\n",
    "\n",
    "def clean_text(text):\n",
    "    cleaned_text = text.replace('*', '').replace('#', '').replace('\\n', '').replace('-', '').replace('*', '').strip()\n",
    "    cleaned_text = cleaned_text.strip(\": -\")\n",
    "    cleaned_text = cleaned_text.replace(\"Suggested Band Score\", \"\").strip()\n",
    "    cleaned_text = cleaned_text.replace(\"(Coherence and Cohesion)\", \"\").strip()\n",
    "    return cleaned_text"
   ]
  },
  {
   "cell_type": "code",
   "execution_count": 28,
   "metadata": {},
   "outputs": [
    {
     "data": {
      "text/plain": [
       "'4.0 The essay is wellorganized and easy to follow, with clear transitions between sentences and paragraphs. The use of connecting words and phrases helps maintain a smooth progression of ideas. The information is presented in a logical sequence, with each paragraph building on the previous one.'"
      ]
     },
     "execution_count": 28,
     "metadata": {},
     "output_type": "execute_result"
    }
   ],
   "source": [
    "Coherence_df['text'] = huggingface_ds[\"evaluation\"].apply(extract)\n",
    "Coherence_df['text'] = Coherence_df['text'].apply(clean_text)\n",
    "Coherence_df['text'][10]"
   ]
  },
  {
   "cell_type": "code",
   "execution_count": 29,
   "metadata": {},
   "outputs": [
    {
     "data": {
      "text/plain": [
       "'The essay lacks a clear structure and organization, with ideas presented in a disjointed manner. Transitions between sentences and paragraphs are often abrupt and unclear. The logical sequence of information is not always evident, making the essay difficult to follow.  : 2.5'"
      ]
     },
     "execution_count": 29,
     "metadata": {},
     "output_type": "execute_result"
    }
   ],
   "source": [
    "Coherence_df['text'][20]"
   ]
  },
  {
   "cell_type": "code",
   "execution_count": 30,
   "metadata": {},
   "outputs": [
    {
     "data": {
      "text/plain": [
       "'[6]The essay is generally wellorganized and easy to follow. The candidate has used transition words and phrases to connect sentences and paragraphs, and the ideas flow logically. However, there are some instances where the transitions could be smoother, and the essay could benefit from more explicit signposting to guide the reader through the different sections.'"
      ]
     },
     "execution_count": 30,
     "metadata": {},
     "output_type": "execute_result"
    }
   ],
   "source": [
    "Coherence_df['text'][30]"
   ]
  },
  {
   "cell_type": "code",
   "execution_count": 31,
   "metadata": {},
   "outputs": [
    {
     "name": "stdout",
     "output_type": "stream",
     "text": [
      "Number of rows with empty '': 0\n"
     ]
    }
   ],
   "source": [
    "empty_string_count = (Coherence_df['text'] == '').sum()\n",
    "print(f\"Number of rows with empty '': {empty_string_count}\")"
   ]
  },
  {
   "cell_type": "code",
   "execution_count": 32,
   "metadata": {},
   "outputs": [
    {
     "data": {
      "text/plain": [
       "0       7.5\n",
       "1       4.5\n",
       "2       6.5\n",
       "3       5.5\n",
       "4       3.0\n",
       "       ... \n",
       "9828    6.5\n",
       "9829    4.0\n",
       "9830    7.5\n",
       "9831    8.5\n",
       "9832    6.0\n",
       "Name: score, Length: 9833, dtype: float64"
      ]
     },
     "execution_count": 32,
     "metadata": {},
     "output_type": "execute_result"
    }
   ],
   "source": [
    "Coherence_df[\"score\"] = Coherence_df['text'].str.extract(r'(\\d+\\.?\\d*)').astype(float)\n",
    "Coherence_df[\"score\"]"
   ]
  },
  {
   "cell_type": "code",
   "execution_count": 33,
   "metadata": {},
   "outputs": [
    {
     "data": {
      "text/plain": [
       "43"
      ]
     },
     "execution_count": 33,
     "metadata": {},
     "output_type": "execute_result"
    }
   ],
   "source": [
    "nan_count = Coherence_df['score'].isna().sum()\n",
    "nan_count"
   ]
  },
  {
   "cell_type": "code",
   "execution_count": 34,
   "metadata": {},
   "outputs": [],
   "source": [
    "def clean_text_v2(text):\n",
    "    cleaned_text = text.replace('*', '').replace('#', '').replace('\\n', '').replace('-', '').replace('*', '').strip()\n",
    "    cleaned_text = re.sub(r\"\\d+\\.*\\d*\", \"\", cleaned_text).strip()\n",
    "    cleaned_text = re.sub(r\"\\[\\d+\\.*\\d*\\]\", \"\", cleaned_text).strip()\n",
    "    cleaned_text = cleaned_text.strip(\": -\")\n",
    "    cleaned_text = cleaned_text.replace(\"Suggested Band Score\", \"\").strip()\n",
    "    cleaned_text = cleaned_text.replace(\"(Coherence and Cohesion)\", \"\").strip()\n",
    "    cleaned_text = cleaned_text.replace(\"[]\", \"\").strip()\n",
    "    return cleaned_text"
   ]
  },
  {
   "cell_type": "code",
   "execution_count": 35,
   "metadata": {},
   "outputs": [],
   "source": [
    "Coherence_df['text'] = Coherence_df['text'].apply(clean_text_v2)"
   ]
  },
  {
   "cell_type": "code",
   "execution_count": 36,
   "metadata": {},
   "outputs": [
    {
     "data": {
      "text/plain": [
       "'The essay is wellorganized and easy to follow, with clear transitions between sentences and paragraphs. The use of connecting words and phrases helps maintain a smooth progression of ideas. The information is presented in a logical sequence, with each paragraph building on the previous one.'"
      ]
     },
     "execution_count": 36,
     "metadata": {},
     "output_type": "execute_result"
    }
   ],
   "source": [
    "Coherence_df['text'][10]"
   ]
  },
  {
   "cell_type": "code",
   "execution_count": 37,
   "metadata": {},
   "outputs": [
    {
     "data": {
      "text/plain": [
       "'The essay lacks a clear structure and organization, with ideas presented in a disjointed manner. Transitions between sentences and paragraphs are often abrupt and unclear. The logical sequence of information is not always evident, making the essay difficult to follow.'"
      ]
     },
     "execution_count": 37,
     "metadata": {},
     "output_type": "execute_result"
    }
   ],
   "source": [
    "Coherence_df['text'][20]"
   ]
  },
  {
   "cell_type": "code",
   "execution_count": 38,
   "metadata": {},
   "outputs": [
    {
     "data": {
      "text/plain": [
       "'The essay is generally wellorganized and easy to follow. The candidate has used transition words and phrases to connect sentences and paragraphs, and the ideas flow logically. However, there are some instances where the transitions could be smoother, and the essay could benefit from more explicit signposting to guide the reader through the different sections.'"
      ]
     },
     "execution_count": 38,
     "metadata": {},
     "output_type": "execute_result"
    }
   ],
   "source": [
    "Coherence_df['text'][30]"
   ]
  },
  {
   "cell_type": "code",
   "execution_count": 39,
   "metadata": {},
   "outputs": [
    {
     "data": {
      "text/html": [
       "<div>\n",
       "<style scoped>\n",
       "    .dataframe tbody tr th:only-of-type {\n",
       "        vertical-align: middle;\n",
       "    }\n",
       "\n",
       "    .dataframe tbody tr th {\n",
       "        vertical-align: top;\n",
       "    }\n",
       "\n",
       "    .dataframe thead th {\n",
       "        text-align: right;\n",
       "    }\n",
       "</style>\n",
       "<table border=\"1\" class=\"dataframe\">\n",
       "  <thead>\n",
       "    <tr style=\"text-align: right;\">\n",
       "      <th></th>\n",
       "      <th>prompt</th>\n",
       "      <th>essay</th>\n",
       "      <th>text</th>\n",
       "      <th>score</th>\n",
       "    </tr>\n",
       "  </thead>\n",
       "  <tbody>\n",
       "    <tr>\n",
       "      <th>0</th>\n",
       "      <td>Interviews form the basic criteria for most la...</td>\n",
       "      <td>It is believed by some experts that the tradit...</td>\n",
       "      <td>The essay is wellorganized and easy to follow....</td>\n",
       "      <td>7.5</td>\n",
       "    </tr>\n",
       "    <tr>\n",
       "      <th>1</th>\n",
       "      <td>Interviews form the basic selecting criteria f...</td>\n",
       "      <td>Nowadays numerous huge firms allocate an inter...</td>\n",
       "      <td>The essay is wellorganized and easy to follow....</td>\n",
       "      <td>4.5</td>\n",
       "    </tr>\n",
       "    <tr>\n",
       "      <th>2</th>\n",
       "      <td>Interview form the basic selection criteria fo...</td>\n",
       "      <td>The interview section is the most vital part o...</td>\n",
       "      <td>The essay is wellorganized and presents a logi...</td>\n",
       "      <td>6.5</td>\n",
       "    </tr>\n",
       "    <tr>\n",
       "      <th>3</th>\n",
       "      <td>Interviews form the basic selection criteria f...</td>\n",
       "      <td>It is argued that the best method to recruit e...</td>\n",
       "      <td>The essay lacks a clear and logical structure,...</td>\n",
       "      <td>5.5</td>\n",
       "    </tr>\n",
       "    <tr>\n",
       "      <th>4</th>\n",
       "      <td>Interviews from the basic selecting criteria f...</td>\n",
       "      <td>Nowadays many companies conduct interviews bef...</td>\n",
       "      <td>The essay lacks coherence and cohesion. Ideas ...</td>\n",
       "      <td>3.0</td>\n",
       "    </tr>\n",
       "    <tr>\n",
       "      <th>...</th>\n",
       "      <td>...</td>\n",
       "      <td>...</td>\n",
       "      <td>...</td>\n",
       "      <td>...</td>\n",
       "    </tr>\n",
       "    <tr>\n",
       "      <th>9828</th>\n",
       "      <td>Nations should spend more money on skills and ...</td>\n",
       "      <td>These days, many countries use a huge amount o...</td>\n",
       "      <td>The essay is generally coherent and cohesive, ...</td>\n",
       "      <td>6.5</td>\n",
       "    </tr>\n",
       "    <tr>\n",
       "      <th>9829</th>\n",
       "      <td>Nations should spend more money on skills and ...</td>\n",
       "      <td>Skills are required in order to achieve succes...</td>\n",
       "      <td>The essay lacks clarity and fluidity in transi...</td>\n",
       "      <td>4.0</td>\n",
       "    </tr>\n",
       "    <tr>\n",
       "      <th>9830</th>\n",
       "      <td>Nations should spend more money on skills and ...</td>\n",
       "      <td>There is a contradictory view among the people...</td>\n",
       "      <td>Transitions between sentences and paragraphs a...</td>\n",
       "      <td>7.5</td>\n",
       "    </tr>\n",
       "    <tr>\n",
       "      <th>9831</th>\n",
       "      <td>Nations should spend more money on skills and ...</td>\n",
       "      <td>Many today feel that countries should prioriti...</td>\n",
       "      <td>The essay flows smoothly with effective transi...</td>\n",
       "      <td>8.5</td>\n",
       "    </tr>\n",
       "    <tr>\n",
       "      <th>9832</th>\n",
       "      <td>Nations should spend more money on skills and ...</td>\n",
       "      <td>It is argued by many people that the countries...</td>\n",
       "      <td>The essay generally maintains a clear and logi...</td>\n",
       "      <td>6.0</td>\n",
       "    </tr>\n",
       "  </tbody>\n",
       "</table>\n",
       "<p>9833 rows × 4 columns</p>\n",
       "</div>"
      ],
      "text/plain": [
       "                                                 prompt  \\\n",
       "0     Interviews form the basic criteria for most la...   \n",
       "1     Interviews form the basic selecting criteria f...   \n",
       "2     Interview form the basic selection criteria fo...   \n",
       "3     Interviews form the basic selection criteria f...   \n",
       "4     Interviews from the basic selecting criteria f...   \n",
       "...                                                 ...   \n",
       "9828  Nations should spend more money on skills and ...   \n",
       "9829  Nations should spend more money on skills and ...   \n",
       "9830  Nations should spend more money on skills and ...   \n",
       "9831  Nations should spend more money on skills and ...   \n",
       "9832  Nations should spend more money on skills and ...   \n",
       "\n",
       "                                                  essay  \\\n",
       "0     It is believed by some experts that the tradit...   \n",
       "1     Nowadays numerous huge firms allocate an inter...   \n",
       "2     The interview section is the most vital part o...   \n",
       "3     It is argued that the best method to recruit e...   \n",
       "4     Nowadays many companies conduct interviews bef...   \n",
       "...                                                 ...   \n",
       "9828  These days, many countries use a huge amount o...   \n",
       "9829  Skills are required in order to achieve succes...   \n",
       "9830  There is a contradictory view among the people...   \n",
       "9831  Many today feel that countries should prioriti...   \n",
       "9832  It is argued by many people that the countries...   \n",
       "\n",
       "                                                   text  score  \n",
       "0     The essay is wellorganized and easy to follow....    7.5  \n",
       "1     The essay is wellorganized and easy to follow....    4.5  \n",
       "2     The essay is wellorganized and presents a logi...    6.5  \n",
       "3     The essay lacks a clear and logical structure,...    5.5  \n",
       "4     The essay lacks coherence and cohesion. Ideas ...    3.0  \n",
       "...                                                 ...    ...  \n",
       "9828  The essay is generally coherent and cohesive, ...    6.5  \n",
       "9829  The essay lacks clarity and fluidity in transi...    4.0  \n",
       "9830  Transitions between sentences and paragraphs a...    7.5  \n",
       "9831  The essay flows smoothly with effective transi...    8.5  \n",
       "9832  The essay generally maintains a clear and logi...    6.0  \n",
       "\n",
       "[9833 rows x 4 columns]"
      ]
     },
     "execution_count": 39,
     "metadata": {},
     "output_type": "execute_result"
    }
   ],
   "source": [
    "Coherence_df = Coherence_df[['prompt', 'essay', 'text', 'score']]\n",
    "Coherence_df"
   ]
  },
  {
   "cell_type": "code",
   "execution_count": 40,
   "metadata": {},
   "outputs": [
    {
     "data": {
      "text/plain": [
       "43"
      ]
     },
     "execution_count": 40,
     "metadata": {},
     "output_type": "execute_result"
    }
   ],
   "source": [
    "nan_count = Coherence_df.isna().any(axis=1).sum()\n",
    "nan_count"
   ]
  },
  {
   "cell_type": "code",
   "execution_count": 41,
   "metadata": {},
   "outputs": [
    {
     "name": "stdout",
     "output_type": "stream",
     "text": [
      "Number of rows with empty '': 0\n"
     ]
    }
   ],
   "source": [
    "empty_string_count = (Coherence_df['text'] == '').sum()\n",
    "print(f\"Number of rows with empty '': {empty_string_count}\")\n",
    "Coherence_df = Coherence_df[Coherence_df['text'] != '']"
   ]
  },
  {
   "cell_type": "code",
   "execution_count": 42,
   "metadata": {},
   "outputs": [
    {
     "data": {
      "text/plain": [
       "0"
      ]
     },
     "execution_count": 42,
     "metadata": {},
     "output_type": "execute_result"
    }
   ],
   "source": [
    "Coherence_df = Coherence_df.dropna(subset=['score'])\n",
    "nan_count = Coherence_df.isna().any(axis=1).sum()\n",
    "nan_count"
   ]
  },
  {
   "cell_type": "code",
   "execution_count": 43,
   "metadata": {},
   "outputs": [
    {
     "data": {
      "text/plain": [
       "9790"
      ]
     },
     "execution_count": 43,
     "metadata": {},
     "output_type": "execute_result"
    }
   ],
   "source": [
    "len(Coherence_df)"
   ]
  },
  {
   "cell_type": "code",
   "execution_count": 44,
   "metadata": {},
   "outputs": [],
   "source": [
    "csv_path = 'data/Coherence.csv'\n",
    "Coherence_df.to_csv(csv_path, index=False)"
   ]
  }
 ],
 "metadata": {
  "kernelspec": {
   "display_name": "ece1786",
   "language": "python",
   "name": "python3"
  },
  "language_info": {
   "codemirror_mode": {
    "name": "ipython",
    "version": 3
   },
   "file_extension": ".py",
   "mimetype": "text/x-python",
   "name": "python",
   "nbconvert_exporter": "python",
   "pygments_lexer": "ipython3",
   "version": "3.10.14"
  }
 },
 "nbformat": 4,
 "nbformat_minor": 2
}
