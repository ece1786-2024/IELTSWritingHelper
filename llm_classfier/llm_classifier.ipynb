{
 "cells": [
  {
   "cell_type": "markdown",
   "metadata": {},
   "source": [
    "## Implement classifier 2: Use few-shot and chain-of-thought to be the classfier"
   ]
  },
  {
   "cell_type": "code",
   "execution_count": 47,
   "metadata": {},
   "outputs": [],
   "source": [
    "import pandas as pd\n",
    "from openai import OpenAI\n",
    "\n",
    "from pprint import pprint\n",
    "\n",
    "\n",
    "model = \"gpt-4o-mini\"\n",
    "\n",
    "try:\n",
    "    with open(\"key.txt\") as f:\n",
    "        key = f.read().strip()\n",
    "except (FileNotFoundError, IOError):\n",
    "    key = \"\"\n",
    "\n",
    "if key:\n",
    "    client = OpenAI(api_key=key)\n",
    "else:\n",
    "    client = OpenAI()"
   ]
  },
  {
   "cell_type": "code",
   "execution_count": 48,
   "metadata": {},
   "outputs": [
    {
     "name": "stdout",
     "output_type": "stream",
     "text": [
      "Prompt: Some people think that children should be taught at school to recycle materials and avoid waste. Other people believe that children should be taught this at home. Discuss both opinions and give your own opinion.\n",
      "\n",
      "Essay: Green energy is been regarded as the future energy for mankind, moreover,the fundamentals of achieving the same rely on reprocessing the waste. While some argue this should be educated at school level and others would like this initiative done from their homes. In this essay, we shall discuss both views and state my opinion.\n",
      "\n",
      "On one hand, schools have been institutional in developing children cognitive skills therefore all good behaviours are cultivated here. While waste management is a profound topic and requires an in-depth analysis of how the process works or implemented. Furthermore, tutors have authority over their pupils hence they pick up subject matters efficiently. Educational institute emphasis on reusing most of the resources at school, adding to this, student comprehend the reason and significance of reducing waste such as plastic and glass. For instance, Science as a subject, demonstrates the impact of plastic and non-biodegradable materials on earth’s soil, as these take up nearly million years to decompose, consequently converting these materials to toxic and destroying mother nature.\n",
      "\n",
      "On the other hand, young people often look up to their parents as inspiration to learn life skills. As they spend quality time at home, all behavioural attributes of kids are related to  them, so they should bring upon the habits of recycling waste at home. For example, when parents bring thumb rule of segregating waste at their homes, children at young age practice to keep waste as per the category and this behaviour can be carried across at various places like parks, social events, and public transport. As a result, children are instilled with the habit of re-cycling and segregating waste at an early age\n",
      "\n",
      "To conclude, education on recycling waste can be beneficial as it explains the impacts on the environment and what could be done to avoid this catastrophe. Also,parenting should ensure their children learn the habit of separating waste at home. In my opinion, both methodologies must be implemented to have a better future.\n",
      "\n",
      "Comment: The essay demonstrates a good attempt at organizing information around the topic of recycling education. It maintains clear paragraphing, with each paragraph discussing a central idea related to either school or home education. However, some linking devices are used inconsistently, leading to occasional confusion, such as \"while waste management is a profound topic.\" The transition between ideas could be smoother. Additionally, referencing is present but not always executed clearly, for example, using \"these materials\" without precise antecedents. Overall, the essay has a logical flow but could benefit from improved transitions and clearer references to enhance coherence.\n"
     ]
    }
   ],
   "source": [
    "with open(\"few_shot6.txt\") as f:\n",
    "    example6 = f.read()\n",
    "\n",
    "with open(\"few_shot8.txt\") as f:\n",
    "    example8 = f.read()\n",
    "\n",
    "print(example8)"
   ]
  },
  {
   "cell_type": "code",
   "execution_count": 49,
   "metadata": {},
   "outputs": [],
   "source": [
    "category = [\"Task Achievement\", \"Coherence and Cohesion\", \"Lexical Resource\", \"Grammatical Range and Accuracy\"]\n",
    "task = (\n",
    "    \"Band Score 5: - Does not completely address the task. - May follow the general topic but not the specific issue in the essay question. - There is a position but it is not always clear. - Any opinion given is unclear. - Possibly no conclusion. - Main ideas are not developed. - Some irrelevant detail.\"\n",
    "    \"Band Score 6: - Addresses the task – both the topic and issue are addressed. - Presents a relevant position. - Any opinion given is clear. - There is a conclusion – it may be repetitive or unclear. - Main ideas are relevant. - Ideas are not developed enough.\"\n",
    "    \"Band Score 7: - Addresses all parts of the task. - All issues in the question are answered. - Presents a clear position throughout the essay. - Any opinion given is supported in all paragraphs in the essay. - Main ideas are relevant. - Ideas are developed but there may be a lack of focus with supporting ideas or over generalisation.\"\n",
    "    \"Band Score 8: - Sufficiently addresses all parts of the task. - All issues in the essay question are answers well. - Presents a clear position throughout the essay. - Any opinion given is supported in all paragraphs in the essay. - Main ideas are relevant. - Ideas are developed, extended and well supported.\"\n",
    ")\n",
    "\n",
    "coherence = (\n",
    "    \"Band Score 5: - There is some organisation but may not use paragraphs. - Uses linking devices but with mistakes or inappropriate use. - May be repetitive due to lack of referencing.\",\n",
    "    \"Band Score 6: - Organised information coherently. - Uses paragraphs but not always logically. - Uses linking devices effectively but there may be errors in linking between and within sentence. - Uses referencing but not always clearly.\",\n",
    "    \"Band Score 7: - Logically organises information. - Good paragraphing. - Has one central topic for each paragraph. - Uses a range of linking devices. - May over or under use linking devices. - Good referencing.\",\n",
    "    \"Band Score 8: - Information and ideas are organised logically. - Paragraphing is sufficient and appropriate. - Manages all aspects of linking and cohesion. - No problems with referencing.\"\n",
    ")\n",
    "\n",
    "lexical = (\n",
    "    \"Band Score 5: - Minimal range of vocabulary for the task. - Frequent errors with spelling or word formation. - Problems cause difficulty for the reader.\"\n",
    "    \"Band Score 6: - Adequate range of vocabulary for the task. - Uses some less common words but with errors. - Some errors in spelling and word formation. - Communication is clear.\"\n",
    "    \"Band Score 7: - A sufficient range of vocabulary for some precision. - Uses less common words. - Some awareness of style and collocations. - Occasional errors in spelling or word choice.\"\n",
    "    \"Band Score 8: - A wide range of vocabulary for precise meaning. - Skillfully uses less common words. - Rare errors in spelling or word formation.\"\n",
    ")\n",
    "\n",
    "grammar = (\n",
    "    \"Band Score 5: - Limited range of sentence structures. - Tries to use complex sentences with limited success. - Frequent errors in grammar. - Errors in punctuation. - Problems cause difficulty for the reader.\",\n",
    "    \"Band Score 6: - Uses both simple and complex sentence structures. - Some errors in grammar. - Some errors in punctuation. - Communication is clear.\",\n",
    "    \"Band Score 7: - Uses a variety of complex sentence structures. - Many error free sentences. - Good control over grammar. - Occasional errors in grammar or punctuation.\",\n",
    "    \"Band Score 8: - Uses a wide range of complex structures. - Most sentences are free of errors.\"\n",
    ")\n",
    "\n",
    "criteria = [task, coherence, lexical, grammar]"
   ]
  },
  {
   "cell_type": "code",
   "execution_count": 50,
   "metadata": {},
   "outputs": [],
   "source": [
    "# Coherence 8.5\n",
    "input1 = \"\"\"Prompt: Some people believe that robots will play an important role in future societies, while others argue that robots might have negative effects on society. Discuss both views and give your opinion\n",
    "\n",
    "Essay: The advancement of technology is seen in almost all part of human life. This has caused contrasting views, with some people believing that there is more profit to society if machines play substantial roles, and others arguing otherwise. I am inclined to agree with the latter, as heavy dependence on robots will lead to an inactive lifestyle, and also a high rate of unemployment is another problem that will be faced. \n",
    "\n",
    "On one hand, Machines can prove very effective in areas that require repetition and also tasks such as lifting heavy objects. This is useful, particularly in the manufacturing industry. Moreover, Audi, a foremost automobile company, already uses robots to assemble its newest release of cars.  Furthermore, these mechanical bodies couple over 1,000 vehicles in a day, such a task will be arduous for humans.\n",
    "\n",
    "On the other hand, machines pose a number of demerits. Firstly, high dependence on these mechanical objects can lead to a sedentary lifestyle. For example, in ,Japan many people no longer walk to go shopping, as drones have been provided by many shop vendors. Consequently, this leads to health-related problems, such as spinal curvature, and this does not portend well for  society. Secondly, a pro-machine community will lead to a high rate of joblessness, as employers find these mechanical bodies more efficient and cheaper. For instance, in India reports show that many employees are replaced by their lifeless counterparts and this will only increase over time. There is already a cry among the population due to the high rate of retrenchment by companies.\n",
    "\n",
    "To conclude, robots have their own usefulness especially when it comes to carrying out mundane tasks. However, the negative impacts such as laziness and joblessness they cause to  society do not make them admirable as they are perceived.\n",
    "\n",
    "Coherence and Cohesion Comment: The essay is well-organized with clear transitions between sentences and paragraphs. The logical sequence of ideas is maintained throughout the essay, and connecting words and phrases are used effectively to create a smooth progression of ideas.\"\"\""
   ]
  },
  {
   "cell_type": "code",
   "execution_count": 51,
   "metadata": {},
   "outputs": [],
   "source": [
    "# Coherence 8.0\n",
    "input2 = \"\"\"Prompt: Interviews form the basic selection criteria for most large companies. However some people think that interview is not a reliable method of choosing whom to employ.To what extent do you agree or disagree?\n",
    "Essay: Job interviews are commonly undertaken by companies of all sizes seeking candidates to fill a role. They often consist of dialogues between a Human Resources representative of these organisations and the professional interested in the position. During the conversation, the applicant's profile in terms of qualifications, skills and work experience is assessed against the criteria and employer’s expectations. However, some people argue this approach is insufficient for capturing the right employee. In my opinion, to ensure a more accurate hiring process, other methodologies should be explored along with interviews, such as group activities and personality quizzes.\n",
    "\n",
    "The importance of interviews when it comes to selecting new individuals to integrate a team cannot be dinned. It has proved to be the most traditional and practical framework largely adopted worldwide. They can offer vital insights about an applicant and lead to more informed decisions. However, individuals often act like robots when being interviewed, answering questions in a way recruiters will be happy about. In this sense, other approaches should be introduced for a more holistic understanding of the candidate's capabilities.\n",
    "\n",
    "Modern organisations are already introducing new techniques to choose4 the best matches for their teams. These contemporary assessments evaluate professionals during activities designed to capture the candidate's behaviour in complex situations where pressure and conflicts are common.  In this case, applicants tend to express their real selves, values and logical thinking. The findings are often combined with the interview results in a profile-matching exercise.\n",
    "\n",
    "Another way to further assess the job seekers' profiles is by assigning them personality quizzes. Quizzes are powerful tools that can be used to gather information about a professional’s strengths and weaknesses. In addition, these tests can detect which professionals can naturally act like mediators and which need to be led by others. Thus, they can assist in allocating workers to the right team and role.\n",
    "\n",
    "In conclusion, interviews will always be important as they are still insightful, simple, and straightforward, demanding minimum resources to be executed. Nevertheless, when combined with other methodologies, the hiring process may become more precise and efficient. In this case, companies need to invest time and money to introduce these complementary approaches, which may make sense for some businesses and positions but not the majority.\n",
    "\n",
    "Comment: The essay is wellorganized and easy to follow, with clear transitions between sentences and paragraphs. Connecting words and phrases are used effectively to maintain a smooth progression of ideas. The logical sequence of information is maintained throughout the essay, with each paragraph building upon the previous one. The overall organization and structural integrity of the text are strong.\"\"\""
   ]
  },
  {
   "cell_type": "code",
   "execution_count": 52,
   "metadata": {},
   "outputs": [],
   "source": [
    "# Coherence 6.0\n",
    "input3 = \"\"\"Prompt: The increase in the production of consumer goods results in damage to the natural environment. What are the causes of this? What can be done to solve this problem?\n",
    "\n",
    "Essay: It is believed that the natural environment is destroyed by the growth of product consumption. In my opinion, one of the reasons is the increasing demand for people consumption lead to escalate industrial waste amounts emit into the atmosphere. This problem results from the substantial number of causes to which several solutions will be proposed in this essay.  \n",
    "\n",
    "On the one hand, the world’s population is increasing day by day, which is one of reason for pollution. As the growth of population, we are not using natural resources. It is believed that nothing can save when a human change their mind about safe their life environment. The industrial activities are the way to cause the air pollution and water pollution, which would damage the marine and terrestrial animals. The fact that deforestation to get the wood to make the furniture would lead to the soil erosion. There is some the solution of goods consuming, the politicians impose punishment on companies that harm to the environment during the production process.\n",
    "\n",
    "On the other hand, oil exploitation is a way to depletion of natural resources. For instance, some famous brands of drinks started an activity that the drink will be discounted if the costumers bring their own cup. There are very good idea for reducing the goods in plastic and raise awareness for the residents, which encourage them using eco-friendlier product. It creates a good habit for people to save the community environment.\n",
    "\n",
    "To conclude, the government and people need to join a hand in manufacturing process more environmentally friendly. Having awareness of the environment will bring a healthier, cleaner and convenient accommodation for residents.\n",
    "\n",
    "Comment: The essay lacks a logical flow of ideas and transitions between sentences and paragraphs are unclear. Connecting words and phrases are used inconsistently, affecting the smooth progression of ideas. The overall organization of the essay is weak.\"\"\""
   ]
  },
  {
   "cell_type": "code",
   "execution_count": 53,
   "metadata": {},
   "outputs": [],
   "source": [
    "# Coherence 7.0\n",
    "input4 = \"\"\"Prompt: If a product is good or it meets people's needs, people will buy it. So advertising is unnecessary and no more than entertainment. Do you agree or disagree?\n",
    "\n",
    "Essay: In the modern world, the masses purchase only those things which are of great quality and meet their requirements. Therefore, folks believe that adverts are no longer needed and just a source of entertainment. I completely disagree with the notion because advertisements help people to know about new products and it influences them.\n",
    "\n",
    "To commence with, if companies advertise their products, then the customers would come to know about their newly launched product. They not only gain information about its features, but also tell them how to use it. So, that is why advertisements are needed. For example, Apple is a renowned brand in mobile-phone and mainly known for its quality products. Recently, according to their in-house survey, it is found that there is a fifty percent decline in the sale of the newly launched phone despite its build because they did not do any promotions. Hence, advertisement plays a pivotal role to sell new products.\n",
    "\n",
    "Moreover, commercials also support the companies to push the customers to buy their goods because there is a huge competition in the market among the companies, and the number of high-quality products is available to purchase. Thus to boost the sale adverts are essential. For instance, in Inida, there are two big brands namely Bajaj and Hero Honda, who manufacture bikes. Their equipment is equally good, so to convince the folks to buy their product and boost its sale, they promote it. Thereby, it is apparent that advertising is vital to selling things.\n",
    "\n",
    "To summarize, advertisements are important even if the product quality is good. In my opinion, it informs the masses about new launches as well as help them to choose the right product.\n",
    "\n",
    "Comment: The essay exhibits a logical sequence of ideas, with clear transitions between sentences and paragraphs. Connecting words and phrases are used effectively to maintain a smooth progression of thought. The overall organization and structural integrity of the text are wellmaintained.\"\"\""
   ]
  },
  {
   "cell_type": "code",
   "execution_count": 54,
   "metadata": {},
   "outputs": [],
   "source": [
    "# Coherence 7.0\n",
    "student = \"\"\"Prompt: Some people think that the best way to solve global environment problems is to increase the cost of fuel. To what extent do you agree or disagree?\n",
    "\n",
    "Student Essay: Nowadays environmental issues are increasing more and more and this is mainly because of carbon dioxide emission from vehicles. Considering that many are suggesting the rise in the petrol price will solve this issue. In this essay I will be discussing why I disagree with this statement.\n",
    "\n",
    "To begin with, we can not deny that the cardinal reason for many environmental problems is fossil fuels. Therefore, by increasing the price of oil the use of private cars or jets will decline . Therefore,  air pollution and carbon emission will decrease. For instance,the government of New Zealand in 2018 increased the price of petrol, so people started using public transportation and walking instead of using cars. As a result air pollution decreased by 40% . Indeed this is evidence that rising the price of oil will eventually help in environmental issues.\n",
    "\n",
    "However, increasing the price of oil will lead to an increase in food ,grocery, clothes and other necessary things. Therefore, this will mainly harm the middle class and poor families.The rich people will not be affected by this. And as a result the poverty rate will increase.instead governments should encourage their citizens to use eco-friendly cars that use alternative fuels or produce less harm than cars that run on gasoline or diesel .moreover, using alternative power sources such as solar power wend to produce energy which is widely used in development countries such as japan.\n",
    "\n",
    "In conclusion, the rise in the price of petrol may help to limit environmental damage but it will cause major harm to the middle class and poor communities. \"\"\"\n",
    "\n",
    "gold = \"The essay is wellorganized, with clear transitions between paragraphs.  Linking devices are used effectively to connect ideas.  The flow of information is logical and easy to follow.\"\n",
    "\n",
    "new_comment = \"Comment: The essay presents a clear structure with an introduction, body paragraphs, and a conclusion. Transition words and phrases are used somewhat effectively to connect ideas, although there are instances where the flow could be improved, such as the use of \\\"therefore\\\" in quick succession. Some sentences could benefit from rephrasing to enhance clarity and coherence. The overall organization is logical, but a smoother progression between arguments is needed to strengthen the connections between thoughts.\""
   ]
  },
  {
   "cell_type": "code",
   "execution_count": 55,
   "metadata": {},
   "outputs": [],
   "source": [
    "# Coherence 8.5\n",
    "student2 = \"\"\"Prompt: Some people believe that the government should continuously support the development of arts. Others believe that the money can be well spent on scientific research. Discuss both and give your own opinion.\n",
    "\n",
    "Student Essay: Nowadays distribution of wealth by the concerned authorities has become an issue of great concern. Some argue that promoting arts is essential for us, whereas others think that research and development in the field of science are more important. I would argue that both things are of paramount importance for the development of a nation. This essay will explore both sides of an issue in detail.\n",
    "\n",
    "Art is of paramount importance in building great nations because of several reasons. To begin with, it depicts the culture and traditions of a particular region or country. It means that any country which remembers its origin remains important in the eyes of its residents. To add to it, art enhances creativity in individuals. If a person is more creative, he will also perform better in other fields of life as well. Thus, governing bodies should allocate more budget for the activities which are related to arts such as cultural shows and exhibitions.\n",
    "\n",
    "Research in scientific fields is also associated with several benefits. Firstly, we are living in the age of technology, therefore, progression in developing new technology is really necessary to reap more benefits from it. Another main reason is that with the development of technology, our survival has become more difficult over time. For instance, the world has faced the issue of the covid pandemic in recent years which shows that we are also suffering from various new diseases, so new vaccines or medicines are also required to limit them. This can only be achieved if the government gives more financial resources in the form of research allowances for scientists or building new research laboratories.\n",
    "\n",
    "In conclusion, I would argue that policymakers must provide resources for arts and scientific achievements so that society can flourish. Providing equal opportunities to both sides bring many significant advantages. \"\"\"\n",
    "\n",
    "gold2 = \"The essay is wellorganized with clear transitions between sentences and paragraphs. Connecting words and phrases are used effectively to maintain a smooth progression of ideas. The logical sequence and arrangement of information enhance the overall coherence of the text.\"\n",
    "\n",
    "new_comment2 = \"\"\"Comment: The essay is reasonably well-organized, presenting a clear structure with an introduction, body paragraphs, and a conclusion. Each paragraph addresses distinct aspects of the topic, contributing to a logical progression of ideas. The use of linking devices is present but could be improved, as some transitions feel abrupt and could benefit from greater fluidity between sentences and between paragraphs. The referencing of ideas, such as \"Art is of paramount importance\" or \"research in scientific fields,\" is appropriately done, but the overall cohesion could be enhanced by varying the vocabulary and using more synonyms. Overall, while the essay has a coherent structure, further development of linking phrases and a more varied vocabulary would improve the clarity and flow of the response.\"\"\""
   ]
  },
  {
   "cell_type": "code",
   "execution_count": 56,
   "metadata": {},
   "outputs": [],
   "source": [
    "# Coherence 8.0 LLM: 8.0\n",
    "student3 = \"\"\"Prompt: Some experts believe that when a country is already rich, any additional increase in economic wealth does not make its citizens any more satisfied. To what extent do you agree or disagree?\n",
    "\n",
    "Student Essay: It is widely thought that people living in overdeveloped countries cannot be more content with any further economic advancement. From my perspective, I totally agree with this statement for the following reasons.\n",
    "\n",
    "Firstly, it is important to acknowledge a fact that the advancement in national prosperity is directly proportional to the expenses of commodities. Undeniably, the more thriving the citizens of a country are, the more extravagant the products and services become, and the harder the lives of the needy could be. Hence, the enrichment of a state is not always synonymous with the guarantee of betterment in living standards. An example of this justification is India, where a significant number of residents live in poor conditions due to the difficulties in accessing products and services which are essential to their well-being.\n",
    "\n",
    "Another point that needs to be taken into consideration is that economic success is not the sole constituent of satisfaction. In fact, several countries in the world have focused on their people’s mental wholesomeness, which can partially be obtained by granting them opportunities to enjoy lives via social welfare and other benefits, as a new priority since that is an indispensable aspect of life apart from monetary richness. Therefore, not only do they become materially satisfied but also mentally fulfilled. For instance, Canada has an effective welfare system that enables its citizens to work for a fixed and reasonable amount of time weekly so that they will have more time to spend with families and friends without overthinking about work and personal financial issues.\n",
    "\n",
    "In conclusion, a mere additional increase in economic wealth in developed countries hardly satisfies their citizens any further for the aforementioned reasons. \"\"\"\n",
    "\n",
    "gold3 = \"The essay is wellorganized, with clear transitions between sentences and paragraphs. Connecting words and phrases are used effectively to maintain a smooth progression of ideas. The logical sequence and arrangement of information are maintained throughout the essay. 8.0\"\n",
    "\n",
    "new_comment3 = \"\"\"The essay demonstrates a clear organizational structure, featuring an introduction, body paragraphs, and a conclusion that collectively articulate the writer's viewpoint. Each paragraph is logically connected to the main thesis, effectively presenting related ideas in a cohesive manner. The use of linking devices is evident and contributes positively to the flow of information, enhancing the overall cohesiveness of the text. References to examples are clearly made, allowing for better comprehension of the discussed points and their relevance to the argument. Overall, the essay effectively presents a logical progression of ideas, ensuring clarity and coherence throughout.\"\"\""
   ]
  },
  {
   "cell_type": "code",
   "execution_count": 57,
   "metadata": {},
   "outputs": [],
   "source": [
    "# Coherence 6.0  LLM: 7.0 - 7.5\n",
    "student4 = \"\"\"\"Prompt: Nowadays more and more people want to get things done instantly (services, information, tasks). Why is this? Do you think it is a positive or negative development? Write at least 250 words.\n",
    "\n",
    "Student Essay: In current times, the majority of individuals seem to want things to be done immediately. This concerns social services and data which they are provided with, as well as the tasks that are in need to be completed as soon as possible. Some people claim that this means our society is developing rapidly, which is favourable, however, others believe that this occurrence holds numerous negative consequences too. Due to various the opinions each party hold, the following essay will discuss both sides and present a proper summary.\n",
    "\n",
    "On the one hand, because of getting their services done straight away, the general public benefits by saving time for the completion of other responsibilities for the rest of the day. As a result, they tend to feel productive and encouraged to work. Furthermore, by consuming more data human beings expand their knowledge in order to correspond to the contemporary standards of intelligence.\n",
    "\n",
    "Turning to the other side of the argument, by thinking of the future constantly, and by not being in the moment, humans are at risk of neglecting reality, along with that, simple, but spectacular things are losing their value. What people should call to their minds is that beauty is in small things. Moreover, not only does society underrate stunning appearances, but also brings damage to their mental state. It is undeniable that informational overdose affects negatively the brain system and makes one feel overwhelmed and stressed. \n",
    "\n",
    "To conclude, I admit that it is essential not to waste time, especially in the modern world where time is a costly resource. However, it is also crucial to enjoy little things and not overload yourself.\"\"\"\n",
    "\n",
    "gold4 = \"ransitions between sentences and paragraphs are generally clear, but some sentences could be better connected for smoother flow. Connecting words and phrases are used effectively in most parts of the essay, but there are a few instances where transitions could be improved. The logical sequence of information is mostly maintained, but some ideas could be rearranged for better coherence.6.0\"\n",
    "\n",
    "new_comment4 = \"The essay is fairly organized, with a clear introduction, body paragraphs addressing different viewpoints, and a conclusion. Each paragraph presents a logical connection to the previous one, creating a coherent flow of ideas. Linking devices such as \\\"on the one hand\\\" and \\\"turning to the other side\\\" are effectively used, contributing to the cohesiveness of the text. There is adequate referencing throughout the essay, as the author consistently refers back to the main themes and arguments. Overall, the organization, logical connections, and use of cohesive devices effectively facilitate understanding and maintain a smooth progression of ideas.\""
   ]
  },
  {
   "cell_type": "code",
   "execution_count": 89,
   "metadata": {},
   "outputs": [
    {
     "name": "stdout",
     "output_type": "stream",
     "text": [
      "Provide band score on the 'Coherence and Cohesion' aspect of an IELTS Task 2 Writing response. For the input, 'Prompt' as the test question and the 'Essay' as the test taker's written response. A seperate agent had generated 'Comments' for 'Coherence and Cohesion' for the student response. Consider the following criteria for 'Coherence and Cohesion': ('Band Score 5: - There is some organisation but may not use paragraphs. - Uses linking devices but with mistakes or inappropriate use. - May be repetitive due to lack of referencing.', 'Band Score 6: - Organised information coherently. - Uses paragraphs but not always logically. - Uses linking devices effectively but there may be errors in linking between and within sentence. - Uses referencing but not always clearly.', 'Band Score 7: - Logically organises information. - Good paragraphing. - Has one central topic for each paragraph. - Uses a range of linking devices. - May over or under use linking devices. - Good referencing.', 'Band Score 8: - Information and ideas are organised logically. - Paragraphing is sufficient and appropriate. - Manages all aspects of linking and cohesion. - No problems with referencing.') Only include the band score, or range of suggested band score in the response. If provide a range, the difference should not exceed 0.5 range.Response in this format: 6.0, or 7.5 - 8.0 \n",
      "\n",
      "Here is the student response the comments for this category (that you should mark):\n",
      "Prompt: The increase in the production of consumer goods results in damage to the natural environment. What are the causes of this? What can be done to solve this problem?\n",
      "\n",
      "Essay: It is believed that the natural environment is destroyed by the growth of product consumption. In my opinion, one of the reasons is the increasing demand for people consumption lead to escalate industrial waste amounts emit into the atmosphere. This problem results from the substantial number of causes to which several solutions will be proposed in this essay.  \n",
      "\n",
      "On the one hand, the world’s population is increasing day by day, which is one of reason for pollution. As the growth of population, we are not using natural resources. It is believed that nothing can save when a human change their mind about safe their life environment. The industrial activities are the way to cause the air pollution and water pollution, which would damage the marine and terrestrial animals. The fact that deforestation to get the wood to make the furniture would lead to the soil erosion. There is some the solution of goods consuming, the politicians impose punishment on companies that harm to the environment during the production process.\n",
      "\n",
      "On the other hand, oil exploitation is a way to depletion of natural resources. For instance, some famous brands of drinks started an activity that the drink will be discounted if the costumers bring their own cup. There are very good idea for reducing the goods in plastic and raise awareness for the residents, which encourage them using eco-friendlier product. It creates a good habit for people to save the community environment.\n",
      "\n",
      "To conclude, the government and people need to join a hand in manufacturing process more environmentally friendly. Having awareness of the environment will bring a healthier, cleaner and convenient accommodation for residents.\n",
      "\n",
      "Comment: The essay lacks a logical flow of ideas and transitions between sentences and paragraphs are unclear. Connecting words and phrases are used inconsistently, affecting the smooth progression of ideas. The overall organization of the essay is weak.\n"
     ]
    }
   ],
   "source": [
    "chain_of_thoughts = \"\"\" Try to score the student response with step by step thinging:\n",
    "1. Are the ideas presented in a clear and logical order?\n",
    "2. Is the essay divided into well-organized paragraphs? An ideal Task 2 essay typically has 4 - 5 paragraphs (introduction, 2 - 3 body paragraphs, conclusion).\n",
    "3. Are linking words and phrases used appropriately?\n",
    "4. Are referencing techniques (pronouns, synonyms) used to avoid repetition?\n",
    "5. Does the essay \"stick together\" as a whole?\n",
    "\"\"\"\n",
    "\n",
    "Prompt = (\n",
    "    f\"Provide band score on the '{category[1]}' aspect of an IELTS Task 2 Writing response. \"\n",
    "    f\"For the input, 'Prompt' as the test question and the 'Essay' as the test taker's written response. A seperate agent had generated 'Comments' for '{category[1]}' for the student response. \"\n",
    "    f\"Consider the following criteria for '{category[1]}': {criteria[1]} \"\n",
    "    # f\"Based on the student's response, and the comments, according to the marking scheme above, provide a band score for this '{category[1]}' \\n\\n\"\n",
    "    # \"Here's a band score 6.5 student response: \\n\"\n",
    "    # f\"{example6}\\n\"\n",
    "    # \"Here's a band score 8 student response: \\n\"\n",
    "    # f\"{example8}\\n\\n\"\n",
    "    # f\"{chain_of_thoughts}\\n\\n\"\n",
    "    \"Only include the band score, or range of suggested band score in the response. If provide a range, the difference should not exceed 0.5 range.\"\n",
    "    \"Response in this format: 6.0, or 7.5 - 8.0 \\n\\n\"\n",
    "    \"Here is the student response the comments for this category (that you should mark):\\n\"\n",
    "    # f\"{student4}\\n{new_comment4}\"\n",
    "    f\"{input3}\"\n",
    ")\n",
    "\n",
    "print(Prompt)\n"
   ]
  },
  {
   "cell_type": "code",
   "execution_count": 90,
   "metadata": {},
   "outputs": [],
   "source": [
    "completion = client.chat.completions.create(\n",
    "    model=\"gpt-4o-mini\",\n",
    "    messages=[\n",
    "        {\"role\": \"system\", \"content\": \"You are a IELTS Writing Task 2 grader\"},\n",
    "        {\"role\": \"user\", \"content\": Prompt}\n",
    "    ]\n",
    ")\n",
    "\n",
    "content = completion.choices[0].message.content"
   ]
  },
  {
   "cell_type": "code",
   "execution_count": 91,
   "metadata": {},
   "outputs": [
    {
     "name": "stdout",
     "output_type": "stream",
     "text": [
      "'5.5 - 6.0'\n"
     ]
    }
   ],
   "source": [
    "pprint(content)"
   ]
  }
 ],
 "metadata": {
  "kernelspec": {
   "display_name": "ece1786",
   "language": "python",
   "name": "python3"
  },
  "language_info": {
   "codemirror_mode": {
    "name": "ipython",
    "version": 3
   },
   "file_extension": ".py",
   "mimetype": "text/x-python",
   "name": "python",
   "nbconvert_exporter": "python",
   "pygments_lexer": "ipython3",
   "version": "3.10.15"
  }
 },
 "nbformat": 4,
 "nbformat_minor": 2
}
