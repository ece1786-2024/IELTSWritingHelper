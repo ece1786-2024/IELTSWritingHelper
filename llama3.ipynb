{
 "cells": [
  {
   "cell_type": "code",
   "execution_count": 28,
   "metadata": {},
   "outputs": [],
   "source": [
    "import pandas as pd\n",
    "from datasets import Dataset\n",
    "from transformers import AutoTokenizer, AutoModelForSequenceClassification\n",
    "import torch\n",
    "from transformers import pipeline\n",
    "from sklearn.model_selection import train_test_split\n",
    "import tqdm"
   ]
  },
  {
   "cell_type": "code",
   "execution_count": null,
   "metadata": {},
   "outputs": [
    {
     "name": "stdout",
     "output_type": "stream",
     "text": [
      "Memory Allocated: 0.0 MB\n",
      "Memory Reserved: 0.0 MB\n"
     ]
    }
   ],
   "source": [
    "import torch\n",
    "import gc\n",
    "# Clear cache\n",
    "\n",
    "# For debugging purposes, check memory stats\n",
    "print(f\"Memory Allocated: {torch.cuda.memory_allocated() / 1e6} MB\")\n",
    "print(f\"Memory Reserved: {torch.cuda.memory_reserved() / 1e6} MB\")\n",
    "torch.cuda.empty_cache()\n",
    "gc.collect()\n",
    "torch.cuda.reset_peak_memory_stats()\n",
    "model_path = \"andrijdavid/Llama-3-1B-Base\"\n",
    "llama3_model_path = \"meta-llama/Llama-3.2-1B\"\n",
    "file_path = \"./data/combined_dataset.csv\"\n",
    "\n",
    "def create_input_text(row):\n",
    "    return (\n",
    "        f\"\"\"You are a member of the IELTS essay evaluation committee.\n",
    "        Your task is to evaluate the essay based on the given prompt and assign it a score\n",
    "        between 4 and 9 (in 0.5 increments). There is also a '<4' class, thus a total of 12 classes.\n",
    "        Provide only the score or '<4' as your response. Think step by step why this essay is good or bad.\n",
    "        \"Prompt: {row['prompt']}\\nEssay: {row['essay']}\"\"\"\n",
    "    )\n",
    "\n",
    "def map_band_to_class(band):\n",
    "    if band ==  \"<4\":\n",
    "        return band_to_class['<4']\n",
    "    return band_to_class[str(band)]\n",
    "\n",
    "def tokenize_function(example):\n",
    "    return tokenizer(\n",
    "        example[\"input_text\"],\n",
    "        padding=\"max_length\",\n",
    "        truncation=True,\n",
    "        max_length=512\n",
    "    )\n",
    "\n",
    "band_classes = ['<4'] + ['4', '4.5', '5', '5.5', '6', '6.5', '7', '7.5', '8', '8.5', '9'] \n",
    "band_to_class = {band: i for i, band in enumerate(band_classes)}  # Band → Class\n",
    "class_to_band = {i: band for band, i in band_to_class.items()}  # Class → Band\n",
    "\n",
    "# Map bands to classes\n",
    "def map_band_to_class(band):\n",
    "    if band ==  \"<4\":\n",
    "        return band_to_class['<4']\n",
    "    return band_to_class[str(band)]\n",
    "\n",
    "def tokenize_function(example):\n",
    "    return tokenizer(\n",
    "        example[\"input_text\"],\n",
    "        padding=\"max_length\",\n",
    "        truncation=True,\n",
    "        max_length=512\n",
    "    )"
   ]
  },
  {
   "cell_type": "code",
   "execution_count": 21,
   "metadata": {},
   "outputs": [],
   "source": [
    "# from transformers import AutoModelForCausalLM, AutoTokenizer\n",
    "\n",
    "# # Path to your model directory\n",
    "# model_path = \"andrijdavid/Llama-3-1B-Base\"\n",
    "\n",
    "# # Load the tokenizer and model\n",
    "# tokenizer = AutoTokenizer.from_pretrained(llama3_model_path)\n",
    "# model = AutoModelForCausalLM.from_pretrained(llama3_model_path)\n",
    "\n",
    "# # Test the model\n",
    "# prompt = \"The key to life is\"\n",
    "# inputs = tokenizer(prompt, return_tensors=\"pt\")\n",
    "# outputs = model.generate(**inputs, max_length=50)\n",
    "\n",
    "# # Decode the generated text\n",
    "# print(tokenizer.decode(outputs[0], skip_special_tokens=True))"
   ]
  },
  {
   "cell_type": "markdown",
   "metadata": {},
   "source": [
    "### Prepare Test Dataset"
   ]
  },
  {
   "cell_type": "code",
   "execution_count": 22,
   "metadata": {},
   "outputs": [],
   "source": [
    "# import pandas as pd\n",
    "# from datasets import Dataset\n",
    "# from sklearn.model_selection import train_test_split\n",
    "\n",
    "# # Load the dataset\n",
    "# file_path = \"./data/combined_dataset.csv\"\n",
    "# data = pd.read_csv(file_path).head(10)\n",
    "\n",
    "# tokenizer = AutoTokenizer.from_pretrained(llama3_model_path)\n",
    "# tokenizer.pad_token = tokenizer.eos_token\n",
    "\n",
    "# # Combine 'prompt' and 'essay' into a single input text\n",
    "\n",
    "# # Apply this to your dataset\n",
    "# data['input_text'] = data.apply(create_input_text, axis=1)\n",
    "\n",
    "# data['labels'] = data['band'].apply(map_band_to_class)\n",
    "# data = data.drop(columns=[\"evaluation\", \"band\", \"prompt\", \"essay\"])\n",
    "\n",
    "# test_dataset = Dataset.from_pandas(data)\n",
    "\n",
    "\n",
    "# test_dataset = test_dataset.map(tokenize_function, batched=True)\n",
    "# test_dataset.set_format(type=\"torch\", columns=[\"input_ids\", \"attention_mask\", \"labels\"])\n"
   ]
  },
  {
   "cell_type": "code",
   "execution_count": 23,
   "metadata": {},
   "outputs": [],
   "source": [
    "# Check the content of test_dataset\n",
    "# t = test_dataset[0]\n",
    "#print(test_dataset[0])\n",
    "\n",
    "# Check the length of test_dataset\n",
    "# print(f\"Length of test_dataset: {len(test_dataset)}\")\n",
    "# for k, v in class_to_band.items():\n",
    "#     print(f\"Class {k} → Band {v}\")"
   ]
  },
  {
   "cell_type": "markdown",
   "metadata": {},
   "source": [
    "#### Prepare Model and Tokenizer, Move them to CUDA."
   ]
  },
  {
   "cell_type": "code",
   "execution_count": 24,
   "metadata": {},
   "outputs": [],
   "source": [
    "# num_labels = 12  # Total number of unique band scores\n",
    "# # C:\\Users\\26597\\.cache\\huggingface\\hub Models are here\n",
    "# model_path = \"andrijdavid/Llama-3-1B-Base\"\n",
    "# llama3_model_path = \"meta-llama/Llama-3.2-1B\"\n",
    "\n",
    "# model = AutoModelForSequenceClassification.from_pretrained(\n",
    "#     llama3_model_path,\n",
    "#     num_labels=num_labels,\n",
    "# )\n",
    "# t = model.config.eos_token_id\n",
    "# model.config.pad_token_id = tokenizer.pad_token_id\n",
    "\n",
    "# device = torch.device(\"cuda\" if torch.cuda.is_available() else \"cpu\")\n",
    "# model = model.to(device)\n",
    "# print(f\"Device: {device}\")"
   ]
  },
  {
   "cell_type": "code",
   "execution_count": 25,
   "metadata": {},
   "outputs": [],
   "source": [
    "# print(\"Tokenizer special tokens:\", tokenizer.special_tokens_map)\n",
    "# print(\"Model pad_token_id:\", model.config.pad_token_id)"
   ]
  },
  {
   "cell_type": "code",
   "execution_count": 26,
   "metadata": {},
   "outputs": [],
   "source": [
    "# def evaluate_model_on_gpu(model, dataset, batch_size=1):\n",
    "#     model.eval()  # Set model to evaluation mode\n",
    "#     predictions = torch.tensor([], dtype=torch.long, device=device)  # Initialize on GPU\n",
    "#     labels = torch.tensor([], dtype=torch.long, device=device)  # Initialize on GPU\n",
    "\n",
    "#     dataloader = torch.utils.data.DataLoader(dataset, batch_size=batch_size)\n",
    "#     for batch in dataloader:\n",
    "#         with torch.no_grad():\n",
    "#             # Move batch to GPU\n",
    "#             input_ids = batch[\"input_ids\"].to(device)\n",
    "#             attention_mask = batch[\"attention_mask\"].to(device)\n",
    "#             labels_batch = batch[\"labels\"].to(device)\n",
    "\n",
    "#             # Get model outputs\n",
    "#             outputs = model(input_ids=input_ids, attention_mask=attention_mask)\n",
    "#             logits = outputs.logits\n",
    "#             predicted_classes = logits.argmax(dim=1)  # Get class with highest logit\n",
    "\n",
    "#             # Append predictions and labels (on GPU)\n",
    "#             predictions = torch.cat((predictions, predicted_classes))\n",
    "#             labels = torch.cat((labels, labels_batch))\n",
    "\n",
    "#     return predictions, labels\n",
    "\n",
    "# # Perform evaluation\n",
    "# predictions, true_labels = evaluate_model_on_gpu(model, test_dataset)\n",
    "\n",
    "# accuracy = (predictions == true_labels).float().mean().item()\n",
    "# print(f\"Zero-shot accuracy of the pretrained model on the first 100 rows: {accuracy:.2%}\")\n",
    "# print(f\"Predictions: {predictions}\")\n",
    "# print(f\"True Labels: {true_labels}\")"
   ]
  },
  {
   "cell_type": "code",
   "execution_count": null,
   "metadata": {},
   "outputs": [
    {
     "ename": "FileNotFoundError",
     "evalue": "[Errno 2] No such file or directory: '/Users/barrychen/Desktop/IELTSWritingHelper/datasets_ready/Task_Achievement.csv'",
     "output_type": "error",
     "traceback": [
      "\u001b[1;31m---------------------------------------------------------------------------\u001b[0m",
      "\u001b[1;31mFileNotFoundError\u001b[0m                         Traceback (most recent call last)",
      "Cell \u001b[1;32mIn[27], line 2\u001b[0m\n\u001b[0;32m      1\u001b[0m fpath \u001b[38;5;241m=\u001b[39m \u001b[38;5;124m\"\u001b[39m\u001b[38;5;124m/Users/barrychen/Desktop/IELTSWritingHelper/datasets_ready/Task_Achievement.csv\u001b[39m\u001b[38;5;124m\"\u001b[39m\n\u001b[1;32m----> 2\u001b[0m df \u001b[38;5;241m=\u001b[39m \u001b[43mpd\u001b[49m\u001b[38;5;241;43m.\u001b[39;49m\u001b[43mread_csv\u001b[49m\u001b[43m(\u001b[49m\u001b[43mfpath\u001b[49m\u001b[43m)\u001b[49m\n\u001b[0;32m      3\u001b[0m df[\u001b[38;5;124m'\u001b[39m\u001b[38;5;124mscore\u001b[39m\u001b[38;5;124m'\u001b[39m] \u001b[38;5;241m=\u001b[39m df[\u001b[38;5;124m'\u001b[39m\u001b[38;5;124mscore\u001b[39m\u001b[38;5;124m'\u001b[39m]\u001b[38;5;241m.\u001b[39mround(\u001b[38;5;241m1\u001b[39m)\n\u001b[0;32m      4\u001b[0m df_filtered \u001b[38;5;241m=\u001b[39m df[(df[\u001b[38;5;124m'\u001b[39m\u001b[38;5;124mscore\u001b[39m\u001b[38;5;124m'\u001b[39m] \u001b[38;5;241m>\u001b[39m \u001b[38;5;241m1.5\u001b[39m) \u001b[38;5;241m&\u001b[39m (df[\u001b[38;5;124m'\u001b[39m\u001b[38;5;124mscore\u001b[39m\u001b[38;5;124m'\u001b[39m] \u001b[38;5;241m<\u001b[39m \u001b[38;5;241m12.0\u001b[39m)]\n",
      "File \u001b[1;32mc:\\Users\\26597\\miniconda3\\envs\\ece1786\\lib\\site-packages\\pandas\\io\\parsers\\readers.py:1026\u001b[0m, in \u001b[0;36mread_csv\u001b[1;34m(filepath_or_buffer, sep, delimiter, header, names, index_col, usecols, dtype, engine, converters, true_values, false_values, skipinitialspace, skiprows, skipfooter, nrows, na_values, keep_default_na, na_filter, verbose, skip_blank_lines, parse_dates, infer_datetime_format, keep_date_col, date_parser, date_format, dayfirst, cache_dates, iterator, chunksize, compression, thousands, decimal, lineterminator, quotechar, quoting, doublequote, escapechar, comment, encoding, encoding_errors, dialect, on_bad_lines, delim_whitespace, low_memory, memory_map, float_precision, storage_options, dtype_backend)\u001b[0m\n\u001b[0;32m   1013\u001b[0m kwds_defaults \u001b[38;5;241m=\u001b[39m _refine_defaults_read(\n\u001b[0;32m   1014\u001b[0m     dialect,\n\u001b[0;32m   1015\u001b[0m     delimiter,\n\u001b[1;32m   (...)\u001b[0m\n\u001b[0;32m   1022\u001b[0m     dtype_backend\u001b[38;5;241m=\u001b[39mdtype_backend,\n\u001b[0;32m   1023\u001b[0m )\n\u001b[0;32m   1024\u001b[0m kwds\u001b[38;5;241m.\u001b[39mupdate(kwds_defaults)\n\u001b[1;32m-> 1026\u001b[0m \u001b[38;5;28;01mreturn\u001b[39;00m \u001b[43m_read\u001b[49m\u001b[43m(\u001b[49m\u001b[43mfilepath_or_buffer\u001b[49m\u001b[43m,\u001b[49m\u001b[43m \u001b[49m\u001b[43mkwds\u001b[49m\u001b[43m)\u001b[49m\n",
      "File \u001b[1;32mc:\\Users\\26597\\miniconda3\\envs\\ece1786\\lib\\site-packages\\pandas\\io\\parsers\\readers.py:620\u001b[0m, in \u001b[0;36m_read\u001b[1;34m(filepath_or_buffer, kwds)\u001b[0m\n\u001b[0;32m    617\u001b[0m _validate_names(kwds\u001b[38;5;241m.\u001b[39mget(\u001b[38;5;124m\"\u001b[39m\u001b[38;5;124mnames\u001b[39m\u001b[38;5;124m\"\u001b[39m, \u001b[38;5;28;01mNone\u001b[39;00m))\n\u001b[0;32m    619\u001b[0m \u001b[38;5;66;03m# Create the parser.\u001b[39;00m\n\u001b[1;32m--> 620\u001b[0m parser \u001b[38;5;241m=\u001b[39m TextFileReader(filepath_or_buffer, \u001b[38;5;241m*\u001b[39m\u001b[38;5;241m*\u001b[39mkwds)\n\u001b[0;32m    622\u001b[0m \u001b[38;5;28;01mif\u001b[39;00m chunksize \u001b[38;5;129;01mor\u001b[39;00m iterator:\n\u001b[0;32m    623\u001b[0m     \u001b[38;5;28;01mreturn\u001b[39;00m parser\n",
      "File \u001b[1;32mc:\\Users\\26597\\miniconda3\\envs\\ece1786\\lib\\site-packages\\pandas\\io\\parsers\\readers.py:1620\u001b[0m, in \u001b[0;36mTextFileReader.__init__\u001b[1;34m(self, f, engine, **kwds)\u001b[0m\n\u001b[0;32m   1617\u001b[0m     \u001b[38;5;28mself\u001b[39m\u001b[38;5;241m.\u001b[39moptions[\u001b[38;5;124m\"\u001b[39m\u001b[38;5;124mhas_index_names\u001b[39m\u001b[38;5;124m\"\u001b[39m] \u001b[38;5;241m=\u001b[39m kwds[\u001b[38;5;124m\"\u001b[39m\u001b[38;5;124mhas_index_names\u001b[39m\u001b[38;5;124m\"\u001b[39m]\n\u001b[0;32m   1619\u001b[0m \u001b[38;5;28mself\u001b[39m\u001b[38;5;241m.\u001b[39mhandles: IOHandles \u001b[38;5;241m|\u001b[39m \u001b[38;5;28;01mNone\u001b[39;00m \u001b[38;5;241m=\u001b[39m \u001b[38;5;28;01mNone\u001b[39;00m\n\u001b[1;32m-> 1620\u001b[0m \u001b[38;5;28mself\u001b[39m\u001b[38;5;241m.\u001b[39m_engine \u001b[38;5;241m=\u001b[39m \u001b[38;5;28;43mself\u001b[39;49m\u001b[38;5;241;43m.\u001b[39;49m\u001b[43m_make_engine\u001b[49m\u001b[43m(\u001b[49m\u001b[43mf\u001b[49m\u001b[43m,\u001b[49m\u001b[43m \u001b[49m\u001b[38;5;28;43mself\u001b[39;49m\u001b[38;5;241;43m.\u001b[39;49m\u001b[43mengine\u001b[49m\u001b[43m)\u001b[49m\n",
      "File \u001b[1;32mc:\\Users\\26597\\miniconda3\\envs\\ece1786\\lib\\site-packages\\pandas\\io\\parsers\\readers.py:1880\u001b[0m, in \u001b[0;36mTextFileReader._make_engine\u001b[1;34m(self, f, engine)\u001b[0m\n\u001b[0;32m   1878\u001b[0m     \u001b[38;5;28;01mif\u001b[39;00m \u001b[38;5;124m\"\u001b[39m\u001b[38;5;124mb\u001b[39m\u001b[38;5;124m\"\u001b[39m \u001b[38;5;129;01mnot\u001b[39;00m \u001b[38;5;129;01min\u001b[39;00m mode:\n\u001b[0;32m   1879\u001b[0m         mode \u001b[38;5;241m+\u001b[39m\u001b[38;5;241m=\u001b[39m \u001b[38;5;124m\"\u001b[39m\u001b[38;5;124mb\u001b[39m\u001b[38;5;124m\"\u001b[39m\n\u001b[1;32m-> 1880\u001b[0m \u001b[38;5;28mself\u001b[39m\u001b[38;5;241m.\u001b[39mhandles \u001b[38;5;241m=\u001b[39m \u001b[43mget_handle\u001b[49m\u001b[43m(\u001b[49m\n\u001b[0;32m   1881\u001b[0m \u001b[43m    \u001b[49m\u001b[43mf\u001b[49m\u001b[43m,\u001b[49m\n\u001b[0;32m   1882\u001b[0m \u001b[43m    \u001b[49m\u001b[43mmode\u001b[49m\u001b[43m,\u001b[49m\n\u001b[0;32m   1883\u001b[0m \u001b[43m    \u001b[49m\u001b[43mencoding\u001b[49m\u001b[38;5;241;43m=\u001b[39;49m\u001b[38;5;28;43mself\u001b[39;49m\u001b[38;5;241;43m.\u001b[39;49m\u001b[43moptions\u001b[49m\u001b[38;5;241;43m.\u001b[39;49m\u001b[43mget\u001b[49m\u001b[43m(\u001b[49m\u001b[38;5;124;43m\"\u001b[39;49m\u001b[38;5;124;43mencoding\u001b[39;49m\u001b[38;5;124;43m\"\u001b[39;49m\u001b[43m,\u001b[49m\u001b[43m \u001b[49m\u001b[38;5;28;43;01mNone\u001b[39;49;00m\u001b[43m)\u001b[49m\u001b[43m,\u001b[49m\n\u001b[0;32m   1884\u001b[0m \u001b[43m    \u001b[49m\u001b[43mcompression\u001b[49m\u001b[38;5;241;43m=\u001b[39;49m\u001b[38;5;28;43mself\u001b[39;49m\u001b[38;5;241;43m.\u001b[39;49m\u001b[43moptions\u001b[49m\u001b[38;5;241;43m.\u001b[39;49m\u001b[43mget\u001b[49m\u001b[43m(\u001b[49m\u001b[38;5;124;43m\"\u001b[39;49m\u001b[38;5;124;43mcompression\u001b[39;49m\u001b[38;5;124;43m\"\u001b[39;49m\u001b[43m,\u001b[49m\u001b[43m \u001b[49m\u001b[38;5;28;43;01mNone\u001b[39;49;00m\u001b[43m)\u001b[49m\u001b[43m,\u001b[49m\n\u001b[0;32m   1885\u001b[0m \u001b[43m    \u001b[49m\u001b[43mmemory_map\u001b[49m\u001b[38;5;241;43m=\u001b[39;49m\u001b[38;5;28;43mself\u001b[39;49m\u001b[38;5;241;43m.\u001b[39;49m\u001b[43moptions\u001b[49m\u001b[38;5;241;43m.\u001b[39;49m\u001b[43mget\u001b[49m\u001b[43m(\u001b[49m\u001b[38;5;124;43m\"\u001b[39;49m\u001b[38;5;124;43mmemory_map\u001b[39;49m\u001b[38;5;124;43m\"\u001b[39;49m\u001b[43m,\u001b[49m\u001b[43m \u001b[49m\u001b[38;5;28;43;01mFalse\u001b[39;49;00m\u001b[43m)\u001b[49m\u001b[43m,\u001b[49m\n\u001b[0;32m   1886\u001b[0m \u001b[43m    \u001b[49m\u001b[43mis_text\u001b[49m\u001b[38;5;241;43m=\u001b[39;49m\u001b[43mis_text\u001b[49m\u001b[43m,\u001b[49m\n\u001b[0;32m   1887\u001b[0m \u001b[43m    \u001b[49m\u001b[43merrors\u001b[49m\u001b[38;5;241;43m=\u001b[39;49m\u001b[38;5;28;43mself\u001b[39;49m\u001b[38;5;241;43m.\u001b[39;49m\u001b[43moptions\u001b[49m\u001b[38;5;241;43m.\u001b[39;49m\u001b[43mget\u001b[49m\u001b[43m(\u001b[49m\u001b[38;5;124;43m\"\u001b[39;49m\u001b[38;5;124;43mencoding_errors\u001b[39;49m\u001b[38;5;124;43m\"\u001b[39;49m\u001b[43m,\u001b[49m\u001b[43m \u001b[49m\u001b[38;5;124;43m\"\u001b[39;49m\u001b[38;5;124;43mstrict\u001b[39;49m\u001b[38;5;124;43m\"\u001b[39;49m\u001b[43m)\u001b[49m\u001b[43m,\u001b[49m\n\u001b[0;32m   1888\u001b[0m \u001b[43m    \u001b[49m\u001b[43mstorage_options\u001b[49m\u001b[38;5;241;43m=\u001b[39;49m\u001b[38;5;28;43mself\u001b[39;49m\u001b[38;5;241;43m.\u001b[39;49m\u001b[43moptions\u001b[49m\u001b[38;5;241;43m.\u001b[39;49m\u001b[43mget\u001b[49m\u001b[43m(\u001b[49m\u001b[38;5;124;43m\"\u001b[39;49m\u001b[38;5;124;43mstorage_options\u001b[39;49m\u001b[38;5;124;43m\"\u001b[39;49m\u001b[43m,\u001b[49m\u001b[43m \u001b[49m\u001b[38;5;28;43;01mNone\u001b[39;49;00m\u001b[43m)\u001b[49m\u001b[43m,\u001b[49m\n\u001b[0;32m   1889\u001b[0m \u001b[43m\u001b[49m\u001b[43m)\u001b[49m\n\u001b[0;32m   1890\u001b[0m \u001b[38;5;28;01massert\u001b[39;00m \u001b[38;5;28mself\u001b[39m\u001b[38;5;241m.\u001b[39mhandles \u001b[38;5;129;01mis\u001b[39;00m \u001b[38;5;129;01mnot\u001b[39;00m \u001b[38;5;28;01mNone\u001b[39;00m\n\u001b[0;32m   1891\u001b[0m f \u001b[38;5;241m=\u001b[39m \u001b[38;5;28mself\u001b[39m\u001b[38;5;241m.\u001b[39mhandles\u001b[38;5;241m.\u001b[39mhandle\n",
      "File \u001b[1;32mc:\\Users\\26597\\miniconda3\\envs\\ece1786\\lib\\site-packages\\pandas\\io\\common.py:873\u001b[0m, in \u001b[0;36mget_handle\u001b[1;34m(path_or_buf, mode, encoding, compression, memory_map, is_text, errors, storage_options)\u001b[0m\n\u001b[0;32m    868\u001b[0m \u001b[38;5;28;01melif\u001b[39;00m \u001b[38;5;28misinstance\u001b[39m(handle, \u001b[38;5;28mstr\u001b[39m):\n\u001b[0;32m    869\u001b[0m     \u001b[38;5;66;03m# Check whether the filename is to be opened in binary mode.\u001b[39;00m\n\u001b[0;32m    870\u001b[0m     \u001b[38;5;66;03m# Binary mode does not support 'encoding' and 'newline'.\u001b[39;00m\n\u001b[0;32m    871\u001b[0m     \u001b[38;5;28;01mif\u001b[39;00m ioargs\u001b[38;5;241m.\u001b[39mencoding \u001b[38;5;129;01mand\u001b[39;00m \u001b[38;5;124m\"\u001b[39m\u001b[38;5;124mb\u001b[39m\u001b[38;5;124m\"\u001b[39m \u001b[38;5;129;01mnot\u001b[39;00m \u001b[38;5;129;01min\u001b[39;00m ioargs\u001b[38;5;241m.\u001b[39mmode:\n\u001b[0;32m    872\u001b[0m         \u001b[38;5;66;03m# Encoding\u001b[39;00m\n\u001b[1;32m--> 873\u001b[0m         handle \u001b[38;5;241m=\u001b[39m \u001b[38;5;28;43mopen\u001b[39;49m\u001b[43m(\u001b[49m\n\u001b[0;32m    874\u001b[0m \u001b[43m            \u001b[49m\u001b[43mhandle\u001b[49m\u001b[43m,\u001b[49m\n\u001b[0;32m    875\u001b[0m \u001b[43m            \u001b[49m\u001b[43mioargs\u001b[49m\u001b[38;5;241;43m.\u001b[39;49m\u001b[43mmode\u001b[49m\u001b[43m,\u001b[49m\n\u001b[0;32m    876\u001b[0m \u001b[43m            \u001b[49m\u001b[43mencoding\u001b[49m\u001b[38;5;241;43m=\u001b[39;49m\u001b[43mioargs\u001b[49m\u001b[38;5;241;43m.\u001b[39;49m\u001b[43mencoding\u001b[49m\u001b[43m,\u001b[49m\n\u001b[0;32m    877\u001b[0m \u001b[43m            \u001b[49m\u001b[43merrors\u001b[49m\u001b[38;5;241;43m=\u001b[39;49m\u001b[43merrors\u001b[49m\u001b[43m,\u001b[49m\n\u001b[0;32m    878\u001b[0m \u001b[43m            \u001b[49m\u001b[43mnewline\u001b[49m\u001b[38;5;241;43m=\u001b[39;49m\u001b[38;5;124;43m\"\u001b[39;49m\u001b[38;5;124;43m\"\u001b[39;49m\u001b[43m,\u001b[49m\n\u001b[0;32m    879\u001b[0m \u001b[43m        \u001b[49m\u001b[43m)\u001b[49m\n\u001b[0;32m    880\u001b[0m     \u001b[38;5;28;01melse\u001b[39;00m:\n\u001b[0;32m    881\u001b[0m         \u001b[38;5;66;03m# Binary mode\u001b[39;00m\n\u001b[0;32m    882\u001b[0m         handle \u001b[38;5;241m=\u001b[39m \u001b[38;5;28mopen\u001b[39m(handle, ioargs\u001b[38;5;241m.\u001b[39mmode)\n",
      "\u001b[1;31mFileNotFoundError\u001b[0m: [Errno 2] No such file or directory: '/Users/barrychen/Desktop/IELTSWritingHelper/datasets_ready/Task_Achievement.csv'"
     ]
    }
   ],
   "source": [
    "# fpath = \"/Users/barrychen/Desktop/IELTSWritingHelper/datasets_ready/Task_Achievement.csv\"\n",
    "# df = pd.read_csv(fpath)\n",
    "# df['score'] = df['score'].round(1)\n",
    "# df_filtered = df[(df['score'] > 1.5) & (df['score'] < 12.0)]\n",
    "\n",
    "# reverse_mapping_3 = {\n",
    "#     3.5: 0, 4.0: 0,\n",
    "#     4.5: 1, 5.0: 1,\n",
    "#     5.5: 2, 6.0: 2,\n",
    "#     6.5: 3, 7.0: 3,\n",
    "#     7.5: 4, 8.0: 4,\n",
    "#     8.5: 5, 9.0: 5\n",
    "# }\n",
    "\n",
    "# df_filtered['score'] = df_filtered['score'].map(reverse_mapping_3)\n",
    "\n",
    "# df_sampled = df_filtered.groupby('score').sample(\n",
    "#     n=290, \n",
    "#     random_state=42\n",
    "# ).reset_index(drop=True)\n",
    "\n",
    "# df_sampled['score'] = df_sampled['score'].astype(int)\n",
    "\n",
    "# dataset = Dataset.from_pandas(df_sampled)"
   ]
  },
  {
   "cell_type": "code",
   "execution_count": null,
   "metadata": {},
   "outputs": [
    {
     "name": "stdout",
     "output_type": "stream",
     "text": [
      "Train dataset length: 80, Test dataset length: 20\n"
     ]
    },
    {
     "data": {
      "application/vnd.jupyter.widget-view+json": {
       "model_id": "b6cf2d5dc062493b8074c6bb63799b7d",
       "version_major": 2,
       "version_minor": 0
      },
      "text/plain": [
       "Map:   0%|          | 0/80 [00:00<?, ? examples/s]"
      ]
     },
     "metadata": {},
     "output_type": "display_data"
    },
    {
     "data": {
      "application/vnd.jupyter.widget-view+json": {
       "model_id": "1360c893fc2f4d32bdbd4e491e32c9c1",
       "version_major": 2,
       "version_minor": 0
      },
      "text/plain": [
       "Map:   0%|          | 0/20 [00:00<?, ? examples/s]"
      ]
     },
     "metadata": {},
     "output_type": "display_data"
    },
    {
     "name": "stdout",
     "output_type": "stream",
     "text": [
      "train_dataset columns: ['input_text', 'labels', '__index_level_0__', 'input_ids', 'attention_mask']\n",
      "train_dataset[0]: {'input_text': 'You are a member of the IELTS essay evaluation committee.\\n        Your task is to evaluate the essay based on the given prompt and assign it a score\\n        between 4 and 9 (in 0.5 increments). There is also a \\'<4\\' class, thus a total of 12 classes.\\n        Provide only the score as your response. Think step by step why this essay is good or bad.\\n        \"Prompt: Interviews form the basic selecting criteria for most large companies.  However, some people think that interview is not a reliable method of  choosing whom to employ and there are other better methods. To what   extent do you agree or disagree?\\nEssay: Hiring employees is the toughest and time-consuming task.  Recruiting a good and hardworking employee can take the company\\'s  profits to the next level. Whilst, companies follow a general   tend to take interviews before hiring any employee. To some   extent, I agree with the system of interviews while sometimes  a talented employee finds it difficult to clear the interview.  Interview tends to be a gateway to jobs at various Multinational  Corporations and other well-reputed companies. It helps the   companies to select an employee perfect for them and may help   the company\\'s profit to increase them gradually. The organisations  have their own system of interviews. Generally, interviewees are   selected on the basis of their educational qualification, good   command over English Language and many more aspects. Interviews  provide interviewees a fair chance to get the job in the respective  organisation.  On the other hand, there are alternative methods to recruit employees.  First of all, persons should not be judged on the basis of the   educational qualification instead  they must be judged on the basis  of their practical unique skills they exhibit. For Example, most of   the employees at Google and Microsoft are college dropouts and hence,  they do not have any educational qualification, what they have is   advanced level skills in the specific field, on the basis of which  they are hired. Thus, the companies must brig the tremendous change to  the system of taking interviews.  In the end, it can be concluded that conducting interviews is good   to some extent and need to find the new innovative ways to hire   employees.', 'labels': 1, '__index_level_0__': 55, 'input_ids': [128000, 2675, 527, 264, 4562, 315, 279, 358, 2818, 10155, 9071, 16865, 13093, 627, 286, 4718, 3465, 374, 311, 15806, 279, 9071, 3196, 389, 279, 2728, 10137, 323, 9993, 433, 264, 5573, 198, 286, 1990, 220, 19, 323, 220, 24, 320, 258, 220, 15, 13, 20, 62700, 570, 2684, 374, 1101, 264, 3942, 19, 6, 538, 11, 8617, 264, 2860, 315, 220, 717, 6989, 627, 286, 40665, 1193, 279, 5573, 439, 701, 2077, 13, 21834, 3094, 555, 3094, 3249, 420, 9071, 374, 1695, 477, 3958, 627, 286, 330, 55715, 25, 89172, 1376, 279, 6913, 27397, 13186, 369, 1455, 3544, 5220, 13, 220, 4452, 11, 1063, 1274, 1781, 430, 7274, 374, 539, 264, 15062, 1749, 315, 220, 19301, 8884, 311, 3539, 323, 1070, 527, 1023, 2731, 5528, 13, 2057, 1148, 256, 13112, 656, 499, 7655, 477, 29395, 5380, 85901, 25, 89297, 8420, 374, 279, 60406, 323, 892, 70840, 3465, 13, 220, 83740, 5977, 264, 1695, 323, 2653, 21837, 9548, 649, 1935, 279, 2883, 596, 220, 22613, 311, 279, 1828, 2237, 13, 71828, 11, 5220, 1833, 264, 4689, 256, 8541, 311, 1935, 19905, 1603, 24009, 904, 9548, 13, 2057, 1063, 256, 13112, 11, 358, 7655, 449, 279, 1887, 315, 19905, 1418, 7170, 220, 264, 23944, 9548, 14035, 433, 5107, 311, 2867, 279, 7274, 13, 220, 32567, 28335, 311, 387, 264, 29895, 311, 7032, 520, 5370, 22950, 258, 1697, 220, 11095, 811, 323, 1023, 1664, 5621, 19849, 5220, 13, 1102, 8779, 279, 256, 5220, 311, 3373, 459, 9548, 4832, 369, 1124, 323, 1253, 1520, 256, 279, 2883, 596, 11626, 311, 5376, 1124, 27115, 13, 578, 29533, 220, 617, 872, 1866, 1887, 315, 19905, 13, 44493, 11, 7274, 5633, 527, 256, 4183, 389, 279, 8197, 315, 872, 16627, 46160, 11, 1695, 256, 3290, 927, 6498, 11688, 323, 1690, 810, 13878, 13, 89172, 220, 3493, 7274, 5633, 264, 6762, 6140, 311, 636, 279, 2683, 304, 279, 20081, 220, 22139, 13, 220, 1952, 279, 1023, 1450, 11, 1070, 527, 10778, 5528, 311, 20927, 8420, 13, 220, 5629, 315, 682, 11, 11434, 1288, 539, 387, 45487, 389, 279, 8197, 315, 279, 256, 16627, 46160, 4619, 220, 814, 2011, 387, 45487, 389, 279, 8197, 220, 315, 872, 15325, 5016, 7512, 814, 31324, 13, 1789, 13688, 11, 1455, 315, 256, 279, 8420, 520, 5195, 323, 5210, 527, 7926, 6068, 11934, 323, 16472, 11, 220, 814, 656, 539, 617, 904, 16627, 46160, 11, 1148, 814, 617, 374, 256, 11084, 2237, 7512, 304, 279, 3230, 2115, 11, 389, 279, 8197, 315, 902, 220, 814, 527, 22163, 13, 14636, 11, 279, 5220, 2011, 55912, 279, 28040, 2349, 311, 220, 279, 1887, 315, 4737, 19905, 13, 220, 763, 279, 842, 11, 433, 649, 387, 20536, 430, 31474, 19905, 374, 1695, 256, 311, 1063, 13112, 323, 1205, 311, 1505, 279, 502, 18699, 5627, 311, 18467, 256, 8420, 13, 128001, 128001, 128001, 128001, 128001, 128001, 128001, 128001, 128001, 128001, 128001, 128001, 128001, 128001, 128001, 128001, 128001, 128001, 128001, 128001, 128001, 128001, 128001, 128001, 128001, 128001, 128001, 128001, 128001, 128001, 128001, 128001, 128001, 128001, 128001, 128001, 128001, 128001, 128001, 128001, 128001, 128001, 128001, 128001, 128001, 128001, 128001, 128001], 'attention_mask': [1, 1, 1, 1, 1, 1, 1, 1, 1, 1, 1, 1, 1, 1, 1, 1, 1, 1, 1, 1, 1, 1, 1, 1, 1, 1, 1, 1, 1, 1, 1, 1, 1, 1, 1, 1, 1, 1, 1, 1, 1, 1, 1, 1, 1, 1, 1, 1, 1, 1, 1, 1, 1, 1, 1, 1, 1, 1, 1, 1, 1, 1, 1, 1, 1, 1, 1, 1, 1, 1, 1, 1, 1, 1, 1, 1, 1, 1, 1, 1, 1, 1, 1, 1, 1, 1, 1, 1, 1, 1, 1, 1, 1, 1, 1, 1, 1, 1, 1, 1, 1, 1, 1, 1, 1, 1, 1, 1, 1, 1, 1, 1, 1, 1, 1, 1, 1, 1, 1, 1, 1, 1, 1, 1, 1, 1, 1, 1, 1, 1, 1, 1, 1, 1, 1, 1, 1, 1, 1, 1, 1, 1, 1, 1, 1, 1, 1, 1, 1, 1, 1, 1, 1, 1, 1, 1, 1, 1, 1, 1, 1, 1, 1, 1, 1, 1, 1, 1, 1, 1, 1, 1, 1, 1, 1, 1, 1, 1, 1, 1, 1, 1, 1, 1, 1, 1, 1, 1, 1, 1, 1, 1, 1, 1, 1, 1, 1, 1, 1, 1, 1, 1, 1, 1, 1, 1, 1, 1, 1, 1, 1, 1, 1, 1, 1, 1, 1, 1, 1, 1, 1, 1, 1, 1, 1, 1, 1, 1, 1, 1, 1, 1, 1, 1, 1, 1, 1, 1, 1, 1, 1, 1, 1, 1, 1, 1, 1, 1, 1, 1, 1, 1, 1, 1, 1, 1, 1, 1, 1, 1, 1, 1, 1, 1, 1, 1, 1, 1, 1, 1, 1, 1, 1, 1, 1, 1, 1, 1, 1, 1, 1, 1, 1, 1, 1, 1, 1, 1, 1, 1, 1, 1, 1, 1, 1, 1, 1, 1, 1, 1, 1, 1, 1, 1, 1, 1, 1, 1, 1, 1, 1, 1, 1, 1, 1, 1, 1, 1, 1, 1, 1, 1, 1, 1, 1, 1, 1, 1, 1, 1, 1, 1, 1, 1, 1, 1, 1, 1, 1, 1, 1, 1, 1, 1, 1, 1, 1, 1, 1, 1, 1, 1, 1, 1, 1, 1, 1, 1, 1, 1, 1, 1, 1, 1, 1, 1, 1, 1, 1, 1, 1, 1, 1, 1, 1, 1, 1, 1, 1, 1, 1, 1, 1, 1, 1, 1, 1, 1, 1, 1, 1, 1, 1, 1, 1, 1, 1, 1, 1, 1, 1, 1, 1, 1, 1, 1, 1, 1, 1, 1, 1, 1, 1, 1, 1, 1, 1, 1, 1, 1, 1, 1, 1, 1, 1, 1, 1, 1, 1, 1, 1, 1, 1, 1, 1, 1, 1, 1, 1, 1, 1, 1, 1, 1, 1, 1, 1, 1, 1, 1, 1, 1, 1, 1, 1, 1, 1, 1, 1, 1, 1, 1, 1, 1, 0, 0, 0, 0, 0, 0, 0, 0, 0, 0, 0, 0, 0, 0, 0, 0, 0, 0, 0, 0, 0, 0, 0, 0, 0, 0, 0, 0, 0, 0, 0, 0, 0, 0, 0, 0, 0, 0, 0, 0, 0, 0, 0, 0, 0, 0, 0, 0]}, train_dataset['labels'][0]: 1\n"
     ]
    }
   ],
   "source": [
    "data = pd.read_csv(file_path).head(200)\n",
    "data['input_text'] = data.apply(create_input_text, axis=1)\n",
    "data['labels'] = data['band'].apply(map_band_to_class)\n",
    "# Drop unnecessary columns. Might need them later\n",
    "data = data.drop(columns=[\"evaluation\", \"band\", \"prompt\", \"essay\"])\n",
    "\n",
    "train_data, test_data = train_test_split(data, test_size=0.2, random_state=42)\n",
    "\n",
    "# Prepare datasets for Hugging Face Trainer\n",
    "from datasets import Dataset\n",
    "train_dataset = Dataset.from_pandas(train_data)\n",
    "test_dataset = Dataset.from_pandas(test_data)\n",
    "\n",
    "print(f\"Train dataset length: {len(train_dataset)}, Test dataset length: {len(test_dataset)}\")\n",
    "\n",
    "tokenizer = AutoTokenizer.from_pretrained(llama3_model_path)\n",
    "tokenizer.pad_token = tokenizer.eos_token\n",
    "\n",
    "train_dataset = train_dataset.map(tokenize_function, batched=True)\n",
    "test_dataset = test_dataset.map(tokenize_function, batched=True)\n",
    "print(f\"train_dataset columns: {train_dataset.column_names}\")\n",
    "print(f\"train_dataset[0]: {train_dataset[0]}, train_dataset['labels'][0]: {train_dataset['labels'][0]}\")"
   ]
  },
  {
   "cell_type": "code",
   "execution_count": 31,
   "metadata": {},
   "outputs": [
    {
     "name": "stdout",
     "output_type": "stream",
     "text": [
      "Memory Allocated: 0.0 MB\n",
      "Memory Reserved: 0.0 MB\n"
     ]
    },
    {
     "data": {
      "text/plain": [
       "374"
      ]
     },
     "execution_count": 31,
     "metadata": {},
     "output_type": "execute_result"
    }
   ],
   "source": [
    "print(f\"Memory Allocated: {torch.cuda.memory_allocated() / 1e6} MB\")\n",
    "print(f\"Memory Reserved: {torch.cuda.memory_reserved() / 1e6} MB\")\n",
    "torch.cuda.empty_cache()\n",
    "gc.collect()"
   ]
  },
  {
   "cell_type": "markdown",
   "metadata": {},
   "source": [
    "## Setting up Trainer"
   ]
  },
  {
   "cell_type": "code",
   "execution_count": 32,
   "metadata": {},
   "outputs": [
    {
     "name": "stderr",
     "output_type": "stream",
     "text": [
      "Some weights of LlamaForSequenceClassification were not initialized from the model checkpoint at meta-llama/Llama-3.2-1B and are newly initialized: ['score.weight']\n",
      "You should probably TRAIN this model on a down-stream task to be able to use it for predictions and inference.\n"
     ]
    },
    {
     "name": "stdout",
     "output_type": "stream",
     "text": [
      "Device: cuda\n"
     ]
    }
   ],
   "source": [
    "num_labels = 12  # Total number of unique band scores\n",
    "# C:\\Users\\26597\\.cache\\huggingface\\hub Models are here\n",
    "model_path = \"andrijdavid/Llama-3-1B-Base\"\n",
    "llama3_model_path = \"meta-llama/Llama-3.2-1B\"\n",
    "\n",
    "model = AutoModelForSequenceClassification.from_pretrained(\n",
    "    llama3_model_path,\n",
    "    num_labels=num_labels,\n",
    ")\n",
    "t = model.config.eos_token_id\n",
    "model.config.pad_token_id = tokenizer.pad_token_id\n",
    "\n",
    "# Freeze the base model\n",
    "for param in model.base_model.parameters():\n",
    "    param.requires_grad = False\n",
    "\n",
    "device = torch.device(\"cuda\" if torch.cuda.is_available() else \"cpu\")\n",
    "model = model.to(device)\n",
    "print(f\"Device: {device}\")\n",
    "# # Test the model\n",
    "# prompt = \"The key to life is\"\n",
    "# inputs = tokenizer(prompt, return_tensors=\"pt\")\n",
    "# outputs = model.generate(**inputs, max_length=30)\n",
    "\n",
    "# Decode the generated text\n",
    "# print(tokenizer.decode(outputs[0], skip_special_tokens=True))"
   ]
  },
  {
   "cell_type": "code",
   "execution_count": 33,
   "metadata": {},
   "outputs": [
    {
     "data": {
      "application/vnd.jupyter.widget-view+json": {
       "model_id": "94a0afb124834aa4baecf8f931e78fb0",
       "version_major": 2,
       "version_minor": 0
      },
      "text/plain": [
       "  0%|          | 0/15 [00:00<?, ?it/s]"
      ]
     },
     "metadata": {},
     "output_type": "display_data"
    },
    {
     "name": "stderr",
     "output_type": "stream",
     "text": [
      "c:\\Users\\26597\\miniconda3\\envs\\ece1786\\lib\\site-packages\\transformers\\models\\llama\\modeling_llama.py:602: UserWarning: 1Torch was not compiled with flash attention. (Triggered internally at C:\\cb\\pytorch_1000000000000\\work\\aten\\src\\ATen\\native\\transformers\\cuda\\sdp_utils.cpp:555.)\n",
      "  attn_output = torch.nn.functional.scaled_dot_product_attention(\n"
     ]
    },
    {
     "data": {
      "application/vnd.jupyter.widget-view+json": {
       "model_id": "bc837f850b5a4dfcaa790cfe2d7f9786",
       "version_major": 2,
       "version_minor": 0
      },
      "text/plain": [
       "  0%|          | 0/5 [00:00<?, ?it/s]"
      ]
     },
     "metadata": {},
     "output_type": "display_data"
    },
    {
     "name": "stdout",
     "output_type": "stream",
     "text": [
      "True Labels: [8 3 3 7 8 6 5 9 2 8 4 7 1 6 3 1 7 8 8 5]\n",
      "Predicted Labels: [ 9  2 10 10 10 10  5  4 10  9  5 10 10  5  7  3  5  3 10 11]\n",
      "Accuracy: 0.05\n",
      "{'eval_loss': 2.9854493141174316, 'eval_accuracy': 0.05, 'eval_runtime': 0.9341, 'eval_samples_per_second': 21.41, 'eval_steps_per_second': 5.352, 'epoch': 1.0}\n"
     ]
    },
    {
     "data": {
      "application/vnd.jupyter.widget-view+json": {
       "model_id": "73fde9475de04418bb1b7d04e69d86bc",
       "version_major": 2,
       "version_minor": 0
      },
      "text/plain": [
       "  0%|          | 0/5 [00:00<?, ?it/s]"
      ]
     },
     "metadata": {},
     "output_type": "display_data"
    },
    {
     "name": "stdout",
     "output_type": "stream",
     "text": [
      "True Labels: [8 3 3 7 8 6 5 9 2 8 4 7 1 6 3 1 7 8 8 5]\n",
      "Predicted Labels: [ 9  2  8  0  0  8  5  4  8  8  5 10  9  3  7  3  8  3  8  9]\n",
      "Accuracy: 0.15\n",
      "{'eval_loss': 2.539257764816284, 'eval_accuracy': 0.15, 'eval_runtime': 0.935, 'eval_samples_per_second': 21.39, 'eval_steps_per_second': 5.348, 'epoch': 2.0}\n"
     ]
    },
    {
     "data": {
      "application/vnd.jupyter.widget-view+json": {
       "model_id": "e17545bfbc824d289be313c1b06d3808",
       "version_major": 2,
       "version_minor": 0
      },
      "text/plain": [
       "  0%|          | 0/5 [00:00<?, ?it/s]"
      ]
     },
     "metadata": {},
     "output_type": "display_data"
    },
    {
     "name": "stdout",
     "output_type": "stream",
     "text": [
      "True Labels: [8 3 3 7 8 6 5 9 2 8 4 7 1 6 3 1 7 8 8 5]\n",
      "Predicted Labels: [9 2 8 0 0 8 5 4 7 8 5 7 7 3 7 3 8 3 8 9]\n",
      "Accuracy: 0.2\n",
      "{'eval_loss': 2.4266114234924316, 'eval_accuracy': 0.2, 'eval_runtime': 1.0069, 'eval_samples_per_second': 19.862, 'eval_steps_per_second': 4.966, 'epoch': 3.0}\n",
      "{'train_runtime': 142.0248, 'train_samples_per_second': 1.69, 'train_steps_per_second': 0.106, 'train_loss': 3.279863484700521, 'epoch': 3.0}\n"
     ]
    },
    {
     "data": {
      "application/vnd.jupyter.widget-view+json": {
       "model_id": "745d0673bf274c2e8b9d1488e49f9fd1",
       "version_major": 2,
       "version_minor": 0
      },
      "text/plain": [
       "  0%|          | 0/5 [00:00<?, ?it/s]"
      ]
     },
     "metadata": {},
     "output_type": "display_data"
    },
    {
     "name": "stdout",
     "output_type": "stream",
     "text": [
      "True Labels: [8 3 3 7 8 6 5 9 2 8 4 7 1 6 3 1 7 8 8 5]\n",
      "Predicted Labels: [9 2 8 0 0 8 5 4 7 8 5 7 7 3 7 3 8 3 8 9]\n",
      "Accuracy: 0.2\n",
      "Test Results: {'eval_loss': 2.4266114234924316, 'eval_accuracy': 0.2, 'eval_runtime': 1.2131, 'eval_samples_per_second': 16.487, 'eval_steps_per_second': 4.122, 'epoch': 3.0}\n"
     ]
    }
   ],
   "source": [
    "from transformers import Trainer, TrainingArguments\n",
    "from sklearn.metrics import accuracy_score\n",
    "training_args = TrainingArguments(\n",
    "    output_dir=\"./results\",\n",
    "    eval_strategy=\"epoch\",\n",
    "    save_strategy=\"epoch\",\n",
    "    learning_rate=1e-4,\n",
    "    fp16=True,\n",
    "    per_device_train_batch_size=4,\n",
    "    per_device_eval_batch_size=4,\n",
    "    num_train_epochs=3,\n",
    "    weight_decay=0.01,\n",
    "    save_total_limit=1,\n",
    "    gradient_accumulation_steps=4,\n",
    "    load_best_model_at_end=True,\n",
    ")\n",
    "def compute_metrics(pred):\n",
    "    labels = pred.label_ids\n",
    "    preds = pred.predictions.argmax(-1)\n",
    "    acc = accuracy_score(labels, preds)\n",
    "    print(f\"True Labels: {labels}\")\n",
    "    print(f\"Predicted Labels: {preds}\")\n",
    "    print(f\"Accuracy: {acc}\")\n",
    "    return {\"accuracy\": acc}\n",
    "    \n",
    "# Trainer\n",
    "trainer = Trainer(\n",
    "    model=model,\n",
    "    args=training_args,\n",
    "    train_dataset=train_dataset,\n",
    "    eval_dataset=test_dataset,\n",
    "    compute_metrics=compute_metrics,\n",
    ")\n",
    "\n",
    "\n",
    "# Fine-tune the model\n",
    "trainer.train()\n",
    "\n",
    "# Evaluate on the test dataset\n",
    "test_results = trainer.evaluate()\n",
    "print(f\"Test Results: {test_results}\")"
   ]
  }
 ],
 "metadata": {
  "kernelspec": {
   "display_name": "Python 3",
   "language": "python",
   "name": "python3"
  },
  "language_info": {
   "codemirror_mode": {
    "name": "ipython",
    "version": 3
   },
   "file_extension": ".py",
   "mimetype": "text/x-python",
   "name": "python",
   "nbconvert_exporter": "python",
   "pygments_lexer": "ipython3",
   "version": "3.10.15"
  }
 },
 "nbformat": 4,
 "nbformat_minor": 2
}
