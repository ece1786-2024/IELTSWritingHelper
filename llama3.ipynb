{
 "cells": [
  {
   "cell_type": "code",
   "execution_count": 1,
   "metadata": {},
   "outputs": [
    {
     "data": {
      "text/plain": [
       "<torch._C.Generator at 0x1a63a3ee1f0>"
      ]
     },
     "execution_count": 1,
     "metadata": {},
     "output_type": "execute_result"
    }
   ],
   "source": [
    "import pandas as pd\n",
    "from datasets import Dataset\n",
    "from transformers import AutoTokenizer, AutoModelForSequenceClassification\n",
    "import torch\n",
    "from transformers import pipeline\n",
    "from sklearn.model_selection import train_test_split\n",
    "import tqdm\n",
    "from sklearn.metrics import f1_score, accuracy_score\n",
    "import random\n",
    "random.seed(42)\n",
    "import numpy as np\n",
    "np.random.seed(42)\n",
    "torch.manual_seed(42)"
   ]
  },
  {
   "cell_type": "code",
   "execution_count": 2,
   "metadata": {},
   "outputs": [
    {
     "name": "stdout",
     "output_type": "stream",
     "text": [
      "Memory Allocated: 0.0 MB\n",
      "Memory Reserved: 0.0 MB\n"
     ]
    }
   ],
   "source": [
    "import torch\n",
    "import gc\n",
    "# Clear cache\n",
    "\n",
    "# For debugging purposes, check memory stats\n",
    "print(f\"Memory Allocated: {torch.cuda.memory_allocated() / 1e6} MB\")\n",
    "print(f\"Memory Reserved: {torch.cuda.memory_reserved() / 1e6} MB\")\n",
    "torch.cuda.empty_cache()\n",
    "gc.collect()\n",
    "model_path = \"andrijdavid/Llama-3-1B-Base\"\n",
    "llama3_model_path = \"meta-llama/Llama-3.2-1B\"\n",
    "file_path = \"./datasets_ready/combined_dataset.csv\"\n",
    "example_file_path = \"./sample_data/llama3_sample_dataset.csv\"\n",
    "checkpoint_dir = \"./results/checkpoint-640\"\n",
    "SAMPLE_SIZE = 9000\n",
    "LEARNING_RATE = 1e-5\n",
    "NUM_TRAIN_EPOCHS = 10\n",
    "BATCH_SIZE = 16\n",
    "\n",
    "\n",
    "def create_input_text(row):\n",
    "    return (\n",
    "        f\"\"\"You are a member of the IELTS essay evaluation committee.\\nYour task is to evaluate the essay based on the given prompt and assign it a score\n",
    "        between 4 and 9 (in 1 point increments). 4 and 9 are the lowest and highest scores possible.\n",
    "        Prompt contain the topic of the essay. The essay is the text that you need to evaluate.\n",
    "        Think step by step why this essay is good or bad. \n",
    "        \"Prompt: {row['prompt']}\\nEssay: {row['essay']}\"\"\"\n",
    "    )\n",
    "\n",
    "def map_band_to_class(band):\n",
    "    if band ==  \"<4\":\n",
    "        return band_to_class['<4']\n",
    "    return band_to_class[str(band)]\n",
    "\n",
    "def tokenize_function(example):\n",
    "    return tokenizer(\n",
    "        example[\"input_text\"],\n",
    "        padding=\"max_length\",\n",
    "        truncation=True,\n",
    "        max_length=512\n",
    "    )\n",
    "\n",
    "band_classes = ['<4'] + ['4', '4.5', '5', '5.5', '6', '6.5', '7', '7.5', '8', '8.5', '9'] \n",
    "# class_to_band = {i: band for band, i in band_to_class.items()}  # Class → Band\n",
    "\n",
    "band_to_class = {\n",
    "    '<4': 0, '4': 0,\n",
    "    '4.5': 1, '5': 1,\n",
    "    '5.5': 2, '6': 2,\n",
    "    '6.5': 3, '7': 3,\n",
    "    '7.5': 4, '8': 4,\n",
    "    '8.5': 5, '9': 5\n",
    "}\n",
    "\n",
    "# Map bands to classes\n",
    "def map_band_to_class(band):\n",
    "    if band ==  \"<4\":\n",
    "        return band_to_class['<4']\n",
    "    return band_to_class[str(band)]\n",
    "\n",
    "def tokenize_function(example):\n",
    "    return tokenizer(\n",
    "        example[\"input_text\"],\n",
    "        padding=\"max_length\",\n",
    "        truncation=True,\n",
    "        max_length=512\n",
    "    )"
   ]
  },
  {
   "cell_type": "code",
   "execution_count": 3,
   "metadata": {},
   "outputs": [],
   "source": [
    "# from transformers import AutoModelForCausalLM, AutoTokenizer\n",
    "\n",
    "# # Path to your model directory\n",
    "# model_path = \"andrijdavid/Llama-3-1B-Base\"\n",
    "\n",
    "# # Load the tokenizer and model\n",
    "# tokenizer = AutoTokenizer.from_pretrained(llama3_model_path)\n",
    "# model = AutoModelForCausalLM.from_pretrained(llama3_model_path)\n",
    "\n",
    "# # Test the model\n",
    "# prompt = \"The key to life is\"\n",
    "# inputs = tokenizer(prompt, return_tensors=\"pt\")\n",
    "# outputs = model.generate(**inputs, max_length=50)\n",
    "\n",
    "# # Decode the generated text\n",
    "# print(tokenizer.decode(outputs[0], skip_special_tokens=True))"
   ]
  },
  {
   "cell_type": "markdown",
   "metadata": {},
   "source": [
    "### Prepare Test Dataset"
   ]
  },
  {
   "cell_type": "code",
   "execution_count": 4,
   "metadata": {},
   "outputs": [],
   "source": [
    "# import pandas as pd\n",
    "# from datasets import Dataset\n",
    "# from sklearn.model_selection import train_test_split\n",
    "\n",
    "# # Load the dataset\n",
    "# file_path = \"./data/combined_dataset.csv\"\n",
    "# data = pd.read_csv(file_path).head(10)\n",
    "\n",
    "# tokenizer = AutoTokenizer.from_pretrained(llama3_model_path)\n",
    "# tokenizer.pad_token = tokenizer.eos_token\n",
    "\n",
    "# # Combine 'prompt' and 'essay' into a single input text\n",
    "\n",
    "# # Apply this to your dataset\n",
    "# data['input_text'] = data.apply(create_input_text, axis=1)\n",
    "\n",
    "# data['labels'] = data['band'].apply(map_band_to_class)\n",
    "# data = data.drop(columns=[\"evaluation\", \"band\", \"prompt\", \"essay\"])\n",
    "\n",
    "# test_dataset = Dataset.from_pandas(data)\n",
    "\n",
    "\n",
    "# test_dataset = test_dataset.map(tokenize_function, batched=True)\n",
    "# test_dataset.set_format(type=\"torch\", columns=[\"input_ids\", \"attention_mask\", \"labels\"])\n"
   ]
  },
  {
   "cell_type": "code",
   "execution_count": 5,
   "metadata": {},
   "outputs": [],
   "source": [
    "# Check the content of test_dataset\n",
    "# t = test_dataset[0]\n",
    "#print(test_dataset[0])\n",
    "\n",
    "# Check the length of test_dataset\n",
    "# print(f\"Length of test_dataset: {len(test_dataset)}\")\n",
    "# for k, v in class_to_band.items():\n",
    "#     print(f\"Class {k} → Band {v}\")"
   ]
  },
  {
   "cell_type": "markdown",
   "metadata": {},
   "source": [
    "#### Prepare Model and Tokenizer, Move them to CUDA."
   ]
  },
  {
   "cell_type": "code",
   "execution_count": 6,
   "metadata": {},
   "outputs": [],
   "source": [
    "# num_labels = 12  # Total number of unique band scores\n",
    "# # C:\\Users\\26597\\.cache\\huggingface\\hub Models are here\n",
    "# model_path = \"andrijdavid/Llama-3-1B-Base\"\n",
    "# llama3_model_path = \"meta-llama/Llama-3.2-1B\"\n",
    "\n",
    "# model = AutoModelForSequenceClassification.from_pretrained(\n",
    "#     llama3_model_path,\n",
    "#     num_labels=num_labels,\n",
    "# )\n",
    "# t = model.config.eos_token_id\n",
    "# model.config.pad_token_id = tokenizer.pad_token_id\n",
    "\n",
    "# device = torch.device(\"cuda\" if torch.cuda.is_available() else \"cpu\")\n",
    "# model = model.to(device)\n",
    "# print(f\"Device: {device}\")"
   ]
  },
  {
   "cell_type": "code",
   "execution_count": 7,
   "metadata": {},
   "outputs": [],
   "source": [
    "# print(\"Tokenizer special tokens:\", tokenizer.special_tokens_map)\n",
    "# print(\"Model pad_token_id:\", model.config.pad_token_id)"
   ]
  },
  {
   "cell_type": "code",
   "execution_count": 8,
   "metadata": {},
   "outputs": [],
   "source": [
    "# def evaluate_model_on_gpu(model, dataset, batch_size=1):\n",
    "#     model.eval()  # Set model to evaluation mode\n",
    "#     predictions = torch.tensor([], dtype=torch.long, device=device)  # Initialize on GPU\n",
    "#     labels = torch.tensor([], dtype=torch.long, device=device)  # Initialize on GPU\n",
    "\n",
    "#     dataloader = torch.utils.data.DataLoader(dataset, batch_size=batch_size)\n",
    "#     for batch in dataloader:\n",
    "#         with torch.no_grad():\n",
    "#             # Move batch to GPU\n",
    "#             input_ids = batch[\"input_ids\"].to(device)\n",
    "#             attention_mask = batch[\"attention_mask\"].to(device)\n",
    "#             labels_batch = batch[\"labels\"].to(device)\n",
    "\n",
    "#             # Get model outputs\n",
    "#             outputs = model(input_ids=input_ids, attention_mask=attention_mask)\n",
    "#             logits = outputs.logits\n",
    "#             predicted_classes = logits.argmax(dim=1)  # Get class with highest logit\n",
    "\n",
    "#             # Append predictions and labels (on GPU)\n",
    "#             predictions = torch.cat((predictions, predicted_classes))\n",
    "#             labels = torch.cat((labels, labels_batch))\n",
    "\n",
    "#     return predictions, labels\n",
    "\n",
    "# # Perform evaluation\n",
    "# predictions, true_labels = evaluate_model_on_gpu(model, test_dataset)\n",
    "\n",
    "# accuracy = (predictions == true_labels).float().mean().item()\n",
    "# print(f\"Zero-shot accuracy of the pretrained model on the first 100 rows: {accuracy:.2%}\")\n",
    "# print(f\"Predictions: {predictions}\")\n",
    "# print(f\"True Labels: {true_labels}\")"
   ]
  },
  {
   "cell_type": "code",
   "execution_count": 9,
   "metadata": {},
   "outputs": [],
   "source": [
    "# fpath = \"/Users/barrychen/Desktop/IELTSWritingHelper/datasets_ready/Task_Achievement.csv\"\n",
    "# df = pd.read_csv(fpath)\n",
    "# df['score'] = df['score'].round(1)\n",
    "# df_filtered = df[(df['score'] > 1.5) & (df['score'] < 12.0)]\n",
    "\n",
    "# reverse_mapping_3 = {\n",
    "#     3.5: 0, 4.0: 0,\n",
    "#     4.5: 1, 5.0: 1,\n",
    "#     5.5: 2, 6.0: 2,\n",
    "#     6.5: 3, 7.0: 3,\n",
    "#     7.5: 4, 8.0: 4,\n",
    "#     8.5: 5, 9.0: 5\n",
    "# }\n",
    "\n",
    "# df_filtered['score'] = df_filtered['score'].map(reverse_mapping_3)\n",
    "\n",
    "# df_sampled = df_filtered.groupby('score').sample(\n",
    "#     n=290, \n",
    "#     random_state=42\n",
    "# ).reset_index(drop=True)\n",
    "\n",
    "# df_sampled['score'] = df_sampled['score'].astype(int)\n",
    "\n",
    "# dataset = Dataset.from_pandas(df_sampled)"
   ]
  },
  {
   "cell_type": "code",
   "execution_count": 10,
   "metadata": {},
   "outputs": [
    {
     "name": "stdout",
     "output_type": "stream",
     "text": [
      "Train dataset length: 7200, Test dataset length: 1800\n"
     ]
    },
    {
     "data": {
      "application/vnd.jupyter.widget-view+json": {
       "model_id": "3dfb597175a24f8caa11b01ce249e7f2",
       "version_major": 2,
       "version_minor": 0
      },
      "text/plain": [
       "Map:   0%|          | 0/7200 [00:00<?, ? examples/s]"
      ]
     },
     "metadata": {},
     "output_type": "display_data"
    },
    {
     "data": {
      "application/vnd.jupyter.widget-view+json": {
       "model_id": "a4271a7af0494ca197236bac571b6c4b",
       "version_major": 2,
       "version_minor": 0
      },
      "text/plain": [
       "Map:   0%|          | 0/1800 [00:00<?, ? examples/s]"
      ]
     },
     "metadata": {},
     "output_type": "display_data"
    },
    {
     "name": "stdout",
     "output_type": "stream",
     "text": [
      "train_dataset columns: ['input_text', 'labels', '__index_level_0__', 'input_ids', 'attention_mask']\n",
      "train_dataset[0]: {'input_text': 'You are a member of the IELTS essay evaluation committee.\\nYour task is to evaluate the essay based on the given prompt and assign it a score\\n        between 4 and 9 (in 1 point increments). 4 and 9 are the lowest and highest scores possible.\\n        Prompt contain the topic of the essay. The essay is the text that you need to evaluate.\\n        Think step by step why this essay is good or bad. \\n        \"Prompt: Some people think the increasing business and cultural contact between countries brings many positive effects. Others say it causes the loss of national identities. Discuss both view and give your opinion.\\nEssay: In this global village, exchanging of  business and traditional values have become more common. According to a few, this has many affirmative effects while others think that it has certain drawbacks like losing self-identity. In my opinion, international business development and cultural knowledge transfer contributes to  economic growth and bring the nations closer.\\r\\n\\r\\nFirstly, tie-ups between nations allow companies to sell their products globally which will lead them to contribute to the growth of the national economy. Because of this type of arrangement, the vendors can grab the buyers from an international market which leads them to generate more revenue. To illustrate, the sellers from India are exporting many agricultural products  overseas and likewise importing metallic products from China. Thus, it aids the economy of both countries.\\r\\n\\r\\nSecondly, it has been observed that the cultural exchange programs bring people closer especially those belonging to totally different traditions. By exchanging their traditions not only do they learn  amazing new things, but they also cultivate  respect for each other. For example, many universities are running  culture exploration programs and welcoming students from  abroad so that they can demonstrate their values and in return bring ours with them.\\r\\n\\r\\nHowever, there are certain people who think opposite to this and believe that by doing such events, the national identities will be lost.  They think that buying the products from foreign countries will affect the GDP of the locals and eventually people would not buy from local sellers. For example, many prefer to buy foreign brands\\' garments, hence domestic money benefits  international sellers.\\r\\n\\r\\nTherefore, in my opinion, exchanging  values and the economy is beneficial to all participating nationals. While the government should promote both, they should also make sure that native traditions are not disregarded. \\r\\n\\r\\nTo conclude, sending and receiving business as well as traditions between global territories are becoming common practice these days. Certainly, it has many advantages; however, one must not forget their roots and stick to them.', 'labels': 1, '__index_level_0__': 5194, 'input_ids': [128000, 2675, 527, 264, 4562, 315, 279, 358, 2818, 10155, 9071, 16865, 13093, 627, 7927, 3465, 374, 311, 15806, 279, 9071, 3196, 389, 279, 2728, 10137, 323, 9993, 433, 264, 5573, 198, 286, 1990, 220, 19, 323, 220, 24, 320, 258, 220, 16, 1486, 62700, 570, 220, 19, 323, 220, 24, 527, 279, 15821, 323, 8592, 12483, 3284, 627, 286, 60601, 6782, 279, 8712, 315, 279, 9071, 13, 578, 9071, 374, 279, 1495, 430, 499, 1205, 311, 15806, 627, 286, 21834, 3094, 555, 3094, 3249, 420, 9071, 374, 1695, 477, 3958, 13, 720, 286, 330, 55715, 25, 4427, 1274, 1781, 279, 7859, 2626, 323, 13042, 3729, 1990, 5961, 12716, 1690, 6928, 6372, 13, 26080, 2019, 433, 11384, 279, 4814, 315, 5426, 40521, 13, 66379, 2225, 1684, 323, 3041, 701, 9647, 627, 85901, 25, 763, 420, 3728, 14458, 11, 79531, 315, 220, 2626, 323, 8776, 2819, 617, 3719, 810, 4279, 13, 10771, 311, 264, 2478, 11, 420, 706, 1690, 68741, 6372, 1418, 3885, 1781, 430, 433, 706, 3738, 89173, 1093, 13490, 659, 12, 17341, 13, 763, 856, 9647, 11, 6625, 2626, 4500, 323, 13042, 6677, 8481, 44072, 311, 220, 7100, 6650, 323, 4546, 279, 17089, 12401, 18304, 5451, 398, 11, 18623, 27859, 1990, 17089, 2187, 5220, 311, 4662, 872, 3956, 31550, 902, 690, 3063, 1124, 311, 17210, 311, 279, 6650, 315, 279, 5426, 8752, 13, 9393, 315, 420, 955, 315, 27204, 11, 279, 29629, 649, 11894, 279, 23455, 505, 459, 6625, 3157, 902, 11767, 1124, 311, 7068, 810, 13254, 13, 2057, 41468, 11, 279, 37249, 505, 6890, 527, 61321, 1690, 29149, 3956, 220, 25355, 323, 39022, 50995, 46258, 3956, 505, 5734, 13, 14636, 11, 433, 52797, 279, 8752, 315, 2225, 5961, 18304, 16041, 398, 11, 433, 706, 1027, 13468, 430, 279, 13042, 9473, 7620, 4546, 1274, 12401, 5423, 1884, 33152, 311, 12756, 2204, 32006, 13, 3296, 79531, 872, 32006, 539, 1193, 656, 814, 4048, 220, 8056, 502, 2574, 11, 719, 814, 1101, 67632, 220, 5201, 369, 1855, 1023, 13, 1789, 3187, 11, 1690, 23978, 527, 4401, 220, 7829, 27501, 7620, 323, 36387, 4236, 505, 220, 22917, 779, 430, 814, 649, 20461, 872, 2819, 323, 304, 471, 4546, 11604, 449, 1124, 18304, 11458, 11, 1070, 527, 3738, 1274, 889, 1781, 14329, 311, 420, 323, 4510, 430, 555, 3815, 1778, 4455, 11, 279, 5426, 40521, 690, 387, 5675, 13, 220, 2435, 1781, 430, 12096, 279, 3956, 505, 7362, 5961, 690, 7958, 279, 30830, 315, 279, 25958, 323, 9778, 1274, 1053, 539, 3780, 505, 2254, 37249, 13, 1789, 3187, 11, 1690, 10932, 311, 3780, 7362, 16097, 6, 67556, 11, 16472, 13018, 3300, 7720, 220, 6625, 37249, 18304, 55915, 11, 304, 856, 9647, 11, 79531, 220, 2819, 323, 279, 8752, 374, 24629, 311, 682, 24435, 57011, 13, 6104, 279, 3109, 1288, 12192, 2225, 11, 814, 1288, 1101, 1304, 2771, 430, 10068, 32006, 527, 539, 43903, 21632, 13, 24226, 1271, 32194, 11, 11889, 323, 12588, 2626, 439, 1664, 439, 32006, 1990, 3728, 39543, 527, 10671, 4279, 6725, 1521, 2919, 13, 53466, 11, 433, 706, 1690, 22934, 26, 4869, 11, 832, 2011, 539, 10894, 872, 20282, 323, 9396, 311], 'attention_mask': [1, 1, 1, 1, 1, 1, 1, 1, 1, 1, 1, 1, 1, 1, 1, 1, 1, 1, 1, 1, 1, 1, 1, 1, 1, 1, 1, 1, 1, 1, 1, 1, 1, 1, 1, 1, 1, 1, 1, 1, 1, 1, 1, 1, 1, 1, 1, 1, 1, 1, 1, 1, 1, 1, 1, 1, 1, 1, 1, 1, 1, 1, 1, 1, 1, 1, 1, 1, 1, 1, 1, 1, 1, 1, 1, 1, 1, 1, 1, 1, 1, 1, 1, 1, 1, 1, 1, 1, 1, 1, 1, 1, 1, 1, 1, 1, 1, 1, 1, 1, 1, 1, 1, 1, 1, 1, 1, 1, 1, 1, 1, 1, 1, 1, 1, 1, 1, 1, 1, 1, 1, 1, 1, 1, 1, 1, 1, 1, 1, 1, 1, 1, 1, 1, 1, 1, 1, 1, 1, 1, 1, 1, 1, 1, 1, 1, 1, 1, 1, 1, 1, 1, 1, 1, 1, 1, 1, 1, 1, 1, 1, 1, 1, 1, 1, 1, 1, 1, 1, 1, 1, 1, 1, 1, 1, 1, 1, 1, 1, 1, 1, 1, 1, 1, 1, 1, 1, 1, 1, 1, 1, 1, 1, 1, 1, 1, 1, 1, 1, 1, 1, 1, 1, 1, 1, 1, 1, 1, 1, 1, 1, 1, 1, 1, 1, 1, 1, 1, 1, 1, 1, 1, 1, 1, 1, 1, 1, 1, 1, 1, 1, 1, 1, 1, 1, 1, 1, 1, 1, 1, 1, 1, 1, 1, 1, 1, 1, 1, 1, 1, 1, 1, 1, 1, 1, 1, 1, 1, 1, 1, 1, 1, 1, 1, 1, 1, 1, 1, 1, 1, 1, 1, 1, 1, 1, 1, 1, 1, 1, 1, 1, 1, 1, 1, 1, 1, 1, 1, 1, 1, 1, 1, 1, 1, 1, 1, 1, 1, 1, 1, 1, 1, 1, 1, 1, 1, 1, 1, 1, 1, 1, 1, 1, 1, 1, 1, 1, 1, 1, 1, 1, 1, 1, 1, 1, 1, 1, 1, 1, 1, 1, 1, 1, 1, 1, 1, 1, 1, 1, 1, 1, 1, 1, 1, 1, 1, 1, 1, 1, 1, 1, 1, 1, 1, 1, 1, 1, 1, 1, 1, 1, 1, 1, 1, 1, 1, 1, 1, 1, 1, 1, 1, 1, 1, 1, 1, 1, 1, 1, 1, 1, 1, 1, 1, 1, 1, 1, 1, 1, 1, 1, 1, 1, 1, 1, 1, 1, 1, 1, 1, 1, 1, 1, 1, 1, 1, 1, 1, 1, 1, 1, 1, 1, 1, 1, 1, 1, 1, 1, 1, 1, 1, 1, 1, 1, 1, 1, 1, 1, 1, 1, 1, 1, 1, 1, 1, 1, 1, 1, 1, 1, 1, 1, 1, 1, 1, 1, 1, 1, 1, 1, 1, 1, 1, 1, 1, 1, 1, 1, 1, 1, 1, 1, 1, 1, 1, 1, 1, 1, 1, 1, 1, 1, 1, 1, 1, 1, 1, 1, 1, 1, 1, 1, 1, 1, 1, 1, 1, 1, 1, 1, 1, 1, 1, 1, 1, 1, 1, 1, 1, 1, 1, 1, 1, 1, 1, 1, 1, 1, 1, 1, 1]},\n",
      "train_dataset['labels'][0]: 1\n"
     ]
    }
   ],
   "source": [
    "data = pd.read_csv(file_path).sample(n=SAMPLE_SIZE, random_state=42)\n",
    "data['input_text'] = data.apply(create_input_text, axis=1)\n",
    "data['labels'] = data['band'].apply(map_band_to_class)\n",
    "# Drop unnecessary columns. Might need them later\n",
    "data = data.drop(columns=[\"evaluation\", \"band\", \"prompt\", \"essay\"])\n",
    "\n",
    "train_data, test_data = train_test_split(data, test_size=0.2, random_state=42, shuffle=True)\n",
    "\n",
    "# Prepare datasets for Hugging Face Trainer\n",
    "from datasets import Dataset\n",
    "train_dataset = Dataset.from_pandas(train_data)\n",
    "test_dataset = Dataset.from_pandas(test_data)\n",
    "\n",
    "print(f\"Train dataset length: {len(train_dataset)}, Test dataset length: {len(test_dataset)}\")\n",
    "\n",
    "tokenizer = AutoTokenizer.from_pretrained(llama3_model_path)\n",
    "tokenizer.pad_token = tokenizer.eos_token\n",
    "\n",
    "train_dataset = train_dataset.map(tokenize_function, batched=True)\n",
    "test_dataset = test_dataset.map(tokenize_function, batched=True)\n",
    "print(f\"train_dataset columns: {train_dataset.column_names}\")\n",
    "print(f\"train_dataset[0]: {train_dataset[0]},\\ntrain_dataset['labels'][0]: {train_dataset['labels'][0]}\")"
   ]
  },
  {
   "cell_type": "code",
   "execution_count": null,
   "metadata": {},
   "outputs": [],
   "source": []
  },
  {
   "cell_type": "code",
   "execution_count": 11,
   "metadata": {},
   "outputs": [
    {
     "name": "stdout",
     "output_type": "stream",
     "text": [
      "Memory Allocated: 0.00 GB\n",
      "Memory Reserved: 0.00 GB\n"
     ]
    },
    {
     "data": {
      "text/plain": [
       "72"
      ]
     },
     "execution_count": 11,
     "metadata": {},
     "output_type": "execute_result"
    }
   ],
   "source": [
    "print(f\"Memory Allocated: {torch.cuda.memory_allocated() / 1e9 :.2f} GB\")\n",
    "print(f\"Memory Reserved: {torch.cuda.memory_reserved() / 1e9 :.2f} GB\")\n",
    "torch.cuda.empty_cache()\n",
    "gc.collect()"
   ]
  },
  {
   "cell_type": "markdown",
   "metadata": {},
   "source": [
    "## Setting up Trainer"
   ]
  },
  {
   "cell_type": "code",
   "execution_count": 12,
   "metadata": {},
   "outputs": [
    {
     "name": "stderr",
     "output_type": "stream",
     "text": [
      "Some weights of LlamaForSequenceClassification were not initialized from the model checkpoint at meta-llama/Llama-3.2-1B and are newly initialized: ['score.weight']\n",
      "You should probably TRAIN this model on a down-stream task to be able to use it for predictions and inference.\n"
     ]
    },
    {
     "name": "stdout",
     "output_type": "stream",
     "text": [
      "Device: cuda\n"
     ]
    }
   ],
   "source": [
    "num_labels = 6  # Total number of unique band scores\n",
    "# C:\\Users\\26597\\.cache\\huggingface\\hub Models are here\n",
    "model_path = \"andrijdavid/Llama-3-1B-Base\"\n",
    "llama3_model_path = \"meta-llama/Llama-3.2-1B\"\n",
    "\n",
    "model = AutoModelForSequenceClassification.from_pretrained(\n",
    "    llama3_model_path,\n",
    "    num_labels=num_labels,\n",
    ")\n",
    "t = model.config.eos_token_id\n",
    "model.config.pad_token_id = tokenizer.pad_token_id\n",
    "\n",
    "# Freeze the base model\n",
    "for param in model.base_model.parameters():\n",
    "    param.requires_grad = False\n",
    "\n",
    "device = torch.device(\"cuda\" if torch.cuda.is_available() else \"cpu\")\n",
    "model = model.to(device)\n",
    "print(f\"Device: {device}\")"
   ]
  },
  {
   "cell_type": "code",
   "execution_count": 13,
   "metadata": {},
   "outputs": [
    {
     "data": {
      "application/vnd.jupyter.widget-view+json": {
       "model_id": "9c5bec83929e454fae305466b9ce987c",
       "version_major": 2,
       "version_minor": 0
      },
      "text/plain": [
       "  0%|          | 0/4500 [00:00<?, ?it/s]"
      ]
     },
     "metadata": {},
     "output_type": "display_data"
    },
    {
     "name": "stderr",
     "output_type": "stream",
     "text": [
      "c:\\Users\\26597\\miniconda3\\envs\\ece1786\\lib\\site-packages\\transformers\\models\\llama\\modeling_llama.py:602: UserWarning: 1Torch was not compiled with flash attention. (Triggered internally at C:\\cb\\pytorch_1000000000000\\work\\aten\\src\\ATen\\native\\transformers\\cuda\\sdp_utils.cpp:555.)\n",
      "  attn_output = torch.nn.functional.scaled_dot_product_attention(\n"
     ]
    },
    {
     "name": "stdout",
     "output_type": "stream",
     "text": [
      "{'loss': 2.132, 'grad_norm': 22.15612030029297, 'learning_rate': 9e-06, 'epoch': 1.0}\n"
     ]
    },
    {
     "data": {
      "application/vnd.jupyter.widget-view+json": {
       "model_id": "5c71733a4a9344ed9b8873be89b04c8b",
       "version_major": 2,
       "version_minor": 0
      },
      "text/plain": [
       "  0%|          | 0/113 [00:00<?, ?it/s]"
      ]
     },
     "metadata": {},
     "output_type": "display_data"
    },
    {
     "name": "stdout",
     "output_type": "stream",
     "text": [
      "{'eval_loss': 1.9518674612045288, 'eval_accuracy': 0.24333333333333335, 'eval_f1': 0.232039083496563, 'eval_runtime': 181.6256, 'eval_samples_per_second': 9.91, 'eval_steps_per_second': 0.622, 'epoch': 1.0}\n",
      "{'loss': 1.986, 'grad_norm': 22.44356346130371, 'learning_rate': 8.000000000000001e-06, 'epoch': 2.0}\n"
     ]
    },
    {
     "data": {
      "application/vnd.jupyter.widget-view+json": {
       "model_id": "cc9791f602fe4d0196b9f3b80c3a38ae",
       "version_major": 2,
       "version_minor": 0
      },
      "text/plain": [
       "  0%|          | 0/113 [00:00<?, ?it/s]"
      ]
     },
     "metadata": {},
     "output_type": "display_data"
    },
    {
     "name": "stdout",
     "output_type": "stream",
     "text": [
      "{'eval_loss': 1.8946805000305176, 'eval_accuracy': 0.25055555555555553, 'eval_f1': 0.24042959527270372, 'eval_runtime': 181.7461, 'eval_samples_per_second': 9.904, 'eval_steps_per_second': 0.622, 'epoch': 2.0}\n",
      "{'loss': 1.9292, 'grad_norm': 23.87721061706543, 'learning_rate': 7e-06, 'epoch': 3.0}\n"
     ]
    },
    {
     "data": {
      "application/vnd.jupyter.widget-view+json": {
       "model_id": "d9c75cdde7e545a1a0b58ec04467b0ce",
       "version_major": 2,
       "version_minor": 0
      },
      "text/plain": [
       "  0%|          | 0/113 [00:00<?, ?it/s]"
      ]
     },
     "metadata": {},
     "output_type": "display_data"
    },
    {
     "name": "stdout",
     "output_type": "stream",
     "text": [
      "{'eval_loss': 1.8666858673095703, 'eval_accuracy': 0.25166666666666665, 'eval_f1': 0.2437323940539585, 'eval_runtime': 180.3863, 'eval_samples_per_second': 9.979, 'eval_steps_per_second': 0.626, 'epoch': 3.0}\n",
      "{'loss': 1.8902, 'grad_norm': 17.762895584106445, 'learning_rate': 6e-06, 'epoch': 4.0}\n"
     ]
    },
    {
     "data": {
      "application/vnd.jupyter.widget-view+json": {
       "model_id": "17d18e56b00b4c75b0d737ac9fee7264",
       "version_major": 2,
       "version_minor": 0
      },
      "text/plain": [
       "  0%|          | 0/113 [00:00<?, ?it/s]"
      ]
     },
     "metadata": {},
     "output_type": "display_data"
    },
    {
     "name": "stdout",
     "output_type": "stream",
     "text": [
      "{'eval_loss': 1.8390175104141235, 'eval_accuracy': 0.2561111111111111, 'eval_f1': 0.24235063794875125, 'eval_runtime': 181.097, 'eval_samples_per_second': 9.939, 'eval_steps_per_second': 0.624, 'epoch': 4.0}\n",
      "{'loss': 1.8614, 'grad_norm': 15.366350173950195, 'learning_rate': 5e-06, 'epoch': 5.0}\n"
     ]
    },
    {
     "data": {
      "application/vnd.jupyter.widget-view+json": {
       "model_id": "8283130656844d7b9fcccde4c15bbcce",
       "version_major": 2,
       "version_minor": 0
      },
      "text/plain": [
       "  0%|          | 0/113 [00:00<?, ?it/s]"
      ]
     },
     "metadata": {},
     "output_type": "display_data"
    },
    {
     "name": "stdout",
     "output_type": "stream",
     "text": [
      "{'eval_loss': 1.8336741924285889, 'eval_accuracy': 0.25833333333333336, 'eval_f1': 0.2517369039679982, 'eval_runtime': 180.9477, 'eval_samples_per_second': 9.948, 'eval_steps_per_second': 0.624, 'epoch': 5.0}\n",
      "{'loss': 1.8426, 'grad_norm': 23.400774002075195, 'learning_rate': 4.000000000000001e-06, 'epoch': 6.0}\n"
     ]
    },
    {
     "data": {
      "application/vnd.jupyter.widget-view+json": {
       "model_id": "e9a06c907e0a4fc791569aa3ea67edd2",
       "version_major": 2,
       "version_minor": 0
      },
      "text/plain": [
       "  0%|          | 0/113 [00:00<?, ?it/s]"
      ]
     },
     "metadata": {},
     "output_type": "display_data"
    },
    {
     "name": "stdout",
     "output_type": "stream",
     "text": [
      "{'eval_loss': 1.809221625328064, 'eval_accuracy': 0.2633333333333333, 'eval_f1': 0.2535442078439877, 'eval_runtime': 181.2492, 'eval_samples_per_second': 9.931, 'eval_steps_per_second': 0.623, 'epoch': 6.0}\n",
      "{'loss': 1.8265, 'grad_norm': 19.344911575317383, 'learning_rate': 3e-06, 'epoch': 7.0}\n"
     ]
    },
    {
     "data": {
      "application/vnd.jupyter.widget-view+json": {
       "model_id": "84242f98ff09429eabcf851e089ad74a",
       "version_major": 2,
       "version_minor": 0
      },
      "text/plain": [
       "  0%|          | 0/113 [00:00<?, ?it/s]"
      ]
     },
     "metadata": {},
     "output_type": "display_data"
    },
    {
     "name": "stdout",
     "output_type": "stream",
     "text": [
      "{'eval_loss': 1.8043912649154663, 'eval_accuracy': 0.2644444444444444, 'eval_f1': 0.255874071752405, 'eval_runtime': 189.0459, 'eval_samples_per_second': 9.521, 'eval_steps_per_second': 0.598, 'epoch': 7.0}\n",
      "{'loss': 1.816, 'grad_norm': 22.614551544189453, 'learning_rate': 2.0000000000000003e-06, 'epoch': 8.0}\n"
     ]
    },
    {
     "data": {
      "application/vnd.jupyter.widget-view+json": {
       "model_id": "a40c20dec70c476495ef41b0023caad1",
       "version_major": 2,
       "version_minor": 0
      },
      "text/plain": [
       "  0%|          | 0/113 [00:00<?, ?it/s]"
      ]
     },
     "metadata": {},
     "output_type": "display_data"
    },
    {
     "name": "stdout",
     "output_type": "stream",
     "text": [
      "{'eval_loss': 1.7961710691452026, 'eval_accuracy': 0.26166666666666666, 'eval_f1': 0.25281213757535714, 'eval_runtime': 188.7183, 'eval_samples_per_second': 9.538, 'eval_steps_per_second': 0.599, 'epoch': 8.0}\n",
      "{'loss': 1.8089, 'grad_norm': 26.970991134643555, 'learning_rate': 1.0000000000000002e-06, 'epoch': 9.0}\n"
     ]
    },
    {
     "data": {
      "application/vnd.jupyter.widget-view+json": {
       "model_id": "2cf316ecdc234d4388c394f60cd060c7",
       "version_major": 2,
       "version_minor": 0
      },
      "text/plain": [
       "  0%|          | 0/113 [00:00<?, ?it/s]"
      ]
     },
     "metadata": {},
     "output_type": "display_data"
    },
    {
     "name": "stdout",
     "output_type": "stream",
     "text": [
      "{'eval_loss': 1.7933621406555176, 'eval_accuracy': 0.2644444444444444, 'eval_f1': 0.2550269814670741, 'eval_runtime': 191.8355, 'eval_samples_per_second': 9.383, 'eval_steps_per_second': 0.589, 'epoch': 9.0}\n",
      "{'loss': 1.8048, 'grad_norm': 34.435447692871094, 'learning_rate': 0.0, 'epoch': 10.0}\n"
     ]
    },
    {
     "data": {
      "application/vnd.jupyter.widget-view+json": {
       "model_id": "bd3ae3b42d51413eabc82109efc9ba94",
       "version_major": 2,
       "version_minor": 0
      },
      "text/plain": [
       "  0%|          | 0/113 [00:00<?, ?it/s]"
      ]
     },
     "metadata": {},
     "output_type": "display_data"
    },
    {
     "name": "stdout",
     "output_type": "stream",
     "text": [
      "{'eval_loss': 1.792199730873108, 'eval_accuracy': 0.26555555555555554, 'eval_f1': 0.2557118627807104, 'eval_runtime': 178.5816, 'eval_samples_per_second': 10.079, 'eval_steps_per_second': 0.633, 'epoch': 10.0}\n",
      "{'train_runtime': 9989.9072, 'train_samples_per_second': 7.207, 'train_steps_per_second': 0.45, 'train_loss': 1.8897649739583333, 'epoch': 10.0}\n"
     ]
    },
    {
     "data": {
      "application/vnd.jupyter.widget-view+json": {
       "model_id": "b564d392e0ba4979ad8c1f4d9a8a8a9c",
       "version_major": 2,
       "version_minor": 0
      },
      "text/plain": [
       "  0%|          | 0/113 [00:00<?, ?it/s]"
      ]
     },
     "metadata": {},
     "output_type": "display_data"
    },
    {
     "name": "stdout",
     "output_type": "stream",
     "text": [
      "Test Results: {'eval_loss': 1.792199730873108, 'eval_accuracy': 0.26555555555555554, 'eval_f1': 0.2557118627807104, 'eval_runtime': 178.6934, 'eval_samples_per_second': 10.073, 'eval_steps_per_second': 0.632, 'epoch': 10.0}\n"
     ]
    }
   ],
   "source": [
    "from transformers import Trainer, TrainingArguments\n",
    "from sklearn.metrics import accuracy_score\n",
    "training_args = TrainingArguments(\n",
    "    output_dir=\"./results\",\n",
    "    eval_strategy=\"epoch\",\n",
    "    save_strategy=\"epoch\",\n",
    "    learning_rate=LEARNING_RATE,\n",
    "    # fp16=True,\n",
    "    per_device_train_batch_size=BATCH_SIZE,\n",
    "    per_device_eval_batch_size=BATCH_SIZE,\n",
    "    num_train_epochs=NUM_TRAIN_EPOCHS,\n",
    "    save_total_limit=1,\n",
    "    load_best_model_at_end=True,\n",
    "    report_to=None,\n",
    "    logging_strategy=\"epoch\",\n",
    ")\n",
    "def compute_metrics(pred):\n",
    "    labels = pred.label_ids\n",
    "    preds = pred.predictions.argmax(-1)\n",
    "    acc = accuracy_score(labels, preds)\n",
    "    # prediction_labels = [class_to_band[p] for p in preds]\n",
    "    # true_labels = [class_to_band[l] for l in labels]\n",
    "    f1 = f1_score(labels, preds, average=\"weighted\")\n",
    "    # print(f\"True Labels: {true_labels}\")\n",
    "    # print(f\"Predicted Labels: {prediction_labels}\")\n",
    "    # print(f\"Accuracy: {acc}\")\n",
    "    return {\n",
    "        \"accuracy\": acc,\n",
    "        \"f1\": f1\n",
    "    }\n",
    "    \n",
    "# Trainer\n",
    "trainer = Trainer(\n",
    "    model=model,\n",
    "    args=training_args,\n",
    "    train_dataset=train_dataset,\n",
    "    eval_dataset=test_dataset,\n",
    "    compute_metrics=compute_metrics,\n",
    ")\n",
    "\n",
    "\n",
    "# Fine-tune the model\n",
    "trainer.train()\n",
    "\n",
    "# Evaluate on the test dataset\n",
    "test_results = trainer.evaluate()\n",
    "print(f\"Test Results: {test_results}\")\n"
   ]
  },
  {
   "cell_type": "code",
   "execution_count": 14,
   "metadata": {},
   "outputs": [
    {
     "data": {
      "image/png": "[encoded data removed]",
      "text/plain": [
       "<Figure size 1800x600 with 3 Axes>"
      ]
     },
     "metadata": {},
     "output_type": "display_data"
    }
   ],
   "source": [
    "# After training\n",
    "log_history = trainer.state.log_history\n",
    "\n",
    "# Extract training and validation loss\n",
    "train_loss = [entry[\"loss\"] for entry in log_history if \"loss\" in entry]\n",
    "eval_loss = [entry[\"eval_loss\"] for entry in log_history if \"eval_loss\" in entry]\n",
    "f1 = [entry[\"eval_f1\"] for entry in log_history if \"eval_f1\" in entry]\n",
    "\n",
    "# Extract accuracy (if available in compute_metrics)\n",
    "eval_accuracy = [entry[\"eval_accuracy\"] for entry in log_history if \"eval_accuracy\" in entry]\n",
    "import matplotlib.pyplot as plt\n",
    "\n",
    "# Create subplots\n",
    "fig, axes = plt.subplots(1, 3, figsize=(18, 6))\n",
    "\n",
    "# Plot training and validation loss\n",
    "axes[0].plot(train_loss, label=\"Training Loss\")\n",
    "axes[0].plot(eval_loss, label=\"Validation Loss\")\n",
    "axes[0].set_xlabel(\"Epochs\")\n",
    "axes[0].set_ylabel(\"Loss\")\n",
    "axes[0].set_title(\"Training and Validation Loss\")\n",
    "axes[0].legend()\n",
    "axes[0].grid()\n",
    "\n",
    "# Plot validation accuracy (if available)\n",
    "if eval_accuracy:\n",
    "    axes[1].plot(eval_accuracy, label=\"Validation Accuracy\", color=\"green\")\n",
    "    axes[1].set_xlabel(\"Epochs\")\n",
    "    axes[1].set_ylabel(\"Accuracy\")\n",
    "    axes[1].set_title(\"Validation Accuracy\")\n",
    "    axes[1].legend()\n",
    "    axes[1].grid()\n",
    "\n",
    "# Plot F1 score (if available)\n",
    "if f1:\n",
    "    axes[2].plot(f1, label=\"F1 Score\", color=\"blue\")\n",
    "    axes[2].set_xlabel(\"Epochs\")\n",
    "    axes[2].set_ylabel(\"F1 Score\")\n",
    "    axes[2].set_title(\"F1 Score\")\n",
    "    axes[2].legend()\n",
    "    axes[2].grid()\n",
    "\n",
    "fig.suptitle(f\"Trained and tested on {SAMPLE_SIZE} entries, lr={LEARNING_RATE}, Batch Size = {BATCH_SIZE}\", fontsize=12)\n",
    "plt.tight_layout()\n",
    "plt.show()\n"
   ]
  }
 ],
 "metadata": {
  "kernelspec": {
   "display_name": "Python 3",
   "language": "python",
   "name": "python3"
  },
  "language_info": {
   "codemirror_mode": {
    "name": "ipython",
    "version": 3
   },
   "file_extension": ".py",
   "mimetype": "text/x-python",
   "name": "python",
   "nbconvert_exporter": "python",
   "pygments_lexer": "ipython3",
   "version": "3.10.15"
  }
 },
 "nbformat": 4,
 "nbformat_minor": 2
}
