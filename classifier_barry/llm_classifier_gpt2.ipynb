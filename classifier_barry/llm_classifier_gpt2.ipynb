{
      "cells": [
          {
              "cell_type": "markdown",
              "metadata": {},
              "source": [
                  "# Run"
              ]
          },
          {
              "cell_type": "markdown",
              "metadata": {},
              "source": [
                  "### Setup"
              ]
          },
          {
              "cell_type": "code",
              "execution_count": 3,
              "metadata": {},
              "outputs": [],
              "source": [
                  "import torch\n",
                  "from transformers import GPT2Tokenizer, GPT2ForSequenceClassification, AdamW, get_scheduler, GPT2Config\n",
                  "from torch.nn.functional import softmax\n",
                  "import datasets\n",
                  "from datasets import load_dataset, Dataset\n",
                  "import random\n",
                  "from torch.utils.data import DataLoader, Subset\n",
                  "import torch.nn.functional as F\n",
                  "import matplotlib.pyplot as plt\n",
                  "from tqdm import tqdm\n",
                  "import pandas as pd\n",
                  "import numpy as np\n",
                  "from torchmetrics import F1Score\n",
                  "pd.options.mode.copy_on_write = True"
              ]
          },
          {
              "cell_type": "code",
              "execution_count": 4,
              "metadata": {},
              "outputs": [],
              "source": [
                  "fpath2 = \"/Users/barrychen/Desktop/IELTSWritingHelper/datasets_ready/Task_Achievement.csv\"\n",
                  "df2 = pd.read_csv(fpath2)\n",
                  "df2['score'] = df2['score'].round(1)\n",
                  "df_filtered2 = df2[(df2['score'] > 1.5) & (df2['score'] < 12.0)]\n",
                  "\n",
                  "reverse_mapping_3 = {\n",
                  "    3.5: 0, 4.0: 0,\n",
                  "    4.5: 1, 5.0: 1,\n",
                  "    5.5: 2, 6.0: 2,\n",
                  "    6.5: 3, 7.0: 3,\n",
                  "    7.5: 4, 8.0: 4,\n",
                  "    8.5: 5, 9.0: 5\n",
                  "}\n",
                  "\n",
                  "df_filtered2['score'] = df_filtered2['score'].map(reverse_mapping_3)\n",
                  "\n",
                  "df_sampled2 = df_filtered2.groupby('score').sample(\n",
                  "    n=290, \n",
                  "    random_state=42\n",
                  ").reset_index(drop=True)\n",
                  "\n",
                  "df_sampled2['score'] = df_sampled2['score'].astype(int)\n",
                  "\n",
                  "dataset2 = Dataset.from_pandas(df_sampled2)"
              ]
          },
          {
              "cell_type": "code",
              "execution_count": 5,
              "metadata": {},
              "outputs": [
                  {
                      "data": {
                          "text/html": [
                              "<div>\n",
                              "<style scoped>\n",
                              "    .dataframe tbody tr th:only-of-type {\n",
                              "        vertical-align: middle;\n",
                              "    }\n",
                              "\n",
                              "    .dataframe tbody tr th {\n",
                              "        vertical-align: top;\n",
                              "    }\n",
                              "\n",
                              "    .dataframe thead th {\n",
                              "        text-align: right;\n",
                              "    }\n",
                              "</style>\n",
                              "<table border=\"1\" class=\"dataframe\">\n",
                              "  <thead>\n",
                              "    <tr style=\"text-align: right;\">\n",
                              "      <th></th>\n",
                              "      <th>prompt</th>\n",
                              "      <th>essay</th>\n",
                              "      <th>text</th>\n",
                              "      <th>score</th>\n",
                              "    </tr>\n",
                              "  </thead>\n",
                              "  <tbody>\n",
                              "    <tr>\n",
                              "      <th>0</th>\n",
                              "      <td>Some people say that to prevent illness and di...</td>\n",
                              "      <td>Emerging disease is a complex matter as it IS ...</td>\n",
                              "      <td>The candidate has effectively addressed the gi...</td>\n",
                              "      <td>0</td>\n",
                              "    </tr>\n",
                              "    <tr>\n",
                              "      <th>1</th>\n",
                              "      <td>Nowadays celebrities are more famous for their...</td>\n",
                              "      <td>In this present world,  famous personalities a...</td>\n",
                              "      <td>The essay adequately addresses the task and at...</td>\n",
                              "      <td>0</td>\n",
                              "    </tr>\n",
                              "    <tr>\n",
                              "      <th>2</th>\n",
                              "      <td>More people decided to have children in their ...</td>\n",
                              "      <td>currently, there are more and more people make...</td>\n",
                              "      <td>The essay generally addresses the task by disc...</td>\n",
                              "      <td>0</td>\n",
                              "    </tr>\n",
                              "    <tr>\n",
                              "      <th>3</th>\n",
                              "      <td>Many people believe that the current system of...</td>\n",
                              "      <td>Once every month no private vehicles  a day ca...</td>\n",
                              "      <td>The essay fails to address the prompt effectiv...</td>\n",
                              "      <td>0</td>\n",
                              "    </tr>\n",
                              "    <tr>\n",
                              "      <th>4</th>\n",
                              "      <td>Some people think that instead of preventing c...</td>\n",
                              "      <td>In today's time, human activities are having a...</td>\n",
                              "      <td>The essay effectively addresses the given task...</td>\n",
                              "      <td>0</td>\n",
                              "    </tr>\n",
                              "    <tr>\n",
                              "      <th>...</th>\n",
                              "      <td>...</td>\n",
                              "      <td>...</td>\n",
                              "      <td>...</td>\n",
                              "      <td>...</td>\n",
                              "    </tr>\n",
                              "    <tr>\n",
                              "      <th>1735</th>\n",
                              "      <td>some countries more and more people are becomi...</td>\n",
                              "      <td>In many nations, more and more humans are rese...</td>\n",
                              "      <td>The essay effectively addresses the given task...</td>\n",
                              "      <td>5</td>\n",
                              "    </tr>\n",
                              "    <tr>\n",
                              "      <th>1736</th>\n",
                              "      <td>Human activities have negative effects on plan...</td>\n",
                              "      <td>Nowadays, industrialisation has increased rapi...</td>\n",
                              "      <td>The candidate has effectively addressed the gi...</td>\n",
                              "      <td>5</td>\n",
                              "    </tr>\n",
                              "    <tr>\n",
                              "      <th>1737</th>\n",
                              "      <td>Nowadays people use social media to keep in to...</td>\n",
                              "      <td>In this contemporary era, the hitches allied t...</td>\n",
                              "      <td>The candidate has effectively addressed the gi...</td>\n",
                              "      <td>5</td>\n",
                              "    </tr>\n",
                              "    <tr>\n",
                              "      <th>1738</th>\n",
                              "      <td>Many customs and traditional ways of behaviour...</td>\n",
                              "      <td>The vibrancy of modern life has led to debates...</td>\n",
                              "      <td>The candidate effectively addresses the task b...</td>\n",
                              "      <td>5</td>\n",
                              "    </tr>\n",
                              "    <tr>\n",
                              "      <th>1739</th>\n",
                              "      <td>Some people think that instead of preventing c...</td>\n",
                              "      <td>Climate change is becoming a major threat in o...</td>\n",
                              "      <td>The candidate has effectively addressed the gi...</td>\n",
                              "      <td>5</td>\n",
                              "    </tr>\n",
                              "  </tbody>\n",
                              "</table>\n",
                              "<p>1740 rows × 4 columns</p>\n",
                              "</div>"
                          ],
                          "text/plain": [
                              "                                                 prompt  \\\n",
                              "0     Some people say that to prevent illness and di...   \n",
                              "1     Nowadays celebrities are more famous for their...   \n",
                              "2     More people decided to have children in their ...   \n",
                              "3     Many people believe that the current system of...   \n",
                              "4     Some people think that instead of preventing c...   \n",
                              "...                                                 ...   \n",
                              "1735  some countries more and more people are becomi...   \n",
                              "1736  Human activities have negative effects on plan...   \n",
                              "1737  Nowadays people use social media to keep in to...   \n",
                              "1738  Many customs and traditional ways of behaviour...   \n",
                              "1739  Some people think that instead of preventing c...   \n",
                              "\n",
                              "                                                  essay  \\\n",
                              "0     Emerging disease is a complex matter as it IS ...   \n",
                              "1     In this present world,  famous personalities a...   \n",
                              "2     currently, there are more and more people make...   \n",
                              "3     Once every month no private vehicles  a day ca...   \n",
                              "4     In today's time, human activities are having a...   \n",
                              "...                                                 ...   \n",
                              "1735  In many nations, more and more humans are rese...   \n",
                              "1736  Nowadays, industrialisation has increased rapi...   \n",
                              "1737  In this contemporary era, the hitches allied t...   \n",
                              "1738  The vibrancy of modern life has led to debates...   \n",
                              "1739  Climate change is becoming a major threat in o...   \n",
                              "\n",
                              "                                                   text  score  \n",
                              "0     The candidate has effectively addressed the gi...      0  \n",
                              "1     The essay adequately addresses the task and at...      0  \n",
                              "2     The essay generally addresses the task by disc...      0  \n",
                              "3     The essay fails to address the prompt effectiv...      0  \n",
                              "4     The essay effectively addresses the given task...      0  \n",
                              "...                                                 ...    ...  \n",
                              "1735  The essay effectively addresses the given task...      5  \n",
                              "1736  The candidate has effectively addressed the gi...      5  \n",
                              "1737  The candidate has effectively addressed the gi...      5  \n",
                              "1738  The candidate effectively addresses the task b...      5  \n",
                              "1739  The candidate has effectively addressed the gi...      5  \n",
                              "\n",
                              "[1740 rows x 4 columns]"
                          ]
                      },
                      "execution_count": 5,
                      "metadata": {},
                      "output_type": "execute_result"
                  }
              ],
              "source": [
                  "df_sampled2"
              ]
          },
          {
              "cell_type": "code",
              "execution_count": 4,
              "metadata": {},
              "outputs": [
                  {
                      "data": {
                          "text/plain": [
                              "Dataset({\n",
                              "    features: ['prompt', 'essay', 'text', 'score'],\n",
                              "    num_rows: 1740\n",
                              "})"
                          ]
                      },
                      "execution_count": 4,
                      "metadata": {},
                      "output_type": "execute_result"
                  }
              ],
              "source": [
                  "dataset2"
              ]
          },
          {
              "cell_type": "markdown",
              "metadata": {},
              "source": [
                  "### Fine tune the model"
              ]
          },
          {
              "cell_type": "markdown",
              "metadata": {},
              "source": [
                  "#### Trial #1 (8 labels)"
              ]
          },
          {
              "cell_type": "code",
              "execution_count": 5,
              "metadata": {},
              "outputs": [
                  {
                      "name": "stderr",
                      "output_type": "stream",
                      "text": [
                          "/Users/barrychen/anaconda3/envs/ece1786/lib/python3.10/site-packages/huggingface_hub/file_download.py:1150: FutureWarning: `resume_download` is deprecated and will be removed in version 1.0.0. Downloads always resume when possible. If you want to force a new download, use `force_download=True`.\n",
                          "  warnings.warn(\n",
                          "Some weights of GPT2ForSequenceClassification were not initialized from the model checkpoint at Harshad018/trained-gpt2-tweet-analysis and are newly initialized because the shapes did not match:\n",
                          "- score.weight: found shape torch.Size([3, 768]) in the checkpoint and torch.Size([8, 768]) in the model instantiated\n",
                          "You should probably TRAIN this model on a down-stream task to be able to use it for predictions and inference.\n"
                      ]
                  },
                  {
                      "data": {
                          "application/vnd.jupyter.widget-view+json": {
                              "model_id": "ca16a01a0b8b4658ada3d68f77786a01",
                              "version_major": 2,
                              "version_minor": 0
                          },
                          "text/plain": [
                              "Map:   0%|          | 0/1740 [00:00<?, ? examples/s]"
                          ]
                      },
                      "metadata": {},
                      "output_type": "display_data"
                  },
                  {
                      "name": "stderr",
                      "output_type": "stream",
                      "text": [
                          "/Users/barrychen/anaconda3/envs/ece1786/lib/python3.10/site-packages/transformers/optimization.py:429: FutureWarning: This implementation of AdamW is deprecated and will be removed in a future version. Use the PyTorch implementation torch.optim.AdamW instead, or set `no_deprecation_warning=True` to disable this warning\n",
                          "  warnings.warn(\n",
                          " 28%|██▊       | 147/522 [1:44:02<4:23:36, 42.18s/it]"
                      ]
                  },
                  {
                      "ename": "KeyboardInterrupt",
                      "evalue": "",
                      "output_type": "error",
                      "traceback": [
                          "\u001b[0;31m---------------------------------------------------------------------------\u001b[0m",
                          "\u001b[0;31mKeyboardInterrupt\u001b[0m                         Traceback (most recent call last)",
                          "Cell \u001b[0;32mIn[5], line 106\u001b[0m\n\u001b[1;32m    104\u001b[0m \u001b[38;5;28;01mfor\u001b[39;00m batch \u001b[38;5;129;01min\u001b[39;00m train_dataloader2:\n\u001b[1;32m    105\u001b[0m     batch \u001b[38;5;241m=\u001b[39m {k: v\u001b[38;5;241m.\u001b[39mto(device2) \u001b[38;5;28;01mfor\u001b[39;00m k, v \u001b[38;5;129;01min\u001b[39;00m batch\u001b[38;5;241m.\u001b[39mitems()}\n\u001b[0;32m--> 106\u001b[0m     outputs \u001b[38;5;241m=\u001b[39m \u001b[43mmodel2\u001b[49m\u001b[43m(\u001b[49m\u001b[38;5;241;43m*\u001b[39;49m\u001b[38;5;241;43m*\u001b[39;49m\u001b[43mbatch\u001b[49m\u001b[43m)\u001b[49m\n\u001b[1;32m    107\u001b[0m     loss \u001b[38;5;241m=\u001b[39m outputs\u001b[38;5;241m.\u001b[39mloss\n\u001b[1;32m    108\u001b[0m     loss\u001b[38;5;241m.\u001b[39mbackward()\n",
                          "File \u001b[0;32m~/anaconda3/envs/ece1786/lib/python3.10/site-packages/torch/nn/modules/module.py:1553\u001b[0m, in \u001b[0;36mModule._wrapped_call_impl\u001b[0;34m(self, *args, **kwargs)\u001b[0m\n\u001b[1;32m   1551\u001b[0m     \u001b[38;5;28;01mreturn\u001b[39;00m \u001b[38;5;28mself\u001b[39m\u001b[38;5;241m.\u001b[39m_compiled_call_impl(\u001b[38;5;241m*\u001b[39margs, \u001b[38;5;241m*\u001b[39m\u001b[38;5;241m*\u001b[39mkwargs)  \u001b[38;5;66;03m# type: ignore[misc]\u001b[39;00m\n\u001b[1;32m   1552\u001b[0m \u001b[38;5;28;01melse\u001b[39;00m:\n\u001b[0;32m-> 1553\u001b[0m     \u001b[38;5;28;01mreturn\u001b[39;00m \u001b[38;5;28;43mself\u001b[39;49m\u001b[38;5;241;43m.\u001b[39;49m\u001b[43m_call_impl\u001b[49m\u001b[43m(\u001b[49m\u001b[38;5;241;43m*\u001b[39;49m\u001b[43margs\u001b[49m\u001b[43m,\u001b[49m\u001b[43m \u001b[49m\u001b[38;5;241;43m*\u001b[39;49m\u001b[38;5;241;43m*\u001b[39;49m\u001b[43mkwargs\u001b[49m\u001b[43m)\u001b[49m\n",
                          "File \u001b[0;32m~/anaconda3/envs/ece1786/lib/python3.10/site-packages/torch/nn/modules/module.py:1562\u001b[0m, in \u001b[0;36mModule._call_impl\u001b[0;34m(self, *args, **kwargs)\u001b[0m\n\u001b[1;32m   1557\u001b[0m \u001b[38;5;66;03m# If we don't have any hooks, we want to skip the rest of the logic in\u001b[39;00m\n\u001b[1;32m   1558\u001b[0m \u001b[38;5;66;03m# this function, and just call forward.\u001b[39;00m\n\u001b[1;32m   1559\u001b[0m \u001b[38;5;28;01mif\u001b[39;00m \u001b[38;5;129;01mnot\u001b[39;00m (\u001b[38;5;28mself\u001b[39m\u001b[38;5;241m.\u001b[39m_backward_hooks \u001b[38;5;129;01mor\u001b[39;00m \u001b[38;5;28mself\u001b[39m\u001b[38;5;241m.\u001b[39m_backward_pre_hooks \u001b[38;5;129;01mor\u001b[39;00m \u001b[38;5;28mself\u001b[39m\u001b[38;5;241m.\u001b[39m_forward_hooks \u001b[38;5;129;01mor\u001b[39;00m \u001b[38;5;28mself\u001b[39m\u001b[38;5;241m.\u001b[39m_forward_pre_hooks\n\u001b[1;32m   1560\u001b[0m         \u001b[38;5;129;01mor\u001b[39;00m _global_backward_pre_hooks \u001b[38;5;129;01mor\u001b[39;00m _global_backward_hooks\n\u001b[1;32m   1561\u001b[0m         \u001b[38;5;129;01mor\u001b[39;00m _global_forward_hooks \u001b[38;5;129;01mor\u001b[39;00m _global_forward_pre_hooks):\n\u001b[0;32m-> 1562\u001b[0m     \u001b[38;5;28;01mreturn\u001b[39;00m \u001b[43mforward_call\u001b[49m\u001b[43m(\u001b[49m\u001b[38;5;241;43m*\u001b[39;49m\u001b[43margs\u001b[49m\u001b[43m,\u001b[49m\u001b[43m \u001b[49m\u001b[38;5;241;43m*\u001b[39;49m\u001b[38;5;241;43m*\u001b[39;49m\u001b[43mkwargs\u001b[49m\u001b[43m)\u001b[49m\n\u001b[1;32m   1564\u001b[0m \u001b[38;5;28;01mtry\u001b[39;00m:\n\u001b[1;32m   1565\u001b[0m     result \u001b[38;5;241m=\u001b[39m \u001b[38;5;28;01mNone\u001b[39;00m\n",
                          "File \u001b[0;32m~/anaconda3/envs/ece1786/lib/python3.10/site-packages/transformers/models/gpt2/modeling_gpt2.py:1426\u001b[0m, in \u001b[0;36mGPT2ForSequenceClassification.forward\u001b[0;34m(self, input_ids, past_key_values, attention_mask, token_type_ids, position_ids, head_mask, inputs_embeds, labels, use_cache, output_attentions, output_hidden_states, return_dict)\u001b[0m\n\u001b[1;32m   1418\u001b[0m \u001b[38;5;250m\u001b[39m\u001b[38;5;124mr\u001b[39m\u001b[38;5;124;03m\"\"\"\u001b[39;00m\n\u001b[1;32m   1419\u001b[0m \u001b[38;5;124;03mlabels (`torch.LongTensor` of shape `(batch_size,)`, *optional*):\u001b[39;00m\n\u001b[1;32m   1420\u001b[0m \u001b[38;5;124;03m    Labels for computing the sequence classification/regression loss. Indices should be in `[0, ...,\u001b[39;00m\n\u001b[1;32m   1421\u001b[0m \u001b[38;5;124;03m    config.num_labels - 1]`. If `config.num_labels == 1` a regression loss is computed (Mean-Square loss), If\u001b[39;00m\n\u001b[1;32m   1422\u001b[0m \u001b[38;5;124;03m    `config.num_labels > 1` a classification loss is computed (Cross-Entropy).\u001b[39;00m\n\u001b[1;32m   1423\u001b[0m \u001b[38;5;124;03m\"\"\"\u001b[39;00m\n\u001b[1;32m   1424\u001b[0m return_dict \u001b[38;5;241m=\u001b[39m return_dict \u001b[38;5;28;01mif\u001b[39;00m return_dict \u001b[38;5;129;01mis\u001b[39;00m \u001b[38;5;129;01mnot\u001b[39;00m \u001b[38;5;28;01mNone\u001b[39;00m \u001b[38;5;28;01melse\u001b[39;00m \u001b[38;5;28mself\u001b[39m\u001b[38;5;241m.\u001b[39mconfig\u001b[38;5;241m.\u001b[39muse_return_dict\n\u001b[0;32m-> 1426\u001b[0m transformer_outputs \u001b[38;5;241m=\u001b[39m \u001b[38;5;28;43mself\u001b[39;49m\u001b[38;5;241;43m.\u001b[39;49m\u001b[43mtransformer\u001b[49m\u001b[43m(\u001b[49m\n\u001b[1;32m   1427\u001b[0m \u001b[43m    \u001b[49m\u001b[43minput_ids\u001b[49m\u001b[43m,\u001b[49m\n\u001b[1;32m   1428\u001b[0m \u001b[43m    \u001b[49m\u001b[43mpast_key_values\u001b[49m\u001b[38;5;241;43m=\u001b[39;49m\u001b[43mpast_key_values\u001b[49m\u001b[43m,\u001b[49m\n\u001b[1;32m   1429\u001b[0m \u001b[43m    \u001b[49m\u001b[43mattention_mask\u001b[49m\u001b[38;5;241;43m=\u001b[39;49m\u001b[43mattention_mask\u001b[49m\u001b[43m,\u001b[49m\n\u001b[1;32m   1430\u001b[0m \u001b[43m    \u001b[49m\u001b[43mtoken_type_ids\u001b[49m\u001b[38;5;241;43m=\u001b[39;49m\u001b[43mtoken_type_ids\u001b[49m\u001b[43m,\u001b[49m\n\u001b[1;32m   1431\u001b[0m \u001b[43m    \u001b[49m\u001b[43mposition_ids\u001b[49m\u001b[38;5;241;43m=\u001b[39;49m\u001b[43mposition_ids\u001b[49m\u001b[43m,\u001b[49m\n\u001b[1;32m   1432\u001b[0m \u001b[43m    \u001b[49m\u001b[43mhead_mask\u001b[49m\u001b[38;5;241;43m=\u001b[39;49m\u001b[43mhead_mask\u001b[49m\u001b[43m,\u001b[49m\n\u001b[1;32m   1433\u001b[0m \u001b[43m    \u001b[49m\u001b[43minputs_embeds\u001b[49m\u001b[38;5;241;43m=\u001b[39;49m\u001b[43minputs_embeds\u001b[49m\u001b[43m,\u001b[49m\n\u001b[1;32m   1434\u001b[0m \u001b[43m    \u001b[49m\u001b[43muse_cache\u001b[49m\u001b[38;5;241;43m=\u001b[39;49m\u001b[43muse_cache\u001b[49m\u001b[43m,\u001b[49m\n\u001b[1;32m   1435\u001b[0m \u001b[43m    \u001b[49m\u001b[43moutput_attentions\u001b[49m\u001b[38;5;241;43m=\u001b[39;49m\u001b[43moutput_attentions\u001b[49m\u001b[43m,\u001b[49m\n\u001b[1;32m   1436\u001b[0m \u001b[43m    \u001b[49m\u001b[43moutput_hidden_states\u001b[49m\u001b[38;5;241;43m=\u001b[39;49m\u001b[43moutput_hidden_states\u001b[49m\u001b[43m,\u001b[49m\n\u001b[1;32m   1437\u001b[0m \u001b[43m    \u001b[49m\u001b[43mreturn_dict\u001b[49m\u001b[38;5;241;43m=\u001b[39;49m\u001b[43mreturn_dict\u001b[49m\u001b[43m,\u001b[49m\n\u001b[1;32m   1438\u001b[0m \u001b[43m\u001b[49m\u001b[43m)\u001b[49m\n\u001b[1;32m   1439\u001b[0m hidden_states \u001b[38;5;241m=\u001b[39m transformer_outputs[\u001b[38;5;241m0\u001b[39m]\n\u001b[1;32m   1440\u001b[0m logits \u001b[38;5;241m=\u001b[39m \u001b[38;5;28mself\u001b[39m\u001b[38;5;241m.\u001b[39mscore(hidden_states)\n",
                          "File \u001b[0;32m~/anaconda3/envs/ece1786/lib/python3.10/site-packages/torch/nn/modules/module.py:1553\u001b[0m, in \u001b[0;36mModule._wrapped_call_impl\u001b[0;34m(self, *args, **kwargs)\u001b[0m\n\u001b[1;32m   1551\u001b[0m     \u001b[38;5;28;01mreturn\u001b[39;00m \u001b[38;5;28mself\u001b[39m\u001b[38;5;241m.\u001b[39m_compiled_call_impl(\u001b[38;5;241m*\u001b[39margs, \u001b[38;5;241m*\u001b[39m\u001b[38;5;241m*\u001b[39mkwargs)  \u001b[38;5;66;03m# type: ignore[misc]\u001b[39;00m\n\u001b[1;32m   1552\u001b[0m \u001b[38;5;28;01melse\u001b[39;00m:\n\u001b[0;32m-> 1553\u001b[0m     \u001b[38;5;28;01mreturn\u001b[39;00m \u001b[38;5;28;43mself\u001b[39;49m\u001b[38;5;241;43m.\u001b[39;49m\u001b[43m_call_impl\u001b[49m\u001b[43m(\u001b[49m\u001b[38;5;241;43m*\u001b[39;49m\u001b[43margs\u001b[49m\u001b[43m,\u001b[49m\u001b[43m \u001b[49m\u001b[38;5;241;43m*\u001b[39;49m\u001b[38;5;241;43m*\u001b[39;49m\u001b[43mkwargs\u001b[49m\u001b[43m)\u001b[49m\n",
                          "File \u001b[0;32m~/anaconda3/envs/ece1786/lib/python3.10/site-packages/torch/nn/modules/module.py:1562\u001b[0m, in \u001b[0;36mModule._call_impl\u001b[0;34m(self, *args, **kwargs)\u001b[0m\n\u001b[1;32m   1557\u001b[0m \u001b[38;5;66;03m# If we don't have any hooks, we want to skip the rest of the logic in\u001b[39;00m\n\u001b[1;32m   1558\u001b[0m \u001b[38;5;66;03m# this function, and just call forward.\u001b[39;00m\n\u001b[1;32m   1559\u001b[0m \u001b[38;5;28;01mif\u001b[39;00m \u001b[38;5;129;01mnot\u001b[39;00m (\u001b[38;5;28mself\u001b[39m\u001b[38;5;241m.\u001b[39m_backward_hooks \u001b[38;5;129;01mor\u001b[39;00m \u001b[38;5;28mself\u001b[39m\u001b[38;5;241m.\u001b[39m_backward_pre_hooks \u001b[38;5;129;01mor\u001b[39;00m \u001b[38;5;28mself\u001b[39m\u001b[38;5;241m.\u001b[39m_forward_hooks \u001b[38;5;129;01mor\u001b[39;00m \u001b[38;5;28mself\u001b[39m\u001b[38;5;241m.\u001b[39m_forward_pre_hooks\n\u001b[1;32m   1560\u001b[0m         \u001b[38;5;129;01mor\u001b[39;00m _global_backward_pre_hooks \u001b[38;5;129;01mor\u001b[39;00m _global_backward_hooks\n\u001b[1;32m   1561\u001b[0m         \u001b[38;5;129;01mor\u001b[39;00m _global_forward_hooks \u001b[38;5;129;01mor\u001b[39;00m _global_forward_pre_hooks):\n\u001b[0;32m-> 1562\u001b[0m     \u001b[38;5;28;01mreturn\u001b[39;00m \u001b[43mforward_call\u001b[49m\u001b[43m(\u001b[49m\u001b[38;5;241;43m*\u001b[39;49m\u001b[43margs\u001b[49m\u001b[43m,\u001b[49m\u001b[43m \u001b[49m\u001b[38;5;241;43m*\u001b[39;49m\u001b[38;5;241;43m*\u001b[39;49m\u001b[43mkwargs\u001b[49m\u001b[43m)\u001b[49m\n\u001b[1;32m   1564\u001b[0m \u001b[38;5;28;01mtry\u001b[39;00m:\n\u001b[1;32m   1565\u001b[0m     result \u001b[38;5;241m=\u001b[39m \u001b[38;5;28;01mNone\u001b[39;00m\n",
                          "File \u001b[0;32m~/anaconda3/envs/ece1786/lib/python3.10/site-packages/transformers/models/gpt2/modeling_gpt2.py:888\u001b[0m, in \u001b[0;36mGPT2Model.forward\u001b[0;34m(self, input_ids, past_key_values, attention_mask, token_type_ids, position_ids, head_mask, inputs_embeds, encoder_hidden_states, encoder_attention_mask, use_cache, output_attentions, output_hidden_states, return_dict)\u001b[0m\n\u001b[1;32m    876\u001b[0m     outputs \u001b[38;5;241m=\u001b[39m \u001b[38;5;28mself\u001b[39m\u001b[38;5;241m.\u001b[39m_gradient_checkpointing_func(\n\u001b[1;32m    877\u001b[0m         block\u001b[38;5;241m.\u001b[39m\u001b[38;5;21m__call__\u001b[39m,\n\u001b[1;32m    878\u001b[0m         hidden_states,\n\u001b[0;32m   (...)\u001b[0m\n\u001b[1;32m    885\u001b[0m         output_attentions,\n\u001b[1;32m    886\u001b[0m     )\n\u001b[1;32m    887\u001b[0m \u001b[38;5;28;01melse\u001b[39;00m:\n\u001b[0;32m--> 888\u001b[0m     outputs \u001b[38;5;241m=\u001b[39m \u001b[43mblock\u001b[49m\u001b[43m(\u001b[49m\n\u001b[1;32m    889\u001b[0m \u001b[43m        \u001b[49m\u001b[43mhidden_states\u001b[49m\u001b[43m,\u001b[49m\n\u001b[1;32m    890\u001b[0m \u001b[43m        \u001b[49m\u001b[43mlayer_past\u001b[49m\u001b[38;5;241;43m=\u001b[39;49m\u001b[43mlayer_past\u001b[49m\u001b[43m,\u001b[49m\n\u001b[1;32m    891\u001b[0m \u001b[43m        \u001b[49m\u001b[43mattention_mask\u001b[49m\u001b[38;5;241;43m=\u001b[39;49m\u001b[43mattention_mask\u001b[49m\u001b[43m,\u001b[49m\n\u001b[1;32m    892\u001b[0m \u001b[43m        \u001b[49m\u001b[43mhead_mask\u001b[49m\u001b[38;5;241;43m=\u001b[39;49m\u001b[43mhead_mask\u001b[49m\u001b[43m[\u001b[49m\u001b[43mi\u001b[49m\u001b[43m]\u001b[49m\u001b[43m,\u001b[49m\n\u001b[1;32m    893\u001b[0m \u001b[43m        \u001b[49m\u001b[43mencoder_hidden_states\u001b[49m\u001b[38;5;241;43m=\u001b[39;49m\u001b[43mencoder_hidden_states\u001b[49m\u001b[43m,\u001b[49m\n\u001b[1;32m    894\u001b[0m \u001b[43m        \u001b[49m\u001b[43mencoder_attention_mask\u001b[49m\u001b[38;5;241;43m=\u001b[39;49m\u001b[43mencoder_attention_mask\u001b[49m\u001b[43m,\u001b[49m\n\u001b[1;32m    895\u001b[0m \u001b[43m        \u001b[49m\u001b[43muse_cache\u001b[49m\u001b[38;5;241;43m=\u001b[39;49m\u001b[43muse_cache\u001b[49m\u001b[43m,\u001b[49m\n\u001b[1;32m    896\u001b[0m \u001b[43m        \u001b[49m\u001b[43moutput_attentions\u001b[49m\u001b[38;5;241;43m=\u001b[39;49m\u001b[43moutput_attentions\u001b[49m\u001b[43m,\u001b[49m\n\u001b[1;32m    897\u001b[0m \u001b[43m    \u001b[49m\u001b[43m)\u001b[49m\n\u001b[1;32m    899\u001b[0m hidden_states \u001b[38;5;241m=\u001b[39m outputs[\u001b[38;5;241m0\u001b[39m]\n\u001b[1;32m    900\u001b[0m \u001b[38;5;28;01mif\u001b[39;00m use_cache \u001b[38;5;129;01mis\u001b[39;00m \u001b[38;5;28;01mTrue\u001b[39;00m:\n",
                          "File \u001b[0;32m~/anaconda3/envs/ece1786/lib/python3.10/site-packages/torch/nn/modules/module.py:1553\u001b[0m, in \u001b[0;36mModule._wrapped_call_impl\u001b[0;34m(self, *args, **kwargs)\u001b[0m\n\u001b[1;32m   1551\u001b[0m     \u001b[38;5;28;01mreturn\u001b[39;00m \u001b[38;5;28mself\u001b[39m\u001b[38;5;241m.\u001b[39m_compiled_call_impl(\u001b[38;5;241m*\u001b[39margs, \u001b[38;5;241m*\u001b[39m\u001b[38;5;241m*\u001b[39mkwargs)  \u001b[38;5;66;03m# type: ignore[misc]\u001b[39;00m\n\u001b[1;32m   1552\u001b[0m \u001b[38;5;28;01melse\u001b[39;00m:\n\u001b[0;32m-> 1553\u001b[0m     \u001b[38;5;28;01mreturn\u001b[39;00m \u001b[38;5;28;43mself\u001b[39;49m\u001b[38;5;241;43m.\u001b[39;49m\u001b[43m_call_impl\u001b[49m\u001b[43m(\u001b[49m\u001b[38;5;241;43m*\u001b[39;49m\u001b[43margs\u001b[49m\u001b[43m,\u001b[49m\u001b[43m \u001b[49m\u001b[38;5;241;43m*\u001b[39;49m\u001b[38;5;241;43m*\u001b[39;49m\u001b[43mkwargs\u001b[49m\u001b[43m)\u001b[49m\n",
                          "File \u001b[0;32m~/anaconda3/envs/ece1786/lib/python3.10/site-packages/torch/nn/modules/module.py:1562\u001b[0m, in \u001b[0;36mModule._call_impl\u001b[0;34m(self, *args, **kwargs)\u001b[0m\n\u001b[1;32m   1557\u001b[0m \u001b[38;5;66;03m# If we don't have any hooks, we want to skip the rest of the logic in\u001b[39;00m\n\u001b[1;32m   1558\u001b[0m \u001b[38;5;66;03m# this function, and just call forward.\u001b[39;00m\n\u001b[1;32m   1559\u001b[0m \u001b[38;5;28;01mif\u001b[39;00m \u001b[38;5;129;01mnot\u001b[39;00m (\u001b[38;5;28mself\u001b[39m\u001b[38;5;241m.\u001b[39m_backward_hooks \u001b[38;5;129;01mor\u001b[39;00m \u001b[38;5;28mself\u001b[39m\u001b[38;5;241m.\u001b[39m_backward_pre_hooks \u001b[38;5;129;01mor\u001b[39;00m \u001b[38;5;28mself\u001b[39m\u001b[38;5;241m.\u001b[39m_forward_hooks \u001b[38;5;129;01mor\u001b[39;00m \u001b[38;5;28mself\u001b[39m\u001b[38;5;241m.\u001b[39m_forward_pre_hooks\n\u001b[1;32m   1560\u001b[0m         \u001b[38;5;129;01mor\u001b[39;00m _global_backward_pre_hooks \u001b[38;5;129;01mor\u001b[39;00m _global_backward_hooks\n\u001b[1;32m   1561\u001b[0m         \u001b[38;5;129;01mor\u001b[39;00m _global_forward_hooks \u001b[38;5;129;01mor\u001b[39;00m _global_forward_pre_hooks):\n\u001b[0;32m-> 1562\u001b[0m     \u001b[38;5;28;01mreturn\u001b[39;00m \u001b[43mforward_call\u001b[49m\u001b[43m(\u001b[49m\u001b[38;5;241;43m*\u001b[39;49m\u001b[43margs\u001b[49m\u001b[43m,\u001b[49m\u001b[43m \u001b[49m\u001b[38;5;241;43m*\u001b[39;49m\u001b[38;5;241;43m*\u001b[39;49m\u001b[43mkwargs\u001b[49m\u001b[43m)\u001b[49m\n\u001b[1;32m   1564\u001b[0m \u001b[38;5;28;01mtry\u001b[39;00m:\n\u001b[1;32m   1565\u001b[0m     result \u001b[38;5;241m=\u001b[39m \u001b[38;5;28;01mNone\u001b[39;00m\n",
                          "File \u001b[0;32m~/anaconda3/envs/ece1786/lib/python3.10/site-packages/transformers/models/gpt2/modeling_gpt2.py:390\u001b[0m, in \u001b[0;36mGPT2Block.forward\u001b[0;34m(self, hidden_states, layer_past, attention_mask, head_mask, encoder_hidden_states, encoder_attention_mask, use_cache, output_attentions)\u001b[0m\n\u001b[1;32m    388\u001b[0m residual \u001b[38;5;241m=\u001b[39m hidden_states\n\u001b[1;32m    389\u001b[0m hidden_states \u001b[38;5;241m=\u001b[39m \u001b[38;5;28mself\u001b[39m\u001b[38;5;241m.\u001b[39mln_1(hidden_states)\n\u001b[0;32m--> 390\u001b[0m attn_outputs \u001b[38;5;241m=\u001b[39m \u001b[38;5;28;43mself\u001b[39;49m\u001b[38;5;241;43m.\u001b[39;49m\u001b[43mattn\u001b[49m\u001b[43m(\u001b[49m\n\u001b[1;32m    391\u001b[0m \u001b[43m    \u001b[49m\u001b[43mhidden_states\u001b[49m\u001b[43m,\u001b[49m\n\u001b[1;32m    392\u001b[0m \u001b[43m    \u001b[49m\u001b[43mlayer_past\u001b[49m\u001b[38;5;241;43m=\u001b[39;49m\u001b[43mlayer_past\u001b[49m\u001b[43m,\u001b[49m\n\u001b[1;32m    393\u001b[0m \u001b[43m    \u001b[49m\u001b[43mattention_mask\u001b[49m\u001b[38;5;241;43m=\u001b[39;49m\u001b[43mattention_mask\u001b[49m\u001b[43m,\u001b[49m\n\u001b[1;32m    394\u001b[0m \u001b[43m    \u001b[49m\u001b[43mhead_mask\u001b[49m\u001b[38;5;241;43m=\u001b[39;49m\u001b[43mhead_mask\u001b[49m\u001b[43m,\u001b[49m\n\u001b[1;32m    395\u001b[0m \u001b[43m    \u001b[49m\u001b[43muse_cache\u001b[49m\u001b[38;5;241;43m=\u001b[39;49m\u001b[43muse_cache\u001b[49m\u001b[43m,\u001b[49m\n\u001b[1;32m    396\u001b[0m \u001b[43m    \u001b[49m\u001b[43moutput_attentions\u001b[49m\u001b[38;5;241;43m=\u001b[39;49m\u001b[43moutput_attentions\u001b[49m\u001b[43m,\u001b[49m\n\u001b[1;32m    397\u001b[0m \u001b[43m\u001b[49m\u001b[43m)\u001b[49m\n\u001b[1;32m    398\u001b[0m attn_output \u001b[38;5;241m=\u001b[39m attn_outputs[\u001b[38;5;241m0\u001b[39m]  \u001b[38;5;66;03m# output_attn: a, present, (attentions)\u001b[39;00m\n\u001b[1;32m    399\u001b[0m outputs \u001b[38;5;241m=\u001b[39m attn_outputs[\u001b[38;5;241m1\u001b[39m:]\n",
                          "File \u001b[0;32m~/anaconda3/envs/ece1786/lib/python3.10/site-packages/torch/nn/modules/module.py:1553\u001b[0m, in \u001b[0;36mModule._wrapped_call_impl\u001b[0;34m(self, *args, **kwargs)\u001b[0m\n\u001b[1;32m   1551\u001b[0m     \u001b[38;5;28;01mreturn\u001b[39;00m \u001b[38;5;28mself\u001b[39m\u001b[38;5;241m.\u001b[39m_compiled_call_impl(\u001b[38;5;241m*\u001b[39margs, \u001b[38;5;241m*\u001b[39m\u001b[38;5;241m*\u001b[39mkwargs)  \u001b[38;5;66;03m# type: ignore[misc]\u001b[39;00m\n\u001b[1;32m   1552\u001b[0m \u001b[38;5;28;01melse\u001b[39;00m:\n\u001b[0;32m-> 1553\u001b[0m     \u001b[38;5;28;01mreturn\u001b[39;00m \u001b[38;5;28;43mself\u001b[39;49m\u001b[38;5;241;43m.\u001b[39;49m\u001b[43m_call_impl\u001b[49m\u001b[43m(\u001b[49m\u001b[38;5;241;43m*\u001b[39;49m\u001b[43margs\u001b[49m\u001b[43m,\u001b[49m\u001b[43m \u001b[49m\u001b[38;5;241;43m*\u001b[39;49m\u001b[38;5;241;43m*\u001b[39;49m\u001b[43mkwargs\u001b[49m\u001b[43m)\u001b[49m\n",
                          "File \u001b[0;32m~/anaconda3/envs/ece1786/lib/python3.10/site-packages/torch/nn/modules/module.py:1562\u001b[0m, in \u001b[0;36mModule._call_impl\u001b[0;34m(self, *args, **kwargs)\u001b[0m\n\u001b[1;32m   1557\u001b[0m \u001b[38;5;66;03m# If we don't have any hooks, we want to skip the rest of the logic in\u001b[39;00m\n\u001b[1;32m   1558\u001b[0m \u001b[38;5;66;03m# this function, and just call forward.\u001b[39;00m\n\u001b[1;32m   1559\u001b[0m \u001b[38;5;28;01mif\u001b[39;00m \u001b[38;5;129;01mnot\u001b[39;00m (\u001b[38;5;28mself\u001b[39m\u001b[38;5;241m.\u001b[39m_backward_hooks \u001b[38;5;129;01mor\u001b[39;00m \u001b[38;5;28mself\u001b[39m\u001b[38;5;241m.\u001b[39m_backward_pre_hooks \u001b[38;5;129;01mor\u001b[39;00m \u001b[38;5;28mself\u001b[39m\u001b[38;5;241m.\u001b[39m_forward_hooks \u001b[38;5;129;01mor\u001b[39;00m \u001b[38;5;28mself\u001b[39m\u001b[38;5;241m.\u001b[39m_forward_pre_hooks\n\u001b[1;32m   1560\u001b[0m         \u001b[38;5;129;01mor\u001b[39;00m _global_backward_pre_hooks \u001b[38;5;129;01mor\u001b[39;00m _global_backward_hooks\n\u001b[1;32m   1561\u001b[0m         \u001b[38;5;129;01mor\u001b[39;00m _global_forward_hooks \u001b[38;5;129;01mor\u001b[39;00m _global_forward_pre_hooks):\n\u001b[0;32m-> 1562\u001b[0m     \u001b[38;5;28;01mreturn\u001b[39;00m \u001b[43mforward_call\u001b[49m\u001b[43m(\u001b[49m\u001b[38;5;241;43m*\u001b[39;49m\u001b[43margs\u001b[49m\u001b[43m,\u001b[49m\u001b[43m \u001b[49m\u001b[38;5;241;43m*\u001b[39;49m\u001b[38;5;241;43m*\u001b[39;49m\u001b[43mkwargs\u001b[49m\u001b[43m)\u001b[49m\n\u001b[1;32m   1564\u001b[0m \u001b[38;5;28;01mtry\u001b[39;00m:\n\u001b[1;32m   1565\u001b[0m     result \u001b[38;5;241m=\u001b[39m \u001b[38;5;28;01mNone\u001b[39;00m\n",
                          "File \u001b[0;32m~/anaconda3/envs/ece1786/lib/python3.10/site-packages/transformers/models/gpt2/modeling_gpt2.py:331\u001b[0m, in \u001b[0;36mGPT2Attention.forward\u001b[0;34m(self, hidden_states, layer_past, attention_mask, head_mask, encoder_hidden_states, encoder_attention_mask, use_cache, output_attentions)\u001b[0m\n\u001b[1;32m    329\u001b[0m     attn_output, attn_weights \u001b[38;5;241m=\u001b[39m \u001b[38;5;28mself\u001b[39m\u001b[38;5;241m.\u001b[39m_upcast_and_reordered_attn(query, key, value, attention_mask, head_mask)\n\u001b[1;32m    330\u001b[0m \u001b[38;5;28;01melse\u001b[39;00m:\n\u001b[0;32m--> 331\u001b[0m     attn_output, attn_weights \u001b[38;5;241m=\u001b[39m \u001b[38;5;28;43mself\u001b[39;49m\u001b[38;5;241;43m.\u001b[39;49m\u001b[43m_attn\u001b[49m\u001b[43m(\u001b[49m\u001b[43mquery\u001b[49m\u001b[43m,\u001b[49m\u001b[43m \u001b[49m\u001b[43mkey\u001b[49m\u001b[43m,\u001b[49m\u001b[43m \u001b[49m\u001b[43mvalue\u001b[49m\u001b[43m,\u001b[49m\u001b[43m \u001b[49m\u001b[43mattention_mask\u001b[49m\u001b[43m,\u001b[49m\u001b[43m \u001b[49m\u001b[43mhead_mask\u001b[49m\u001b[43m)\u001b[49m\n\u001b[1;32m    333\u001b[0m attn_output \u001b[38;5;241m=\u001b[39m \u001b[38;5;28mself\u001b[39m\u001b[38;5;241m.\u001b[39m_merge_heads(attn_output, \u001b[38;5;28mself\u001b[39m\u001b[38;5;241m.\u001b[39mnum_heads, \u001b[38;5;28mself\u001b[39m\u001b[38;5;241m.\u001b[39mhead_dim)\n\u001b[1;32m    334\u001b[0m attn_output \u001b[38;5;241m=\u001b[39m \u001b[38;5;28mself\u001b[39m\u001b[38;5;241m.\u001b[39mc_proj(attn_output)\n",
                          "File \u001b[0;32m~/anaconda3/envs/ece1786/lib/python3.10/site-packages/transformers/models/gpt2/modeling_gpt2.py:183\u001b[0m, in \u001b[0;36mGPT2Attention._attn\u001b[0;34m(self, query, key, value, attention_mask, head_mask)\u001b[0m\n\u001b[1;32m    182\u001b[0m \u001b[38;5;28;01mdef\u001b[39;00m \u001b[38;5;21m_attn\u001b[39m(\u001b[38;5;28mself\u001b[39m, query, key, value, attention_mask\u001b[38;5;241m=\u001b[39m\u001b[38;5;28;01mNone\u001b[39;00m, head_mask\u001b[38;5;241m=\u001b[39m\u001b[38;5;28;01mNone\u001b[39;00m):\n\u001b[0;32m--> 183\u001b[0m     attn_weights \u001b[38;5;241m=\u001b[39m \u001b[43mtorch\u001b[49m\u001b[38;5;241;43m.\u001b[39;49m\u001b[43mmatmul\u001b[49m\u001b[43m(\u001b[49m\u001b[43mquery\u001b[49m\u001b[43m,\u001b[49m\u001b[43m \u001b[49m\u001b[43mkey\u001b[49m\u001b[38;5;241;43m.\u001b[39;49m\u001b[43mtranspose\u001b[49m\u001b[43m(\u001b[49m\u001b[38;5;241;43m-\u001b[39;49m\u001b[38;5;241;43m1\u001b[39;49m\u001b[43m,\u001b[49m\u001b[43m \u001b[49m\u001b[38;5;241;43m-\u001b[39;49m\u001b[38;5;241;43m2\u001b[39;49m\u001b[43m)\u001b[49m\u001b[43m)\u001b[49m\n\u001b[1;32m    185\u001b[0m     \u001b[38;5;28;01mif\u001b[39;00m \u001b[38;5;28mself\u001b[39m\u001b[38;5;241m.\u001b[39mscale_attn_weights:\n\u001b[1;32m    186\u001b[0m         attn_weights \u001b[38;5;241m=\u001b[39m attn_weights \u001b[38;5;241m/\u001b[39m torch\u001b[38;5;241m.\u001b[39mfull(\n\u001b[1;32m    187\u001b[0m             [], value\u001b[38;5;241m.\u001b[39msize(\u001b[38;5;241m-\u001b[39m\u001b[38;5;241m1\u001b[39m) \u001b[38;5;241m*\u001b[39m\u001b[38;5;241m*\u001b[39m \u001b[38;5;241m0.5\u001b[39m, dtype\u001b[38;5;241m=\u001b[39mattn_weights\u001b[38;5;241m.\u001b[39mdtype, device\u001b[38;5;241m=\u001b[39mattn_weights\u001b[38;5;241m.\u001b[39mdevice\n\u001b[1;32m    188\u001b[0m         )\n",
                          "\u001b[0;31mKeyboardInterrupt\u001b[0m: "
                      ]
                  }
              ],
              "source": [
                  "num_labels_2 = 8\n",
                  "\n",
                  "# Move model2 to device (GPU if available)\n",
                  "device2 = torch.device(\"cuda\") if torch.cuda.is_available() else torch.device(\"cpu\")\n",
                  "\n",
                  "# Set up configuration and add pad token ID\n",
                  "configuration2 = GPT2Config.from_pretrained(\"Harshad018/trained-gpt2-tweet-analysis\")\n",
                  "configuration2.pad_token_id = configuration2.eos_token_id  # Use eos_token_id as the pad token\n",
                  "configuration2.num_labels = num_labels_2  # Update the number of labels\n",
                  "\n",
                  "# Load tokenizer and set pad token\n",
                  "tokenizer2 = GPT2Tokenizer.from_pretrained(\"Harshad018/trained-gpt2-tweet-analysis\")\n",
                  "tokenizer2.pad_token = tokenizer2.eos_token  # Set pad token to eos token\n",
                  "\n",
                  "# Load model with configuration\n",
                  "model2 = GPT2ForSequenceClassification.from_pretrained(\n",
                  "    \"Harshad018/trained-gpt2-tweet-analysis\", \n",
                  "    config=configuration2, \n",
                  "    ignore_mismatched_sizes=True\n",
                  ").to(device2)\n",
                  "\n",
                  "# Tokenization function\n",
                  "def tokenize_function(examples):\n",
                  "    # Concatenate the input columns for each example in the batch\n",
                  "    combined_text = [\n",
                  "        p + \" \" + e + \" \" + t for p, e, t in zip(examples[\"prompt\"], examples[\"essay\"], examples[\"text\"])\n",
                  "    ]\n",
                  "    # Tokenize the concatenated text\n",
                  "    return tokenizer2(combined_text, padding=\"max_length\", truncation=True, max_length=1024)\n",
                  "\n",
                  "# Tokenize the dataset\n",
                  "tokenized_datasets2 = dataset2.map(tokenize_function, batched=True)\n",
                  "tokenized_datasets2 = tokenized_datasets2.remove_columns([\"prompt\", \"essay\", \"text\"])\n",
                  "tokenized_datasets2 = tokenized_datasets2.rename_column(\"score\", \"labels\")\n",
                  "tokenized_datasets2.set_format(type=\"torch\", columns=[\"input_ids\", \"attention_mask\", \"labels\"])\n",
                  "\n",
                  "# Set random seed for reproducibility\n",
                  "random.seed(42)\n",
                  "np.random.seed(42)\n",
                  "torch.manual_seed(42)\n",
                  "\n",
                  "# Get the labels from the tokenized dataset\n",
                  "labels2 = tokenized_datasets2[\"labels\"]\n",
                  "\n",
                  "# Get the unique labels\n",
                  "unique_labels2 = np.unique(labels2)\n",
                  "\n",
                  "# Store the indices for each label\n",
                  "label_to_indices2 = {label: np.where(labels2 == label)[0] for label in unique_labels2}\n",
                  "\n",
                  "# Lists to hold the train and validation indices\n",
                  "train_indices2 = []\n",
                  "val_indices2 = []\n",
                  "\n",
                  "# For each label, split the indices into train and validation\n",
                  "for label, indices in label_to_indices2.items():\n",
                  "    # Shuffle the indices within each label to ensure random splitting\n",
                  "    np.random.shuffle(indices)\n",
                  "    \n",
                  "    # Split 80% for training, 20% for validation\n",
                  "    split_idx2 = int(0.8 * len(indices))\n",
                  "    train_indices2.extend(indices[:split_idx2])\n",
                  "    val_indices2.extend(indices[split_idx2:])\n",
                  "\n",
                  "# Convert indices to tensors\n",
                  "train_indices2 = torch.tensor(train_indices2)\n",
                  "val_indices2 = torch.tensor(val_indices2)\n",
                  "\n",
                  "# Create Subsets for train and validation datasets\n",
                  "train_dataset2 = Subset(tokenized_datasets2, train_indices2)\n",
                  "eval_dataset2 = Subset(tokenized_datasets2, val_indices2)\n",
                  "\n",
                  "# Dataloaders\n",
                  "train_dataloader2 = DataLoader(train_dataset2, shuffle=True, batch_size=8)\n",
                  "eval_dataloader2 = DataLoader(eval_dataset2, batch_size=8)\n",
                  "\n",
                  "# Set up optimizer and scheduler\n",
                  "optimizer2 = AdamW(model2.parameters(), lr=1e-5)\n",
                  "num_epochs2 = 3\n",
                  "num_training_steps2 = num_epochs2 * len(train_dataloader2)\n",
                  "lr_scheduler2 = get_scheduler(\n",
                  "    name=\"linear\", optimizer=optimizer2, num_warmup_steps=0, num_training_steps=num_training_steps2\n",
                  ")\n",
                  "\n",
                  "model2.to(device2)\n",
                  "\n",
                  "# Initialize lists to track training/validation losses and accuracies\n",
                  "train_losses2 = []\n",
                  "val_losses2 = []\n",
                  "val_f1_scores2 = []\n",
                  "\n",
                  "# Training loop\n",
                  "progress_bar2 = tqdm(range(num_training_steps2))\n",
                  "\n",
                  "# Initialize F1 score metric (weighted-averaged for multi-class classification)\n",
                  "f1_metric2 = F1Score(task=\"multiclass\", num_classes=num_labels_2, average=\"weighted\").to(device2)\n",
                  "\n",
                  "for epoch in range(num_epochs2):\n",
                  "    epoch_train_loss = 0\n",
                  "    epoch_val_loss = 0\n",
                  "    f1_metric2.reset()\n",
                  "    model2.train()\n",
                  "\n",
                  "    for batch in train_dataloader2:\n",
                  "        batch = {k: v.to(device2) for k, v in batch.items()}\n",
                  "        outputs = model2(**batch)\n",
                  "        loss = outputs.loss\n",
                  "        loss.backward()\n",
                  "        optimizer2.step()\n",
                  "        lr_scheduler2.step()\n",
                  "        optimizer2.zero_grad()\n",
                  "\n",
                  "        epoch_train_loss += loss.item()\n",
                  "        progress_bar2.update(1)\n",
                  "\n",
                  "    # Record training loss for the epoch\n",
                  "    train_losses2.append(epoch_train_loss / len(train_dataloader2))\n",
                  "\n",
                  "    # Evaluate the model2\n",
                  "    model2.eval()\n",
                  "    for batch in eval_dataloader2:\n",
                  "        batch = {k: v.to(device2) for k, v in batch.items()}\n",
                  "        with torch.no_grad():\n",
                  "            outputs = model2(**batch)\n",
                  "\n",
                  "        logits = outputs.logits\n",
                  "        predictions = torch.argmax(logits, dim=-1)\n",
                  "        loss = F.cross_entropy(logits, batch[\"labels\"])\n",
                  "\n",
                  "        epoch_val_loss += loss.item()\n",
                  "        f1_metric2(predictions, batch[\"labels\"])  # Update F1 metric with predictions\n",
                  "\n",
                  "    # Record validation loss and accuracy\n",
                  "    val_losses2.append(epoch_val_loss / len(eval_dataloader2))\n",
                  "    val_f12 = f1_metric2.compute().item()\n",
                  "    val_f1_scores2.append(val_f12)\n",
                  "\n",
                  "    print(f\"Epoch {epoch + 1}/{num_epochs2}: train loss {train_losses2[-1]:.4f}, val loss {val_losses2[-1]:.4f}, val accuracy {val_f1_scores2[-1]:.4f}\")\n",
                  "\n",
                  "# Plotting function\n",
                  "def eval_plot(train_losses, val_losses, val_f1_scores):\n",
                  "    epochs = range(1, len(train_losses) + 1)\n",
                  "\n",
                  "    plt.figure(figsize=(12, 6))\n",
                  "\n",
                  "    # Training and validation loss\n",
                  "    plt.subplot(1, 2, 1)\n",
                  "    plt.plot(epochs, train_losses, label=\"Training Loss\")\n",
                  "    plt.plot(epochs, val_losses, label=\"Validation Loss\")\n",
                  "    plt.xlabel('Epoch')\n",
                  "    plt.ylabel('Loss')\n",
                  "    plt.legend()\n",
                  "    plt.title('Training and Validation Loss')\n",
                  "\n",
                  "    # Validation accuracy\n",
                  "    plt.subplot(1, 2, 2)\n",
                  "    plt.plot(epochs, val_f1_scores, label=\"Validation F1\")\n",
                  "    plt.xlabel('Epoch')\n",
                  "    plt.ylabel('F1')\n",
                  "    plt.legend()\n",
                  "    plt.title('Validation F1')\n",
                  "\n",
                  "    plt.tight_layout()\n",
                  "    plt.show()\n",
                  "\n",
                  "# Plot train loss, validation loss, validation accuracy\n",
                  "eval_plot(train_losses2, val_losses2, val_f1_scores2)\n",
                  "\n",
                  "# Print final validation accuracy\n",
                  "print(f\"Final validation F1: {val_f1_scores2[-1]:.4f}\")"
              ]
          },
          {
              "cell_type": "markdown",
              "metadata": {},
              "source": [
                  "#### Trial #2 (6 labels)"
              ]
          },
          {
              "cell_type": "code",
              "execution_count": 6,
              "metadata": {},
              "outputs": [
                  {
                      "name": "stderr",
                      "output_type": "stream",
                      "text": [
                          "/Users/barrychen/anaconda3/envs/ece1786/lib/python3.10/site-packages/huggingface_hub/file_download.py:1150: FutureWarning: `resume_download` is deprecated and will be removed in version 1.0.0. Downloads always resume when possible. If you want to force a new download, use `force_download=True`.\n",
                          "  warnings.warn(\n",
                          "Some weights of GPT2ForSequenceClassification were not initialized from the model checkpoint at Harshad018/trained-gpt2-tweet-analysis and are newly initialized because the shapes did not match:\n",
                          "- score.weight: found shape torch.Size([3, 768]) in the checkpoint and torch.Size([6, 768]) in the model instantiated\n",
                          "You should probably TRAIN this model on a down-stream task to be able to use it for predictions and inference.\n"
                      ]
                  },
                  {
                      "data": {
                          "application/vnd.jupyter.widget-view+json": {
                              "model_id": "fe572ad645254072855e0f91eb5ad2b6",
                              "version_major": 2,
                              "version_minor": 0
                          },
                          "text/plain": [
                              "Map:   0%|          | 0/1740 [00:00<?, ? examples/s]"
                          ]
                      },
                      "metadata": {},
                      "output_type": "display_data"
                  },
                  {
                      "name": "stderr",
                      "output_type": "stream",
                      "text": [
                          "/Users/barrychen/anaconda3/envs/ece1786/lib/python3.10/site-packages/transformers/optimization.py:429: FutureWarning: This implementation of AdamW is deprecated and will be removed in a future version. Use the PyTorch implementation torch.optim.AdamW instead, or set `no_deprecation_warning=True` to disable this warning\n",
                          "  warnings.warn(\n",
                          " 33%|███▎      | 174/522 [2:11:32<4:03:52, 42.05s/it]"
                      ]
                  },
                  {
                      "name": "stdout",
                      "output_type": "stream",
                      "text": [
                          "Epoch 1/3: train loss 1.8470, val loss 1.6775, val accuracy 0.2459\n"
                      ]
                  },
                  {
                      "name": "stderr",
                      "output_type": "stream",
                      "text": [
                          " 67%|██████▋   | 348/522 [4:12:18<1:36:00, 33.10s/it]  "
                      ]
                  },
                  {
                      "name": "stdout",
                      "output_type": "stream",
                      "text": [
                          "Epoch 2/3: train loss 1.5982, val loss 1.5916, val accuracy 0.2422\n"
                      ]
                  },
                  {
                      "name": "stderr",
                      "output_type": "stream",
                      "text": [
                          "100%|██████████| 522/522 [5:36:22<00:00, 27.52s/it]  "
                      ]
                  },
                  {
                      "name": "stdout",
                      "output_type": "stream",
                      "text": [
                          "Epoch 3/3: train loss 1.5265, val loss 1.5436, val accuracy 0.3196\n"
                      ]
                  },
                  {
                      "data": {
                          "image/png": "[encoded data removed]",
                          "text/plain": [
                              "<Figure size 1200x600 with 2 Axes>"
                          ]
                      },
                      "metadata": {},
                      "output_type": "display_data"
                  },
                  {
                      "name": "stdout",
                      "output_type": "stream",
                      "text": [
                          "Final validation F1: 0.3196\n"
                      ]
                  }
              ],
              "source": [
                  "num_labels_2 = 6\n",
                  "\n",
                  "# Move model2 to device (GPU if available)\n",
                  "device2 = torch.device(\"cuda\") if torch.cuda.is_available() else torch.device(\"cpu\")\n",
                  "\n",
                  "# Set up configuration and add pad token ID\n",
                  "configuration2 = GPT2Config.from_pretrained(\"Harshad018/trained-gpt2-tweet-analysis\")\n",
                  "configuration2.pad_token_id = configuration2.eos_token_id  # Use eos_token_id as the pad token\n",
                  "configuration2.num_labels = num_labels_2  # Update the number of labels\n",
                  "\n",
                  "# Load tokenizer and set pad token\n",
                  "tokenizer2 = GPT2Tokenizer.from_pretrained(\"Harshad018/trained-gpt2-tweet-analysis\")\n",
                  "tokenizer2.pad_token = tokenizer2.eos_token  # Set pad token to eos token\n",
                  "\n",
                  "# Load model with configuration\n",
                  "model2 = GPT2ForSequenceClassification.from_pretrained(\n",
                  "    \"Harshad018/trained-gpt2-tweet-analysis\", \n",
                  "    config=configuration2, \n",
                  "    ignore_mismatched_sizes=True\n",
                  ").to(device2)\n",
                  "\n",
                  "# Tokenization function\n",
                  "def tokenize_function(examples):\n",
                  "    # Concatenate the input columns for each example in the batch\n",
                  "    combined_text = [\n",
                  "        p + \" \" + e + \" \" + t for p, e, t in zip(examples[\"prompt\"], examples[\"essay\"], examples[\"text\"])\n",
                  "    ]\n",
                  "    # Tokenize the concatenated text\n",
                  "    return tokenizer2(combined_text, padding=\"max_length\", truncation=True, max_length=1024)\n",
                  "\n",
                  "# Tokenize the dataset\n",
                  "tokenized_datasets2 = dataset2.map(tokenize_function, batched=True)\n",
                  "tokenized_datasets2 = tokenized_datasets2.remove_columns([\"prompt\", \"essay\", \"text\"])\n",
                  "tokenized_datasets2 = tokenized_datasets2.rename_column(\"score\", \"labels\")\n",
                  "tokenized_datasets2.set_format(type=\"torch\", columns=[\"input_ids\", \"attention_mask\", \"labels\"])\n",
                  "\n",
                  "# Set random seed for reproducibility\n",
                  "random.seed(42)\n",
                  "np.random.seed(42)\n",
                  "torch.manual_seed(42)\n",
                  "\n",
                  "# Get the labels from the tokenized dataset\n",
                  "labels2 = tokenized_datasets2[\"labels\"]\n",
                  "\n",
                  "# Get the unique labels\n",
                  "unique_labels2 = np.unique(labels2)\n",
                  "\n",
                  "# Store the indices for each label\n",
                  "label_to_indices2 = {label: np.where(labels2 == label)[0] for label in unique_labels2}\n",
                  "\n",
                  "# Lists to hold the train and validation indices\n",
                  "train_indices2 = []\n",
                  "val_indices2 = []\n",
                  "\n",
                  "# For each label, split the indices into train and validation\n",
                  "for label, indices in label_to_indices2.items():\n",
                  "    # Shuffle the indices within each label to ensure random splitting\n",
                  "    np.random.shuffle(indices)\n",
                  "    \n",
                  "    # Split 80% for training, 20% for validation\n",
                  "    split_idx2 = int(0.8 * len(indices))\n",
                  "    train_indices2.extend(indices[:split_idx2])\n",
                  "    val_indices2.extend(indices[split_idx2:])\n",
                  "\n",
                  "# Convert indices to tensors\n",
                  "train_indices2 = torch.tensor(train_indices2)\n",
                  "val_indices2 = torch.tensor(val_indices2)\n",
                  "\n",
                  "# Create Subsets for train and validation datasets\n",
                  "train_dataset2 = Subset(tokenized_datasets2, train_indices2)\n",
                  "eval_dataset2 = Subset(tokenized_datasets2, val_indices2)\n",
                  "\n",
                  "# Dataloaders\n",
                  "train_dataloader2 = DataLoader(train_dataset2, shuffle=True, batch_size=8)\n",
                  "eval_dataloader2 = DataLoader(eval_dataset2, batch_size=8)\n",
                  "\n",
                  "# Set up optimizer and scheduler\n",
                  "optimizer2 = AdamW(model2.parameters(), lr=1e-5)\n",
                  "num_epochs2 = 3\n",
                  "num_training_steps2 = num_epochs2 * len(train_dataloader2)\n",
                  "lr_scheduler2 = get_scheduler(\n",
                  "    name=\"linear\", optimizer=optimizer2, num_warmup_steps=0, num_training_steps=num_training_steps2\n",
                  ")\n",
                  "\n",
                  "model2.to(device2)\n",
                  "\n",
                  "# Initialize lists to track training/validation losses and accuracies\n",
                  "train_losses2 = []\n",
                  "val_losses2 = []\n",
                  "val_f1_scores2 = []\n",
                  "\n",
                  "# Training loop\n",
                  "progress_bar2 = tqdm(range(num_training_steps2))\n",
                  "\n",
                  "# Initialize F1 score metric (weighted-averaged for multi-class classification)\n",
                  "f1_metric2 = F1Score(task=\"multiclass\", num_classes=num_labels_2, average=\"weighted\").to(device2)\n",
                  "\n",
                  "for epoch in range(num_epochs2):\n",
                  "    epoch_train_loss = 0\n",
                  "    epoch_val_loss = 0\n",
                  "    f1_metric2.reset()\n",
                  "    model2.train()\n",
                  "\n",
                  "    for batch in train_dataloader2:\n",
                  "        batch = {k: v.to(device2) for k, v in batch.items()}\n",
                  "        outputs = model2(**batch)\n",
                  "        loss = outputs.loss\n",
                  "        loss.backward()\n",
                  "        optimizer2.step()\n",
                  "        lr_scheduler2.step()\n",
                  "        optimizer2.zero_grad()\n",
                  "\n",
                  "        epoch_train_loss += loss.item()\n",
                  "        progress_bar2.update(1)\n",
                  "\n",
                  "    # Record training loss for the epoch\n",
                  "    train_losses2.append(epoch_train_loss / len(train_dataloader2))\n",
                  "\n",
                  "    # Evaluate the model2\n",
                  "    model2.eval()\n",
                  "    for batch in eval_dataloader2:\n",
                  "        batch = {k: v.to(device2) for k, v in batch.items()}\n",
                  "        with torch.no_grad():\n",
                  "            outputs = model2(**batch)\n",
                  "\n",
                  "        logits = outputs.logits\n",
                  "        predictions = torch.argmax(logits, dim=-1)\n",
                  "        loss = F.cross_entropy(logits, batch[\"labels\"])\n",
                  "\n",
                  "        epoch_val_loss += loss.item()\n",
                  "        f1_metric2(predictions, batch[\"labels\"])  # Update F1 metric with predictions\n",
                  "\n",
                  "    # Record validation loss and accuracy\n",
                  "    val_losses2.append(epoch_val_loss / len(eval_dataloader2))\n",
                  "    val_f12 = f1_metric2.compute().item()\n",
                  "    val_f1_scores2.append(val_f12)\n",
                  "\n",
                  "    print(f\"Epoch {epoch + 1}/{num_epochs2}: train loss {train_losses2[-1]:.4f}, val loss {val_losses2[-1]:.4f}, val accuracy {val_f1_scores2[-1]:.4f}\")\n",
                  "\n",
                  "# Plotting function\n",
                  "def eval_plot(train_losses, val_losses, val_f1_scores):\n",
                  "    epochs = range(1, len(train_losses) + 1)\n",
                  "\n",
                  "    plt.figure(figsize=(12, 6))\n",
                  "\n",
                  "    # Training and validation loss\n",
                  "    plt.subplot(1, 2, 1)\n",
                  "    plt.plot(epochs, train_losses, label=\"Training Loss\")\n",
                  "    plt.plot(epochs, val_losses, label=\"Validation Loss\")\n",
                  "    plt.xlabel('Epoch')\n",
                  "    plt.ylabel('Loss')\n",
                  "    plt.legend()\n",
                  "    plt.title('Training and Validation Loss')\n",
                  "\n",
                  "    # Validation accuracy\n",
                  "    plt.subplot(1, 2, 2)\n",
                  "    plt.plot(epochs, val_f1_scores, label=\"Validation F1\")\n",
                  "    plt.xlabel('Epoch')\n",
                  "    plt.ylabel('F1')\n",
                  "    plt.legend()\n",
                  "    plt.title('Validation F1')\n",
                  "\n",
                  "    plt.tight_layout()\n",
                  "    plt.show()\n",
                  "\n",
                  "# Plot train loss, validation loss, validation accuracy\n",
                  "eval_plot(train_losses2, val_losses2, val_f1_scores2)\n",
                  "\n",
                  "# Print final validation accuracy\n",
                  "print(f\"Final validation F1: {val_f1_scores2[-1]:.4f}\")"
              ]
          },
          {
              "cell_type": "code",
              "execution_count": 7,
              "metadata": {},
              "outputs": [
                  {
                      "name": "stdout",
                      "output_type": "stream",
                      "text": [
                          "Model saved as gpt2_1740_ep3_3196.pt\n"
                      ]
                  }
              ],
              "source": [
                  "modelsavename2 = \"gpt2_1740_ep3_3196.pt\"\n",
                  "\n",
                  "# Save the model's state_dict\n",
                  "with open(modelsavename2, \"wb\") as f:\n",
                  "    torch.save(model2.state_dict(), f)\n",
                  "\n",
                  "print(f\"Model saved as {modelsavename2}\")"
              ]
          },
          {
              "cell_type": "code",
              "execution_count": 8,
              "metadata": {},
              "outputs": [
                  {
                      "name": "stderr",
                      "output_type": "stream",
                      "text": [
                          "/Users/barrychen/anaconda3/envs/ece1786/lib/python3.10/site-packages/huggingface_hub/file_download.py:1150: FutureWarning: `resume_download` is deprecated and will be removed in version 1.0.0. Downloads always resume when possible. If you want to force a new download, use `force_download=True`.\n",
                          "  warnings.warn(\n",
                          "Some weights of GPT2ForSequenceClassification were not initialized from the model checkpoint at Harshad018/trained-gpt2-tweet-analysis and are newly initialized because the shapes did not match:\n",
                          "- score.weight: found shape torch.Size([3, 768]) in the checkpoint and torch.Size([6, 768]) in the model instantiated\n",
                          "You should probably TRAIN this model on a down-stream task to be able to use it for predictions and inference.\n"
                      ]
                  },
                  {
                      "name": "stdout",
                      "output_type": "stream",
                      "text": [
                          "Model loaded from gpt2_1740_ep3_3196.pt\n"
                      ]
                  },
                  {
                      "name": "stderr",
                      "output_type": "stream",
                      "text": [
                          "/var/folders/vx/57ntql9x3lg7fsldp3xp6w1c0000gn/T/ipykernel_73625/602005580.py:16: FutureWarning: You are using `torch.load` with `weights_only=False` (the current default value), which uses the default pickle module implicitly. It is possible to construct malicious pickle data which will execute arbitrary code during unpickling (See https://github.com/pytorch/pytorch/blob/main/SECURITY.md#untrusted-models for more details). In a future release, the default value for `weights_only` will be flipped to `True`. This limits the functions that could be executed during unpickling. Arbitrary objects will no longer be allowed to be loaded via this mode unless they are explicitly allowlisted by the user via `torch.serialization.add_safe_globals`. We recommend you start setting `weights_only=True` for any use case where you don't have full control of the loaded file. Please open an issue on GitHub for any issues related to this experimental feature.\n",
                          "  model.load_state_dict(torch.load(modelsavename))\n"
                      ]
                  }
              ],
              "source": [
                  "device = torch.device(\"cuda\") if torch.cuda.is_available() else torch.device(\"cpu\")\n",
                  "\n",
                  "modelsavename = \"gpt2_1740_ep3_3196.pt\" \n",
                  "\n",
                  "configuration = GPT2Config.from_pretrained(\"Harshad018/trained-gpt2-tweet-analysis\")\n",
                  "configuration.pad_token_id = configuration.eos_token_id  # Use eos_token_id as the pad token\n",
                  "configuration.num_labels = 6\n",
                  "\n",
                  "tokenizer = GPT2Tokenizer.from_pretrained(\"Harshad018/trained-gpt2-tweet-analysis\")\n",
                  "tokenizer.pad_token = tokenizer.eos_token  # Set pad token to eos token\n",
                  "\n",
                  "model = GPT2ForSequenceClassification.from_pretrained(\n",
                  "    \"Harshad018/trained-gpt2-tweet-analysis\", config=configuration, ignore_mismatched_sizes=True\n",
                  ").to(device)\n",
                  "\n",
                  "model.load_state_dict(torch.load(modelsavename))\n",
                  "model.to(device)\n",
                  "\n",
                  "print(f\"Model loaded from {modelsavename}\")"
              ]
          },
          {
              "cell_type": "code",
              "execution_count": 9,
              "metadata": {},
              "outputs": [],
              "source": [
                  "def get_class(input_text):\n",
                  "  # Tokenize input and get model output\n",
                  "  inputs = tokenizer(input_text, return_tensors=\"pt\")\n",
                  "\n",
                  "  # Get logits (output for classification)\n",
                  "  outputs = model(**inputs)\n",
                  "  logits = outputs.logits\n",
                  "\n",
                  "  # Convert logits to probabilities using softmax\n",
                  "#   probs = softmax(logits, dim=1)\n",
                  "\n",
                  "  # Map classes to polarity values\n",
                  "#   polarity_values = torch.tensor([-1.0, 0.0, 1.0])\n",
                  "\n",
                  "  # Calculate polarity score as the weighted sum of probabilities\n",
                  "#   polarity_score = torch.sum(probs * polarity_values, dim=1).item()\n",
                  "\n",
                  "  # Get the predicted class (optional, for reference)\n",
                  "  predicted_class = logits.argmax(dim=1).item()\n",
                  "\n",
                  "  return predicted_class\n"
              ]
          },
          {
              "cell_type": "markdown",
              "metadata": {},
              "source": [
                  "**Labelling:**\n",
                  "\n",
                  "* 0->3.5 - 4.0\n",
                  "* 1->4.5 - 5.0\n",
                  "* 2->5.5 - 6.0\n",
                  "* 3->6.5 - 7.0\n",
                  "* 4->7.5 - 8.0\n",
                  "* 5->8.5 - 9.0"
              ]
          },
          {
              "cell_type": "markdown",
              "metadata": {},
              "source": [
                  "task achieve: 6.5"
              ]
          },
          {
              "cell_type": "code",
              "execution_count": 10,
              "metadata": {},
              "outputs": [
                  {
                      "name": "stdout",
                      "output_type": "stream",
                      "text": [
                          "5\n"
                      ]
                  }
              ],
              "source": [
                  "input_text = \"\"\"Prompt: Today people are surrounded by advertising. This affects what people think is important and has a negative impact on people's lives. To what extent do you agree or disagree?\n",
                  "\n",
                  "Essay: In this digital world, people are encircled with various types of advertisements. It is omnipresent for all, TV adverts, Social Media Marketing, billboards, Personal advertisements and many more diverse ways. while this phenomenon is escalating to extremely new level, people are in influence of it. In my view, it has more positive effects than harmful.\n",
                  "\n",
                  "Because of advertisements, people are aware of current products in market. At some extent, it educates the people and provides the knowledge. For an instance, In India serious disease like  polio is no more and the major success goes to awareness campaign help by famous personality with the use of digital marketing and TV advertisements. Moreover, to bind user with interest usually companies display various new idea and it add major value in entertainment world.\n",
                  "\n",
                  "However, the critical impacts are also not avoidable.Firstly, it exposes kids and young generation towards the violence and  inappropriate content sometime. Secondly, Advertisements with various discounts and offers, make people lure to do impulsive shopping. Increasing obesity is also one of consequence of advertisement of junk food. In addition, few times people get influenced by various advertisings and tend to work more to achieve never ending desire of buying stuff, this approach add up to the stress and frustration. What more, kids might suffer from harmful psychological effects when their parents are unable to afford various products shown in advertisements.\n",
                  "\n",
                  "To put this in a nutshell, I can say that advertisement is beneficial phenomenon with a number of insignificant drawbacks. In my view, negative advertising effects can be lowered with help of government using stringent approach and awareness campaigns.\n",
                  "\n",
                  "Comment: The candidate has adequately addressed the given task by discussing the positive and negative impacts of advertising on people's lives. They have provided relevant arguments and examples to support their claims. However, some aspects of the task, such as the impact on people's values and priorities, could have been explored in more depth. Overall, the candidate has demonstrated a good understanding of the topic and has fulfilled the requirements of the task.\n",
                  "\"\"\"\n",
                  "\n",
                  "pred_class = get_class(input_text)\n",
                  "print(pred_class)"
              ]
          },
          {
              "cell_type": "markdown",
              "metadata": {},
              "source": [
                  "task achieve: 8.5"
              ]
          },
          {
              "cell_type": "code",
              "execution_count": 11,
              "metadata": {},
              "outputs": [
                  {
                      "name": "stdout",
                      "output_type": "stream",
                      "text": [
                          "5\n"
                      ]
                  }
              ],
              "source": [
                  "input_text = \"\"\"Prompt: Some people think that children should be taught at school to recycle materials and avoid waste. Other people believe that children should be taught this at home. Discuss both opinions and give your own opinion.\n",
                  "\n",
                  "Essay: Green energy is been regarded as the future energy for mankind, moreover,the fundamentals of achieving the same rely on reprocessing the waste. While some argue this should be educated at school level and others would like this initiative done from their homes. In this essay, we shall discuss both views and state my opinion.\n",
                  "\n",
                  "On one hand, schools have been institutional in developing children cognitive skills therefore all good behaviours are cultivated here. While waste management is a profound topic and requires an in-depth analysis of how the process works or implemented. Furthermore, tutors have authority over their pupils hence they pick up subject matters efficiently. Educational institute emphasis on reusing most of the resources at school, adding to this, student comprehend the reason and significance of reducing waste such as plastic and glass. For instance, Science as a subject, demonstrates the impact of plastic and non-biodegradable materials on earth’s soil, as these take up nearly million years to decompose, consequently converting these materials to toxic and destroying mother nature.\n",
                  "\n",
                  "On the other hand, young people often look up to their parents as inspiration to learn life skills. As they spend quality time at home, all behavioural attributes of kids are related to  them, so they should bring upon the habits of recycling waste at home. For example, when parents bring thumb rule of segregating waste at their homes, children at young age practice to keep waste as per the category and this behaviour can be carried across at various places like parks, social events, and public transport. As a result, children are instilled with the habit of re-cycling and segregating waste at an early age\n",
                  "\n",
                  "To conclude, education on recycling waste can be beneficial as it explains the impacts on the environment and what could be done to avoid this catastrophe. Also,parenting should ensure their children learn the habit of separating waste at home. In my opinion, both methodologies must be implemented to have a better future.\n",
                  "\n",
                  "Comment: The candidate effectively addressed the given task by discussing both opinions on whether children should be taught to recycle at school or at home. The ideas presented are clear, relevant, and coherent, with each paragraph focusing on one aspect of the task. All aspects of the task are adequately covered, with arguments and evidence provided to support each opinion. The candidate demonstrates a good understanding of the task requirements and fulfills them appropriately.\n",
                  "\"\"\"\n",
                  "\n",
                  "pred_class = get_class(input_text)\n",
                  "print(pred_class)"
              ]
          },
          {
              "cell_type": "markdown",
              "metadata": {},
              "source": [
                  "task achieve: 8.5"
              ]
          },
          {
              "cell_type": "code",
              "execution_count": 12,
              "metadata": {},
              "outputs": [
                  {
                      "name": "stdout",
                      "output_type": "stream",
                      "text": [
                          "5\n"
                      ]
                  }
              ],
              "source": [
                  "input_text = \"\"\"Prompt: Some people believe that robots will play an important role in future societies, while others argue that robots might have negative effects on society.\n",
                  "Discuss both views and give your opinion\n",
                  "\n",
                  "Essay: The advancement of technology is seen in almost all part of human life. This has caused contrasting views, with some people believing that there is more profit to society if machines play substantial roles, and others arguing otherwise. I am inclined to agree with the latter, as heavy dependence on robots will lead to an inactive lifestyle, and also a high rate of unemployment is another problem that will be faced. \n",
                  "\n",
                  "On one hand, Machines can prove very effective in areas that require repetition and also tasks such as lifting heavy objects. This is useful, particularly in the manufacturing industry. Moreover, Audi, a foremost automobile company, already uses robots to assemble its newest release of cars.  Furthermore, these mechanical bodies couple over 1,000 vehicles in a day, such a task will be arduous for humans.\n",
                  "\n",
                  "On the other hand, machines pose a number of demerits. Firstly, high dependence on these mechanical objects can lead to a sedentary lifestyle. For example, in ,Japan many people no longer walk to go shopping, as drones have been provided by many shop vendors. Consequently, this leads to health-related problems, such as spinal curvature, and this does not portend well for  society. Secondly, a pro-machine community will lead to a high rate of joblessness, as employers find these mechanical bodies more efficient and cheaper. For instance, in India reports show that many employees are replaced by their lifeless counterparts and this will only increase over time. There is already a cry among the population due to the high rate of retrenchment by companies.\n",
                  "\n",
                  "To conclude, robots have their own usefulness especially when it comes to carrying out mundane tasks. However, the negative impacts such as laziness and joblessness they cause to  society do not make them admirable as they are perceived.\n",
                  "\n",
                  "Comment: The candidate has effectively addressed the given task by presenting arguments for both views on the role of robots in society. They have adequately covered all aspects of the task, providing relevant and coherent arguments.\n",
                  "\"\"\"\n",
                  "\n",
                  "pred_class = get_class(input_text)\n",
                  "print(pred_class)"
              ]
          }
      ],
      "metadata": {
          "kernelspec": {
              "display_name": "ece1786",
              "language": "python",
              "name": "python3"
          },
          "language_info": {
              "codemirror_mode": {
                  "name": "ipython",
                  "version": 3
              },
              "file_extension": ".py",
              "mimetype": "text/x-python",
              "name": "python",
              "nbconvert_exporter": "python",
              "pygments_lexer": "ipython3",
              "version": "3.10.9"
          }
      },
      "nbformat": 4,
      "nbformat_minor": 2
  }
