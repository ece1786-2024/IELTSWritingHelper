{
 "cells": [
  {
   "cell_type": "markdown",
   "metadata": {},
   "source": [
    "# Run"
   ]
  },
  {
   "cell_type": "markdown",
   "metadata": {},
   "source": [
    "### Setup"
   ]
  },
  {
   "cell_type": "code",
<<<<<<< HEAD
   "execution_count": 3,
=======
   "execution_count": 1,
>>>>>>> 46bfe6e29e825e6dcae8404bc1714382f6cbf3b1
   "metadata": {},
   "outputs": [],
   "source": [
    "import torch\n",
    "from transformers import GPT2Tokenizer, GPT2ForSequenceClassification, AdamW, get_scheduler, GPT2Config\n",
    "from torch.nn.functional import softmax\n",
    "import datasets\n",
    "from datasets import load_dataset, Dataset\n",
    "import random\n",
    "from torch.utils.data import DataLoader, Subset\n",
    "import torch.nn.functional as F\n",
    "import matplotlib.pyplot as plt\n",
    "from tqdm import tqdm\n",
    "import pandas as pd\n",
    "import numpy as np\n",
    "from torchmetrics import F1Score\n",
    "pd.options.mode.copy_on_write = True"
   ]
  },
  {
   "cell_type": "code",
<<<<<<< HEAD
   "execution_count": 4,
=======
   "execution_count": 2,
>>>>>>> 46bfe6e29e825e6dcae8404bc1714382f6cbf3b1
   "metadata": {},
   "outputs": [],
   "source": [
    "fpath2 = \"/Users/barrychen/Desktop/IELTSWritingHelper/datasets_ready/Task_Achievement.csv\"\n",
    "df2 = pd.read_csv(fpath2)\n",
    "df2['score'] = df2['score'].round(1)\n",
    "df_filtered2 = df2[(df2['score'] > 1.5) & (df2['score'] < 12.0)]\n",
    "\n",
    "reverse_mapping_3 = {\n",
    "    3.5: 0, 4.0: 0,\n",
    "    4.5: 1, 5.0: 1,\n",
    "    5.5: 2, 6.0: 2,\n",
    "    6.5: 3, 7.0: 3,\n",
    "    7.5: 4, 8.0: 4,\n",
    "    8.5: 5, 9.0: 5\n",
    "}\n",
    "\n",
    "df_filtered2['score'] = df_filtered2['score'].map(reverse_mapping_3)\n",
    "\n",
    "df_sampled2 = df_filtered2.groupby('score').sample(\n",
    "    n=290, \n",
    "    random_state=42\n",
    ").reset_index(drop=True)\n",
    "\n",
    "df_sampled2['score'] = df_sampled2['score'].astype(int)\n",
    "\n",
    "dataset2 = Dataset.from_pandas(df_sampled2)"
   ]
  },
  {
   "cell_type": "code",
<<<<<<< HEAD
   "execution_count": 5,
=======
   "execution_count": 3,
>>>>>>> 46bfe6e29e825e6dcae8404bc1714382f6cbf3b1
   "metadata": {},
   "outputs": [
    {
     "data": {
      "text/html": [
       "<div>\n",
       "<style scoped>\n",
       "    .dataframe tbody tr th:only-of-type {\n",
       "        vertical-align: middle;\n",
       "    }\n",
       "\n",
       "    .dataframe tbody tr th {\n",
       "        vertical-align: top;\n",
       "    }\n",
       "\n",
       "    .dataframe thead th {\n",
       "        text-align: right;\n",
       "    }\n",
       "</style>\n",
       "<table border=\"1\" class=\"dataframe\">\n",
       "  <thead>\n",
       "    <tr style=\"text-align: right;\">\n",
       "      <th></th>\n",
       "      <th>prompt</th>\n",
       "      <th>essay</th>\n",
       "      <th>text</th>\n",
       "      <th>score</th>\n",
       "    </tr>\n",
       "  </thead>\n",
       "  <tbody>\n",
       "    <tr>\n",
       "      <th>0</th>\n",
       "      <td>Some people say that to prevent illness and di...</td>\n",
       "      <td>Emerging disease is a complex matter as it IS ...</td>\n",
       "      <td>The candidate has effectively addressed the gi...</td>\n",
       "      <td>0</td>\n",
       "    </tr>\n",
       "    <tr>\n",
       "      <th>1</th>\n",
       "      <td>Nowadays celebrities are more famous for their...</td>\n",
       "      <td>In this present world,  famous personalities a...</td>\n",
       "      <td>The essay adequately addresses the task and at...</td>\n",
       "      <td>0</td>\n",
       "    </tr>\n",
       "    <tr>\n",
       "      <th>2</th>\n",
       "      <td>More people decided to have children in their ...</td>\n",
       "      <td>currently, there are more and more people make...</td>\n",
       "      <td>The essay generally addresses the task by disc...</td>\n",
       "      <td>0</td>\n",
       "    </tr>\n",
       "    <tr>\n",
       "      <th>3</th>\n",
       "      <td>Many people believe that the current system of...</td>\n",
       "      <td>Once every month no private vehicles  a day ca...</td>\n",
       "      <td>The essay fails to address the prompt effectiv...</td>\n",
       "      <td>0</td>\n",
       "    </tr>\n",
       "    <tr>\n",
       "      <th>4</th>\n",
       "      <td>Some people think that instead of preventing c...</td>\n",
       "      <td>In today's time, human activities are having a...</td>\n",
       "      <td>The essay effectively addresses the given task...</td>\n",
       "      <td>0</td>\n",
       "    </tr>\n",
       "    <tr>\n",
       "      <th>...</th>\n",
       "      <td>...</td>\n",
       "      <td>...</td>\n",
       "      <td>...</td>\n",
       "      <td>...</td>\n",
       "    </tr>\n",
       "    <tr>\n",
       "      <th>1735</th>\n",
       "      <td>some countries more and more people are becomi...</td>\n",
       "      <td>In many nations, more and more humans are rese...</td>\n",
       "      <td>The essay effectively addresses the given task...</td>\n",
       "      <td>5</td>\n",
       "    </tr>\n",
       "    <tr>\n",
       "      <th>1736</th>\n",
       "      <td>Human activities have negative effects on plan...</td>\n",
       "      <td>Nowadays, industrialisation has increased rapi...</td>\n",
       "      <td>The candidate has effectively addressed the gi...</td>\n",
       "      <td>5</td>\n",
       "    </tr>\n",
       "    <tr>\n",
       "      <th>1737</th>\n",
       "      <td>Nowadays people use social media to keep in to...</td>\n",
       "      <td>In this contemporary era, the hitches allied t...</td>\n",
       "      <td>The candidate has effectively addressed the gi...</td>\n",
       "      <td>5</td>\n",
       "    </tr>\n",
       "    <tr>\n",
       "      <th>1738</th>\n",
       "      <td>Many customs and traditional ways of behaviour...</td>\n",
       "      <td>The vibrancy of modern life has led to debates...</td>\n",
       "      <td>The candidate effectively addresses the task b...</td>\n",
       "      <td>5</td>\n",
       "    </tr>\n",
       "    <tr>\n",
       "      <th>1739</th>\n",
       "      <td>Some people think that instead of preventing c...</td>\n",
       "      <td>Climate change is becoming a major threat in o...</td>\n",
       "      <td>The candidate has effectively addressed the gi...</td>\n",
       "      <td>5</td>\n",
       "    </tr>\n",
       "  </tbody>\n",
       "</table>\n",
       "<p>1740 rows × 4 columns</p>\n",
       "</div>"
      ],
      "text/plain": [
       "                                                 prompt  \\\n",
       "0     Some people say that to prevent illness and di...   \n",
       "1     Nowadays celebrities are more famous for their...   \n",
       "2     More people decided to have children in their ...   \n",
       "3     Many people believe that the current system of...   \n",
       "4     Some people think that instead of preventing c...   \n",
       "...                                                 ...   \n",
       "1735  some countries more and more people are becomi...   \n",
       "1736  Human activities have negative effects on plan...   \n",
       "1737  Nowadays people use social media to keep in to...   \n",
       "1738  Many customs and traditional ways of behaviour...   \n",
       "1739  Some people think that instead of preventing c...   \n",
       "\n",
       "                                                  essay  \\\n",
       "0     Emerging disease is a complex matter as it IS ...   \n",
       "1     In this present world,  famous personalities a...   \n",
       "2     currently, there are more and more people make...   \n",
       "3     Once every month no private vehicles  a day ca...   \n",
       "4     In today's time, human activities are having a...   \n",
       "...                                                 ...   \n",
       "1735  In many nations, more and more humans are rese...   \n",
       "1736  Nowadays, industrialisation has increased rapi...   \n",
       "1737  In this contemporary era, the hitches allied t...   \n",
       "1738  The vibrancy of modern life has led to debates...   \n",
       "1739  Climate change is becoming a major threat in o...   \n",
       "\n",
       "                                                   text  score  \n",
       "0     The candidate has effectively addressed the gi...      0  \n",
       "1     The essay adequately addresses the task and at...      0  \n",
       "2     The essay generally addresses the task by disc...      0  \n",
       "3     The essay fails to address the prompt effectiv...      0  \n",
       "4     The essay effectively addresses the given task...      0  \n",
       "...                                                 ...    ...  \n",
       "1735  The essay effectively addresses the given task...      5  \n",
       "1736  The candidate has effectively addressed the gi...      5  \n",
       "1737  The candidate has effectively addressed the gi...      5  \n",
       "1738  The candidate effectively addresses the task b...      5  \n",
       "1739  The candidate has effectively addressed the gi...      5  \n",
       "\n",
       "[1740 rows x 4 columns]"
      ]
     },
<<<<<<< HEAD
     "execution_count": 5,
=======
     "execution_count": 3,
>>>>>>> 46bfe6e29e825e6dcae8404bc1714382f6cbf3b1
     "metadata": {},
     "output_type": "execute_result"
    }
   ],
   "source": [
    "df_sampled2"
   ]
  },
  {
   "cell_type": "code",
   "execution_count": 4,
   "metadata": {},
   "outputs": [
    {
     "data": {
      "text/plain": [
       "Dataset({\n",
       "    features: ['prompt', 'essay', 'text', 'score'],\n",
       "    num_rows: 1740\n",
       "})"
      ]
     },
     "execution_count": 4,
     "metadata": {},
     "output_type": "execute_result"
    }
   ],
   "source": [
    "dataset2"
   ]
  },
  {
   "cell_type": "markdown",
   "metadata": {},
   "source": [
    "### Fine tune the model"
   ]
  },
  {
   "cell_type": "markdown",
   "metadata": {},
   "source": [
    "#### Trial #1 (8 labels)"
   ]
  },
  {
   "cell_type": "code",
   "execution_count": 5,
   "metadata": {},
   "outputs": [
    {
     "name": "stderr",
     "output_type": "stream",
     "text": [
      "/Users/barrychen/anaconda3/envs/ece1786/lib/python3.10/site-packages/huggingface_hub/file_download.py:1150: FutureWarning: `resume_download` is deprecated and will be removed in version 1.0.0. Downloads always resume when possible. If you want to force a new download, use `force_download=True`.\n",
      "  warnings.warn(\n",
      "Some weights of GPT2ForSequenceClassification were not initialized from the model checkpoint at Harshad018/trained-gpt2-tweet-analysis and are newly initialized because the shapes did not match:\n",
      "- score.weight: found shape torch.Size([3, 768]) in the checkpoint and torch.Size([8, 768]) in the model instantiated\n",
      "You should probably TRAIN this model on a down-stream task to be able to use it for predictions and inference.\n"
     ]
    },
    {
     "data": {
      "application/vnd.jupyter.widget-view+json": {
       "model_id": "ca16a01a0b8b4658ada3d68f77786a01",
       "version_major": 2,
       "version_minor": 0
      },
      "text/plain": [
       "Map:   0%|          | 0/1740 [00:00<?, ? examples/s]"
      ]
     },
     "metadata": {},
     "output_type": "display_data"
    },
    {
     "name": "stderr",
     "output_type": "stream",
     "text": [
      "/Users/barrychen/anaconda3/envs/ece1786/lib/python3.10/site-packages/transformers/optimization.py:429: FutureWarning: This implementation of AdamW is deprecated and will be removed in a future version. Use the PyTorch implementation torch.optim.AdamW instead, or set `no_deprecation_warning=True` to disable this warning\n",
      "  warnings.warn(\n",
      " 28%|██▊       | 147/522 [1:44:02<4:23:36, 42.18s/it]"
     ]
    },
    {
     "ename": "KeyboardInterrupt",
     "evalue": "",
     "output_type": "error",
     "traceback": [
      "\u001b[0;31m---------------------------------------------------------------------------\u001b[0m",
      "\u001b[0;31mKeyboardInterrupt\u001b[0m                         Traceback (most recent call last)",
      "Cell \u001b[0;32mIn[5], line 106\u001b[0m\n\u001b[1;32m    104\u001b[0m \u001b[38;5;28;01mfor\u001b[39;00m batch \u001b[38;5;129;01min\u001b[39;00m train_dataloader2:\n\u001b[1;32m    105\u001b[0m     batch \u001b[38;5;241m=\u001b[39m {k: v\u001b[38;5;241m.\u001b[39mto(device2) \u001b[38;5;28;01mfor\u001b[39;00m k, v \u001b[38;5;129;01min\u001b[39;00m batch\u001b[38;5;241m.\u001b[39mitems()}\n\u001b[0;32m--> 106\u001b[0m     outputs \u001b[38;5;241m=\u001b[39m \u001b[43mmodel2\u001b[49m\u001b[43m(\u001b[49m\u001b[38;5;241;43m*\u001b[39;49m\u001b[38;5;241;43m*\u001b[39;49m\u001b[43mbatch\u001b[49m\u001b[43m)\u001b[49m\n\u001b[1;32m    107\u001b[0m     loss \u001b[38;5;241m=\u001b[39m outputs\u001b[38;5;241m.\u001b[39mloss\n\u001b[1;32m    108\u001b[0m     loss\u001b[38;5;241m.\u001b[39mbackward()\n",
      "File \u001b[0;32m~/anaconda3/envs/ece1786/lib/python3.10/site-packages/torch/nn/modules/module.py:1553\u001b[0m, in \u001b[0;36mModule._wrapped_call_impl\u001b[0;34m(self, *args, **kwargs)\u001b[0m\n\u001b[1;32m   1551\u001b[0m     \u001b[38;5;28;01mreturn\u001b[39;00m \u001b[38;5;28mself\u001b[39m\u001b[38;5;241m.\u001b[39m_compiled_call_impl(\u001b[38;5;241m*\u001b[39margs, \u001b[38;5;241m*\u001b[39m\u001b[38;5;241m*\u001b[39mkwargs)  \u001b[38;5;66;03m# type: ignore[misc]\u001b[39;00m\n\u001b[1;32m   1552\u001b[0m \u001b[38;5;28;01melse\u001b[39;00m:\n\u001b[0;32m-> 1553\u001b[0m     \u001b[38;5;28;01mreturn\u001b[39;00m \u001b[38;5;28;43mself\u001b[39;49m\u001b[38;5;241;43m.\u001b[39;49m\u001b[43m_call_impl\u001b[49m\u001b[43m(\u001b[49m\u001b[38;5;241;43m*\u001b[39;49m\u001b[43margs\u001b[49m\u001b[43m,\u001b[49m\u001b[43m \u001b[49m\u001b[38;5;241;43m*\u001b[39;49m\u001b[38;5;241;43m*\u001b[39;49m\u001b[43mkwargs\u001b[49m\u001b[43m)\u001b[49m\n",
      "File \u001b[0;32m~/anaconda3/envs/ece1786/lib/python3.10/site-packages/torch/nn/modules/module.py:1562\u001b[0m, in \u001b[0;36mModule._call_impl\u001b[0;34m(self, *args, **kwargs)\u001b[0m\n\u001b[1;32m   1557\u001b[0m \u001b[38;5;66;03m# If we don't have any hooks, we want to skip the rest of the logic in\u001b[39;00m\n\u001b[1;32m   1558\u001b[0m \u001b[38;5;66;03m# this function, and just call forward.\u001b[39;00m\n\u001b[1;32m   1559\u001b[0m \u001b[38;5;28;01mif\u001b[39;00m \u001b[38;5;129;01mnot\u001b[39;00m (\u001b[38;5;28mself\u001b[39m\u001b[38;5;241m.\u001b[39m_backward_hooks \u001b[38;5;129;01mor\u001b[39;00m \u001b[38;5;28mself\u001b[39m\u001b[38;5;241m.\u001b[39m_backward_pre_hooks \u001b[38;5;129;01mor\u001b[39;00m \u001b[38;5;28mself\u001b[39m\u001b[38;5;241m.\u001b[39m_forward_hooks \u001b[38;5;129;01mor\u001b[39;00m \u001b[38;5;28mself\u001b[39m\u001b[38;5;241m.\u001b[39m_forward_pre_hooks\n\u001b[1;32m   1560\u001b[0m         \u001b[38;5;129;01mor\u001b[39;00m _global_backward_pre_hooks \u001b[38;5;129;01mor\u001b[39;00m _global_backward_hooks\n\u001b[1;32m   1561\u001b[0m         \u001b[38;5;129;01mor\u001b[39;00m _global_forward_hooks \u001b[38;5;129;01mor\u001b[39;00m _global_forward_pre_hooks):\n\u001b[0;32m-> 1562\u001b[0m     \u001b[38;5;28;01mreturn\u001b[39;00m \u001b[43mforward_call\u001b[49m\u001b[43m(\u001b[49m\u001b[38;5;241;43m*\u001b[39;49m\u001b[43margs\u001b[49m\u001b[43m,\u001b[49m\u001b[43m \u001b[49m\u001b[38;5;241;43m*\u001b[39;49m\u001b[38;5;241;43m*\u001b[39;49m\u001b[43mkwargs\u001b[49m\u001b[43m)\u001b[49m\n\u001b[1;32m   1564\u001b[0m \u001b[38;5;28;01mtry\u001b[39;00m:\n\u001b[1;32m   1565\u001b[0m     result \u001b[38;5;241m=\u001b[39m \u001b[38;5;28;01mNone\u001b[39;00m\n",
      "File \u001b[0;32m~/anaconda3/envs/ece1786/lib/python3.10/site-packages/transformers/models/gpt2/modeling_gpt2.py:1426\u001b[0m, in \u001b[0;36mGPT2ForSequenceClassification.forward\u001b[0;34m(self, input_ids, past_key_values, attention_mask, token_type_ids, position_ids, head_mask, inputs_embeds, labels, use_cache, output_attentions, output_hidden_states, return_dict)\u001b[0m\n\u001b[1;32m   1418\u001b[0m \u001b[38;5;250m\u001b[39m\u001b[38;5;124mr\u001b[39m\u001b[38;5;124;03m\"\"\"\u001b[39;00m\n\u001b[1;32m   1419\u001b[0m \u001b[38;5;124;03mlabels (`torch.LongTensor` of shape `(batch_size,)`, *optional*):\u001b[39;00m\n\u001b[1;32m   1420\u001b[0m \u001b[38;5;124;03m    Labels for computing the sequence classification/regression loss. Indices should be in `[0, ...,\u001b[39;00m\n\u001b[1;32m   1421\u001b[0m \u001b[38;5;124;03m    config.num_labels - 1]`. If `config.num_labels == 1` a regression loss is computed (Mean-Square loss), If\u001b[39;00m\n\u001b[1;32m   1422\u001b[0m \u001b[38;5;124;03m    `config.num_labels > 1` a classification loss is computed (Cross-Entropy).\u001b[39;00m\n\u001b[1;32m   1423\u001b[0m \u001b[38;5;124;03m\"\"\"\u001b[39;00m\n\u001b[1;32m   1424\u001b[0m return_dict \u001b[38;5;241m=\u001b[39m return_dict \u001b[38;5;28;01mif\u001b[39;00m return_dict \u001b[38;5;129;01mis\u001b[39;00m \u001b[38;5;129;01mnot\u001b[39;00m \u001b[38;5;28;01mNone\u001b[39;00m \u001b[38;5;28;01melse\u001b[39;00m \u001b[38;5;28mself\u001b[39m\u001b[38;5;241m.\u001b[39mconfig\u001b[38;5;241m.\u001b[39muse_return_dict\n\u001b[0;32m-> 1426\u001b[0m transformer_outputs \u001b[38;5;241m=\u001b[39m \u001b[38;5;28;43mself\u001b[39;49m\u001b[38;5;241;43m.\u001b[39;49m\u001b[43mtransformer\u001b[49m\u001b[43m(\u001b[49m\n\u001b[1;32m   1427\u001b[0m \u001b[43m    \u001b[49m\u001b[43minput_ids\u001b[49m\u001b[43m,\u001b[49m\n\u001b[1;32m   1428\u001b[0m \u001b[43m    \u001b[49m\u001b[43mpast_key_values\u001b[49m\u001b[38;5;241;43m=\u001b[39;49m\u001b[43mpast_key_values\u001b[49m\u001b[43m,\u001b[49m\n\u001b[1;32m   1429\u001b[0m \u001b[43m    \u001b[49m\u001b[43mattention_mask\u001b[49m\u001b[38;5;241;43m=\u001b[39;49m\u001b[43mattention_mask\u001b[49m\u001b[43m,\u001b[49m\n\u001b[1;32m   1430\u001b[0m \u001b[43m    \u001b[49m\u001b[43mtoken_type_ids\u001b[49m\u001b[38;5;241;43m=\u001b[39;49m\u001b[43mtoken_type_ids\u001b[49m\u001b[43m,\u001b[49m\n\u001b[1;32m   1431\u001b[0m \u001b[43m    \u001b[49m\u001b[43mposition_ids\u001b[49m\u001b[38;5;241;43m=\u001b[39;49m\u001b[43mposition_ids\u001b[49m\u001b[43m,\u001b[49m\n\u001b[1;32m   1432\u001b[0m \u001b[43m    \u001b[49m\u001b[43mhead_mask\u001b[49m\u001b[38;5;241;43m=\u001b[39;49m\u001b[43mhead_mask\u001b[49m\u001b[43m,\u001b[49m\n\u001b[1;32m   1433\u001b[0m \u001b[43m    \u001b[49m\u001b[43minputs_embeds\u001b[49m\u001b[38;5;241;43m=\u001b[39;49m\u001b[43minputs_embeds\u001b[49m\u001b[43m,\u001b[49m\n\u001b[1;32m   1434\u001b[0m \u001b[43m    \u001b[49m\u001b[43muse_cache\u001b[49m\u001b[38;5;241;43m=\u001b[39;49m\u001b[43muse_cache\u001b[49m\u001b[43m,\u001b[49m\n\u001b[1;32m   1435\u001b[0m \u001b[43m    \u001b[49m\u001b[43moutput_attentions\u001b[49m\u001b[38;5;241;43m=\u001b[39;49m\u001b[43moutput_attentions\u001b[49m\u001b[43m,\u001b[49m\n\u001b[1;32m   1436\u001b[0m \u001b[43m    \u001b[49m\u001b[43moutput_hidden_states\u001b[49m\u001b[38;5;241;43m=\u001b[39;49m\u001b[43moutput_hidden_states\u001b[49m\u001b[43m,\u001b[49m\n\u001b[1;32m   1437\u001b[0m \u001b[43m    \u001b[49m\u001b[43mreturn_dict\u001b[49m\u001b[38;5;241;43m=\u001b[39;49m\u001b[43mreturn_dict\u001b[49m\u001b[43m,\u001b[49m\n\u001b[1;32m   1438\u001b[0m \u001b[43m\u001b[49m\u001b[43m)\u001b[49m\n\u001b[1;32m   1439\u001b[0m hidden_states \u001b[38;5;241m=\u001b[39m transformer_outputs[\u001b[38;5;241m0\u001b[39m]\n\u001b[1;32m   1440\u001b[0m logits \u001b[38;5;241m=\u001b[39m \u001b[38;5;28mself\u001b[39m\u001b[38;5;241m.\u001b[39mscore(hidden_states)\n",
      "File \u001b[0;32m~/anaconda3/envs/ece1786/lib/python3.10/site-packages/torch/nn/modules/module.py:1553\u001b[0m, in \u001b[0;36mModule._wrapped_call_impl\u001b[0;34m(self, *args, **kwargs)\u001b[0m\n\u001b[1;32m   1551\u001b[0m     \u001b[38;5;28;01mreturn\u001b[39;00m \u001b[38;5;28mself\u001b[39m\u001b[38;5;241m.\u001b[39m_compiled_call_impl(\u001b[38;5;241m*\u001b[39margs, \u001b[38;5;241m*\u001b[39m\u001b[38;5;241m*\u001b[39mkwargs)  \u001b[38;5;66;03m# type: ignore[misc]\u001b[39;00m\n\u001b[1;32m   1552\u001b[0m \u001b[38;5;28;01melse\u001b[39;00m:\n\u001b[0;32m-> 1553\u001b[0m     \u001b[38;5;28;01mreturn\u001b[39;00m \u001b[38;5;28;43mself\u001b[39;49m\u001b[38;5;241;43m.\u001b[39;49m\u001b[43m_call_impl\u001b[49m\u001b[43m(\u001b[49m\u001b[38;5;241;43m*\u001b[39;49m\u001b[43margs\u001b[49m\u001b[43m,\u001b[49m\u001b[43m \u001b[49m\u001b[38;5;241;43m*\u001b[39;49m\u001b[38;5;241;43m*\u001b[39;49m\u001b[43mkwargs\u001b[49m\u001b[43m)\u001b[49m\n",
      "File \u001b[0;32m~/anaconda3/envs/ece1786/lib/python3.10/site-packages/torch/nn/modules/module.py:1562\u001b[0m, in \u001b[0;36mModule._call_impl\u001b[0;34m(self, *args, **kwargs)\u001b[0m\n\u001b[1;32m   1557\u001b[0m \u001b[38;5;66;03m# If we don't have any hooks, we want to skip the rest of the logic in\u001b[39;00m\n\u001b[1;32m   1558\u001b[0m \u001b[38;5;66;03m# this function, and just call forward.\u001b[39;00m\n\u001b[1;32m   1559\u001b[0m \u001b[38;5;28;01mif\u001b[39;00m \u001b[38;5;129;01mnot\u001b[39;00m (\u001b[38;5;28mself\u001b[39m\u001b[38;5;241m.\u001b[39m_backward_hooks \u001b[38;5;129;01mor\u001b[39;00m \u001b[38;5;28mself\u001b[39m\u001b[38;5;241m.\u001b[39m_backward_pre_hooks \u001b[38;5;129;01mor\u001b[39;00m \u001b[38;5;28mself\u001b[39m\u001b[38;5;241m.\u001b[39m_forward_hooks \u001b[38;5;129;01mor\u001b[39;00m \u001b[38;5;28mself\u001b[39m\u001b[38;5;241m.\u001b[39m_forward_pre_hooks\n\u001b[1;32m   1560\u001b[0m         \u001b[38;5;129;01mor\u001b[39;00m _global_backward_pre_hooks \u001b[38;5;129;01mor\u001b[39;00m _global_backward_hooks\n\u001b[1;32m   1561\u001b[0m         \u001b[38;5;129;01mor\u001b[39;00m _global_forward_hooks \u001b[38;5;129;01mor\u001b[39;00m _global_forward_pre_hooks):\n\u001b[0;32m-> 1562\u001b[0m     \u001b[38;5;28;01mreturn\u001b[39;00m \u001b[43mforward_call\u001b[49m\u001b[43m(\u001b[49m\u001b[38;5;241;43m*\u001b[39;49m\u001b[43margs\u001b[49m\u001b[43m,\u001b[49m\u001b[43m \u001b[49m\u001b[38;5;241;43m*\u001b[39;49m\u001b[38;5;241;43m*\u001b[39;49m\u001b[43mkwargs\u001b[49m\u001b[43m)\u001b[49m\n\u001b[1;32m   1564\u001b[0m \u001b[38;5;28;01mtry\u001b[39;00m:\n\u001b[1;32m   1565\u001b[0m     result \u001b[38;5;241m=\u001b[39m \u001b[38;5;28;01mNone\u001b[39;00m\n",
      "File \u001b[0;32m~/anaconda3/envs/ece1786/lib/python3.10/site-packages/transformers/models/gpt2/modeling_gpt2.py:888\u001b[0m, in \u001b[0;36mGPT2Model.forward\u001b[0;34m(self, input_ids, past_key_values, attention_mask, token_type_ids, position_ids, head_mask, inputs_embeds, encoder_hidden_states, encoder_attention_mask, use_cache, output_attentions, output_hidden_states, return_dict)\u001b[0m\n\u001b[1;32m    876\u001b[0m     outputs \u001b[38;5;241m=\u001b[39m \u001b[38;5;28mself\u001b[39m\u001b[38;5;241m.\u001b[39m_gradient_checkpointing_func(\n\u001b[1;32m    877\u001b[0m         block\u001b[38;5;241m.\u001b[39m\u001b[38;5;21m__call__\u001b[39m,\n\u001b[1;32m    878\u001b[0m         hidden_states,\n\u001b[0;32m   (...)\u001b[0m\n\u001b[1;32m    885\u001b[0m         output_attentions,\n\u001b[1;32m    886\u001b[0m     )\n\u001b[1;32m    887\u001b[0m \u001b[38;5;28;01melse\u001b[39;00m:\n\u001b[0;32m--> 888\u001b[0m     outputs \u001b[38;5;241m=\u001b[39m \u001b[43mblock\u001b[49m\u001b[43m(\u001b[49m\n\u001b[1;32m    889\u001b[0m \u001b[43m        \u001b[49m\u001b[43mhidden_states\u001b[49m\u001b[43m,\u001b[49m\n\u001b[1;32m    890\u001b[0m \u001b[43m        \u001b[49m\u001b[43mlayer_past\u001b[49m\u001b[38;5;241;43m=\u001b[39;49m\u001b[43mlayer_past\u001b[49m\u001b[43m,\u001b[49m\n\u001b[1;32m    891\u001b[0m \u001b[43m        \u001b[49m\u001b[43mattention_mask\u001b[49m\u001b[38;5;241;43m=\u001b[39;49m\u001b[43mattention_mask\u001b[49m\u001b[43m,\u001b[49m\n\u001b[1;32m    892\u001b[0m \u001b[43m        \u001b[49m\u001b[43mhead_mask\u001b[49m\u001b[38;5;241;43m=\u001b[39;49m\u001b[43mhead_mask\u001b[49m\u001b[43m[\u001b[49m\u001b[43mi\u001b[49m\u001b[43m]\u001b[49m\u001b[43m,\u001b[49m\n\u001b[1;32m    893\u001b[0m \u001b[43m        \u001b[49m\u001b[43mencoder_hidden_states\u001b[49m\u001b[38;5;241;43m=\u001b[39;49m\u001b[43mencoder_hidden_states\u001b[49m\u001b[43m,\u001b[49m\n\u001b[1;32m    894\u001b[0m \u001b[43m        \u001b[49m\u001b[43mencoder_attention_mask\u001b[49m\u001b[38;5;241;43m=\u001b[39;49m\u001b[43mencoder_attention_mask\u001b[49m\u001b[43m,\u001b[49m\n\u001b[1;32m    895\u001b[0m \u001b[43m        \u001b[49m\u001b[43muse_cache\u001b[49m\u001b[38;5;241;43m=\u001b[39;49m\u001b[43muse_cache\u001b[49m\u001b[43m,\u001b[49m\n\u001b[1;32m    896\u001b[0m \u001b[43m        \u001b[49m\u001b[43moutput_attentions\u001b[49m\u001b[38;5;241;43m=\u001b[39;49m\u001b[43moutput_attentions\u001b[49m\u001b[43m,\u001b[49m\n\u001b[1;32m    897\u001b[0m \u001b[43m    \u001b[49m\u001b[43m)\u001b[49m\n\u001b[1;32m    899\u001b[0m hidden_states \u001b[38;5;241m=\u001b[39m outputs[\u001b[38;5;241m0\u001b[39m]\n\u001b[1;32m    900\u001b[0m \u001b[38;5;28;01mif\u001b[39;00m use_cache \u001b[38;5;129;01mis\u001b[39;00m \u001b[38;5;28;01mTrue\u001b[39;00m:\n",
      "File \u001b[0;32m~/anaconda3/envs/ece1786/lib/python3.10/site-packages/torch/nn/modules/module.py:1553\u001b[0m, in \u001b[0;36mModule._wrapped_call_impl\u001b[0;34m(self, *args, **kwargs)\u001b[0m\n\u001b[1;32m   1551\u001b[0m     \u001b[38;5;28;01mreturn\u001b[39;00m \u001b[38;5;28mself\u001b[39m\u001b[38;5;241m.\u001b[39m_compiled_call_impl(\u001b[38;5;241m*\u001b[39margs, \u001b[38;5;241m*\u001b[39m\u001b[38;5;241m*\u001b[39mkwargs)  \u001b[38;5;66;03m# type: ignore[misc]\u001b[39;00m\n\u001b[1;32m   1552\u001b[0m \u001b[38;5;28;01melse\u001b[39;00m:\n\u001b[0;32m-> 1553\u001b[0m     \u001b[38;5;28;01mreturn\u001b[39;00m \u001b[38;5;28;43mself\u001b[39;49m\u001b[38;5;241;43m.\u001b[39;49m\u001b[43m_call_impl\u001b[49m\u001b[43m(\u001b[49m\u001b[38;5;241;43m*\u001b[39;49m\u001b[43margs\u001b[49m\u001b[43m,\u001b[49m\u001b[43m \u001b[49m\u001b[38;5;241;43m*\u001b[39;49m\u001b[38;5;241;43m*\u001b[39;49m\u001b[43mkwargs\u001b[49m\u001b[43m)\u001b[49m\n",
      "File \u001b[0;32m~/anaconda3/envs/ece1786/lib/python3.10/site-packages/torch/nn/modules/module.py:1562\u001b[0m, in \u001b[0;36mModule._call_impl\u001b[0;34m(self, *args, **kwargs)\u001b[0m\n\u001b[1;32m   1557\u001b[0m \u001b[38;5;66;03m# If we don't have any hooks, we want to skip the rest of the logic in\u001b[39;00m\n\u001b[1;32m   1558\u001b[0m \u001b[38;5;66;03m# this function, and just call forward.\u001b[39;00m\n\u001b[1;32m   1559\u001b[0m \u001b[38;5;28;01mif\u001b[39;00m \u001b[38;5;129;01mnot\u001b[39;00m (\u001b[38;5;28mself\u001b[39m\u001b[38;5;241m.\u001b[39m_backward_hooks \u001b[38;5;129;01mor\u001b[39;00m \u001b[38;5;28mself\u001b[39m\u001b[38;5;241m.\u001b[39m_backward_pre_hooks \u001b[38;5;129;01mor\u001b[39;00m \u001b[38;5;28mself\u001b[39m\u001b[38;5;241m.\u001b[39m_forward_hooks \u001b[38;5;129;01mor\u001b[39;00m \u001b[38;5;28mself\u001b[39m\u001b[38;5;241m.\u001b[39m_forward_pre_hooks\n\u001b[1;32m   1560\u001b[0m         \u001b[38;5;129;01mor\u001b[39;00m _global_backward_pre_hooks \u001b[38;5;129;01mor\u001b[39;00m _global_backward_hooks\n\u001b[1;32m   1561\u001b[0m         \u001b[38;5;129;01mor\u001b[39;00m _global_forward_hooks \u001b[38;5;129;01mor\u001b[39;00m _global_forward_pre_hooks):\n\u001b[0;32m-> 1562\u001b[0m     \u001b[38;5;28;01mreturn\u001b[39;00m \u001b[43mforward_call\u001b[49m\u001b[43m(\u001b[49m\u001b[38;5;241;43m*\u001b[39;49m\u001b[43margs\u001b[49m\u001b[43m,\u001b[49m\u001b[43m \u001b[49m\u001b[38;5;241;43m*\u001b[39;49m\u001b[38;5;241;43m*\u001b[39;49m\u001b[43mkwargs\u001b[49m\u001b[43m)\u001b[49m\n\u001b[1;32m   1564\u001b[0m \u001b[38;5;28;01mtry\u001b[39;00m:\n\u001b[1;32m   1565\u001b[0m     result \u001b[38;5;241m=\u001b[39m \u001b[38;5;28;01mNone\u001b[39;00m\n",
      "File \u001b[0;32m~/anaconda3/envs/ece1786/lib/python3.10/site-packages/transformers/models/gpt2/modeling_gpt2.py:390\u001b[0m, in \u001b[0;36mGPT2Block.forward\u001b[0;34m(self, hidden_states, layer_past, attention_mask, head_mask, encoder_hidden_states, encoder_attention_mask, use_cache, output_attentions)\u001b[0m\n\u001b[1;32m    388\u001b[0m residual \u001b[38;5;241m=\u001b[39m hidden_states\n\u001b[1;32m    389\u001b[0m hidden_states \u001b[38;5;241m=\u001b[39m \u001b[38;5;28mself\u001b[39m\u001b[38;5;241m.\u001b[39mln_1(hidden_states)\n\u001b[0;32m--> 390\u001b[0m attn_outputs \u001b[38;5;241m=\u001b[39m \u001b[38;5;28;43mself\u001b[39;49m\u001b[38;5;241;43m.\u001b[39;49m\u001b[43mattn\u001b[49m\u001b[43m(\u001b[49m\n\u001b[1;32m    391\u001b[0m \u001b[43m    \u001b[49m\u001b[43mhidden_states\u001b[49m\u001b[43m,\u001b[49m\n\u001b[1;32m    392\u001b[0m \u001b[43m    \u001b[49m\u001b[43mlayer_past\u001b[49m\u001b[38;5;241;43m=\u001b[39;49m\u001b[43mlayer_past\u001b[49m\u001b[43m,\u001b[49m\n\u001b[1;32m    393\u001b[0m \u001b[43m    \u001b[49m\u001b[43mattention_mask\u001b[49m\u001b[38;5;241;43m=\u001b[39;49m\u001b[43mattention_mask\u001b[49m\u001b[43m,\u001b[49m\n\u001b[1;32m    394\u001b[0m \u001b[43m    \u001b[49m\u001b[43mhead_mask\u001b[49m\u001b[38;5;241;43m=\u001b[39;49m\u001b[43mhead_mask\u001b[49m\u001b[43m,\u001b[49m\n\u001b[1;32m    395\u001b[0m \u001b[43m    \u001b[49m\u001b[43muse_cache\u001b[49m\u001b[38;5;241;43m=\u001b[39;49m\u001b[43muse_cache\u001b[49m\u001b[43m,\u001b[49m\n\u001b[1;32m    396\u001b[0m \u001b[43m    \u001b[49m\u001b[43moutput_attentions\u001b[49m\u001b[38;5;241;43m=\u001b[39;49m\u001b[43moutput_attentions\u001b[49m\u001b[43m,\u001b[49m\n\u001b[1;32m    397\u001b[0m \u001b[43m\u001b[49m\u001b[43m)\u001b[49m\n\u001b[1;32m    398\u001b[0m attn_output \u001b[38;5;241m=\u001b[39m attn_outputs[\u001b[38;5;241m0\u001b[39m]  \u001b[38;5;66;03m# output_attn: a, present, (attentions)\u001b[39;00m\n\u001b[1;32m    399\u001b[0m outputs \u001b[38;5;241m=\u001b[39m attn_outputs[\u001b[38;5;241m1\u001b[39m:]\n",
      "File \u001b[0;32m~/anaconda3/envs/ece1786/lib/python3.10/site-packages/torch/nn/modules/module.py:1553\u001b[0m, in \u001b[0;36mModule._wrapped_call_impl\u001b[0;34m(self, *args, **kwargs)\u001b[0m\n\u001b[1;32m   1551\u001b[0m     \u001b[38;5;28;01mreturn\u001b[39;00m \u001b[38;5;28mself\u001b[39m\u001b[38;5;241m.\u001b[39m_compiled_call_impl(\u001b[38;5;241m*\u001b[39margs, \u001b[38;5;241m*\u001b[39m\u001b[38;5;241m*\u001b[39mkwargs)  \u001b[38;5;66;03m# type: ignore[misc]\u001b[39;00m\n\u001b[1;32m   1552\u001b[0m \u001b[38;5;28;01melse\u001b[39;00m:\n\u001b[0;32m-> 1553\u001b[0m     \u001b[38;5;28;01mreturn\u001b[39;00m \u001b[38;5;28;43mself\u001b[39;49m\u001b[38;5;241;43m.\u001b[39;49m\u001b[43m_call_impl\u001b[49m\u001b[43m(\u001b[49m\u001b[38;5;241;43m*\u001b[39;49m\u001b[43margs\u001b[49m\u001b[43m,\u001b[49m\u001b[43m \u001b[49m\u001b[38;5;241;43m*\u001b[39;49m\u001b[38;5;241;43m*\u001b[39;49m\u001b[43mkwargs\u001b[49m\u001b[43m)\u001b[49m\n",
      "File \u001b[0;32m~/anaconda3/envs/ece1786/lib/python3.10/site-packages/torch/nn/modules/module.py:1562\u001b[0m, in \u001b[0;36mModule._call_impl\u001b[0;34m(self, *args, **kwargs)\u001b[0m\n\u001b[1;32m   1557\u001b[0m \u001b[38;5;66;03m# If we don't have any hooks, we want to skip the rest of the logic in\u001b[39;00m\n\u001b[1;32m   1558\u001b[0m \u001b[38;5;66;03m# this function, and just call forward.\u001b[39;00m\n\u001b[1;32m   1559\u001b[0m \u001b[38;5;28;01mif\u001b[39;00m \u001b[38;5;129;01mnot\u001b[39;00m (\u001b[38;5;28mself\u001b[39m\u001b[38;5;241m.\u001b[39m_backward_hooks \u001b[38;5;129;01mor\u001b[39;00m \u001b[38;5;28mself\u001b[39m\u001b[38;5;241m.\u001b[39m_backward_pre_hooks \u001b[38;5;129;01mor\u001b[39;00m \u001b[38;5;28mself\u001b[39m\u001b[38;5;241m.\u001b[39m_forward_hooks \u001b[38;5;129;01mor\u001b[39;00m \u001b[38;5;28mself\u001b[39m\u001b[38;5;241m.\u001b[39m_forward_pre_hooks\n\u001b[1;32m   1560\u001b[0m         \u001b[38;5;129;01mor\u001b[39;00m _global_backward_pre_hooks \u001b[38;5;129;01mor\u001b[39;00m _global_backward_hooks\n\u001b[1;32m   1561\u001b[0m         \u001b[38;5;129;01mor\u001b[39;00m _global_forward_hooks \u001b[38;5;129;01mor\u001b[39;00m _global_forward_pre_hooks):\n\u001b[0;32m-> 1562\u001b[0m     \u001b[38;5;28;01mreturn\u001b[39;00m \u001b[43mforward_call\u001b[49m\u001b[43m(\u001b[49m\u001b[38;5;241;43m*\u001b[39;49m\u001b[43margs\u001b[49m\u001b[43m,\u001b[49m\u001b[43m \u001b[49m\u001b[38;5;241;43m*\u001b[39;49m\u001b[38;5;241;43m*\u001b[39;49m\u001b[43mkwargs\u001b[49m\u001b[43m)\u001b[49m\n\u001b[1;32m   1564\u001b[0m \u001b[38;5;28;01mtry\u001b[39;00m:\n\u001b[1;32m   1565\u001b[0m     result \u001b[38;5;241m=\u001b[39m \u001b[38;5;28;01mNone\u001b[39;00m\n",
      "File \u001b[0;32m~/anaconda3/envs/ece1786/lib/python3.10/site-packages/transformers/models/gpt2/modeling_gpt2.py:331\u001b[0m, in \u001b[0;36mGPT2Attention.forward\u001b[0;34m(self, hidden_states, layer_past, attention_mask, head_mask, encoder_hidden_states, encoder_attention_mask, use_cache, output_attentions)\u001b[0m\n\u001b[1;32m    329\u001b[0m     attn_output, attn_weights \u001b[38;5;241m=\u001b[39m \u001b[38;5;28mself\u001b[39m\u001b[38;5;241m.\u001b[39m_upcast_and_reordered_attn(query, key, value, attention_mask, head_mask)\n\u001b[1;32m    330\u001b[0m \u001b[38;5;28;01melse\u001b[39;00m:\n\u001b[0;32m--> 331\u001b[0m     attn_output, attn_weights \u001b[38;5;241m=\u001b[39m \u001b[38;5;28;43mself\u001b[39;49m\u001b[38;5;241;43m.\u001b[39;49m\u001b[43m_attn\u001b[49m\u001b[43m(\u001b[49m\u001b[43mquery\u001b[49m\u001b[43m,\u001b[49m\u001b[43m \u001b[49m\u001b[43mkey\u001b[49m\u001b[43m,\u001b[49m\u001b[43m \u001b[49m\u001b[43mvalue\u001b[49m\u001b[43m,\u001b[49m\u001b[43m \u001b[49m\u001b[43mattention_mask\u001b[49m\u001b[43m,\u001b[49m\u001b[43m \u001b[49m\u001b[43mhead_mask\u001b[49m\u001b[43m)\u001b[49m\n\u001b[1;32m    333\u001b[0m attn_output \u001b[38;5;241m=\u001b[39m \u001b[38;5;28mself\u001b[39m\u001b[38;5;241m.\u001b[39m_merge_heads(attn_output, \u001b[38;5;28mself\u001b[39m\u001b[38;5;241m.\u001b[39mnum_heads, \u001b[38;5;28mself\u001b[39m\u001b[38;5;241m.\u001b[39mhead_dim)\n\u001b[1;32m    334\u001b[0m attn_output \u001b[38;5;241m=\u001b[39m \u001b[38;5;28mself\u001b[39m\u001b[38;5;241m.\u001b[39mc_proj(attn_output)\n",
      "File \u001b[0;32m~/anaconda3/envs/ece1786/lib/python3.10/site-packages/transformers/models/gpt2/modeling_gpt2.py:183\u001b[0m, in \u001b[0;36mGPT2Attention._attn\u001b[0;34m(self, query, key, value, attention_mask, head_mask)\u001b[0m\n\u001b[1;32m    182\u001b[0m \u001b[38;5;28;01mdef\u001b[39;00m \u001b[38;5;21m_attn\u001b[39m(\u001b[38;5;28mself\u001b[39m, query, key, value, attention_mask\u001b[38;5;241m=\u001b[39m\u001b[38;5;28;01mNone\u001b[39;00m, head_mask\u001b[38;5;241m=\u001b[39m\u001b[38;5;28;01mNone\u001b[39;00m):\n\u001b[0;32m--> 183\u001b[0m     attn_weights \u001b[38;5;241m=\u001b[39m \u001b[43mtorch\u001b[49m\u001b[38;5;241;43m.\u001b[39;49m\u001b[43mmatmul\u001b[49m\u001b[43m(\u001b[49m\u001b[43mquery\u001b[49m\u001b[43m,\u001b[49m\u001b[43m \u001b[49m\u001b[43mkey\u001b[49m\u001b[38;5;241;43m.\u001b[39;49m\u001b[43mtranspose\u001b[49m\u001b[43m(\u001b[49m\u001b[38;5;241;43m-\u001b[39;49m\u001b[38;5;241;43m1\u001b[39;49m\u001b[43m,\u001b[49m\u001b[43m \u001b[49m\u001b[38;5;241;43m-\u001b[39;49m\u001b[38;5;241;43m2\u001b[39;49m\u001b[43m)\u001b[49m\u001b[43m)\u001b[49m\n\u001b[1;32m    185\u001b[0m     \u001b[38;5;28;01mif\u001b[39;00m \u001b[38;5;28mself\u001b[39m\u001b[38;5;241m.\u001b[39mscale_attn_weights:\n\u001b[1;32m    186\u001b[0m         attn_weights \u001b[38;5;241m=\u001b[39m attn_weights \u001b[38;5;241m/\u001b[39m torch\u001b[38;5;241m.\u001b[39mfull(\n\u001b[1;32m    187\u001b[0m             [], value\u001b[38;5;241m.\u001b[39msize(\u001b[38;5;241m-\u001b[39m\u001b[38;5;241m1\u001b[39m) \u001b[38;5;241m*\u001b[39m\u001b[38;5;241m*\u001b[39m \u001b[38;5;241m0.5\u001b[39m, dtype\u001b[38;5;241m=\u001b[39mattn_weights\u001b[38;5;241m.\u001b[39mdtype, device\u001b[38;5;241m=\u001b[39mattn_weights\u001b[38;5;241m.\u001b[39mdevice\n\u001b[1;32m    188\u001b[0m         )\n",
      "\u001b[0;31mKeyboardInterrupt\u001b[0m: "
     ]
    }
   ],
   "source": [
    "num_labels_2 = 8\n",
    "\n",
    "# Move model2 to device (GPU if available)\n",
    "device2 = torch.device(\"cuda\") if torch.cuda.is_available() else torch.device(\"cpu\")\n",
    "\n",
    "# Set up configuration and add pad token ID\n",
    "configuration2 = GPT2Config.from_pretrained(\"Harshad018/trained-gpt2-tweet-analysis\")\n",
    "configuration2.pad_token_id = configuration2.eos_token_id  # Use eos_token_id as the pad token\n",
    "configuration2.num_labels = num_labels_2  # Update the number of labels\n",
    "\n",
    "# Load tokenizer and set pad token\n",
    "tokenizer2 = GPT2Tokenizer.from_pretrained(\"Harshad018/trained-gpt2-tweet-analysis\")\n",
    "tokenizer2.pad_token = tokenizer2.eos_token  # Set pad token to eos token\n",
    "\n",
    "# Load model with configuration\n",
    "model2 = GPT2ForSequenceClassification.from_pretrained(\n",
    "    \"Harshad018/trained-gpt2-tweet-analysis\", \n",
    "    config=configuration2, \n",
    "    ignore_mismatched_sizes=True\n",
    ").to(device2)\n",
    "\n",
    "# Tokenization function\n",
    "def tokenize_function(examples):\n",
    "    # Concatenate the input columns for each example in the batch\n",
    "    combined_text = [\n",
    "        p + \" \" + e + \" \" + t for p, e, t in zip(examples[\"prompt\"], examples[\"essay\"], examples[\"text\"])\n",
    "    ]\n",
    "    # Tokenize the concatenated text\n",
    "    return tokenizer2(combined_text, padding=\"max_length\", truncation=True, max_length=1024)\n",
    "\n",
    "# Tokenize the dataset\n",
    "tokenized_datasets2 = dataset2.map(tokenize_function, batched=True)\n",
    "tokenized_datasets2 = tokenized_datasets2.remove_columns([\"prompt\", \"essay\", \"text\"])\n",
    "tokenized_datasets2 = tokenized_datasets2.rename_column(\"score\", \"labels\")\n",
    "tokenized_datasets2.set_format(type=\"torch\", columns=[\"input_ids\", \"attention_mask\", \"labels\"])\n",
    "\n",
    "# Set random seed for reproducibility\n",
    "random.seed(42)\n",
    "np.random.seed(42)\n",
    "torch.manual_seed(42)\n",
    "\n",
    "# Get the labels from the tokenized dataset\n",
    "labels2 = tokenized_datasets2[\"labels\"]\n",
    "\n",
    "# Get the unique labels\n",
    "unique_labels2 = np.unique(labels2)\n",
    "\n",
    "# Store the indices for each label\n",
    "label_to_indices2 = {label: np.where(labels2 == label)[0] for label in unique_labels2}\n",
    "\n",
    "# Lists to hold the train and validation indices\n",
    "train_indices2 = []\n",
    "val_indices2 = []\n",
    "\n",
    "# For each label, split the indices into train and validation\n",
    "for label, indices in label_to_indices2.items():\n",
    "    # Shuffle the indices within each label to ensure random splitting\n",
    "    np.random.shuffle(indices)\n",
    "    \n",
    "    # Split 80% for training, 20% for validation\n",
    "    split_idx2 = int(0.8 * len(indices))\n",
    "    train_indices2.extend(indices[:split_idx2])\n",
    "    val_indices2.extend(indices[split_idx2:])\n",
    "\n",
    "# Convert indices to tensors\n",
    "train_indices2 = torch.tensor(train_indices2)\n",
    "val_indices2 = torch.tensor(val_indices2)\n",
    "\n",
    "# Create Subsets for train and validation datasets\n",
    "train_dataset2 = Subset(tokenized_datasets2, train_indices2)\n",
    "eval_dataset2 = Subset(tokenized_datasets2, val_indices2)\n",
    "\n",
    "# Dataloaders\n",
    "train_dataloader2 = DataLoader(train_dataset2, shuffle=True, batch_size=8)\n",
    "eval_dataloader2 = DataLoader(eval_dataset2, batch_size=8)\n",
    "\n",
    "# Set up optimizer and scheduler\n",
    "optimizer2 = AdamW(model2.parameters(), lr=1e-5)\n",
    "num_epochs2 = 3\n",
    "num_training_steps2 = num_epochs2 * len(train_dataloader2)\n",
    "lr_scheduler2 = get_scheduler(\n",
    "    name=\"linear\", optimizer=optimizer2, num_warmup_steps=0, num_training_steps=num_training_steps2\n",
    ")\n",
    "\n",
    "model2.to(device2)\n",
    "\n",
    "# Initialize lists to track training/validation losses and accuracies\n",
    "train_losses2 = []\n",
    "val_losses2 = []\n",
    "val_f1_scores2 = []\n",
    "\n",
    "# Training loop\n",
    "progress_bar2 = tqdm(range(num_training_steps2))\n",
    "\n",
    "# Initialize F1 score metric (weighted-averaged for multi-class classification)\n",
    "f1_metric2 = F1Score(task=\"multiclass\", num_classes=num_labels_2, average=\"weighted\").to(device2)\n",
    "\n",
    "for epoch in range(num_epochs2):\n",
    "    epoch_train_loss = 0\n",
    "    epoch_val_loss = 0\n",
    "    f1_metric2.reset()\n",
    "    model2.train()\n",
    "\n",
    "    for batch in train_dataloader2:\n",
    "        batch = {k: v.to(device2) for k, v in batch.items()}\n",
    "        outputs = model2(**batch)\n",
    "        loss = outputs.loss\n",
    "        loss.backward()\n",
    "        optimizer2.step()\n",
    "        lr_scheduler2.step()\n",
    "        optimizer2.zero_grad()\n",
    "\n",
    "        epoch_train_loss += loss.item()\n",
    "        progress_bar2.update(1)\n",
    "\n",
    "    # Record training loss for the epoch\n",
    "    train_losses2.append(epoch_train_loss / len(train_dataloader2))\n",
    "\n",
    "    # Evaluate the model2\n",
    "    model2.eval()\n",
    "    for batch in eval_dataloader2:\n",
    "        batch = {k: v.to(device2) for k, v in batch.items()}\n",
    "        with torch.no_grad():\n",
    "            outputs = model2(**batch)\n",
    "\n",
    "        logits = outputs.logits\n",
    "        predictions = torch.argmax(logits, dim=-1)\n",
    "        loss = F.cross_entropy(logits, batch[\"labels\"])\n",
    "\n",
    "        epoch_val_loss += loss.item()\n",
    "        f1_metric2(predictions, batch[\"labels\"])  # Update F1 metric with predictions\n",
    "\n",
    "    # Record validation loss and accuracy\n",
    "    val_losses2.append(epoch_val_loss / len(eval_dataloader2))\n",
    "    val_f12 = f1_metric2.compute().item()\n",
    "    val_f1_scores2.append(val_f12)\n",
    "\n",
    "    print(f\"Epoch {epoch + 1}/{num_epochs2}: train loss {train_losses2[-1]:.4f}, val loss {val_losses2[-1]:.4f}, val accuracy {val_f1_scores2[-1]:.4f}\")\n",
    "\n",
    "# Plotting function\n",
    "def eval_plot(train_losses, val_losses, val_f1_scores):\n",
    "    epochs = range(1, len(train_losses) + 1)\n",
    "\n",
    "    plt.figure(figsize=(12, 6))\n",
    "\n",
    "    # Training and validation loss\n",
    "    plt.subplot(1, 2, 1)\n",
    "    plt.plot(epochs, train_losses, label=\"Training Loss\")\n",
    "    plt.plot(epochs, val_losses, label=\"Validation Loss\")\n",
    "    plt.xlabel('Epoch')\n",
    "    plt.ylabel('Loss')\n",
    "    plt.legend()\n",
    "    plt.title('Training and Validation Loss')\n",
    "\n",
    "    # Validation accuracy\n",
    "    plt.subplot(1, 2, 2)\n",
    "    plt.plot(epochs, val_f1_scores, label=\"Validation F1\")\n",
    "    plt.xlabel('Epoch')\n",
    "    plt.ylabel('F1')\n",
    "    plt.legend()\n",
    "    plt.title('Validation F1')\n",
    "\n",
    "    plt.tight_layout()\n",
    "    plt.show()\n",
    "\n",
    "# Plot train loss, validation loss, validation accuracy\n",
    "eval_plot(train_losses2, val_losses2, val_f1_scores2)\n",
    "\n",
    "# Print final validation accuracy\n",
    "print(f\"Final validation F1: {val_f1_scores2[-1]:.4f}\")"
   ]
  },
  {
   "cell_type": "markdown",
   "metadata": {},
   "source": [
    "#### Trial #2 (6 labels)"
   ]
  },
  {
   "cell_type": "code",
<<<<<<< HEAD
   "execution_count": 6,
=======
   "execution_count": 5,
>>>>>>> 46bfe6e29e825e6dcae8404bc1714382f6cbf3b1
   "metadata": {},
   "outputs": [
    {
     "name": "stderr",
     "output_type": "stream",
     "text": [
      "/Users/barrychen/anaconda3/envs/ece1786/lib/python3.10/site-packages/huggingface_hub/file_download.py:1150: FutureWarning: `resume_download` is deprecated and will be removed in version 1.0.0. Downloads always resume when possible. If you want to force a new download, use `force_download=True`.\n",
      "  warnings.warn(\n",
      "Some weights of GPT2ForSequenceClassification were not initialized from the model checkpoint at Harshad018/trained-gpt2-tweet-analysis and are newly initialized because the shapes did not match:\n",
      "- score.weight: found shape torch.Size([3, 768]) in the checkpoint and torch.Size([6, 768]) in the model instantiated\n",
      "You should probably TRAIN this model on a down-stream task to be able to use it for predictions and inference.\n"
     ]
    },
    {
     "data": {
      "application/vnd.jupyter.widget-view+json": {
<<<<<<< HEAD
       "model_id": "fe572ad645254072855e0f91eb5ad2b6",
=======
       "model_id": "2a92589fb9ba466d96d195a811606238",
>>>>>>> 46bfe6e29e825e6dcae8404bc1714382f6cbf3b1
       "version_major": 2,
       "version_minor": 0
      },
      "text/plain": [
       "Map:   0%|          | 0/1740 [00:00<?, ? examples/s]"
      ]
     },
     "metadata": {},
     "output_type": "display_data"
    },
    {
     "name": "stderr",
     "output_type": "stream",
     "text": [
      "/Users/barrychen/anaconda3/envs/ece1786/lib/python3.10/site-packages/transformers/optimization.py:429: FutureWarning: This implementation of AdamW is deprecated and will be removed in a future version. Use the PyTorch implementation torch.optim.AdamW instead, or set `no_deprecation_warning=True` to disable this warning\n",
      "  warnings.warn(\n",
<<<<<<< HEAD
      " 33%|███▎      | 174/522 [2:11:32<4:03:52, 42.05s/it]"
=======
      " 33%|███▎      | 174/522 [2:06:33<4:31:29, 46.81s/it]"
>>>>>>> 46bfe6e29e825e6dcae8404bc1714382f6cbf3b1
     ]
    },
    {
     "name": "stdout",
     "output_type": "stream",
     "text": [
<<<<<<< HEAD
      "Epoch 1/3: train loss 1.8470, val loss 1.6775, val accuracy 0.2459\n"
=======
      "Epoch 1/3: train loss 1.9787, val loss 1.7477, val accuracy 0.1994\n"
>>>>>>> 46bfe6e29e825e6dcae8404bc1714382f6cbf3b1
     ]
    },
    {
     "name": "stderr",
     "output_type": "stream",
     "text": [
<<<<<<< HEAD
      " 67%|██████▋   | 348/522 [4:12:18<1:36:00, 33.10s/it]  "
=======
      " 67%|██████▋   | 348/522 [5:05:13<1:27:42, 30.24s/it]  "
>>>>>>> 46bfe6e29e825e6dcae8404bc1714382f6cbf3b1
     ]
    },
    {
     "name": "stdout",
     "output_type": "stream",
     "text": [
<<<<<<< HEAD
      "Epoch 2/3: train loss 1.5982, val loss 1.5916, val accuracy 0.2422\n"
=======
      "Epoch 2/3: train loss 1.6406, val loss 1.6834, val accuracy 0.2559\n"
>>>>>>> 46bfe6e29e825e6dcae8404bc1714382f6cbf3b1
     ]
    },
    {
     "name": "stderr",
     "output_type": "stream",
     "text": [
<<<<<<< HEAD
      "100%|██████████| 522/522 [5:36:22<00:00, 27.52s/it]  "
=======
      "100%|██████████| 522/522 [7:21:07<00:00, 42.23s/it]  "
>>>>>>> 46bfe6e29e825e6dcae8404bc1714382f6cbf3b1
     ]
    },
    {
     "name": "stdout",
     "output_type": "stream",
     "text": [
<<<<<<< HEAD
      "Epoch 3/3: train loss 1.5265, val loss 1.5436, val accuracy 0.3196\n"
=======
      "Epoch 3/3: train loss 1.5235, val loss 1.7490, val accuracy 0.2314\n"
>>>>>>> 46bfe6e29e825e6dcae8404bc1714382f6cbf3b1
     ]
    },
    {
     "data": {
<<<<<<< HEAD
      "image/png": "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",
=======
      "image/png": "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",
>>>>>>> 46bfe6e29e825e6dcae8404bc1714382f6cbf3b1
      "text/plain": [
       "<Figure size 1200x600 with 2 Axes>"
      ]
     },
     "metadata": {},
     "output_type": "display_data"
    },
    {
     "name": "stdout",
     "output_type": "stream",
     "text": [
<<<<<<< HEAD
      "Final validation F1: 0.3196\n"
=======
      "Final validation F1: 0.2314\n"
>>>>>>> 46bfe6e29e825e6dcae8404bc1714382f6cbf3b1
     ]
    }
   ],
   "source": [
    "num_labels_2 = 6\n",
    "\n",
    "# Move model2 to device (GPU if available)\n",
    "device2 = torch.device(\"cuda\") if torch.cuda.is_available() else torch.device(\"cpu\")\n",
    "\n",
    "# Set up configuration and add pad token ID\n",
    "configuration2 = GPT2Config.from_pretrained(\"Harshad018/trained-gpt2-tweet-analysis\")\n",
    "configuration2.pad_token_id = configuration2.eos_token_id  # Use eos_token_id as the pad token\n",
    "configuration2.num_labels = num_labels_2  # Update the number of labels\n",
    "\n",
    "# Load tokenizer and set pad token\n",
    "tokenizer2 = GPT2Tokenizer.from_pretrained(\"Harshad018/trained-gpt2-tweet-analysis\")\n",
    "tokenizer2.pad_token = tokenizer2.eos_token  # Set pad token to eos token\n",
    "\n",
    "# Load model with configuration\n",
    "model2 = GPT2ForSequenceClassification.from_pretrained(\n",
    "    \"Harshad018/trained-gpt2-tweet-analysis\", \n",
    "    config=configuration2, \n",
    "    ignore_mismatched_sizes=True\n",
    ").to(device2)\n",
    "\n",
    "# Tokenization function\n",
    "def tokenize_function(examples):\n",
    "    # Concatenate the input columns for each example in the batch\n",
    "    combined_text = [\n",
    "        p + \" \" + e + \" \" + t for p, e, t in zip(examples[\"prompt\"], examples[\"essay\"], examples[\"text\"])\n",
    "    ]\n",
    "    # Tokenize the concatenated text\n",
    "    return tokenizer2(combined_text, padding=\"max_length\", truncation=True, max_length=1024)\n",
    "\n",
    "# Tokenize the dataset\n",
    "tokenized_datasets2 = dataset2.map(tokenize_function, batched=True)\n",
    "tokenized_datasets2 = tokenized_datasets2.remove_columns([\"prompt\", \"essay\", \"text\"])\n",
    "tokenized_datasets2 = tokenized_datasets2.rename_column(\"score\", \"labels\")\n",
    "tokenized_datasets2.set_format(type=\"torch\", columns=[\"input_ids\", \"attention_mask\", \"labels\"])\n",
    "\n",
    "# Set random seed for reproducibility\n",
    "random.seed(42)\n",
    "np.random.seed(42)\n",
    "torch.manual_seed(42)\n",
    "\n",
    "# Get the labels from the tokenized dataset\n",
    "labels2 = tokenized_datasets2[\"labels\"]\n",
    "\n",
    "# Get the unique labels\n",
    "unique_labels2 = np.unique(labels2)\n",
    "\n",
    "# Store the indices for each label\n",
    "label_to_indices2 = {label: np.where(labels2 == label)[0] for label in unique_labels2}\n",
    "\n",
    "# Lists to hold the train and validation indices\n",
    "train_indices2 = []\n",
    "val_indices2 = []\n",
    "\n",
    "# For each label, split the indices into train and validation\n",
    "for label, indices in label_to_indices2.items():\n",
    "    # Shuffle the indices within each label to ensure random splitting\n",
    "    np.random.shuffle(indices)\n",
    "    \n",
    "    # Split 80% for training, 20% for validation\n",
    "    split_idx2 = int(0.8 * len(indices))\n",
    "    train_indices2.extend(indices[:split_idx2])\n",
    "    val_indices2.extend(indices[split_idx2:])\n",
    "\n",
    "# Convert indices to tensors\n",
    "train_indices2 = torch.tensor(train_indices2)\n",
    "val_indices2 = torch.tensor(val_indices2)\n",
    "\n",
    "# Create Subsets for train and validation datasets\n",
    "train_dataset2 = Subset(tokenized_datasets2, train_indices2)\n",
    "eval_dataset2 = Subset(tokenized_datasets2, val_indices2)\n",
    "\n",
    "# Dataloaders\n",
    "train_dataloader2 = DataLoader(train_dataset2, shuffle=True, batch_size=8)\n",
    "eval_dataloader2 = DataLoader(eval_dataset2, batch_size=8)\n",
    "\n",
    "# Set up optimizer and scheduler\n",
    "optimizer2 = AdamW(model2.parameters(), lr=1e-5)\n",
    "num_epochs2 = 3\n",
    "num_training_steps2 = num_epochs2 * len(train_dataloader2)\n",
    "lr_scheduler2 = get_scheduler(\n",
    "    name=\"linear\", optimizer=optimizer2, num_warmup_steps=0, num_training_steps=num_training_steps2\n",
    ")\n",
    "\n",
    "model2.to(device2)\n",
    "\n",
    "# Initialize lists to track training/validation losses and accuracies\n",
    "train_losses2 = []\n",
    "val_losses2 = []\n",
    "val_f1_scores2 = []\n",
    "\n",
    "# Training loop\n",
    "progress_bar2 = tqdm(range(num_training_steps2))\n",
    "\n",
    "# Initialize F1 score metric (weighted-averaged for multi-class classification)\n",
    "f1_metric2 = F1Score(task=\"multiclass\", num_classes=num_labels_2, average=\"weighted\").to(device2)\n",
    "\n",
    "for epoch in range(num_epochs2):\n",
    "    epoch_train_loss = 0\n",
    "    epoch_val_loss = 0\n",
    "    f1_metric2.reset()\n",
    "    model2.train()\n",
    "\n",
    "    for batch in train_dataloader2:\n",
    "        batch = {k: v.to(device2) for k, v in batch.items()}\n",
    "        outputs = model2(**batch)\n",
    "        loss = outputs.loss\n",
    "        loss.backward()\n",
    "        optimizer2.step()\n",
    "        lr_scheduler2.step()\n",
    "        optimizer2.zero_grad()\n",
    "\n",
    "        epoch_train_loss += loss.item()\n",
    "        progress_bar2.update(1)\n",
    "\n",
    "    # Record training loss for the epoch\n",
    "    train_losses2.append(epoch_train_loss / len(train_dataloader2))\n",
    "\n",
    "    # Evaluate the model2\n",
    "    model2.eval()\n",
    "    for batch in eval_dataloader2:\n",
    "        batch = {k: v.to(device2) for k, v in batch.items()}\n",
    "        with torch.no_grad():\n",
    "            outputs = model2(**batch)\n",
    "\n",
    "        logits = outputs.logits\n",
    "        predictions = torch.argmax(logits, dim=-1)\n",
    "        loss = F.cross_entropy(logits, batch[\"labels\"])\n",
    "\n",
    "        epoch_val_loss += loss.item()\n",
    "        f1_metric2(predictions, batch[\"labels\"])  # Update F1 metric with predictions\n",
    "\n",
    "    # Record validation loss and accuracy\n",
    "    val_losses2.append(epoch_val_loss / len(eval_dataloader2))\n",
    "    val_f12 = f1_metric2.compute().item()\n",
    "    val_f1_scores2.append(val_f12)\n",
    "\n",
    "    print(f\"Epoch {epoch + 1}/{num_epochs2}: train loss {train_losses2[-1]:.4f}, val loss {val_losses2[-1]:.4f}, val accuracy {val_f1_scores2[-1]:.4f}\")\n",
    "\n",
    "# Plotting function\n",
    "def eval_plot(train_losses, val_losses, val_f1_scores):\n",
    "    epochs = range(1, len(train_losses) + 1)\n",
    "\n",
    "    plt.figure(figsize=(12, 6))\n",
    "\n",
    "    # Training and validation loss\n",
    "    plt.subplot(1, 2, 1)\n",
    "    plt.plot(epochs, train_losses, label=\"Training Loss\")\n",
    "    plt.plot(epochs, val_losses, label=\"Validation Loss\")\n",
    "    plt.xlabel('Epoch')\n",
    "    plt.ylabel('Loss')\n",
    "    plt.legend()\n",
    "    plt.title('Training and Validation Loss')\n",
    "\n",
    "    # Validation accuracy\n",
    "    plt.subplot(1, 2, 2)\n",
    "    plt.plot(epochs, val_f1_scores, label=\"Validation F1\")\n",
    "    plt.xlabel('Epoch')\n",
    "    plt.ylabel('F1')\n",
    "    plt.legend()\n",
    "    plt.title('Validation F1')\n",
    "\n",
    "    plt.tight_layout()\n",
    "    plt.show()\n",
    "\n",
    "# Plot train loss, validation loss, validation accuracy\n",
    "eval_plot(train_losses2, val_losses2, val_f1_scores2)\n",
    "\n",
    "# Print final validation accuracy\n",
    "print(f\"Final validation F1: {val_f1_scores2[-1]:.4f}\")"
   ]
<<<<<<< HEAD
  },
  {
   "cell_type": "code",
   "execution_count": 7,
   "metadata": {},
   "outputs": [
    {
     "name": "stdout",
     "output_type": "stream",
     "text": [
      "Model saved as gpt2_1740_ep3_3196.pt\n"
     ]
    }
   ],
   "source": [
    "modelsavename2 = \"gpt2_1740_ep3_3196.pt\"\n",
    "\n",
    "# Save the model's state_dict\n",
    "with open(modelsavename2, \"wb\") as f:\n",
    "    torch.save(model2.state_dict(), f)\n",
    "\n",
    "print(f\"Model saved as {modelsavename2}\")"
   ]
  },
  {
   "cell_type": "code",
   "execution_count": 8,
   "metadata": {},
   "outputs": [
    {
     "name": "stderr",
     "output_type": "stream",
     "text": [
      "/Users/barrychen/anaconda3/envs/ece1786/lib/python3.10/site-packages/huggingface_hub/file_download.py:1150: FutureWarning: `resume_download` is deprecated and will be removed in version 1.0.0. Downloads always resume when possible. If you want to force a new download, use `force_download=True`.\n",
      "  warnings.warn(\n",
      "Some weights of GPT2ForSequenceClassification were not initialized from the model checkpoint at Harshad018/trained-gpt2-tweet-analysis and are newly initialized because the shapes did not match:\n",
      "- score.weight: found shape torch.Size([3, 768]) in the checkpoint and torch.Size([6, 768]) in the model instantiated\n",
      "You should probably TRAIN this model on a down-stream task to be able to use it for predictions and inference.\n"
     ]
    },
    {
     "name": "stdout",
     "output_type": "stream",
     "text": [
      "Model loaded from gpt2_1740_ep3_3196.pt\n"
     ]
    },
    {
     "name": "stderr",
     "output_type": "stream",
     "text": [
      "/var/folders/vx/57ntql9x3lg7fsldp3xp6w1c0000gn/T/ipykernel_73625/602005580.py:16: FutureWarning: You are using `torch.load` with `weights_only=False` (the current default value), which uses the default pickle module implicitly. It is possible to construct malicious pickle data which will execute arbitrary code during unpickling (See https://github.com/pytorch/pytorch/blob/main/SECURITY.md#untrusted-models for more details). In a future release, the default value for `weights_only` will be flipped to `True`. This limits the functions that could be executed during unpickling. Arbitrary objects will no longer be allowed to be loaded via this mode unless they are explicitly allowlisted by the user via `torch.serialization.add_safe_globals`. We recommend you start setting `weights_only=True` for any use case where you don't have full control of the loaded file. Please open an issue on GitHub for any issues related to this experimental feature.\n",
      "  model.load_state_dict(torch.load(modelsavename))\n"
     ]
    }
   ],
   "source": [
    "device = torch.device(\"cuda\") if torch.cuda.is_available() else torch.device(\"cpu\")\n",
    "\n",
    "modelsavename = \"gpt2_1740_ep3_3196.pt\" \n",
    "\n",
    "configuration = GPT2Config.from_pretrained(\"Harshad018/trained-gpt2-tweet-analysis\")\n",
    "configuration.pad_token_id = configuration.eos_token_id  # Use eos_token_id as the pad token\n",
    "configuration.num_labels = 6\n",
    "\n",
    "tokenizer = GPT2Tokenizer.from_pretrained(\"Harshad018/trained-gpt2-tweet-analysis\")\n",
    "tokenizer.pad_token = tokenizer.eos_token  # Set pad token to eos token\n",
    "\n",
    "model = GPT2ForSequenceClassification.from_pretrained(\n",
    "    \"Harshad018/trained-gpt2-tweet-analysis\", config=configuration, ignore_mismatched_sizes=True\n",
    ").to(device)\n",
    "\n",
    "model.load_state_dict(torch.load(modelsavename))\n",
    "model.to(device)\n",
    "\n",
    "print(f\"Model loaded from {modelsavename}\")"
   ]
  },
  {
   "cell_type": "code",
   "execution_count": 9,
   "metadata": {},
   "outputs": [],
   "source": [
    "def get_class(input_text):\n",
    "  # Tokenize input and get model output\n",
    "  inputs = tokenizer(input_text, return_tensors=\"pt\")\n",
    "\n",
    "  # Get logits (output for classification)\n",
    "  outputs = model(**inputs)\n",
    "  logits = outputs.logits\n",
    "\n",
    "  # Convert logits to probabilities using softmax\n",
    "#   probs = softmax(logits, dim=1)\n",
    "\n",
    "  # Map classes to polarity values\n",
    "#   polarity_values = torch.tensor([-1.0, 0.0, 1.0])\n",
    "\n",
    "  # Calculate polarity score as the weighted sum of probabilities\n",
    "#   polarity_score = torch.sum(probs * polarity_values, dim=1).item()\n",
    "\n",
    "  # Get the predicted class (optional, for reference)\n",
    "  predicted_class = logits.argmax(dim=1).item()\n",
    "\n",
    "  return predicted_class\n"
   ]
  },
  {
   "cell_type": "markdown",
   "metadata": {},
   "source": [
    "**Labelling:**\n",
    "\n",
    "* 0->3.5 - 4.0\n",
    "* 1->4.5 - 5.0\n",
    "* 2->5.5 - 6.0\n",
    "* 3->6.5 - 7.0\n",
    "* 4->7.5 - 8.0\n",
    "* 5->8.5 - 9.0"
   ]
  },
  {
   "cell_type": "markdown",
   "metadata": {},
   "source": [
    "task achieve: 6.5"
   ]
  },
  {
   "cell_type": "code",
   "execution_count": 10,
   "metadata": {},
   "outputs": [
    {
     "name": "stdout",
     "output_type": "stream",
     "text": [
      "5\n"
     ]
    }
   ],
   "source": [
    "input_text = \"\"\"Prompt: Today people are surrounded by advertising. This affects what people think is important and has a negative impact on people's lives. To what extent do you agree or disagree?\n",
    "\n",
    "Essay: In this digital world, people are encircled with various types of advertisements. It is omnipresent for all, TV adverts, Social Media Marketing, billboards, Personal advertisements and many more diverse ways. while this phenomenon is escalating to extremely new level, people are in influence of it. In my view, it has more positive effects than harmful.\n",
    "\n",
    "Because of advertisements, people are aware of current products in market. At some extent, it educates the people and provides the knowledge. For an instance, In India serious disease like  polio is no more and the major success goes to awareness campaign help by famous personality with the use of digital marketing and TV advertisements. Moreover, to bind user with interest usually companies display various new idea and it add major value in entertainment world.\n",
    "\n",
    "However, the critical impacts are also not avoidable.Firstly, it exposes kids and young generation towards the violence and  inappropriate content sometime. Secondly, Advertisements with various discounts and offers, make people lure to do impulsive shopping. Increasing obesity is also one of consequence of advertisement of junk food. In addition, few times people get influenced by various advertisings and tend to work more to achieve never ending desire of buying stuff, this approach add up to the stress and frustration. What more, kids might suffer from harmful psychological effects when their parents are unable to afford various products shown in advertisements.\n",
    "\n",
    "To put this in a nutshell, I can say that advertisement is beneficial phenomenon with a number of insignificant drawbacks. In my view, negative advertising effects can be lowered with help of government using stringent approach and awareness campaigns.\n",
    "\n",
    "Comment: The candidate has adequately addressed the given task by discussing the positive and negative impacts of advertising on people's lives. They have provided relevant arguments and examples to support their claims. However, some aspects of the task, such as the impact on people's values and priorities, could have been explored in more depth. Overall, the candidate has demonstrated a good understanding of the topic and has fulfilled the requirements of the task.\n",
    "\"\"\"\n",
    "\n",
    "pred_class = get_class(input_text)\n",
    "print(pred_class)"
   ]
  },
  {
   "cell_type": "markdown",
   "metadata": {},
   "source": [
    "task achieve: 8.5"
   ]
  },
  {
   "cell_type": "code",
   "execution_count": 11,
   "metadata": {},
   "outputs": [
    {
     "name": "stdout",
     "output_type": "stream",
     "text": [
      "5\n"
     ]
    }
   ],
   "source": [
    "input_text = \"\"\"Prompt: Some people think that children should be taught at school to recycle materials and avoid waste. Other people believe that children should be taught this at home. Discuss both opinions and give your own opinion.\n",
    "\n",
    "Essay: Green energy is been regarded as the future energy for mankind, moreover,the fundamentals of achieving the same rely on reprocessing the waste. While some argue this should be educated at school level and others would like this initiative done from their homes. In this essay, we shall discuss both views and state my opinion.\n",
    "\n",
    "On one hand, schools have been institutional in developing children cognitive skills therefore all good behaviours are cultivated here. While waste management is a profound topic and requires an in-depth analysis of how the process works or implemented. Furthermore, tutors have authority over their pupils hence they pick up subject matters efficiently. Educational institute emphasis on reusing most of the resources at school, adding to this, student comprehend the reason and significance of reducing waste such as plastic and glass. For instance, Science as a subject, demonstrates the impact of plastic and non-biodegradable materials on earth’s soil, as these take up nearly million years to decompose, consequently converting these materials to toxic and destroying mother nature.\n",
    "\n",
    "On the other hand, young people often look up to their parents as inspiration to learn life skills. As they spend quality time at home, all behavioural attributes of kids are related to  them, so they should bring upon the habits of recycling waste at home. For example, when parents bring thumb rule of segregating waste at their homes, children at young age practice to keep waste as per the category and this behaviour can be carried across at various places like parks, social events, and public transport. As a result, children are instilled with the habit of re-cycling and segregating waste at an early age\n",
    "\n",
    "To conclude, education on recycling waste can be beneficial as it explains the impacts on the environment and what could be done to avoid this catastrophe. Also,parenting should ensure their children learn the habit of separating waste at home. In my opinion, both methodologies must be implemented to have a better future.\n",
    "\n",
    "Comment: The candidate effectively addressed the given task by discussing both opinions on whether children should be taught to recycle at school or at home. The ideas presented are clear, relevant, and coherent, with each paragraph focusing on one aspect of the task. All aspects of the task are adequately covered, with arguments and evidence provided to support each opinion. The candidate demonstrates a good understanding of the task requirements and fulfills them appropriately.\n",
    "\"\"\"\n",
    "\n",
    "pred_class = get_class(input_text)\n",
    "print(pred_class)"
   ]
  },
  {
   "cell_type": "markdown",
   "metadata": {},
   "source": [
    "task achieve: 8.5"
   ]
  },
  {
   "cell_type": "code",
   "execution_count": 12,
   "metadata": {},
   "outputs": [
    {
     "name": "stdout",
     "output_type": "stream",
     "text": [
      "5\n"
     ]
    }
   ],
   "source": [
    "input_text = \"\"\"Prompt: Some people believe that robots will play an important role in future societies, while others argue that robots might have negative effects on society.\n",
    "Discuss both views and give your opinion\n",
    "\n",
    "Essay: The advancement of technology is seen in almost all part of human life. This has caused contrasting views, with some people believing that there is more profit to society if machines play substantial roles, and others arguing otherwise. I am inclined to agree with the latter, as heavy dependence on robots will lead to an inactive lifestyle, and also a high rate of unemployment is another problem that will be faced. \n",
    "\n",
    "On one hand, Machines can prove very effective in areas that require repetition and also tasks such as lifting heavy objects. This is useful, particularly in the manufacturing industry. Moreover, Audi, a foremost automobile company, already uses robots to assemble its newest release of cars.  Furthermore, these mechanical bodies couple over 1,000 vehicles in a day, such a task will be arduous for humans.\n",
    "\n",
    "On the other hand, machines pose a number of demerits. Firstly, high dependence on these mechanical objects can lead to a sedentary lifestyle. For example, in ,Japan many people no longer walk to go shopping, as drones have been provided by many shop vendors. Consequently, this leads to health-related problems, such as spinal curvature, and this does not portend well for  society. Secondly, a pro-machine community will lead to a high rate of joblessness, as employers find these mechanical bodies more efficient and cheaper. For instance, in India reports show that many employees are replaced by their lifeless counterparts and this will only increase over time. There is already a cry among the population due to the high rate of retrenchment by companies.\n",
    "\n",
    "To conclude, robots have their own usefulness especially when it comes to carrying out mundane tasks. However, the negative impacts such as laziness and joblessness they cause to  society do not make them admirable as they are perceived.\n",
    "\n",
    "Comment: The candidate has effectively addressed the given task by presenting arguments for both views on the role of robots in society. They have adequately covered all aspects of the task, providing relevant and coherent arguments.\n",
    "\"\"\"\n",
    "\n",
    "pred_class = get_class(input_text)\n",
    "print(pred_class)"
   ]
=======
>>>>>>> 46bfe6e29e825e6dcae8404bc1714382f6cbf3b1
  }
 ],
 "metadata": {
  "kernelspec": {
   "display_name": "ece1786",
   "language": "python",
   "name": "python3"
  },
  "language_info": {
   "codemirror_mode": {
    "name": "ipython",
    "version": 3
   },
   "file_extension": ".py",
   "mimetype": "text/x-python",
   "name": "python",
   "nbconvert_exporter": "python",
   "pygments_lexer": "ipython3",
   "version": "3.10.9"
  }
 },
 "nbformat": 4,
 "nbformat_minor": 2
}
