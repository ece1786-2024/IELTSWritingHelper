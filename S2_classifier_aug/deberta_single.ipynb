{
 "cells": [
  {
   "cell_type": "code",
   "execution_count": 1,
   "metadata": {},
   "outputs": [
    {
     "data": {
      "text/plain": [
       "<torch._C.Generator at 0x1b0c46a61f0>"
      ]
     },
     "execution_count": 1,
     "metadata": {},
     "output_type": "execute_result"
    }
   ],
   "source": [
    "import pandas as pd\n",
    "from datasets import Dataset\n",
    "from transformers import AutoTokenizer, AutoModelForSequenceClassification\n",
    "import torch\n",
    "from sklearn.model_selection import train_test_split\n",
    "import tqdm\n",
    "from sklearn.metrics import f1_score, accuracy_score, cohen_kappa_score, mean_absolute_error\n",
    "import random\n",
    "random.seed(42)\n",
    "import numpy as np\n",
    "np.random.seed(42)\n",
    "torch.manual_seed(42)"
   ]
  },
  {
   "cell_type": "code",
   "execution_count": null,
   "metadata": {},
   "outputs": [
    {
     "name": "stdout",
     "output_type": "stream",
     "text": [
      "Memory Allocated: 0.0 MB\n",
      "Memory Reserved: 0.0 MB\n"
     ]
    }
   ],
   "source": [
    "import torch\n",
    "import gc\n",
    "# Clear cache\n",
    "\n",
    "# For debugging purposes, check memory stats\n",
    "print(f\"Memory Allocated: {torch.cuda.memory_allocated() / 1e6} MB\")\n",
    "print(f\"Memory Reserved: {torch.cuda.memory_reserved() / 1e6} MB\")\n",
    "torch.cuda.empty_cache()\n",
    "gc.collect()\n",
    "deberta_path = \"mrm8488/deberta-v3-ft-financial-news-sentiment-analysis\"\n",
    "file_path = \"../datasets_ready/combined_dataset.csv\"\n",
    "example_file_path = \"../sample_data/llama3_sample_dataset.csv\"\n",
    "checkpoint_dir = \"./results/checkpoint-2450\"\n",
    "SAMPLE_SIZE = 9800\n",
    "LEARNING_RATE = 1e-5\n",
    "NUM_TRAIN_EPOCHS = 5\n",
    "BATCH_SIZE = 16\n",
    "\n",
    "def create_input_text(row):\n",
    "    return (\n",
    "        f\"\"\"You are a member of the IELTS essay evaluation committee.\\nYour task is to evaluate the essay based on the given prompt and assign it a score\n",
    "        between 4 and 9 (in 1 point increments). 4 and 9 are the lowest and highest scores possible.\n",
    "        Prompt contain the topic of the essay.\n",
    "        Think step by step why this essay is good or bad. Evaluation section contains Human Evaluator's comments and marks which are offical results. Take their comment and marks into account\n",
    "        when you provide your score.\n",
    "        \"Prompt: {row['prompt']}\\nEssay: {row['essay']}\\nComments: {row['evaluation']}\"\"\"\n",
    "    )\n",
    "\n",
    "def map_band_to_class(band):\n",
    "    if band ==  \"<4\":\n",
    "        return band_to_class['<4']\n",
    "    return band_to_class[str(band)]\n",
    "\n",
    "band_classes = ['<4'] + ['4', '4.5', '5', '5.5', '6', '6.5', '7', '7.5', '8', '8.5', '9'] \n",
    "# class_to_band = {i: band for band, i in band_to_class.items()}  # Class → Band\n",
    "\n",
    "band_to_class = {\n",
    "    '<4': 0, '4': 0,\n",
    "    '4.5': 1, '5': 1,\n",
    "    '5.5': 2, '6': 2,\n",
    "    '6.5': 3, '7': 3,\n",
    "    '7.5': 4, '8': 4,\n",
    "    '8.5': 5, '9': 5\n",
    "}\n",
    "\n",
    "# Map bands to classes\n",
    "def map_band_to_class(band):\n",
    "    if band ==  \"<4\":\n",
    "        return band_to_class['<4']\n",
    "    return band_to_class[str(band)]\n",
    "\n",
    "def tokenize_function(example):\n",
    "    return tokenizer(\n",
    "        example[\"input_text\"],\n",
    "        padding=\"max_length\",\n",
    "        truncation=True,\n",
    "        max_length=256\n",
    "    )"
   ]
  },
  {
   "cell_type": "markdown",
   "metadata": {},
   "source": [
    "### Prepare Test Dataset"
   ]
  },
  {
   "cell_type": "markdown",
   "metadata": {},
   "source": [
    "#### Prepare Model and Tokenizer, Move them to CUDA."
   ]
  },
  {
   "cell_type": "code",
   "execution_count": 3,
   "metadata": {},
   "outputs": [
    {
     "name": "stdout",
     "output_type": "stream",
     "text": [
      "Train dataset length: 7840, Test dataset length: 1960\n"
     ]
    },
    {
     "data": {
      "application/vnd.jupyter.widget-view+json": {
       "model_id": "518fc01f72fb420496d62ed151c511ad",
       "version_major": 2,
       "version_minor": 0
      },
      "text/plain": [
       "Map:   0%|          | 0/7840 [00:00<?, ? examples/s]"
      ]
     },
     "metadata": {},
     "output_type": "display_data"
    },
    {
     "data": {
      "application/vnd.jupyter.widget-view+json": {
       "model_id": "82787635ab0444fda6f238d2badf164c",
       "version_major": 2,
       "version_minor": 0
      },
      "text/plain": [
       "Map:   0%|          | 0/1960 [00:00<?, ? examples/s]"
      ]
     },
     "metadata": {},
     "output_type": "display_data"
    },
    {
     "name": "stdout",
     "output_type": "stream",
     "text": [
      "train_dataset columns: ['input_text', 'labels', '__index_level_0__', 'input_ids', 'token_type_ids', 'attention_mask']\n",
      "train_dataset[0]: {'input_text': 'You are a member of the IELTS essay evaluation committee.\\nYour task is to evaluate the essay based on the given prompt and assign it a score\\n        between 4 and 9 (in 1 point increments). 4 and 9 are the lowest and highest scores possible.\\n        Prompt contain the topic of the essay. Evaluate this essay in terms of lexical resources.\\n        Think step by step why this essay is good or bad. Evaluation section contains Human Evaluator\\'s comments and marks which are offical results. Take their comment and marks into account\\n        when you provide your score.\\n        \"Prompt: You can get up-to-date news from the radio, TV and the Internet. Which kind of media do you think is the best to get the news?\\nEssay: Nowadays, there are several channels to get news, such as the radio, TV, newspapers and the Internet. I think the Internet is the best among these. .Since its invention, the Internet has been booming as a prospective industry. Not only because it is a combination of text, audio and video, but also due to its . It has threatened the domination of spreading news of the traditional media, and, I would say, is about to take control.We can find everything we want on the Internet – the latest news, books, songs, movies, cartoons… . With the radio, we can merely hear. Compared to a newspaper, the radio and TV can provide the latest information. For instance the breaking news of the Americans’ attacking Iraq was immediately online, as well as that the Twin Towers of New York were destroyed on September 11, 2001. However, we just cannot .The Internet is a way of getting information, as long as your mobile phone is connected or you possess a laptop. When I am a vehicle, I usually have my cellphone connected to the Internet, then browse through what in the past few hours, or log in MSN to begin a conversation with my friends. Reading a newspaper is also a good way to kill time, but for me, a youngster, it is not so modern as “surfing online while commuting”.The traditional media will never disappear, though the Internet has taken a big advantage the competition. And definitely, there is still a long way for the Internet to go. , the Internet benefits me the most, and I highly appreciate it.\\nComments: This essay needs some work. It covers the task and its structure is fine. However the structure of the sentences needs attention (see suggestions in comments underlined in blue). Some words such as “whatever” should be avoided. You use prepositions in an inaccurate way and there are grammatical and spelling errors in your essay as well. Overall, this looks like a Band 6.5 essay.', 'labels': 2, '__index_level_0__': 9872, 'input_ids': [1, 367, 281, 266, 1034, 265, 262, 36845, 2415, 4291, 3066, 260, 730, 2204, 269, 264, 5213, 262, 2415, 636, 277, 262, 744, 7865, 263, 10569, 278, 266, 2271, 457, 453, 263, 712, 287, 547, 376, 582, 27999, 285, 260, 453, 263, 712, 281, 262, 4448, 263, 1793, 4499, 628, 260, 31751, 2836, 262, 2270, 265, 262, 2415, 260, 38081, 291, 2415, 267, 1169, 265, 52147, 1377, 260, 4667, 1095, 293, 1095, 579, 291, 2415, 269, 397, 289, 966, 260, 14156, 1317, 2047, 3407, 115746, 280, 268, 1740, 263, 4158, 319, 281, 442, 12292, 793, 260, 2099, 308, 1714, 263, 4158, 352, 914, 335, 274, 531, 290, 2271, 260, 307, 8600, 11879, 297, 294, 367, 295, 350, 322, 271, 725, 271, 6026, 984, 292, 262, 2442, 261, 1341, 263, 262, 1763, 260, 2597, 747, 265, 806, 333, 274, 428, 269, 262, 410, 264, 350, 262, 984, 302, 11113, 294, 15343, 261, 343, 281, 656, 4161, 264, 350, 984, 261, 405, 283, 262, 2442, 261, 1341, 261, 8400, 263, 262, 1763, 260, 273, 428, 262, 1763, 269, 262, 410, 880, 378, 260, 323, 21978, 359, 5431, 261, 262, 1763, 303, 331, 19896, 283, 266, 7636, 769, 260, 951, 364, 401, 278, 269, 266, 2254, 265, 1529, 261, 2738, 263, 750, 261, 304, 327, 775, 264, 359, 323, 325, 303, 6592, 262, 75896, 265, 8514, 984, 265, 262, 1471, 806, 261, 263, 261, 273, 338, 504, 261, 269, 314, 264, 413, 719, 260, 1086, 295, 433, 758, 301, 409, 277, 262, 1763, 377, 262, 1120, 984, 261, 2], 'token_type_ids': [0, 0, 0, 0, 0, 0, 0, 0, 0, 0, 0, 0, 0, 0, 0, 0, 0, 0, 0, 0, 0, 0, 0, 0, 0, 0, 0, 0, 0, 0, 0, 0, 0, 0, 0, 0, 0, 0, 0, 0, 0, 0, 0, 0, 0, 0, 0, 0, 0, 0, 0, 0, 0, 0, 0, 0, 0, 0, 0, 0, 0, 0, 0, 0, 0, 0, 0, 0, 0, 0, 0, 0, 0, 0, 0, 0, 0, 0, 0, 0, 0, 0, 0, 0, 0, 0, 0, 0, 0, 0, 0, 0, 0, 0, 0, 0, 0, 0, 0, 0, 0, 0, 0, 0, 0, 0, 0, 0, 0, 0, 0, 0, 0, 0, 0, 0, 0, 0, 0, 0, 0, 0, 0, 0, 0, 0, 0, 0, 0, 0, 0, 0, 0, 0, 0, 0, 0, 0, 0, 0, 0, 0, 0, 0, 0, 0, 0, 0, 0, 0, 0, 0, 0, 0, 0, 0, 0, 0, 0, 0, 0, 0, 0, 0, 0, 0, 0, 0, 0, 0, 0, 0, 0, 0, 0, 0, 0, 0, 0, 0, 0, 0, 0, 0, 0, 0, 0, 0, 0, 0, 0, 0, 0, 0, 0, 0, 0, 0, 0, 0, 0, 0, 0, 0, 0, 0, 0, 0, 0, 0, 0, 0, 0, 0, 0, 0, 0, 0, 0, 0, 0, 0, 0, 0, 0, 0, 0, 0, 0, 0, 0, 0, 0, 0, 0, 0, 0, 0, 0, 0, 0, 0, 0, 0, 0, 0, 0, 0, 0, 0, 0, 0, 0, 0, 0, 0], 'attention_mask': [1, 1, 1, 1, 1, 1, 1, 1, 1, 1, 1, 1, 1, 1, 1, 1, 1, 1, 1, 1, 1, 1, 1, 1, 1, 1, 1, 1, 1, 1, 1, 1, 1, 1, 1, 1, 1, 1, 1, 1, 1, 1, 1, 1, 1, 1, 1, 1, 1, 1, 1, 1, 1, 1, 1, 1, 1, 1, 1, 1, 1, 1, 1, 1, 1, 1, 1, 1, 1, 1, 1, 1, 1, 1, 1, 1, 1, 1, 1, 1, 1, 1, 1, 1, 1, 1, 1, 1, 1, 1, 1, 1, 1, 1, 1, 1, 1, 1, 1, 1, 1, 1, 1, 1, 1, 1, 1, 1, 1, 1, 1, 1, 1, 1, 1, 1, 1, 1, 1, 1, 1, 1, 1, 1, 1, 1, 1, 1, 1, 1, 1, 1, 1, 1, 1, 1, 1, 1, 1, 1, 1, 1, 1, 1, 1, 1, 1, 1, 1, 1, 1, 1, 1, 1, 1, 1, 1, 1, 1, 1, 1, 1, 1, 1, 1, 1, 1, 1, 1, 1, 1, 1, 1, 1, 1, 1, 1, 1, 1, 1, 1, 1, 1, 1, 1, 1, 1, 1, 1, 1, 1, 1, 1, 1, 1, 1, 1, 1, 1, 1, 1, 1, 1, 1, 1, 1, 1, 1, 1, 1, 1, 1, 1, 1, 1, 1, 1, 1, 1, 1, 1, 1, 1, 1, 1, 1, 1, 1, 1, 1, 1, 1, 1, 1, 1, 1, 1, 1, 1, 1, 1, 1, 1, 1, 1, 1, 1, 1, 1, 1, 1, 1, 1, 1, 1, 1]},\n",
      "train_dataset['labels'][0]: 2\n"
     ]
    }
   ],
   "source": [
    "data = pd.read_csv(file_path).sample(n=SAMPLE_SIZE, random_state=42)\n",
    "data['input_text'] = data.apply(create_input_text, axis=1)\n",
    "data['labels'] = data['band'].apply(map_band_to_class)\n",
    "# Drop unnecessary columns. Might need them later\n",
    "data = data.drop(columns=[\"evaluation\", \"band\", \"prompt\", \"essay\"])\n",
    "\n",
    "train_data, test_data = train_test_split(data, test_size=0.2, random_state=42, shuffle=True)\n",
    "\n",
    "# Prepare datasets for Hugging Face Trainer\n",
    "from datasets import Dataset\n",
    "train_dataset = Dataset.from_pandas(train_data)\n",
    "test_dataset = Dataset.from_pandas(test_data)\n",
    "\n",
    "print(f\"Train dataset length: {len(train_dataset)}, Test dataset length: {len(test_dataset)}\")\n",
    "\n",
    "tokenizer = AutoTokenizer.from_pretrained(deberta_path)\n",
    "tokenizer.pad_token = tokenizer.eos_token\n",
    "\n",
    "train_dataset = train_dataset.map(tokenize_function, batched=True)\n",
    "test_dataset = test_dataset.map(tokenize_function, batched=True)\n",
    "print(f\"train_dataset columns: {train_dataset.column_names}\")\n",
    "print(f\"train_dataset[0]: {train_dataset[0]},\\ntrain_dataset['labels'][0]: {train_dataset['labels'][0]}\")"
   ]
  },
  {
   "cell_type": "code",
   "execution_count": 4,
   "metadata": {},
   "outputs": [
    {
     "name": "stdout",
     "output_type": "stream",
     "text": [
      "Memory Allocated: 0.00 GB\n",
      "Memory Reserved: 0.00 GB\n"
     ]
    },
    {
     "data": {
      "text/plain": [
       "72"
      ]
     },
     "execution_count": 4,
     "metadata": {},
     "output_type": "execute_result"
    }
   ],
   "source": [
    "print(f\"Memory Allocated: {torch.cuda.memory_allocated() / 1e9 :.2f} GB\")\n",
    "print(f\"Memory Reserved: {torch.cuda.memory_reserved() / 1e9 :.2f} GB\")\n",
    "torch.cuda.empty_cache()\n",
    "gc.collect()"
   ]
  },
  {
   "cell_type": "markdown",
   "metadata": {},
   "source": [
    "## Setting up Trainer"
   ]
  },
  {
   "cell_type": "code",
   "execution_count": 5,
   "metadata": {},
   "outputs": [
    {
     "name": "stderr",
     "output_type": "stream",
     "text": [
      "Some weights of DebertaV2ForSequenceClassification were not initialized from the model checkpoint at mrm8488/deberta-v3-ft-financial-news-sentiment-analysis and are newly initialized because the shapes did not match:\n",
      "- classifier.bias: found shape torch.Size([3]) in the checkpoint and torch.Size([6]) in the model instantiated\n",
      "- classifier.weight: found shape torch.Size([3, 768]) in the checkpoint and torch.Size([6, 768]) in the model instantiated\n",
      "You should probably TRAIN this model on a down-stream task to be able to use it for predictions and inference.\n"
     ]
    },
    {
     "name": "stdout",
     "output_type": "stream",
     "text": [
      "Device: cuda\n"
     ]
    }
   ],
   "source": [
    "num_labels = 6  # Total number of unique band scores\n",
    "# C:\\Users\\26597\\.cache\\huggingface\\hub Models are here\n",
    "model_path = \"andrijdavid/Llama-3-1B-Base\"\n",
    "llama3_model_path = \"meta-llama/Llama-3.2-1B\"\n",
    "\n",
    "model = AutoModelForSequenceClassification.from_pretrained(\n",
    "    deberta_path,\n",
    "    num_labels=num_labels,\n",
    "    ignore_mismatched_sizes=True,\n",
    ")\n",
    "t = model.config.eos_token_id\n",
    "model.config.pad_token_id = tokenizer.pad_token_id\n",
    "\n",
    "# Freeze the base model\n",
    "for param in model.base_model.parameters():\n",
    "    param.requires_grad = False\n",
    "\n",
    "device = torch.device(\"cuda\" if torch.cuda.is_available() else \"cpu\")\n",
    "model = model.to(device)\n",
    "print(f\"Device: {device}\")"
   ]
  },
  {
   "cell_type": "code",
   "execution_count": 6,
   "metadata": {},
   "outputs": [
    {
     "data": {
      "application/vnd.jupyter.widget-view+json": {
       "model_id": "403148dd22cf4236a20af64b2cdcec16",
       "version_major": 2,
       "version_minor": 0
      },
      "text/plain": [
       "  0%|          | 0/2450 [00:00<?, ?it/s]"
      ]
     },
     "metadata": {},
     "output_type": "display_data"
    },
    {
     "data": {
      "application/vnd.jupyter.widget-view+json": {
       "model_id": "b20918891175432b8559375717cffd4d",
       "version_major": 2,
       "version_minor": 0
      },
      "text/plain": [
       "  0%|          | 0/123 [00:00<?, ?it/s]"
      ]
     },
     "metadata": {},
     "output_type": "display_data"
    },
    {
     "name": "stdout",
     "output_type": "stream",
     "text": [
      "{'eval_loss': 1.7006486654281616, 'eval_accuracy': 0.2698979591836735, 'eval_QWK': 0.0010151462308802817, 'eval_MAE': 1.1872448979591836, 'eval_runtime': 9.6935, 'eval_samples_per_second': 202.196, 'eval_steps_per_second': 12.689, 'epoch': 1.0}\n",
      "{'loss': 1.7242, 'grad_norm': 4.513078689575195, 'learning_rate': 7.959183673469388e-06, 'epoch': 1.02}\n"
     ]
    },
    {
     "data": {
      "application/vnd.jupyter.widget-view+json": {
       "model_id": "b87c79edcd6e4dd38da6964ba70ce300",
       "version_major": 2,
       "version_minor": 0
      },
      "text/plain": [
       "  0%|          | 0/123 [00:00<?, ?it/s]"
      ]
     },
     "metadata": {},
     "output_type": "display_data"
    },
    {
     "name": "stdout",
     "output_type": "stream",
     "text": [
      "{'eval_loss': 1.6979995965957642, 'eval_accuracy': 0.2698979591836735, 'eval_QWK': 0.0011978771560621215, 'eval_MAE': 1.186734693877551, 'eval_runtime': 9.3629, 'eval_samples_per_second': 209.338, 'eval_steps_per_second': 13.137, 'epoch': 2.0}\n",
      "{'loss': 1.7095, 'grad_norm': 4.628805160522461, 'learning_rate': 5.918367346938776e-06, 'epoch': 2.04}\n"
     ]
    },
    {
     "data": {
      "application/vnd.jupyter.widget-view+json": {
       "model_id": "b05a485ea56d4e33868d1631eea3658f",
       "version_major": 2,
       "version_minor": 0
      },
      "text/plain": [
       "  0%|          | 0/123 [00:00<?, ?it/s]"
      ]
     },
     "metadata": {},
     "output_type": "display_data"
    },
    {
     "name": "stdout",
     "output_type": "stream",
     "text": [
      "{'eval_loss': 1.6962051391601562, 'eval_accuracy': 0.2698979591836735, 'eval_QWK': 0.0011978771560621215, 'eval_MAE': 1.186734693877551, 'eval_runtime': 9.1428, 'eval_samples_per_second': 214.377, 'eval_steps_per_second': 13.453, 'epoch': 3.0}\n",
      "{'loss': 1.7079, 'grad_norm': 3.90474271774292, 'learning_rate': 3.877551020408164e-06, 'epoch': 3.06}\n"
     ]
    },
    {
     "data": {
      "application/vnd.jupyter.widget-view+json": {
       "model_id": "faeb5e3d1ee4451d92442832e321d997",
       "version_major": 2,
       "version_minor": 0
      },
      "text/plain": [
       "  0%|          | 0/123 [00:00<?, ?it/s]"
      ]
     },
     "metadata": {},
     "output_type": "display_data"
    },
    {
     "name": "stdout",
     "output_type": "stream",
     "text": [
      "{'eval_loss': 1.693772792816162, 'eval_accuracy': 0.2698979591836735, 'eval_QWK': 0.0002541462479125345, 'eval_MAE': 1.186734693877551, 'eval_runtime': 9.8514, 'eval_samples_per_second': 198.956, 'eval_steps_per_second': 12.486, 'epoch': 4.0}\n",
      "{'loss': 1.7036, 'grad_norm': 3.225472927093506, 'learning_rate': 1.8367346938775512e-06, 'epoch': 4.08}\n"
     ]
    },
    {
     "data": {
      "application/vnd.jupyter.widget-view+json": {
       "model_id": "a9fea42bb0884d7bb276a7340051b837",
       "version_major": 2,
       "version_minor": 0
      },
      "text/plain": [
       "  0%|          | 0/123 [00:00<?, ?it/s]"
      ]
     },
     "metadata": {},
     "output_type": "display_data"
    },
    {
     "name": "stdout",
     "output_type": "stream",
     "text": [
      "{'eval_loss': 1.6932710409164429, 'eval_accuracy': 0.2698979591836735, 'eval_QWK': 0.0002541462479125345, 'eval_MAE': 1.186734693877551, 'eval_runtime': 10.0041, 'eval_samples_per_second': 195.921, 'eval_steps_per_second': 12.295, 'epoch': 5.0}\n",
      "{'train_runtime': 305.8708, 'train_samples_per_second': 128.159, 'train_steps_per_second': 8.01, 'train_loss': 1.7101952128507654, 'epoch': 5.0}\n"
     ]
    },
    {
     "data": {
      "application/vnd.jupyter.widget-view+json": {
       "model_id": "8e011a35bada4abd81cfb2927e634772",
       "version_major": 2,
       "version_minor": 0
      },
      "text/plain": [
       "  0%|          | 0/123 [00:00<?, ?it/s]"
      ]
     },
     "metadata": {},
     "output_type": "display_data"
    },
    {
     "name": "stdout",
     "output_type": "stream",
     "text": [
      "Test Results: {'eval_loss': 1.6932710409164429, 'eval_accuracy': 0.2698979591836735, 'eval_QWK': 0.0002541462479125345, 'eval_MAE': 1.186734693877551, 'eval_runtime': 10.2189, 'eval_samples_per_second': 191.802, 'eval_steps_per_second': 12.037, 'epoch': 5.0}\n"
     ]
    }
   ],
   "source": [
    "from transformers import Trainer, TrainingArguments\n",
    "from sklearn.metrics import accuracy_score\n",
    "training_args = TrainingArguments(\n",
    "    output_dir=\"./results\",\n",
    "    eval_strategy=\"epoch\",\n",
    "    save_strategy=\"epoch\",\n",
    "    learning_rate=LEARNING_RATE,\n",
    "    # fp16=True,\n",
    "    per_device_train_batch_size=BATCH_SIZE,\n",
    "    per_device_eval_batch_size=BATCH_SIZE,\n",
    "    num_train_epochs=NUM_TRAIN_EPOCHS,\n",
    "    save_total_limit=1,\n",
    "    load_best_model_at_end=True,\n",
    ")\n",
    "def compute_metrics(pred):\n",
    "    labels = pred.label_ids\n",
    "    preds = pred.predictions.argmax(-1)\n",
    "    acc = accuracy_score(labels, preds)\n",
    "    qwk = cohen_kappa_score(labels, preds, weights=\"quadratic\")\n",
    "    mae = mean_absolute_error(labels, preds)\n",
    "    return {\n",
    "        \"accuracy\": acc,\n",
    "        \"QWK\": qwk,\n",
    "        \"MAE\": mae,\n",
    "    }\n",
    "    \n",
    "# Trainer\n",
    "trainer = Trainer(\n",
    "    model=model,\n",
    "    args=training_args,\n",
    "    train_dataset=train_dataset,\n",
    "    eval_dataset=test_dataset,\n",
    "    compute_metrics=compute_metrics,\n",
    ")\n",
    "\n",
    "\n",
    "# Fine-tune the model\n",
    "trainer.train()\n",
    "\n",
    "# Evaluate on the test dataset\n",
    "test_results = trainer.evaluate()\n",
    "print(f\"Test Results: {test_results}\")\n"
   ]
  },
  {
   "cell_type": "code",
   "execution_count": 7,
   "metadata": {},
   "outputs": [
    {
     "data": {
      "image/png": "[encoded data removed]",
      "text/plain": [
       "<Figure size 1800x600 with 3 Axes>"
      ]
     },
     "metadata": {},
     "output_type": "display_data"
    }
   ],
   "source": [
    "# After training\n",
    "log_history = trainer.state.log_history\n",
    "\n",
    "# Extract training and validation loss\n",
    "train_loss = [entry[\"loss\"] for entry in log_history if \"loss\" in entry]\n",
    "eval_loss = [entry[\"eval_loss\"] for entry in log_history if \"eval_loss\" in entry]\n",
    "qwk = [entry[\"eval_QWK\"] for entry in log_history if \"eval_QWK\" in entry]\n",
    "mae = [entry[\"eval_MAE\"] for entry in log_history if \"eval_MAE\" in entry]\n",
    "\n",
    "# Extract accuracy (if available in compute_metrics)\n",
    "eval_accuracy = [entry[\"eval_accuracy\"] for entry in log_history if \"eval_accuracy\" in entry]\n",
    "import matplotlib.pyplot as plt\n",
    "\n",
    "# Create subplots\n",
    "fig, axes = plt.subplots(1, 3, figsize=(18, 6))\n",
    "\n",
    "# Plot training and validation loss\n",
    "axes[0].plot(train_loss, label=\"Training Loss\")\n",
    "axes[0].plot(eval_loss, label=\"Validation Loss\")\n",
    "axes[0].set_xlabel(\"Epochs\")\n",
    "axes[0].set_ylabel(\"Loss\")\n",
    "axes[0].set_title(\"Training and Validation Loss\")\n",
    "axes[0].legend()\n",
    "axes[0].grid()\n",
    "\n",
    "# Plot validation accuracy (if available)\n",
    "if eval_accuracy:\n",
    "    axes[1].plot(eval_accuracy, label=\"Validation Accuracy\", color=\"green\")\n",
    "    axes[1].set_xlabel(\"Epochs\")\n",
    "    axes[1].set_ylabel(\"Accuracy\")\n",
    "    axes[1].set_title(\"Validation Accuracy\")\n",
    "    axes[1].legend()\n",
    "    axes[1].grid()\n",
    "\n",
    "if qwk:\n",
    "    axes[2].plot(qwk, label=\"QWK Score\", color=\"blue\")\n",
    "    axes[2].set_xlabel(\"Epochs\")\n",
    "    axes[2].set_ylabel(\"QWK Score\")\n",
    "    axes[2].set_title(\"QWK Score\")\n",
    "    axes[2].legend()\n",
    "    axes[2].grid()\n",
    "\n",
    "if mae:\n",
    "    axes[2].plot(mae, label=\"MAE Score\", color=\"red\")\n",
    "    axes[2].set_xlabel(\"Epochs\")\n",
    "    axes[2].set_ylabel(\"MAE Score\")\n",
    "    axes[2].set_title(\"MAE Score\")\n",
    "    axes[2].legend()\n",
    "    axes[2].grid()\n",
    "\n",
    "fig.suptitle(f\"Trained and tested on {SAMPLE_SIZE} entries, lr={LEARNING_RATE}, Batch Size = {BATCH_SIZE}\", fontsize=12)\n",
    "plt.tight_layout()\n",
    "plt.show()\n"
   ]
  }
 ],
 "metadata": {
  "kernelspec": {
   "display_name": "ece1786",
   "language": "python",
   "name": "python3"
  },
  "language_info": {
   "codemirror_mode": {
    "name": "ipython",
    "version": 3
   },
   "file_extension": ".py",
   "mimetype": "text/x-python",
   "name": "python",
   "nbconvert_exporter": "python",
   "pygments_lexer": "ipython3",
   "version": "3.10.15"
  }
 },
 "nbformat": 4,
 "nbformat_minor": 2
}
