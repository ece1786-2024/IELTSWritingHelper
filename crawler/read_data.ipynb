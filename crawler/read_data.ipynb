{
 "cells": [
  {
   "cell_type": "code",
   "execution_count": 20,
   "metadata": {},
   "outputs": [],
   "source": [
    "import pandas as pd"
   ]
  },
  {
   "cell_type": "markdown",
   "metadata": {},
   "source": [
    "### 1. band 5 dataset. \n",
    "Method: crawler + human effort on data cleaning and adjustment"
   ]
  },
  {
   "cell_type": "code",
   "execution_count": 21,
   "metadata": {},
   "outputs": [
    {
     "name": "stdout",
     "output_type": "stream",
     "text": [
      "score:  5.5\n",
      "Prompt: There is no longer enough natural resources to sustain current levels of economic growth. To what extent do you agree or disagree with this statement? \n",
      "\n",
      "Essay: Recently, the natural resources risen dramatically across the world due to population growth. Some people state that we enough resources. However, there are some individuals who disagree with this opinion. In this essay, the issues behind this phenomenon will be examined. \n",
      "On the one hand, some people state that if will continue to we cannot have a comfortable life because natural resources are limited. According to a if this situation will continue, the petrol will in 2050. Moreover, it is widely said that the will increase. This will make the amount of natural . \n",
      "\n",
      "On the other hand, there are some individuals who disagree with above-mentioned perception. The natural resources will technology. For example, the of technology such as cars a positive impact the society. By using this, we can the consumption of natural resources. Eventually, we will not need natural fuel. In my opinion, of natural is , I think the loss of it a negative impact the society because won't have a comfortable life any more. \n",
      "In conclusion, I agree with the idea that there is no longer enough natural resources to sustain this situation. In order to our life, the governments countries should tackle this issue. \n",
      "\n",
      "\n",
      "Comment: This essay needs work, in particular in the areas of grammar, sentence structure and word choice (mouse over the words in blue will show suggested corrections). The arguments could have been more convincing. The word count is only 245, whereas at least 250 words are required to avoid being penalised. Overall, this looks like a Band 5.5 essay. \n",
      "\n",
      "\n"
     ]
    }
   ],
   "source": [
    "processed_df = pd.read_csv(\"band5.csv\", engine=\"python\")\n",
    "\n",
    "row = processed_df.iloc[-1]\n",
    "\n",
    "print(\"score: \", row['score'])\n",
    "print(\"Prompt:\", row['prompt'])\n",
    "print(\"Essay:\", row['essay'])\n",
    "print(\"Comment:\", row['comment'])"
   ]
  }
 ],
 "metadata": {
  "kernelspec": {
   "display_name": "ece1786",
   "language": "python",
   "name": "python3"
  },
  "language_info": {
   "codemirror_mode": {
    "name": "ipython",
    "version": 3
   },
   "file_extension": ".py",
   "mimetype": "text/x-python",
   "name": "python",
   "nbconvert_exporter": "python",
   "pygments_lexer": "ipython3",
   "version": "3.10.15"
  }
 },
 "nbformat": 4,
 "nbformat_minor": 2
}
