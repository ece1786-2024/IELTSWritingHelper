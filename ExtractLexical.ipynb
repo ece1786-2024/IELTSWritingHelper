{
 "cells": [
  {
   "cell_type": "code",
   "execution_count": 61,
   "metadata": {},
   "outputs": [],
   "source": [
    "import pandas as pd\n",
    "from datasets import load_dataset\n",
    "import re\n",
    "huggingface_ds = load_dataset(\"chillies/IELTS-writing-task-2-evaluation\")['train']\n",
    "huggingface_ds = pd.DataFrame(huggingface_ds)"
   ]
  },
  {
   "cell_type": "code",
   "execution_count": 62,
   "metadata": {},
   "outputs": [
    {
     "data": {
      "text/plain": [
       "9833"
      ]
     },
     "execution_count": 62,
     "metadata": {},
     "output_type": "execute_result"
    }
   ],
   "source": [
    "evaluation = huggingface_ds[\"evaluation\"]\n",
    "evaluation.head()\n",
    "Lexical_df = pd.DataFrame()\n",
    "Lexical_df['prompt'] = huggingface_ds['prompt']\n",
    "Lexical_df['essay'] = huggingface_ds['essay']\n",
    "len(Lexical_df)"
   ]
  },
  {
   "cell_type": "code",
   "execution_count": 63,
   "metadata": {},
   "outputs": [],
   "source": [
    "def extract(text):\n",
    "    start_keyword = \"Lexical Resource\"\n",
    "    end_keyword = \"Grammatical Range and Accuracy\"\n",
    "    start_index = text.find(start_keyword)\n",
    "    end_index = text.find(end_keyword)\n",
    "    if start_index != -1 and end_index != -1:\n",
    "        return text[start_index + len(start_keyword):end_index].strip()\n",
    "    else:\n",
    "        return \"\"\n",
    "\n",
    "def clean_text(text):\n",
    "    cleaned_text = text.replace('*', '').replace('#', '').replace('\\n', '').replace('-', '').replace('*', '').strip()\n",
    "    cleaned_text = cleaned_text.strip(\": -\")\n",
    "    cleaned_text = cleaned_text.replace(\"Suggested Band Score\", \"\").strip()\n",
    "    cleaned_text = cleaned_text.replace(\"(Lexical Resource)\", \"\").strip()\n",
    "    cleaned_text = cleaned_text.replace(\"(Vocabulary)\", \"\").strip()\n",
    "    cleaned_text = cleaned_text.strip(\": -\")\n",
    "    return cleaned_text"
   ]
  },
  {
   "cell_type": "code",
   "execution_count": 64,
   "metadata": {},
   "outputs": [
    {
     "data": {
      "text/plain": [
       "'4.0 The candidate demonstrates a good range of vocabulary, including some advanced vocabulary. The vocabulary is mostly accurate, although there are a few minor mistakes (e.g., \"poeple\" instead of \"people,\" \"mthod\" instead of \"method\"). The vocabulary is appropriate for the context of the essay.'"
      ]
     },
     "execution_count": 64,
     "metadata": {},
     "output_type": "execute_result"
    }
   ],
   "source": [
    "Lexical_df['text'] = huggingface_ds[\"evaluation\"].apply(extract)\n",
    "Lexical_df['text'] = Lexical_df['text'].apply(clean_text)\n",
    "Lexical_df['text'][10]"
   ]
  },
  {
   "cell_type": "code",
   "execution_count": 65,
   "metadata": {},
   "outputs": [
    {
     "data": {
      "text/plain": [
       "'The candidate\\'s vocabulary is limited, with frequent repetitions and a lack of variety. There are several grammatical and spelling errors, such as \"poeple,\" \"mthod,\" and \"employ.\"  : 2.0'"
      ]
     },
     "execution_count": 65,
     "metadata": {},
     "output_type": "execute_result"
    }
   ],
   "source": [
    "Lexical_df['text'][20]"
   ]
  },
  {
   "cell_type": "code",
   "execution_count": 66,
   "metadata": {},
   "outputs": [
    {
     "data": {
      "text/plain": [
       "'[6]The candidate has used a range of vocabulary throughout the essay, including some more complex and sophisticated words. However, there are some instances where the vocabulary could be more precise or varied. For example, the candidate could have used a more specific word than \"reliable\" in the introduction.'"
      ]
     },
     "execution_count": 66,
     "metadata": {},
     "output_type": "execute_result"
    }
   ],
   "source": [
    "Lexical_df['text'][30]"
   ]
  },
  {
   "cell_type": "code",
   "execution_count": 67,
   "metadata": {},
   "outputs": [
    {
     "name": "stdout",
     "output_type": "stream",
     "text": [
      "Number of rows with empty '': 4\n"
     ]
    }
   ],
   "source": [
    "empty_string_count = (Lexical_df['text'] == '').sum()\n",
    "print(f\"Number of rows with empty '': {empty_string_count}\")"
   ]
  },
  {
   "cell_type": "code",
   "execution_count": 68,
   "metadata": {},
   "outputs": [
    {
     "data": {
      "text/plain": [
       "0       7.0\n",
       "1       4.0\n",
       "2       6.0\n",
       "3       5.0\n",
       "4       3.0\n",
       "       ... \n",
       "9828    6.0\n",
       "9829    4.0\n",
       "9830    7.0\n",
       "9831    7.5\n",
       "9832    6.0\n",
       "Name: score, Length: 9833, dtype: float64"
      ]
     },
     "execution_count": 68,
     "metadata": {},
     "output_type": "execute_result"
    }
   ],
   "source": [
    "Lexical_df[\"score\"] = Lexical_df['text'].str.extract(r'(\\d+\\.?\\d*)').astype(float)\n",
    "Lexical_df[\"score\"]"
   ]
  },
  {
   "cell_type": "code",
   "execution_count": 69,
   "metadata": {},
   "outputs": [
    {
     "data": {
      "text/plain": [
       "74"
      ]
     },
     "execution_count": 69,
     "metadata": {},
     "output_type": "execute_result"
    }
   ],
   "source": [
    "nan_count = Lexical_df['score'].isna().sum()\n",
    "nan_count"
   ]
  },
  {
   "cell_type": "code",
   "execution_count": 70,
   "metadata": {},
   "outputs": [],
   "source": [
    "def clean_text_v2(text):\n",
    "    cleaned_text = text.replace('*', '').replace('#', '').replace('\\n', '').replace('-', '').replace('*', '').strip()\n",
    "    cleaned_text = re.sub(r\"\\d+\\.*\\d*\", \"\", cleaned_text).strip()\n",
    "    cleaned_text = re.sub(r\"\\[\\d+\\.*\\d*\\]\", \"\", cleaned_text).strip()\n",
    "    cleaned_text = cleaned_text.strip(\": -\")\n",
    "    cleaned_text = cleaned_text.replace(\"Suggested Band Score\", \"\").strip()\n",
    "    cleaned_text = cleaned_text.replace(\"(Lexical Resource)\", \"\").strip()\n",
    "    cleaned_text = cleaned_text.replace(\"[]\", \"\").strip()\n",
    "    return cleaned_text"
   ]
  },
  {
   "cell_type": "code",
   "execution_count": 71,
   "metadata": {},
   "outputs": [],
   "source": [
    "Lexical_df['text'] = Lexical_df['text'].apply(clean_text_v2)"
   ]
  },
  {
   "cell_type": "code",
   "execution_count": 72,
   "metadata": {},
   "outputs": [
    {
     "data": {
      "text/plain": [
       "'The candidate demonstrates a good range of vocabulary, including some advanced vocabulary. The vocabulary is mostly accurate, although there are a few minor mistakes (e.g., \"poeple\" instead of \"people,\" \"mthod\" instead of \"method\"). The vocabulary is appropriate for the context of the essay.'"
      ]
     },
     "execution_count": 72,
     "metadata": {},
     "output_type": "execute_result"
    }
   ],
   "source": [
    "Lexical_df['text'][10]"
   ]
  },
  {
   "cell_type": "code",
   "execution_count": 73,
   "metadata": {},
   "outputs": [
    {
     "data": {
      "text/plain": [
       "'The candidate\\'s vocabulary is limited, with frequent repetitions and a lack of variety. There are several grammatical and spelling errors, such as \"poeple,\" \"mthod,\" and \"employ.\"'"
      ]
     },
     "execution_count": 73,
     "metadata": {},
     "output_type": "execute_result"
    }
   ],
   "source": [
    "Lexical_df['text'][20]"
   ]
  },
  {
   "cell_type": "code",
   "execution_count": 74,
   "metadata": {},
   "outputs": [
    {
     "data": {
      "text/plain": [
       "'The candidate has used a range of vocabulary throughout the essay, including some more complex and sophisticated words. However, there are some instances where the vocabulary could be more precise or varied. For example, the candidate could have used a more specific word than \"reliable\" in the introduction.'"
      ]
     },
     "execution_count": 74,
     "metadata": {},
     "output_type": "execute_result"
    }
   ],
   "source": [
    "Lexical_df['text'][30]"
   ]
  },
  {
   "cell_type": "code",
   "execution_count": 75,
   "metadata": {},
   "outputs": [
    {
     "data": {
      "text/html": [
       "<div>\n",
       "<style scoped>\n",
       "    .dataframe tbody tr th:only-of-type {\n",
       "        vertical-align: middle;\n",
       "    }\n",
       "\n",
       "    .dataframe tbody tr th {\n",
       "        vertical-align: top;\n",
       "    }\n",
       "\n",
       "    .dataframe thead th {\n",
       "        text-align: right;\n",
       "    }\n",
       "</style>\n",
       "<table border=\"1\" class=\"dataframe\">\n",
       "  <thead>\n",
       "    <tr style=\"text-align: right;\">\n",
       "      <th></th>\n",
       "      <th>prompt</th>\n",
       "      <th>essay</th>\n",
       "      <th>text</th>\n",
       "      <th>score</th>\n",
       "    </tr>\n",
       "  </thead>\n",
       "  <tbody>\n",
       "    <tr>\n",
       "      <th>0</th>\n",
       "      <td>Interviews form the basic criteria for most la...</td>\n",
       "      <td>It is believed by some experts that the tradit...</td>\n",
       "      <td>The candidate demonstrates a good range of voc...</td>\n",
       "      <td>7.0</td>\n",
       "    </tr>\n",
       "    <tr>\n",
       "      <th>1</th>\n",
       "      <td>Interviews form the basic selecting criteria f...</td>\n",
       "      <td>Nowadays numerous huge firms allocate an inter...</td>\n",
       "      <td>The candidate has used a range of vocabulary t...</td>\n",
       "      <td>4.0</td>\n",
       "    </tr>\n",
       "    <tr>\n",
       "      <th>2</th>\n",
       "      <td>Interview form the basic selection criteria fo...</td>\n",
       "      <td>The interview section is the most vital part o...</td>\n",
       "      <td>The candidate demonstrates a good range of voc...</td>\n",
       "      <td>6.0</td>\n",
       "    </tr>\n",
       "    <tr>\n",
       "      <th>3</th>\n",
       "      <td>Interviews form the basic selection criteria f...</td>\n",
       "      <td>It is argued that the best method to recruit e...</td>\n",
       "      <td>The candidate has used a limited range of voca...</td>\n",
       "      <td>5.0</td>\n",
       "    </tr>\n",
       "    <tr>\n",
       "      <th>4</th>\n",
       "      <td>Interviews from the basic selecting criteria f...</td>\n",
       "      <td>Nowadays many companies conduct interviews bef...</td>\n",
       "      <td>The vocabulary used is limited and repetitive....</td>\n",
       "      <td>3.0</td>\n",
       "    </tr>\n",
       "    <tr>\n",
       "      <th>...</th>\n",
       "      <td>...</td>\n",
       "      <td>...</td>\n",
       "      <td>...</td>\n",
       "      <td>...</td>\n",
       "    </tr>\n",
       "    <tr>\n",
       "      <th>9828</th>\n",
       "      <td>Nations should spend more money on skills and ...</td>\n",
       "      <td>These days, many countries use a huge amount o...</td>\n",
       "      <td>The essay demonstrates a limited range of voca...</td>\n",
       "      <td>6.0</td>\n",
       "    </tr>\n",
       "    <tr>\n",
       "      <th>9829</th>\n",
       "      <td>Nations should spend more money on skills and ...</td>\n",
       "      <td>Skills are required in order to achieve succes...</td>\n",
       "      <td>The essay exhibits a limited range of vocabula...</td>\n",
       "      <td>4.0</td>\n",
       "    </tr>\n",
       "    <tr>\n",
       "      <th>9830</th>\n",
       "      <td>Nations should spend more money on skills and ...</td>\n",
       "      <td>There is a contradictory view among the people...</td>\n",
       "      <td>The essay exhibits a good range of vocabulary,...</td>\n",
       "      <td>7.0</td>\n",
       "    </tr>\n",
       "    <tr>\n",
       "      <th>9831</th>\n",
       "      <td>Nations should spend more money on skills and ...</td>\n",
       "      <td>Many today feel that countries should prioriti...</td>\n",
       "      <td>The essay demonstrates a good range of vocabul...</td>\n",
       "      <td>7.5</td>\n",
       "    </tr>\n",
       "    <tr>\n",
       "      <th>9832</th>\n",
       "      <td>Nations should spend more money on skills and ...</td>\n",
       "      <td>It is argued by many people that the countries...</td>\n",
       "      <td>The essay demonstrates a fair range of vocabul...</td>\n",
       "      <td>6.0</td>\n",
       "    </tr>\n",
       "  </tbody>\n",
       "</table>\n",
       "<p>9833 rows × 4 columns</p>\n",
       "</div>"
      ],
      "text/plain": [
       "                                                 prompt  \\\n",
       "0     Interviews form the basic criteria for most la...   \n",
       "1     Interviews form the basic selecting criteria f...   \n",
       "2     Interview form the basic selection criteria fo...   \n",
       "3     Interviews form the basic selection criteria f...   \n",
       "4     Interviews from the basic selecting criteria f...   \n",
       "...                                                 ...   \n",
       "9828  Nations should spend more money on skills and ...   \n",
       "9829  Nations should spend more money on skills and ...   \n",
       "9830  Nations should spend more money on skills and ...   \n",
       "9831  Nations should spend more money on skills and ...   \n",
       "9832  Nations should spend more money on skills and ...   \n",
       "\n",
       "                                                  essay  \\\n",
       "0     It is believed by some experts that the tradit...   \n",
       "1     Nowadays numerous huge firms allocate an inter...   \n",
       "2     The interview section is the most vital part o...   \n",
       "3     It is argued that the best method to recruit e...   \n",
       "4     Nowadays many companies conduct interviews bef...   \n",
       "...                                                 ...   \n",
       "9828  These days, many countries use a huge amount o...   \n",
       "9829  Skills are required in order to achieve succes...   \n",
       "9830  There is a contradictory view among the people...   \n",
       "9831  Many today feel that countries should prioriti...   \n",
       "9832  It is argued by many people that the countries...   \n",
       "\n",
       "                                                   text  score  \n",
       "0     The candidate demonstrates a good range of voc...    7.0  \n",
       "1     The candidate has used a range of vocabulary t...    4.0  \n",
       "2     The candidate demonstrates a good range of voc...    6.0  \n",
       "3     The candidate has used a limited range of voca...    5.0  \n",
       "4     The vocabulary used is limited and repetitive....    3.0  \n",
       "...                                                 ...    ...  \n",
       "9828  The essay demonstrates a limited range of voca...    6.0  \n",
       "9829  The essay exhibits a limited range of vocabula...    4.0  \n",
       "9830  The essay exhibits a good range of vocabulary,...    7.0  \n",
       "9831  The essay demonstrates a good range of vocabul...    7.5  \n",
       "9832  The essay demonstrates a fair range of vocabul...    6.0  \n",
       "\n",
       "[9833 rows x 4 columns]"
      ]
     },
     "execution_count": 75,
     "metadata": {},
     "output_type": "execute_result"
    }
   ],
   "source": [
    "Lexical_df = Lexical_df[['prompt', 'essay', 'text', 'score']]\n",
    "Lexical_df"
   ]
  },
  {
   "cell_type": "code",
   "execution_count": 76,
   "metadata": {},
   "outputs": [
    {
     "name": "stdout",
     "output_type": "stream",
     "text": [
      "Number of rows with empty 'text': 4\n"
     ]
    }
   ],
   "source": [
    "empty_string_count = (Lexical_df['text'] == '').sum()\n",
    "print(f\"Number of rows with empty 'text': {empty_string_count}\")\n",
    "Lexical_df = Lexical_df[Lexical_df['text'] != '']"
   ]
  },
  {
   "cell_type": "code",
   "execution_count": 77,
   "metadata": {},
   "outputs": [
    {
     "data": {
      "text/plain": [
       "70"
      ]
     },
     "execution_count": 77,
     "metadata": {},
     "output_type": "execute_result"
    }
   ],
   "source": [
    "nan_count = Lexical_df.isna().any(axis=1).sum()\n",
    "nan_count"
   ]
  },
  {
   "cell_type": "code",
   "execution_count": 78,
   "metadata": {},
   "outputs": [
    {
     "data": {
      "text/plain": [
       "0"
      ]
     },
     "execution_count": 78,
     "metadata": {},
     "output_type": "execute_result"
    }
   ],
   "source": [
    "Lexical_df = Lexical_df.dropna(subset=['score'])\n",
    "nan_count = Lexical_df.isna().any(axis=1).sum()\n",
    "nan_count"
   ]
  },
  {
   "cell_type": "code",
   "execution_count": 79,
   "metadata": {},
   "outputs": [
    {
     "data": {
      "text/plain": [
       "9759"
      ]
     },
     "execution_count": 79,
     "metadata": {},
     "output_type": "execute_result"
    }
   ],
   "source": [
    "len(Lexical_df)"
   ]
  },
  {
   "cell_type": "code",
   "execution_count": 80,
   "metadata": {},
   "outputs": [],
   "source": [
    "csv_path = 'data/Lexical.csv'\n",
    "Lexical_df.to_csv(csv_path, index=False)"
   ]
  }
 ],
 "metadata": {
  "kernelspec": {
   "display_name": "ece1786",
   "language": "python",
   "name": "python3"
  },
  "language_info": {
   "codemirror_mode": {
    "name": "ipython",
    "version": 3
   },
   "file_extension": ".py",
   "mimetype": "text/x-python",
   "name": "python",
   "nbconvert_exporter": "python",
   "pygments_lexer": "ipython3",
   "version": "3.10.14"
  }
 },
 "nbformat": 4,
 "nbformat_minor": 2
}
